{
 "cells": [
  {
   "cell_type": "markdown",
   "metadata": {},
   "source": [
    "---\n",
    "layout: lesson\n",
    "title: Reading and Writing CSV Files\n",
    "subtitle: Interacting with Data\n",
    "minutes: 30\n",
    "---\n",
    "\n",
    "> ## Learning objectives {.objectives}\n",
    "> * Read in a .csv, and explore the arguments of the csv reader\n",
    "> * Write the altered data set to a new .csv, and explore the arguments\n",
    "\n",
    "The most common way that scientists store data is in Excel spreadsheets.\n",
    "While there are R packages designed to access data from Excel spreadsheets (e.g., gdata, RODBC, XLConnect, xlsx, RExcel),\n",
    "users often find it easier to save their spreadsheets in comma-separated values files (CSV)\n",
    "and then use R's built in functionality to read and manipulate the data.\n",
    "In this short lesson, we'll learn how to read data from a .csv and write to a new .csv,\n",
    "and explore the arguments that allow you read and write the data correctly for your needs.\n",
    "\n",
    "\n",
    "### Read a .csv and Explore the Arguments\n",
    "\n",
    "Let's start by opening a .csv file containing information on the speeds at which cars of different colors were clocked in 45 mph zones in the four-corners states (`CarSpeeds.csv`). We will use the built in `read.csv(...)` function call, which reads the data in as a data frame, and assign the data frame to a variable (using `<-`) so that it is stored in R's memory. Then we will explore some of the basic arguments that can be supplied to the function."
   ]
  },
  {
   "cell_type": "code",
   "execution_count": 1,
   "metadata": {
    "collapsed": false
   },
   "outputs": [
    {
     "data": {
      "text/html": [
       "<table>\n",
       "<thead><tr><th></th><th scope=col>Color</th><th scope=col>Speed</th><th scope=col>State</th></tr></thead>\n",
       "<tbody>\n",
       "\t<tr><th scope=row>1</th><td>Blue</td><td>32</td><td>NewMexico</td></tr>\n",
       "\t<tr><th scope=row>2</th><td> Red</td><td>45</td><td>Arizona</td></tr>\n",
       "\t<tr><th scope=row>3</th><td>Blue</td><td>35</td><td>Colorado</td></tr>\n",
       "\t<tr><th scope=row>4</th><td>White</td><td>34</td><td>Arizona</td></tr>\n",
       "\t<tr><th scope=row>5</th><td>Red</td><td>25</td><td>Arizona</td></tr>\n",
       "\t<tr><th scope=row>6</th><td>Blue</td><td>41</td><td>Arizona</td></tr>\n",
       "</tbody>\n",
       "</table>\n"
      ],
      "text/latex": [
       "\\begin{tabular}{r|lll}\n",
       "  & Color & Speed & State\\\\\n",
       "\\hline\n",
       "\t1 & Blue & 32 & NewMexico\\\\\n",
       "\t2 &  Red & 45 & Arizona\\\\\n",
       "\t3 & Blue & 35 & Colorado\\\\\n",
       "\t4 & White & 34 & Arizona\\\\\n",
       "\t5 & Red & 25 & Arizona\\\\\n",
       "\t6 & Blue & 41 & Arizona\\\\\n",
       "\\end{tabular}\n"
      ],
      "text/plain": [
       "  Color Speed     State\n",
       "1  Blue    32 NewMexico\n",
       "2   Red    45   Arizona\n",
       "3  Blue    35  Colorado\n",
       "4 White    34   Arizona\n",
       "5   Red    25   Arizona\n",
       "6  Blue    41   Arizona"
      ]
     },
     "execution_count": 1,
     "metadata": {},
     "output_type": "execute_result"
    }
   ],
   "source": [
    "#First, set a working directory (see lesson 'Analyzing Patient Data' for more info)\n",
    "setwd(\"/home/lngo/intro-data-science/\")\n",
    "\n",
    "#Import the data and look at the first six rows\n",
    "carSpeeds <- read.csv(file='data/car-speeds.csv')\n",
    "head(carSpeeds)"
   ]
  },
  {
   "cell_type": "markdown",
   "metadata": {},
   "source": [
    "> ## Changing Delimiters\n",
    ">\n",
    "> The default delimiter of the `read.csv()` function is a comma, but you can\n",
    "> use other delimiters by supplying the 'sep' argument to the function\n",
    "> (e.g., typing `sep = ';'` allows a semi-colon separated file to be correctly\n",
    "> imported -see `?read.csv()` for more information on this and other options for\n",
    "> working with different file types).\n",
    "\n",
    "The call above will import the data, but we have not taken advantage of several handy arguments that can be helpful in loading the data in the format we want. Let's explore some of these arguments.\n",
    "\n",
    "### The `header` Argument\n",
    "\n",
    "The default for `read.csv(...)` is to set the `header` argument to `TRUE`. This means that the first row of values in the .csv is set as header information (column names). If your data set does not have a header, set the `header` argument to `FALSE`:"
   ]
  },
  {
   "cell_type": "code",
   "execution_count": null,
   "metadata": {
    "collapsed": true
   },
   "outputs": [],
   "source": [
    "carSpeeds[1,]\n",
    "\n",
    "#The first row of the data if the header argument is set to FALSE:\n",
    "carSpeeds <- read.csv(file='data/car-speeds.csv', header=FALSE)\n",
    "\n",
    "carSpeeds[1,]"
   ]
  },
  {
   "cell_type": "markdown",
   "metadata": {},
   "source": [
    "Clearly this is not the desired behavior for this data set, but it may be useful if you have a dataset without headers.\n",
    "\n",
    "### The `stringsAsFactors` Argument\n",
    "\n",
    "This is perhaps the most important argument in `read.csv()`, particularly if you are working with categorical data. This is because the default behavior of R is to convert character strings into factors, which may make it difficult to do such things as replace values. For example, let's say we find out that the data collector was color blind, and accidentally recorded green cars as being blue. In order to correct the data set, let's replace 'Blue' with 'Green' in the `$Color` column:"
   ]
  },
  {
   "cell_type": "code",
   "execution_count": null,
   "metadata": {
    "collapsed": true
   },
   "outputs": [],
   "source": [
    "#Here we will use R's `ifelse` function, in which we provide the test phrase, the outcome if the\n",
    "# result of the test is 'TRUE', and the outcome if the result is 'FALSE'. We will also assign\n",
    "# the results to the Color column, using '<-'\n",
    "\n",
    "#First - reload the data with a header\n",
    "carSpeeds <- read.csv(file='data/car-speeds.csv')\n",
    "\n",
    "carSpeeds$Color<- ifelse(carSpeeds$Color=='Blue', 'Green', carSpeeds$Color)\n",
    "carSpeeds$Color"
   ]
  },
  {
   "cell_type": "markdown",
   "metadata": {},
   "source": [
    "What happened?!? It looks like 'Blue'  was replaced with 'Green', but every other color was turned into a number (as a character string, given the quote marks before and after). This is because the colors of the cars were loaded as factors, and the factor level was reported following replacement.\n",
    "\n",
    "Now, let's load the dataset using `stringsAsFactors=FALSE`, and see what happens when we try to replace 'Blue' with 'Green' in the `$Color` column:"
   ]
  },
  {
   "cell_type": "code",
   "execution_count": null,
   "metadata": {
    "collapsed": true
   },
   "outputs": [],
   "source": [
    "carSpeeds <- read.csv(file='data/car-speeds.csv', stringsAsFactors=FALSE)\n",
    "\n",
    "carSpeeds$Color<- ifelse(carSpeeds$Color=='Blue', 'Green', carSpeeds$Color)\n",
    "carSpeeds$Color"
   ]
  },
  {
   "cell_type": "markdown",
   "metadata": {},
   "source": [
    "That's better!\n",
    "\n",
    "\n",
    "### The `as.is` Argument\n",
    "\n",
    "This is an extension of the `stringsAsFactors` argument, but gives you control over individual columns. For example, if we want the colors of cars imported as strings, but we want the names of the states imported as factors, we would load the data set as:"
   ]
  },
  {
   "cell_type": "code",
   "execution_count": null,
   "metadata": {
    "collapsed": true
   },
   "outputs": [],
   "source": [
    "carSpeeds <- read.csv(file='data/car-speeds.csv', as.is = 1)\n",
    "\n",
    "#Note, the 1 applies as.is to the first column only"
   ]
  },
  {
   "cell_type": "markdown",
   "metadata": {},
   "source": [
    "Now we can see that if we try to replace 'Blue' with 'Green' in the `$Color` column everything looks fine, while trying to replace 'Arizona' with 'Ohio' in the `$State` column returns the factor numbers for the names of states that we haven't replaced:"
   ]
  },
  {
   "cell_type": "code",
   "execution_count": null,
   "metadata": {
    "collapsed": true
   },
   "outputs": [],
   "source": [
    "carSpeeds$Color<- ifelse(carSpeeds$Color=='Blue', 'Green', carSpeeds$Color)\n",
    "carSpeeds$Color\n",
    "\n",
    "carSpeeds$State<- ifelse(carSpeeds$State=='Arizona','Ohio',carSpeeds$State)\n",
    "carSpeeds$State"
   ]
  },
  {
   "cell_type": "markdown",
   "metadata": {},
   "source": [
    "> ## Updating Values in a Factor\n",
    ">\n",
    "> Suppose we want to keep the colors of cars as factors for some other operations we want to perform.\n",
    "> Write code for replacing 'Blue' with 'Green' in the `$Color` column of the cars dataset\n",
    "> without importing the data with `stringsAsFactors=FALSE`."
   ]
  },
  {
   "cell_type": "markdown",
   "metadata": {},
   "source": [
    "### The `strip.white` Argument\n",
    "\n",
    "It is not uncommon for mistakes to have been made when the data were recorded, for example a space (whitespace) may have been inserted before a data value. By default this whitespace will be kept in the R environment, such that '\\ Red' will be recognized as a different value than 'Red'. In order to avoid this type of error, use the `strip.white` argument. Let's see how this works by checking for the unique values in the `$Color` column of our dataset:\n",
    "\n",
    "Here, the data recorder added a space before the color of the car in one of the cells:"
   ]
  },
  {
   "cell_type": "code",
   "execution_count": 2,
   "metadata": {
    "collapsed": false
   },
   "outputs": [
    {
     "data": {
      "text/html": [
       "<ol class=list-inline>\n",
       "\t<li>Blue</li>\n",
       "\t<li> Red</li>\n",
       "\t<li>White</li>\n",
       "\t<li>Red</li>\n",
       "\t<li>Black</li>\n",
       "</ol>\n"
      ],
      "text/latex": [
       "\\begin{enumerate*}\n",
       "\\item Blue\n",
       "\\item  Red\n",
       "\\item White\n",
       "\\item Red\n",
       "\\item Black\n",
       "\\end{enumerate*}\n"
      ],
      "text/markdown": [
       "1. Blue\n",
       "2.  Red\n",
       "3. White\n",
       "4. Red\n",
       "5. Black\n",
       "\n",
       "\n"
      ],
      "text/plain": [
       "[1] Blue   Red  White Red   Black\n",
       "Levels:  Red Black Blue Red White"
      ]
     },
     "execution_count": 2,
     "metadata": {},
     "output_type": "execute_result"
    }
   ],
   "source": [
    "#We use the built in unique() function to extract the unique colors in our dataset\n",
    "\n",
    "unique(carSpeeds$Color)"
   ]
  },
  {
   "cell_type": "markdown",
   "metadata": {},
   "source": [
    "Oops, we see two values for red cars.\n",
    "\n",
    "Let's try again, this time importing the data using the `strip.white` argument. NOTE - this argument must be accompanied by the `sep` argument, by which we indicate the type of delimiter in the file (the comma for most .csv files)"
   ]
  },
  {
   "cell_type": "code",
   "execution_count": 3,
   "metadata": {
    "collapsed": false
   },
   "outputs": [
    {
     "data": {
      "text/html": [
       "<ol class=list-inline>\n",
       "\t<li>'Blue'</li>\n",
       "\t<li>'Red'</li>\n",
       "\t<li>'White'</li>\n",
       "\t<li>'Black'</li>\n",
       "</ol>\n"
      ],
      "text/latex": [
       "\\begin{enumerate*}\n",
       "\\item 'Blue'\n",
       "\\item 'Red'\n",
       "\\item 'White'\n",
       "\\item 'Black'\n",
       "\\end{enumerate*}\n"
      ],
      "text/markdown": [
       "1. 'Blue'\n",
       "2. 'Red'\n",
       "3. 'White'\n",
       "4. 'Black'\n",
       "\n",
       "\n"
      ],
      "text/plain": [
       "[1] \"Blue\"  \"Red\"   \"White\" \"Black\""
      ]
     },
     "execution_count": 3,
     "metadata": {},
     "output_type": "execute_result"
    }
   ],
   "source": [
    "carSpeeds<-read.csv(file='data/car-speeds.csv',stringsAsFactors=FALSE,strip.white=TRUE,sep=',')\n",
    "\n",
    "unique(carSpeeds$Color)"
   ]
  },
  {
   "cell_type": "markdown",
   "metadata": {},
   "source": [
    "That's better!\n",
    "\n",
    "### Write a New .csv and Explore the Arguments\n",
    "\n",
    "After altering our cars dataset by replacing 'Blue' with 'Green' in the `$Color` column, we now want to save the output. There are several arguments for the `write.csv(...)` [function call]({{ site.github.url }}/reference/#function-call), a few of which are particularly important for how the data are exported.  Let's explore these now."
   ]
  },
  {
   "cell_type": "code",
   "execution_count": null,
   "metadata": {
    "collapsed": true
   },
   "outputs": [],
   "source": [
    "#Export the data. The write.csv() function requires a minimum of two arguments, \n",
    "# the data to be saved and the name of the output file.\n",
    "\n",
    "write.csv(carSpeeds, file='data/car-speeds-cleaned.csv')"
   ]
  },
  {
   "cell_type": "markdown",
   "metadata": {},
   "source": [
    "If you open the file, you'll see that it has header names, because the data had headers within R, but that there are numbers in the first column.\n",
    "\n",
    "### The `row.names` Argument\n",
    "\n",
    "This argument allows us to set the names of the rows in the output data file. R's default for this argument is `TRUE`, and since it does not know what else to name the rows for the cars data set, it resorts to using row numbers. To correct this, we can set `row.names` to `FALSE`:"
   ]
  },
  {
   "cell_type": "code",
   "execution_count": null,
   "metadata": {
    "collapsed": true
   },
   "outputs": [],
   "source": [
    "write.csv(carSpeeds, file='data/car-speeds-cleaned.csv', row.names=FALSE)"
   ]
  },
  {
   "cell_type": "markdown",
   "metadata": {},
   "source": [
    "> ## Setting Column Names\n",
    ">\n",
    "> There is also a `col.names` argument, which can be used to set the column\n",
    "> names for a data set without headers. If the data set already has headers\n",
    "> (e.g., we used the `headers = TRUE` argument when importing the data) then a\n",
    "> `col.names` argument will be ignored.\n",
    "\n",
    "### The `na` Argument\n",
    "\n",
    "There are times when we want to specify certain values for `NA`s in the data set (e.g., we are going to pass the data to a program that only accepts -9999 as a nodata value). In this case, we want to set the `NA` value of our output file to the desired value, using the na argument. Let's see how this works:"
   ]
  },
  {
   "cell_type": "code",
   "execution_count": null,
   "metadata": {
    "collapsed": true
   },
   "outputs": [],
   "source": [
    "#First, replace the speed in the 3rd row with NA, by using an index \n",
    "#(square brackets to indicate the position of the value we want to replace)\n",
    "carSpeeds$Speed[3]<-NA\n",
    "head(carSpeeds)"
   ]
  },
  {
   "cell_type": "code",
   "execution_count": null,
   "metadata": {
    "collapsed": true
   },
   "outputs": [],
   "source": [
    "write.csv(carSpeeds, file='data/car-speeds-cleaned.csv', row.names=FALSE)"
   ]
  },
  {
   "cell_type": "markdown",
   "metadata": {},
   "source": [
    "Now we'll set `NA` to -9999 when we write the new .csv file:"
   ]
  },
  {
   "cell_type": "code",
   "execution_count": null,
   "metadata": {
    "collapsed": true
   },
   "outputs": [],
   "source": [
    "#Note - the na argument requires a string input\n",
    "write.csv(carSpeeds, file='data/car-speeds-cleaned.csv', row.names=FALSE, na= '-9999')"
   ]
  }
 ],
 "metadata": {
  "kernelspec": {
   "display_name": "R 3.3.1",
   "language": "R",
   "name": "r"
  },
  "language_info": {
   "codemirror_mode": "r",
   "file_extension": ".r",
   "mimetype": "text/x-r-source",
   "name": "R",
   "pygments_lexer": "r",
   "version": "3.3.1"
  }
 },
 "nbformat": 4,
 "nbformat_minor": 0
}
