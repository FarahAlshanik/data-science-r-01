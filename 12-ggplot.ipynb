{
 "cells": [
  {
   "cell_type": "markdown",
   "metadata": {},
   "source": [
    "---\n",
    "layout: lesson\n",
    "title: Introduction to Data Science using R\n",
    "subtitle: Manipulating and analyzing data with dplyr\n",
    "minutes: 60\n",
    "---\n",
    "\n",
    "> ## Learning objectives {.objectives}\n",
    "> * Visualize some of the [mammals data](https://dx.doi.org/10.6084/m9.figshare.1314459.v5)\n",
    "> from Figshare [surveys.csv](https://ndownloader.figshare.com/files/2292172)\n",
    "> * Understand how to plot these data using R ggplot2 package. For more details\n",
    "> on using ggplot2 see [official documentation](http://docs.ggplot2.org/current/).\n",
    "> * Building step by step complex plots with the ggplot2 package"
   ]
  },
  {
   "cell_type": "code",
   "execution_count": null,
   "metadata": {
    "collapsed": false
   },
   "outputs": [],
   "source": [
    "setwd(\"/home/lngo/intro-data-science/\")\n",
    "surveys = read.csv(file=\"data/sample.csv\", header=TRUE)\n",
    "\n",
    "# plotting package\n",
    "library(ggplot2)\n",
    "# modern data frame manipulations\n",
    "library(dplyr)"
   ]
  },
  {
   "cell_type": "markdown",
   "metadata": {},
   "source": [
    "## Plotting with ggplot2\n",
    "\n",
    "We will make the same plot using the `ggplot2` package.\n",
    "\n",
    "`ggplot2` is a plotting package that makes it simple to create complex plots\n",
    "from data in a dataframe. It uses default settings, which help creating\n",
    "publication quality plots with a minimal amount of settings and tweaking.\n",
    "\n",
    "ggplot graphics are built step by step by adding new elements.\n",
    "\n",
    "To build a ggplot we need to:\n",
    "\n",
    "- bind the plot to a specific data frame using the `data` argument"
   ]
  },
  {
   "cell_type": "code",
   "execution_count": null,
   "metadata": {
    "collapsed": false
   },
   "outputs": [],
   "source": [
    "ggplot(data = surveys)"
   ]
  },
  {
   "cell_type": "markdown",
   "metadata": {},
   "source": [
    "- define aesthetics (`aes`), that maps variables in the data to axes on the plot\n",
    "     or to plotting size, shape color, etc.,"
   ]
  },
  {
   "cell_type": "code",
   "execution_count": null,
   "metadata": {
    "collapsed": false
   },
   "outputs": [],
   "source": [
    "ggplot(data = surveys, aes(x = Age, y = BloodPressure))"
   ]
  },
  {
   "cell_type": "markdown",
   "metadata": {},
   "source": [
    "- add `geoms` -- graphical representation of the data in the plot (points,\n",
    "     lines, bars). To add a geom to the plot use `+` operator:"
   ]
  },
  {
   "cell_type": "code",
   "execution_count": null,
   "metadata": {
    "collapsed": false
   },
   "outputs": [],
   "source": [
    "ggplot(data = surveys, aes(x = Age, y = BloodPressure)) + geom_point()"
   ]
  },
  {
   "cell_type": "markdown",
   "metadata": {},
   "source": [
    "The `+` in the `ggplot2` package is particularly useful because it allows you\n",
    "to modify existing `ggplot` objects. This means you can easily set up plot\n",
    "\"templates\" and conveniently explore different types of plots, so the above\n",
    "plot can also be generated with code like this:"
   ]
  },
  {
   "cell_type": "code",
   "execution_count": null,
   "metadata": {
    "collapsed": false
   },
   "outputs": [],
   "source": [
    "# Create\n",
    "surveys_plot <- ggplot(data = surveys, aes(x = Age, y = BloodPressure))\n",
    "\n",
    "# Draw the plot\n",
    "surveys_plot + geom_point()"
   ]
  },
  {
   "cell_type": "markdown",
   "metadata": {},
   "source": [
    "Notes:\n",
    "\n",
    "- Anything you put in the `ggplot()` function can be seen by any geom layers\n",
    "  that you add.  i.e. these are universal plot settings. This includes the x and\n",
    "  y axis you set up in `aes()`.\n",
    "- You can also specify aesthetics for a given geom independently of the\n",
    "  aesthetics defined globally in the `ggplot()` function.\n",
    "\n",
    "\n",
    "## Building your plots iteratively\n",
    "\n",
    "Building plots with ggplot is typically an iterative process. We start by\n",
    "defining the dataset we'll use, lay the axes, and choose a geom."
   ]
  },
  {
   "cell_type": "code",
   "execution_count": null,
   "metadata": {
    "collapsed": false
   },
   "outputs": [],
   "source": [
    "ggplot(data = surveys, aes(x = Age, y = BloodPressure)) +\n",
    "    geom_point()"
   ]
  },
  {
   "cell_type": "markdown",
   "metadata": {},
   "source": [
    "Then, we start modifying this plot to extract more information from it. For\n",
    "instance, we can add transparency (alpha) to avoid overplotting."
   ]
  },
  {
   "cell_type": "code",
   "execution_count": null,
   "metadata": {
    "collapsed": false
   },
   "outputs": [],
   "source": [
    "ggplot(data = surveys, aes(x = Age, y = BloodPressure))  +\n",
    "    geom_point(alpha = 0.5)"
   ]
  },
  {
   "cell_type": "markdown",
   "metadata": {},
   "source": [
    "We can also add colors for all the points"
   ]
  },
  {
   "cell_type": "code",
   "execution_count": null,
   "metadata": {
    "collapsed": false
   },
   "outputs": [],
   "source": [
    "ggplot(data = surveys, aes(x = Age, y = BloodPressure))  +\n",
    "    geom_point(alpha = 0.5, color = \"blue\")"
   ]
  },
  {
   "cell_type": "markdown",
   "metadata": {},
   "source": [
    "Or to color each treatment group in the plot differently:"
   ]
  },
  {
   "cell_type": "code",
   "execution_count": null,
   "metadata": {
    "collapsed": false
   },
   "outputs": [],
   "source": [
    "ggplot(data = surveys, aes(x = Age, y = BloodPressure))  +\n",
    "    geom_point(alpha = 0.5, aes(color=Group))"
   ]
  },
  {
   "cell_type": "markdown",
   "metadata": {},
   "source": [
    "## Boxplot\n",
    "\n",
    "Visualising the distribution of blood pressure within each treatment group."
   ]
  },
  {
   "cell_type": "code",
   "execution_count": null,
   "metadata": {
    "collapsed": false
   },
   "outputs": [],
   "source": [
    "ggplot(data = surveys, aes(x = Group, y = BloodPressure))  +\n",
    "    geom_boxplot()"
   ]
  },
  {
   "cell_type": "markdown",
   "metadata": {},
   "source": [
    "By adding points to boxplot, we can have a better idea of the number of\n",
    "measurements and of their distribution:"
   ]
  },
  {
   "cell_type": "code",
   "execution_count": null,
   "metadata": {
    "collapsed": false
   },
   "outputs": [],
   "source": [
    "ggplot(data = surveys, aes(x = Group, y = BloodPressure))  +\n",
    "    geom_boxplot(alpha = 0) +\n",
    "    geom_jitter(alpha = 0.3, color = \"tomato\")"
   ]
  },
  {
   "cell_type": "markdown",
   "metadata": {},
   "source": [
    "Notice how the boxplot layer is behind the jitter layer? What do you need to\n",
    "change in the code to put the boxplot in front of the points such that it's not\n",
    "hidden.\n",
    "\n",
    "> ### Challenges\n",
    ">\n",
    "> Boxplots are useful summaries, but hide the *shape* of the distribution. For\n",
    "> example, if there is a bimodal distribution, this would not be observed with a\n",
    "> boxplot. An alternative to the boxplot is the violin plot (sometimes known as a\n",
    "> beanplot), where the shape (of the density of points) is drawn.\n",
    ">\n",
    "> - Replace the box plot with a violin plot; see `geom_violin()`\n",
    ">\n",
    "> In many types of data, it is important to consider the *scale* of the\n",
    "> observations.  For example, it may be worth changing the scale of the axis to\n",
    "> better distribute the observations in the space of the plot.  Changing the scale\n",
    "> of the axes is done similarly to adding/modifying other components (i.e., by\n",
    "> incrementally adding commands).\n",
    ">\n",
    "> - Represent blood pressure on the log10 scale; see `scale_y_log10()`\n",
    ">\n",
    "> - Create boxplot for `BloodPressure`.\n",
    "\n",
    "\n",
    "## Plotting data series\n"
   ]
  },
  {
   "cell_type": "code",
   "execution_count": null,
   "metadata": {
    "collapsed": false
   },
   "outputs": [],
   "source": [
    "survey_counts <- surveys %>%\n",
    "                  mutate(gender_capitalized = toupper(Gender)) %>%\n",
    "                  group_by(gender_capitalized, Group) %>%\n",
    "                  tally"
   ]
  },
  {
   "cell_type": "code",
   "execution_count": null,
   "metadata": {
    "collapsed": false
   },
   "outputs": [],
   "source": [
    "survey_counts"
   ]
  },
  {
   "cell_type": "code",
   "execution_count": null,
   "metadata": {
    "collapsed": false
   },
   "outputs": [],
   "source": [
    "ggplot(data = survey_counts, aes(x = Group, y = n)) +\n",
    "     geom_line()"
   ]
  },
  {
   "cell_type": "markdown",
   "metadata": {},
   "source": [
    "Unfortunately this does not work, because we plot data for all the species\n",
    "together. We need to tell ggplot to draw a line for each species by modifying\n",
    "the aesthetic function to include `group = gender_capitalized`."
   ]
  },
  {
   "cell_type": "code",
   "execution_count": null,
   "metadata": {
    "collapsed": false
   },
   "outputs": [],
   "source": [
    "ggplot(data = survey_counts, aes(x = Group, y = n, group = gender_capitalized)) +\n",
    "    geom_line()\n"
   ]
  },
  {
   "cell_type": "markdown",
   "metadata": {},
   "source": [
    "We will be able to distinguish species in the plot if we add colors."
   ]
  },
  {
   "cell_type": "code",
   "execution_count": null,
   "metadata": {
    "collapsed": false
   },
   "outputs": [],
   "source": [
    "ggplot(data = survey_counts, aes(x = Group, y = n, group = gender_capitalized, colour = gender_capitalized)) +\n",
    "    geom_line()"
   ]
  },
  {
   "cell_type": "markdown",
   "metadata": {},
   "source": [
    "## Faceting\n",
    "\n",
    "ggplot has a special technique called *faceting* that allows to split one plot\n",
    "into multiple plots based on a factor included in the dataset. We will use it to\n",
    "make one plot for a time series for each species."
   ]
  },
  {
   "cell_type": "code",
   "execution_count": null,
   "metadata": {
    "collapsed": false
   },
   "outputs": [],
   "source": [
    "ggplot(data = survey_counts, aes(x = Group, y = n, group = gender_capitalized, colour = gender_capitalized)) +\n",
    "    geom_line() +\n",
    "    facet_wrap(~ gender_capitalized)\n"
   ]
  },
  {
   "cell_type": "markdown",
   "metadata": {},
   "source": [
    "Now we would like to split line in each plot by the blood pressure of each individual, which \n",
    "to be converted into scales of low (0-90), medium (90-120), and high (>120). "
   ]
  },
  {
   "cell_type": "code",
   "execution_count": null,
   "metadata": {
    "collapsed": false
   },
   "outputs": [],
   "source": [
    "survey_counts <- surveys %>%\n",
    "                  mutate(gender_capitalized = toupper(Gender)) %>%\n",
    "                  mutate(blood_pressure_rank = cut(BloodPressure,\n",
    "                                                   breaks = c(0,90,120,300), \n",
    "                                                   labels=c(\"low\",\"medium\",\"high\"))) %>%\n",
    "                  group_by(gender_capitalized, Group, blood_pressure_rank) %>%\n",
    "                  tally"
   ]
  },
  {
   "cell_type": "code",
   "execution_count": null,
   "metadata": {
    "collapsed": false
   },
   "outputs": [],
   "source": [
    "survey_counts"
   ]
  },
  {
   "cell_type": "markdown",
   "metadata": {},
   "source": [
    "We can now make the faceted plot splitting further by blood pressure rank (within a single plot):"
   ]
  },
  {
   "cell_type": "code",
   "execution_count": null,
   "metadata": {
    "collapsed": false
   },
   "outputs": [],
   "source": [
    "ggplot(data = survey_counts, aes(x = Group, y = n, color = blood_pressure_rank, group = blood_pressure_rank)) +\n",
    "     geom_line() +\n",
    "     facet_wrap(~ gender_capitalized)"
   ]
  },
  {
   "cell_type": "markdown",
   "metadata": {},
   "source": [
    "Usually plots with white background look more readable when printed.  We can set\n",
    "the background to white using the function `theme_bw()`."
   ]
  },
  {
   "cell_type": "code",
   "execution_count": null,
   "metadata": {
    "collapsed": false
   },
   "outputs": [],
   "source": [
    "ggplot(data = survey_counts, aes(x = Group, y = n, color = gender_capitalized, group = blood_pressure_rank)) +\n",
    "     geom_line() +\n",
    "     facet_wrap(~ gender_capitalized) + \n",
    "     theme_bw()"
   ]
  },
  {
   "cell_type": "markdown",
   "metadata": {},
   "source": [
    "To make the plot easier to read, we can color by sex instead of species (species\n",
    "are already in separate plots, so we don't need to distinguish them further)."
   ]
  },
  {
   "cell_type": "code",
   "execution_count": null,
   "metadata": {
    "collapsed": false
   },
   "outputs": [],
   "source": [
    "ggplot(data = survey_counts, aes(x = Group, y = n, color = blood_pressure_rank, group = blood_pressure_rank)) +\n",
    "     geom_line() +\n",
    "     facet_wrap(~ gender_capitalized) + \n",
    "     theme_bw()"
   ]
  },
  {
   "cell_type": "markdown",
   "metadata": {},
   "source": [
    "The `facet_wrap` geometry extracts plots into an arbitrary number of dimensions\n",
    "to allow them to cleanly fit on one page. On the other hand, the `facet_grid`\n",
    "geometry allows you to explicitly specify how you want your plots to be\n",
    "arranged via formula notation (`rows ~ columns`; a `.` can be used as\n",
    "a placeholder that indicates only one row or column).\n",
    "\n",
    "Let's modify the previous plot to compare how the weights of male and females\n",
    "has changed through time."
   ]
  },
  {
   "cell_type": "code",
   "execution_count": null,
   "metadata": {
    "collapsed": true
   },
   "outputs": [],
   "source": [
    "anm_avg <- surveys %>%\n",
    "                  mutate(gender_capitalized = toupper(Gender)) %>%\n",
    "                  mutate(blood_pressure_rank = cut(BloodPressure,\n",
    "                                                   breaks = c(0,90,120,300), \n",
    "                                                   labels=c(\"low\",\"medium\",\"high\"))) %>%\n",
    "                  group_by(gender_capitalized, Group, blood_pressure_rank) %>%\n",
    "                  summarize(avg_anm_q1 = mean(Aneurisms_q1))"
   ]
  },
  {
   "cell_type": "code",
   "execution_count": null,
   "metadata": {
    "collapsed": false
   },
   "outputs": [],
   "source": [
    "# one column, facet by row\n",
    "ggplot(data = anm_avg, aes(x = Group, y = avg_anm_q1, color = blood_pressure_rank, group = blood_pressure_rank)) +\n",
    "     geom_line() +\n",
    "     facet_grid(gender_capitalized ~ .) "
   ]
  },
  {
   "cell_type": "code",
   "execution_count": null,
   "metadata": {
    "collapsed": false
   },
   "outputs": [],
   "source": [
    "# one row, facet by column\n",
    "ggplot(data = anm_avg, aes(x = Group, y = avg_anm_q1, color = blood_pressure_rank, group = blood_pressure_rank)) +\n",
    "     geom_line() +\n",
    "     facet_grid(. ~ gender_capitalized) "
   ]
  },
  {
   "cell_type": "markdown",
   "metadata": {},
   "source": [
    "## Customization\n",
    "\n",
    "Take a look at the ggplot2 cheat sheet\n",
    "(https://www.rstudio.com/wp-content/uploads/2015/08/ggplot2-cheatsheet.pdf), and\n",
    "think of ways to improve the plot. \n",
    "\n",
    "Now, let's change names of axes to something more informative than 'year'\n",
    "and 'n' and add a title to this figure:"
   ]
  },
  {
   "cell_type": "code",
   "execution_count": null,
   "metadata": {
    "collapsed": false
   },
   "outputs": [],
   "source": [
    "ggplot(data = survey_counts, aes(x = Group, y = n, color = blood_pressure_rank, group = blood_pressure_rank)) +\n",
    "     geom_line() +\n",
    "     facet_wrap(~ gender_capitalized) + \n",
    "     labs(title = 'Patient Demographic' ,\n",
    "         x = 'Treatment Group',\n",
    "         y = 'Count') +\n",
    "     theme_bw()"
   ]
  },
  {
   "cell_type": "markdown",
   "metadata": {},
   "source": [
    "The axes have more informative names, but their readibility can be improved by\n",
    "increasing the font size. While we are at it, we'll also change the font family:"
   ]
  },
  {
   "cell_type": "code",
   "execution_count": null,
   "metadata": {
    "collapsed": false
   },
   "outputs": [],
   "source": [
    "ggplot(data = survey_counts, aes(x = Group, y = n, color = blood_pressure_rank, group = blood_pressure_rank)) +\n",
    "     geom_line() +\n",
    "     facet_wrap(~ gender_capitalized) + \n",
    "     labs(title = 'Patient Demographic' ,\n",
    "         x = 'Treatment Group',\n",
    "         y = 'Count') +\n",
    "     theme_bw() +\n",
    "     theme(text=element_text(size=16, family=\"Courier\"))"
   ]
  },
  {
   "cell_type": "markdown",
   "metadata": {},
   "source": [
    "After our manipulations we notice that the values on the x-axis are still not\n",
    "properly readable. Let's change the orientation of the labels and adjust them\n",
    "vertically and horizontally so they don't overlap. You can use a 90 degree\n",
    "angle, or experiment to find the appropriate angle for diagonally oriented\n",
    "labels."
   ]
  },
  {
   "cell_type": "code",
   "execution_count": null,
   "metadata": {
    "collapsed": false
   },
   "outputs": [],
   "source": [
    "ggplot(data = survey_counts, aes(x = Group, y = n, color = blood_pressure_rank, group = blood_pressure_rank)) +\n",
    "     geom_line() +\n",
    "     facet_wrap(~ gender_capitalized) + \n",
    "     labs(title = 'Patient Demographic' ,\n",
    "         x = 'Treatment Group',\n",
    "         y = 'Count') +\n",
    "     theme_bw() +\n",
    "     theme(axis.text.x = element_text(colour=\"grey20\", size=12, angle=90, hjust=.5, vjust=.5),\n",
    "           axis.text.y = element_text(colour=\"grey20\", size=12),\n",
    "           text=element_text(size=16, family=\"Courier\"))"
   ]
  },
  {
   "cell_type": "markdown",
   "metadata": {},
   "source": [
    "If you like the changes you created to the default theme, you can save them as\n",
    "an object to easily apply them to other plots you may create:"
   ]
  },
  {
   "cell_type": "code",
   "execution_count": null,
   "metadata": {
    "collapsed": false
   },
   "outputs": [],
   "source": [
    "courier_grey_theme <- theme(axis.text.x = element_text(colour=\"grey20\", size=12, angle=90, hjust=.5, vjust=.5),\n",
    "                            axis.text.y = element_text(colour=\"grey20\", size=12),\n",
    "                            text=element_text(size=16, family=\"Courier\"))\n",
    "ggplot(data = surveys, aes(x = Group, y = BloodPressure))  +\n",
    "    geom_boxplot() + \n",
    "    courier_grey_theme"
   ]
  },
  {
   "cell_type": "markdown",
   "metadata": {},
   "source": [
    "With all of this information in hand, please take another five minutes to either\n",
    "improve one of the plots generated in this exercise or create a beautiful graph\n",
    "of your own. Use the RStudio ggplot2 cheat sheet, which we linked earlier for\n",
    "inspiration.\n",
    "\n",
    "Here are some ideas:\n",
    "\n",
    "* See if you can change thickness of the lines.\n",
    "* Can you find a way to change the name of the legend? What about its labels?\n",
    "* Use a different color palette (see http://www.cookbook-r.com/Graphs/Colors_(ggplot2)/)\n",
    "\n",
    "After creating your plot, you can save it to a file in your favourite format.\n",
    "You can easily change the dimension (and its resolution) of your plot by\n",
    "adjusting the appropriate arguments (`width`, `height` and `dpi`):"
   ]
  },
  {
   "cell_type": "code",
   "execution_count": null,
   "metadata": {
    "collapsed": true
   },
   "outputs": [],
   "source": [
    "my_plot <- ggplot(data = survey_counts, \n",
    "                  aes(x = Group, y = n, color = blood_pressure_rank, group = blood_pressure_rank)) +\n",
    "            geom_line() +\n",
    "            facet_wrap(~ gender_capitalized) + \n",
    "            labs(title = 'Patient Demographic' ,\n",
    "                 x = 'Treatment Group',\n",
    "                 y = 'Count') +\n",
    "            theme_bw() +\n",
    "            theme(axis.text.x = element_text(colour=\"grey20\", size=12, angle=90, hjust=.5, vjust=.5),\n",
    "                  axis.text.y = element_text(colour=\"grey20\", size=12),\n",
    "                  text=element_text(size=16, family=\"Courier\"))\n",
    "\n",
    "ggsave(\"name_of_file.png\", my_plot, width=15, height=10)"
   ]
  }
 ],
 "metadata": {
  "kernelspec": {
   "display_name": "R 3.3.1",
   "language": "R",
   "name": "r"
  },
  "language_info": {
   "codemirror_mode": "r",
   "file_extension": ".r",
   "mimetype": "text/x-r-source",
   "name": "R",
   "pygments_lexer": "r",
   "version": "3.3.1"
  }
 },
 "nbformat": 4,
 "nbformat_minor": 0
}
