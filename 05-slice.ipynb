{
 "cells": [
  {
   "cell_type": "markdown",
   "metadata": {},
   "source": [
    "---\n",
    "layout: lesson\n",
    "title: Introduction to Data Science using R\n",
    "subtitle: Addressing Data\n",
    "minutes: 30\n",
    "---\n",
    "\n",
    "> ## Learning objectives {.objectives}\n",
    "> * Understand the three different ways R can address data inside a data frame\n",
    "> * Combine different methods for addressing data with the assignment operator to update subsets of data\n",
    "\n",
    "R is a powerful language for data manipulation.\n",
    "There are three main ways for addressing data inside R objects.\n",
    "\n",
    "* By index (slicing)\n",
    "* By logical vector\n",
    "* By name (columns only)\n",
    "\n",
    "Lets start by loading some sample data:"
   ]
  },
  {
   "cell_type": "code",
   "execution_count": null,
   "metadata": {
    "collapsed": true
   },
   "outputs": [],
   "source": [
    "setwd(\"/home/lngo/intro-data-science/\")\n",
    "dat <- read.csv(file = 'data/sample.csv', header = TRUE, stringsAsFactors = FALSE)"
   ]
  },
  {
   "cell_type": "markdown",
   "metadata": {},
   "source": [
    "> ## Interpreting Rows as Headers\n",
    ">\n",
    "> The first row of this csv file is a list of column names.\n",
    "> We used the *header=TRUE* argument to `read.csv` so that R can interpret the file correctly.\n",
    "> We are using the *stringsAsFactors=FALSE* argument to override the default behaviour for R.\n",
    "> Using factors in R is covered in a separate lesson.\n",
    "\n",
    "Lets take a look at this data."
   ]
  },
  {
   "cell_type": "code",
   "execution_count": null,
   "metadata": {
    "collapsed": false
   },
   "outputs": [],
   "source": [
    "class(dat)"
   ]
  },
  {
   "cell_type": "markdown",
   "metadata": {},
   "source": [
    "R has loaded the contents of the .csv file into a variable called `dat` which is a `data frame`."
   ]
  },
  {
   "cell_type": "code",
   "execution_count": null,
   "metadata": {
    "collapsed": false
   },
   "outputs": [],
   "source": [
    "dim(dat)"
   ]
  },
  {
   "cell_type": "markdown",
   "metadata": {},
   "source": [
    "The data has 100 rows and 9 columns."
   ]
  },
  {
   "cell_type": "code",
   "execution_count": null,
   "metadata": {
    "collapsed": false
   },
   "outputs": [],
   "source": [
    "head(dat)"
   ]
  },
  {
   "cell_type": "markdown",
   "metadata": {},
   "source": [
    "The data is the results of an (not real) experiment, looking at the number of aneurysms that formed in the eyes of patients who undertook 3 different treatments.\n",
    "\n",
    "### Addressing by Index\n",
    "\n",
    "Data can be accessed by index. We have already seen how square brackets `[` can be used to subset (slice) data. The generic format is `dat[row_numbers,column_numbers]`.\n",
    "\n",
    "\n",
    "> ## Selecting Values\n",
    ">\n",
    "> What will be returned by `dat[1,1]`?\n",
    "\n",
    "If we leave out a dimension R will interpret this as a request for all values in that dimension.\n",
    "\n",
    "> ## Selecting More Values\n",
    ">\n",
    "> What will be returned by `dat[,2]`?\n",
    "\n",
    "The colon `:` can be used to create a sequence of integers."
   ]
  },
  {
   "cell_type": "code",
   "execution_count": null,
   "metadata": {
    "collapsed": false
   },
   "outputs": [],
   "source": [
    "6:9"
   ]
  },
  {
   "cell_type": "markdown",
   "metadata": {},
   "source": [
    "This creates a vector of numbers from 6 to 9.\n",
    "\n",
    "This can be very useful for addressing data.\n",
    "\n",
    "> ## Subsetting with Sequences\n",
    ">\n",
    "> Use the colon operator to index just the aneurism count data (columns 6 to 9)."
   ]
  },
  {
   "cell_type": "markdown",
   "metadata": {},
   "source": [
    "Finally we can use the `c()` (combine) function to address non-sequential rows and columns."
   ]
  },
  {
   "cell_type": "code",
   "execution_count": null,
   "metadata": {
    "collapsed": false
   },
   "outputs": [],
   "source": [
    "dat[c(1,5,7,9), 1:5]"
   ]
  },
  {
   "cell_type": "markdown",
   "metadata": {},
   "source": [
    "Returns the first 5 columns for patients in rows 1,5,7 & 9\n",
    "\n",
    "> ## Subsetting Non-Sequential Data\n",
    ">\n",
    "> Return the age and gender values for the first 5 patients.\n",
    "\n",
    "### Addressing by Name\n",
    "\n",
    "Columns in an R data frame are named."
   ]
  },
  {
   "cell_type": "code",
   "execution_count": null,
   "metadata": {
    "collapsed": false
   },
   "outputs": [],
   "source": [
    "names(dat)"
   ]
  },
  {
   "cell_type": "markdown",
   "metadata": {},
   "source": [
    "> ## Default Names\n",
    ">\n",
    "> If names are not specified e.g. using `headers=FALSE` in a `read.csv()` function, R assigns default names `V1,V2,...,Vn`\n",
    "\n",
    "We usually use the `$` operator to address a column by name"
   ]
  },
  {
   "cell_type": "code",
   "execution_count": null,
   "metadata": {
    "collapsed": false
   },
   "outputs": [],
   "source": [
    "dat$Gender"
   ]
  },
  {
   "cell_type": "markdown",
   "metadata": {},
   "source": [
    "Named addressing can also be used in square brackets."
   ]
  },
  {
   "cell_type": "code",
   "execution_count": null,
   "metadata": {
    "collapsed": false
   },
   "outputs": [],
   "source": [
    "head(dat[,c('Age', 'Gender')])"
   ]
  },
  {
   "cell_type": "markdown",
   "metadata": {},
   "source": [
    "> ## Best Practice\n",
    ">\n",
    "> Best practice is to address columns by name, often you will create or delete columns and the column position will change.\n",
    "\n",
    "### Logical Indexing\n",
    "\n",
    "A logical vector contains only the special values `TRUE` & `FALSE`."
   ]
  },
  {
   "cell_type": "markdown",
   "metadata": {},
   "source": [
    "c(TRUE, TRUE, FALSE, FALSE, TRUE)"
   ]
  },
  {
   "cell_type": "markdown",
   "metadata": {},
   "source": [
    "> ## Truth and Its Opposite\n",
    ">\n",
    "> Note the values `TRUE` and `FALSE` are all capital letters and are not quoted.\n",
    "{: .callout}\n",
    "\n",
    "Logical vectors can be created using `relational operators` e.g. `<, >, ==, !=, %in%`."
   ]
  },
  {
   "cell_type": "code",
   "execution_count": null,
   "metadata": {
    "collapsed": false
   },
   "outputs": [],
   "source": [
    "x <- c(1, 2, 3, 11, 12, 13)\n",
    "x < 10"
   ]
  },
  {
   "cell_type": "code",
   "execution_count": null,
   "metadata": {
    "collapsed": false
   },
   "outputs": [],
   "source": [
    "x %in% 1:10"
   ]
  },
  {
   "cell_type": "markdown",
   "metadata": {},
   "source": [
    "We can use logical vectors to select data from a data frame."
   ]
  },
  {
   "cell_type": "code",
   "execution_count": null,
   "metadata": {
    "collapsed": false
   },
   "outputs": [],
   "source": [
    "index <- dat$Group == 'Control'\n",
    "dat[index,]$BloodPressure"
   ]
  },
  {
   "cell_type": "markdown",
   "metadata": {},
   "source": [
    "Often this operation is written as one line of code:"
   ]
  },
  {
   "cell_type": "code",
   "execution_count": null,
   "metadata": {
    "collapsed": true
   },
   "outputs": [],
   "source": [
    "plot(dat[dat$Group == 'Control',]$BloodPressure)"
   ]
  },
  {
   "cell_type": "markdown",
   "metadata": {},
   "source": [
    "> ## Using Logical Indexes\n",
    ">\n",
    "> 1. Create a scatterplot showing BloodPressure for subjects not in the control group.\n",
    "> 2. How many ways are there to index this set of subjects?\n",
    "\n",
    "### Combining Indexing and Assignment\n",
    "\n",
    "The assignment operator `<-` can be combined with indexing."
   ]
  },
  {
   "cell_type": "code",
   "execution_count": null,
   "metadata": {
    "collapsed": true
   },
   "outputs": [],
   "source": [
    "x <- c(1, 2, 3, 11, 12, 13)\n",
    "x[x < 10] <- 0\n",
    "x"
   ]
  },
  {
   "cell_type": "markdown",
   "metadata": {
    "collapsed": true
   },
   "source": [
    "> ## Updating a Subset of Values\n",
    ">\n",
    "> In this dataset, values for Gender have been recorded as both uppercase `M, F` and lowercase `m,f`.\n",
    "> Combine the indexing and assignment operations to convert all values to lowercase."
   ]
  }
 ],
 "metadata": {
  "kernelspec": {
   "display_name": "R 3.3.1",
   "language": "R",
   "name": "r"
  },
  "language_info": {
   "codemirror_mode": "r",
   "file_extension": ".r",
   "mimetype": "text/x-r-source",
   "name": "R",
   "pygments_lexer": "r",
   "version": "3.3.1"
  }
 },
 "nbformat": 4,
 "nbformat_minor": 0
}
