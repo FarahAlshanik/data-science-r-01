{
 "cells": [
  {
   "cell_type": "markdown",
   "metadata": {},
   "source": [
    "---\n",
    "layout: lesson\n",
    "title: Introduction to Data Science using R\n",
    "subtitle: Understanding Factors\n",
    "minutes: 20\n",
    "---\n",
    "\n",
    "> ## Learning objectives {.objectives}\n",
    "> * Understand how to represent categorical data in R\n",
    "> * Know the difference between ordered and unordered factors\n",
    "> * Be aware of some of the problems encountered when using factors\n",
    "\n",
    "Factors are used to represent categorical data. Factors can be ordered or\n",
    "unordered and are an important class for statistical analysis and for plotting.\n",
    "\n",
    "Factors are stored as integers, and have labels associated with these unique\n",
    "integers. While factors look (and often behave) like character vectors, they are\n",
    "actually integers under the hood, and you need to be careful when treating them\n",
    "like strings.\n",
    "\n",
    "Once created, factors can only contain a pre-defined set values, known as\n",
    "*levels*. The `factor()` command is used to create and modify factors in R. \n",
    "By default, R always sorts *levels* in alphabetical order. For\n",
    "instance, if you have a factor with 2 levels:"
   ]
  },
  {
   "cell_type": "code",
   "execution_count": null,
   "metadata": {
    "collapsed": true
   },
   "outputs": [],
   "source": [
    "sex <- factor(c(\"male\", \"female\", \"female\", \"male\"))"
   ]
  },
  {
   "cell_type": "markdown",
   "metadata": {},
   "source": [
    "R will assign `1` to the level `\"female\"` and `2` to the level `\"male\"` (because\n",
    "`f` comes before `m`, even though the first element in this vector is\n",
    "`\"male\"`). You can check this by using the function `levels()`, and check the\n",
    "number of levels using `nlevels()`:"
   ]
  },
  {
   "cell_type": "code",
   "execution_count": null,
   "metadata": {
    "collapsed": true
   },
   "outputs": [],
   "source": [
    "levels(sex)\n",
    "\n",
    "nlevels(sex)"
   ]
  },
  {
   "cell_type": "markdown",
   "metadata": {},
   "source": [
    "Sometimes, the order of the factors does not matter, other times you might want\n",
    "to specify the order because it is meaningful (e.g., \"low\", \"medium\", \"high\") or\n",
    "it is required by particular type of analysis. Additionally, specifying the\n",
    "order of the levels allows us to compare levels:"
   ]
  },
  {
   "cell_type": "code",
   "execution_count": null,
   "metadata": {
    "collapsed": true
   },
   "outputs": [],
   "source": [
    "raw_food <- c(\"low\", \"high\", \"medium\", \"high\", \"low\", \"medium\", \"high\")"
   ]
  },
  {
   "cell_type": "code",
   "execution_count": null,
   "metadata": {
    "collapsed": false
   },
   "outputs": [],
   "source": [
    "food <- factor(raw_food)\n",
    "levels(food)"
   ]
  },
  {
   "cell_type": "code",
   "execution_count": null,
   "metadata": {
    "collapsed": false
   },
   "outputs": [],
   "source": [
    "food <- factor(raw_food, levels = c(\"low\", \"medium\", \"high\"))\n",
    "levels(food)"
   ]
  },
  {
   "cell_type": "code",
   "execution_count": null,
   "metadata": {
    "collapsed": false
   },
   "outputs": [],
   "source": [
    "min(food) ## doesn't work"
   ]
  },
  {
   "cell_type": "code",
   "execution_count": null,
   "metadata": {
    "collapsed": false
   },
   "outputs": [],
   "source": [
    "food <- factor(raw_food, levels = c(\"low\", \"medium\", \"high\"), ordered=TRUE)\n",
    "levels(food)\n",
    "\n",
    "min(food) ## works!"
   ]
  },
  {
   "cell_type": "markdown",
   "metadata": {},
   "source": [
    "In R's memory, these factors are represented by numbers (1, 2, 3). They are\n",
    "better than using simple integer labels because factors are self describing:\n",
    "`\"low\"`, `\"medium\"`, and `\"high\"`\" is more descriptive than `1`, `2`, `3`. Which\n",
    "is low?  You wouldn't be able to tell with just integer data. Factors have this\n",
    "information built in. It is particularly helpful when there are many levels\n",
    "(like the subjects in our example data set).\n",
    "\n",
    "> ## Representing Data in R\n",
    ">\n",
    "> You have a vector representing levels of exercise undertaken by 5 subjects\n",
    ">\n",
    "> **\"l\",\"n\",\"n\",\"i\",\"l\"** ; n=none, l=light, i=intense\n",
    ">\n",
    "> What is the best way to represent this in R?\n",
    ">\n",
    "> a) exercise <- c(\"l\", \"n\", \"n\", \"i\", \"l\")\n",
    ">\n",
    "> b) exercise <- factor(c(\"l\", \"n\", \"n\", \"i\", \"l\"), ordered = TRUE)\n",
    ">\n",
    "> c) exercise < -factor(c(\"l\", \"n\", \"n\", \"i\", \"l\"), levels = c(\"n\", \"l\", \"i\"), ordered = FALSE)\n",
    ">\n",
    "> d) exercise <- factor(c(\"l\", \"n\", \"n\", \"i\", \"l\"), levels = c(\"n\", \"l\", \"i\"), ordered = TRUE)\n",
    "{: .challenge}"
   ]
  },
  {
   "cell_type": "markdown",
   "metadata": {},
   "source": [
    "###  Converting Factors\n",
    "\n",
    "Converting from a factor to a number can cause problems:"
   ]
  },
  {
   "cell_type": "code",
   "execution_count": null,
   "metadata": {
    "collapsed": false
   },
   "outputs": [],
   "source": [
    "f <- factor(c(3.4, 1.2, 5))\n",
    "as.numeric(f)"
   ]
  },
  {
   "cell_type": "markdown",
   "metadata": {},
   "source": [
    "This does not behave as expected (and there is no warning).\n",
    "\n",
    "The recommended way is to use the integer vector to index the factor levels:"
   ]
  },
  {
   "cell_type": "code",
   "execution_count": null,
   "metadata": {
    "collapsed": false
   },
   "outputs": [],
   "source": [
    "levels(f)[f]"
   ]
  },
  {
   "cell_type": "markdown",
   "metadata": {},
   "source": [
    "This returns a character vector, the `as.numeric()` function is still required to convert the values to the proper type (numeric)."
   ]
  },
  {
   "cell_type": "code",
   "execution_count": null,
   "metadata": {
    "collapsed": true
   },
   "outputs": [],
   "source": [
    "f <- levels(f)[f]\n",
    "f <- as.numeric(f)"
   ]
  },
  {
   "cell_type": "markdown",
   "metadata": {},
   "source": [
    "### Using Factors\n",
    "\n",
    "Lets load our example data to see the use of factors:"
   ]
  },
  {
   "cell_type": "code",
   "execution_count": null,
   "metadata": {
    "collapsed": true
   },
   "outputs": [],
   "source": [
    "setwd(\"/home/lngo/intro-data-science/\")\n",
    "dat <- read.csv(file = 'data/sample.csv', stringsAsFactors = TRUE)"
   ]
  },
  {
   "cell_type": "markdown",
   "metadata": {},
   "source": [
    "> ## Default Behavior\n",
    ">\n",
    "> `stringsAsFactors=TRUE` is the default behavior for R.\n",
    "> We could leave this argument out.\n",
    "> It is included here for clarity.\n",
    "{: .callout}"
   ]
  },
  {
   "cell_type": "code",
   "execution_count": null,
   "metadata": {
    "collapsed": false
   },
   "outputs": [],
   "source": [
    "str(dat)"
   ]
  },
  {
   "cell_type": "markdown",
   "metadata": {},
   "source": [
    "Notice the first 3 columns have been converted to factors. These values were text in the data file so R automatically interpreted them as categorical variables."
   ]
  },
  {
   "cell_type": "code",
   "execution_count": null,
   "metadata": {
    "collapsed": false
   },
   "outputs": [],
   "source": [
    "summary(dat)"
   ]
  },
  {
   "cell_type": "markdown",
   "metadata": {},
   "source": [
    "Notice the `summary()` function handles factors differently to numbers (and strings), the occurrence counts for each value is often more useful information.\n",
    "\n",
    "> ## The `summary()` Function\n",
    ">\n",
    "> The `summary()` function is a great way of spotting errors in your data (look at the *dat$Gender* column).\n",
    "> It's also a great way for spotting missing data.\n",
    "\n",
    "> ## Reordering Factors\n",
    ">\n",
    "> The function `table()` tabulates observations and can be used to create bar plots quickly. For instance:"
   ]
  },
  {
   "cell_type": "code",
   "execution_count": null,
   "metadata": {
    "collapsed": false
   },
   "outputs": [],
   "source": [
    "table(dat$Group)"
   ]
  },
  {
   "cell_type": "code",
   "execution_count": null,
   "metadata": {
    "collapsed": false
   },
   "outputs": [],
   "source": [
    "barplot(table(dat$Group))"
   ]
  },
  {
   "cell_type": "markdown",
   "metadata": {},
   "source": [
    "> Use the `factor()` command to modify the column dat$Group so that the *control* group is plotted last"
   ]
  },
  {
   "cell_type": "markdown",
   "metadata": {},
   "source": [
    "### Removing Levels from a Factor\n",
    "\n",
    "Some of the Gender values in our dataset have been coded incorrectly.\n",
    "Let's remove factors."
   ]
  },
  {
   "cell_type": "code",
   "execution_count": null,
   "metadata": {
    "collapsed": false
   },
   "outputs": [],
   "source": [
    "barplot(table(dat$Gender))"
   ]
  },
  {
   "cell_type": "markdown",
   "metadata": {},
   "source": [
    "Values should have been recorded as lowercase 'm' & 'f'. We should correct this."
   ]
  },
  {
   "cell_type": "code",
   "execution_count": null,
   "metadata": {
    "collapsed": true
   },
   "outputs": [],
   "source": [
    "dat$Gender[dat$Gender == 'M'] <- 'm'"
   ]
  },
  {
   "cell_type": "markdown",
   "metadata": {},
   "source": [
    "> ## Updating Factors\n",
    ">"
   ]
  },
  {
   "cell_type": "code",
   "execution_count": null,
   "metadata": {
    "collapsed": false
   },
   "outputs": [],
   "source": [
    "plot(x = dat$Gender, y = dat$BloodPressure)"
   ]
  },
  {
   "cell_type": "markdown",
   "metadata": {},
   "source": [
    ">\n",
    "> Why does this plot show 4 levels?\n",
    ">\n",
    "> *Hint* how many levels does dat$Gender have?\n",
    "\n",
    "\n",
    "We need to tell R that \"M\" is no longer a valid value for this column.\n",
    "We use the `droplevels()` function to remove extra levels."
   ]
  },
  {
   "cell_type": "code",
   "execution_count": null,
   "metadata": {
    "collapsed": false
   },
   "outputs": [],
   "source": [
    "dat$Gender <- droplevels(dat$Gender)\n",
    "plot(x = dat$Gender, y = dat$BloodPressure)"
   ]
  },
  {
   "cell_type": "markdown",
   "metadata": {},
   "source": [
    "> ## Adjusting Factor Levels\n",
    ">\n",
    "> Adjusting the `levels()` of a factor provides a useful shortcut for reassigning values in this case."
   ]
  },
  {
   "cell_type": "code",
   "execution_count": null,
   "metadata": {
    "collapsed": false
   },
   "outputs": [],
   "source": [
    "levels(dat$Gender)[2] <- 'f'\n",
    "plot(x = dat$Gender, y = dat$BloodPressure)"
   ]
  },
  {
   "cell_type": "code",
   "execution_count": null,
   "metadata": {
    "collapsed": true
   },
   "outputs": [],
   "source": []
  }
 ],
 "metadata": {
  "kernelspec": {
   "display_name": "R 3.3.1",
   "language": "R",
   "name": "r"
  },
  "language_info": {
   "codemirror_mode": "r",
   "file_extension": ".r",
   "mimetype": "text/x-r-source",
   "name": "R",
   "pygments_lexer": "r",
   "version": "3.3.1"
  }
 },
 "nbformat": 4,
 "nbformat_minor": 0
}
