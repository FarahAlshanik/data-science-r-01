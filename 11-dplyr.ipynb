{
 "cells": [
  {
   "cell_type": "markdown",
   "metadata": {},
   "source": [
    "---\n",
    "layout: lesson\n",
    "title: Introduction to Data Science using R\n",
    "subtitle: Manipulating and analyzing data with dplyr\n",
    "minutes: 30\n",
    "---\n",
    "\n",
    "> ## Learning objectives {.objectives}\n",
    "> * Learn basic utilities of the dplyr package\n",
    "> * Select and filter data\n",
    "> * Be able to use magrittr pipes\n",
    "> * Create new columns with mutate()\n",
    "> * Use the split-apply-combine paradigm to summarize data\n",
    "> * Export data with write.csv()\n",
    "\n",
    "\n",
    "# Data Manipulation using dplyr\n",
    "\n",
    "Bracket subsetting is handy, but it can be cumbersome and difficult to read,\n",
    "especially for complicated operations. Enter `dplyr`. `dplyr` is a package for\n",
    "making data manipulation easier.\n",
    "\n",
    "Packages in R are basically sets of additional functions that let you do more\n",
    "stuff. The functions we've been using so far, like `str()` or `data.frame()`,\n",
    "come built into R; packages give you access to more of them. Before you use a\n",
    "package for the first time you need to install it on your machine, and then you\n",
    "should import it in every subsequent R session when you need it. **As part of \n",
    "the R Jupyter environment, dplyr is already installed.**"
   ]
  },
  {
   "cell_type": "code",
   "execution_count": null,
   "metadata": {
    "collapsed": true
   },
   "outputs": [],
   "source": [
    "install.packages(\"dplyr\")"
   ]
  },
  {
   "cell_type": "code",
   "execution_count": null,
   "metadata": {
    "collapsed": false
   },
   "outputs": [],
   "source": [
    "library(\"dplyr\")    ## load the package"
   ]
  },
  {
   "cell_type": "markdown",
   "metadata": {},
   "source": [
    "## What is `dplyr`?\n",
    "\n",
    "The package `dplyr` provides easy tools for the most common data manipulation\n",
    "tasks. It is built to work directly with data frames. The thinking behind it was\n",
    "largely inspired by the package `plyr` which has been in use for some time but\n",
    "suffered from being slow in some cases.` dplyr` addresses this by porting much\n",
    "of the computation to C++. An additional feature is the ability to work directly\n",
    "with data stored in an external database. The benefits of doing this are\n",
    "that the data can be managed natively in a relational database, queries can be\n",
    "conducted on that database, and only the results of the query returned.\n",
    "\n",
    "This addresses a common problem with R in that all operations are conducted in\n",
    "memory and thus the amount of data you can work with is limited by available\n",
    "memory. The database connections essentially remove that limitation in that you\n",
    "can have a database of many 100s GB, conduct queries on it directly, and pull\n",
    "back just what you need for analysis in R.\n",
    "\n",
    "To learn more about `dplyr` after the workshop, you may want to check out this\n",
    "[handy dplyr cheatsheet](http://www.rstudio.com/wp-content/uploads/2015/02/data-wrangling-cheatsheet.pdf)."
   ]
  },
  {
   "cell_type": "code",
   "execution_count": null,
   "metadata": {
    "collapsed": true
   },
   "outputs": [],
   "source": [
    "setwd(\"/home/lngo/intro-data-science/\")\n",
    "surveys = read.csv(file=\"data/sample.csv\", header=TRUE)"
   ]
  },
  {
   "cell_type": "markdown",
   "metadata": {},
   "source": [
    "## Selecting columns and filtering rows\n",
    "\n",
    "We're going to learn some of the most common `dplyr` functions: `select()`,\n",
    "`filter()`, `mutate()`, `group_by()`, and `summarize()`. To select columns of a\n",
    "data frame, use `select()`. The first argument to this function is the data\n",
    "frame (`surveys`), and the subsequent arguments are the columns to keep."
   ]
  },
  {
   "cell_type": "code",
   "execution_count": null,
   "metadata": {
    "collapsed": false
   },
   "outputs": [],
   "source": [
    "select(surveys, Group, BloodPressure, Age)"
   ]
  },
  {
   "cell_type": "markdown",
   "metadata": {},
   "source": [
    "To choose rows, use `filter()`:"
   ]
  },
  {
   "cell_type": "code",
   "execution_count": null,
   "metadata": {
    "collapsed": false
   },
   "outputs": [],
   "source": [
    "filter(surveys, BloodPressure > 100)"
   ]
  },
  {
   "cell_type": "markdown",
   "metadata": {},
   "source": [
    "## Pipes\n",
    "\n",
    "But what if you wanted to select and filter at the same time? There are three\n",
    "ways to do this: use intermediate steps, nested functions, or pipes. With the\n",
    "intermediate steps, you essentially create a temporary data frame and use that\n",
    "as input to the next function. This can clutter up your workspace with lots of\n",
    "objects. You can also nest functions (i.e. one function inside of another).\n",
    "This is handy, but can be difficult to read if too many functions are nested as\n",
    "the process from inside out. The last option, pipes, are a fairly recent\n",
    "addition to R. Pipes let you take the output of one function and send it\n",
    "directly to the next, which is useful when you need to do many things to the same\n",
    "data set.  Pipes in R look like `%>%` and are made available via the `magrittr`\n",
    "package installed as part of `dplyr`."
   ]
  },
  {
   "cell_type": "code",
   "execution_count": null,
   "metadata": {
    "collapsed": false
   },
   "outputs": [],
   "source": [
    "surveys %>%\n",
    "  filter(BloodPressure > 100) %>%\n",
    "  select(Gender, Age)"
   ]
  },
  {
   "cell_type": "markdown",
   "metadata": {},
   "source": [
    "In the above we use the pipe to send the `surveys` data set first through\n",
    "`filter`, to keep rows where `BloodPressure` was greayer than 5, and then through `select`\n",
    "to keep the `Gender` and `Age` columns. When the data frame is being passed to\n",
    "the `filter()` and `select()` functions through a pipe, we don't need to include\n",
    "it as an argument to these functions anymore.\n",
    "\n",
    "If we wanted to create a new object with this smaller version of the data we\n",
    "could do so by assigning it a new name:"
   ]
  },
  {
   "cell_type": "code",
   "execution_count": null,
   "metadata": {
    "collapsed": false
   },
   "outputs": [],
   "source": [
    "surveys_sml <- surveys %>%\n",
    "  filter(BloodPressure > 100) %>%\n",
    "  select(Gender, Age)"
   ]
  },
  {
   "cell_type": "code",
   "execution_count": null,
   "metadata": {
    "collapsed": false
   },
   "outputs": [],
   "source": [
    "surveys_sml"
   ]
  },
  {
   "cell_type": "markdown",
   "metadata": {},
   "source": [
    "Note that the final data frame is the leftmost part of this expression.\n",
    "\n",
    "> ### Challenge {.challenge}\n",
    ">\n",
    ">  Using pipes, subset the data to include individuals from the `Control` group,\n",
    ">  and retain the columns `Gender`, `BloodPressure`, and `Age`"
   ]
  },
  {
   "cell_type": "markdown",
   "metadata": {},
   "source": [
    "### Mutate\n",
    "\n",
    "Frequently you'll want to create new columns based on the values in existing\n",
    "columns, for example to do correct the capitalization of the gender. For this \n",
    "we'll use `mutate()`.\n",
    "\n",
    "To create a new column of correct gender spelling:"
   ]
  },
  {
   "cell_type": "code",
   "execution_count": null,
   "metadata": {
    "collapsed": false
   },
   "outputs": [],
   "source": [
    "surveys %>%\n",
    "  mutate(gender_capitalized = toupper(Gender))"
   ]
  },
  {
   "cell_type": "markdown",
   "metadata": {},
   "source": [
    "If this runs off your screen and you just want to see the first few rows, you\n",
    "can use a pipe to view the `head()` of the data (pipes work with non-dplyr\n",
    "functions too, as long as the `dplyr` or `magrittr` packages are loaded)."
   ]
  },
  {
   "cell_type": "code",
   "execution_count": null,
   "metadata": {
    "collapsed": false
   },
   "outputs": [],
   "source": [
    "surveys %>%\n",
    "  mutate(gender_capitalized = toupper(Gender)) %>%\n",
    "  head"
   ]
  },
  {
   "cell_type": "markdown",
   "metadata": {},
   "source": [
    "> ### Challenge {.challenge}\n",
    ">\n",
    ">  Create a new dataframe from the survey data that meets the following\n",
    ">  criteria: contains only the `Age` column and a column `Aneurisms_avg` that \n",
    ">  contains values that are averaged of the Aneurisms colum . In this \n",
    ">  `Aneurisms_avg` column, only retain values that are greater than 150.\n",
    ">\n",
    ">  **Hint**: think about how the commands should be ordered to produce this data frame!"
   ]
  },
  {
   "cell_type": "markdown",
   "metadata": {},
   "source": [
    "### Split-apply-combine data analysis and the summarize() function\n",
    "\n",
    "Many data analysis tasks can be approached using the \"split-apply-combine\"\n",
    "paradigm: split the data into groups, apply some analysis to each group, and\n",
    "then combine the results. `dplyr` makes this very easy through the use of the\n",
    "`group_by()` function."
   ]
  },
  {
   "cell_type": "markdown",
   "metadata": {},
   "source": [
    "#### The `summarize()` function\n",
    "\n",
    "`group_by()` is often used together with `summarize()` which collapses each\n",
    "group into a single-row summary of that group.  `group_by()` takes as argument\n",
    "the column names that contain the **categorical** variables for which you want\n",
    "to calculate the summary statistics. So to view mean the `Age` by sex:"
   ]
  },
  {
   "cell_type": "code",
   "execution_count": null,
   "metadata": {
    "collapsed": false
   },
   "outputs": [],
   "source": [
    "surveys %>%\n",
    "  mutate(gender_capitalized = toupper(Gender)) %>%\n",
    "  group_by(gender_capitalized) %>%\n",
    "  summarize(mean_age = mean(Age, na.rm = TRUE))"
   ]
  },
  {
   "cell_type": "markdown",
   "metadata": {},
   "source": [
    "You can group by multiple columns too:"
   ]
  },
  {
   "cell_type": "code",
   "execution_count": null,
   "metadata": {
    "collapsed": false
   },
   "outputs": [],
   "source": [
    "surveys %>%\n",
    "  mutate(gender_capitalized = toupper(Gender)) %>%\n",
    "  group_by(gender_capitalized, Group) %>%\n",
    "  summarize(mean_age = mean(Age, na.rm = TRUE))"
   ]
  },
  {
   "cell_type": "markdown",
   "metadata": {},
   "source": [
    "In this case, `dplyr` has changed our `data.frame` to a\n",
    "`tbl_df`. This is a data structure that's very similar to a data frame; for our\n",
    "purposes the only difference is that it won't automatically show tons of data\n",
    "going off the screen, while displaying the data type for each column under its\n",
    "name. If you want to display more data on the screen, you can add the `print()`\n",
    "function at the end with the argument `n` specifying the number of rows to\n",
    "display:"
   ]
  },
  {
   "cell_type": "code",
   "execution_count": null,
   "metadata": {
    "collapsed": false
   },
   "outputs": [],
   "source": [
    "surveys %>%\n",
    "  mutate(gender_capitalized = toupper(Gender)) %>%\n",
    "  group_by() %>%\n",
    "  group_by(gender_capitalized, Group) %>%\n",
    "  summarize(mean_age = mean(Age, na.rm = TRUE)) %>%\n",
    "  print(n=6)"
   ]
  },
  {
   "cell_type": "markdown",
   "metadata": {},
   "source": [
    "Once the data is grouped, you can also summarize multiple variables at the same\n",
    "time (and not necessarily on the same variable). For instance, we could add a\n",
    "column indicating the minimum weight for each species for each sex:"
   ]
  },
  {
   "cell_type": "code",
   "execution_count": null,
   "metadata": {
    "collapsed": false
   },
   "outputs": [],
   "source": [
    "surveys %>%\n",
    "  mutate(gender_capitalized = toupper(Gender)) %>%\n",
    "  group_by(gender_capitalized, Group) %>%\n",
    "  summarize(max_age = max(Age),\n",
    "            min_age = min(Age))"
   ]
  },
  {
   "cell_type": "markdown",
   "metadata": {},
   "source": [
    "#### Tallying\n",
    "\n",
    "When working with data, it is also common to want to know the number of\n",
    "observations found for each factor or combination of factors. For this, `dplyr`\n",
    "provides `tally()`. For example, if we wanted to group by the treatment methods and find the\n",
    "number of rows of data for each method, we would do:"
   ]
  },
  {
   "cell_type": "code",
   "execution_count": null,
   "metadata": {
    "collapsed": false
   },
   "outputs": [],
   "source": [
    "surveys %>%\n",
    "  group_by(Group) %>%\n",
    "  tally()"
   ]
  },
  {
   "cell_type": "markdown",
   "metadata": {},
   "source": [
    "Here, `tally()` is the action applied to the groups created by `group_by()` and\n",
    "counts the total number of records for each category."
   ]
  },
  {
   "cell_type": "markdown",
   "metadata": {},
   "source": [
    "> ### Challenge {.challenge}\n",
    ">\n",
    "> How many males and females were surveyed?"
   ]
  },
  {
   "cell_type": "markdown",
   "metadata": {},
   "source": [
    "> ### Challenge {.challenge}\n",
    ">\n",
    "> Use `group_by()` and `summarize()` to find the mean, min, and max aneurisms\n",
    "> measurement at each quarter (`Aneurisms_q1`,`Aneurisms_q2`,`Aneurisms_q3`,`Aneurisms_q4`) \n",
    "> for each treatment group (using `Group`)."
   ]
  }
 ],
 "metadata": {
  "kernelspec": {
   "display_name": "R 3.3.1",
   "language": "R",
   "name": "r"
  },
  "language_info": {
   "codemirror_mode": "r",
   "file_extension": ".r",
   "mimetype": "text/x-r-source",
   "name": "R",
   "pygments_lexer": "r",
   "version": "3.3.1"
  }
 },
 "nbformat": 4,
 "nbformat_minor": 0
}
