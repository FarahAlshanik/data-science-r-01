{
 "cells": [
  {
   "cell_type": "markdown",
   "metadata": {},
   "source": [
    "---\n",
    "layout: lesson\n",
    "title: Introduction to Data Science using R\n",
    "subtitle: Data Types and Structures\n",
    "minutes: 45\n",
    "---\n",
    "\n",
    "> ## Learning objectives {.objectives}\n",
    "> * Expose learners to the different data types in R\n",
    "> * Learn how to create vectors of different types\n",
    "> * Be able to check the type of vector\n",
    "> * Learn about missing data and other special values\n",
    "> * Getting familiar with the different data structures (lists, matrices, data frames)\n",
    "\n",
    "\n",
    "### Understanding Basic Data Types in R\n",
    "\n",
    "To make the best of the R language, you'll need a strong understanding of the\n",
    "basic data types and data structures and how to operate on those.\n",
    "\n",
    "Very important to understand because these are the objects you will manipulate\n",
    "on a day-to-day basis in R. Dealing with object conversions is one of the most\n",
    "common sources of frustration for beginners.\n",
    "\n",
    "**Everything** in R is an object.\n",
    "\n",
    "R has 6 (although we will not discuss the raw class for this workshop) atomic\n",
    "vector types.\n",
    "\n",
    "* character\n",
    "* numeric (real or decimal)\n",
    "* integer\n",
    "* logical\n",
    "* complex\n",
    "\n",
    "By *atomic*, we mean the vector only holds data of a single type.\n",
    "\n",
    "* **character**: `\"a\"`, `\"swc\"`\n",
    "* **numeric**: `2`, `15.5`\n",
    "* **integer**: `2L` (the `L` tells R to store this as an integer)\n",
    "* **logical**: `TRUE`, `FALSE`\n",
    "* **complex**: `1+4i` (complex numbers with real and imaginary parts)\n",
    "\n",
    "R provides many functions to examine features of vectors and other objects, for\n",
    "example\n",
    "\n",
    "* `class()` - what kind of object is it (high-level)?\n",
    "* `typeof()` - what is the object's data type (low-level)?\n",
    "* `length()` - how long is it? What about two dimensional objects?\n",
    "* `attributes()` - does it have any metadata?"
   ]
  },
  {
   "cell_type": "code",
   "execution_count": null,
   "metadata": {
    "collapsed": true
   },
   "outputs": [],
   "source": [
    "# Example\n",
    "x <- \"dataset\"\n",
    "typeof(x)\n",
    "attributes(x)\n",
    "\n",
    "y <- 1:10\n",
    "y\n",
    "typeof(y)\n",
    "length(y)\n",
    "\n",
    "z <- as.numeric(y)\n",
    "z\n",
    "\n",
    "typeof(z)"
   ]
  },
  {
   "cell_type": "markdown",
   "metadata": {},
   "source": [
    "R has many __data structures__. These include\n",
    "\n",
    "* atomic vector\n",
    "* list\n",
    "* matrix\n",
    "* data frame\n",
    "* factors\n",
    "\n",
    "### Atomic Vectors\n",
    "\n",
    "A vector is the most common and basic data structure in R and is pretty much the\n",
    "workhorse of R. Technically, vectors can be one of two types:\n",
    "\n",
    "* atomic vectors\n",
    "* lists\n",
    "\n",
    "although the term \"vector\" most commonly refers to the atomic types not to lists.\n",
    "\n",
    "### The Different Vector Modes\n",
    "\n",
    "A vector is a collection of elements that are most commonly of mode `character`,\n",
    "`logical`, `integer` or `numeric`.\n",
    "\n",
    "You can create an empty vector with `vector()`. (By default the mode is\n",
    "`logical`. You can be more explicit as shown in the examples below.) It is more\n",
    "common to use direct constructors such as `character()`, `numeric()`, etc."
   ]
  },
  {
   "cell_type": "code",
   "execution_count": null,
   "metadata": {
    "collapsed": true
   },
   "outputs": [],
   "source": [
    "vector() # an empty 'logical' (the default) vector\n",
    "\n",
    "vector(\"character\", length = 5) # a vector of mode 'character' with 5 elements\n",
    "\n",
    "character(5) # the same thing, but using the constructor directly\n",
    "\n",
    "numeric(5)   # a numeric vector with 5 elements\n",
    "\n",
    "logical(5)   # a logical vector with 5 elements"
   ]
  },
  {
   "cell_type": "markdown",
   "metadata": {},
   "source": [
    "You can also create vectors by directly specifying their content. R will then\n",
    "guess the appropriate mode of storage for the vector. For instance:"
   ]
  },
  {
   "cell_type": "code",
   "execution_count": null,
   "metadata": {
    "collapsed": true
   },
   "outputs": [],
   "source": [
    "x <- c(1, 2, 3)"
   ]
  },
  {
   "cell_type": "markdown",
   "metadata": {},
   "source": [
    "will create a vector `x` of mode `numeric`. These are the most common kind, and\n",
    "are treated as double precision real numbers. If you wanted to explicitly create\n",
    "integers, you need to add an `L` to each element (or *coerce* to the integer\n",
    "type using `as.integer()`)."
   ]
  },
  {
   "cell_type": "code",
   "execution_count": null,
   "metadata": {
    "collapsed": true
   },
   "outputs": [],
   "source": [
    "x1 <- c(1L, 2L, 3L)"
   ]
  },
  {
   "cell_type": "markdown",
   "metadata": {},
   "source": [
    "Using `TRUE` and `FALSE` will create a vector of mode `logical`:"
   ]
  },
  {
   "cell_type": "code",
   "execution_count": 4,
   "metadata": {
    "collapsed": true
   },
   "outputs": [],
   "source": [
    "y <- c(TRUE, TRUE, FALSE, FALSE)"
   ]
  },
  {
   "cell_type": "markdown",
   "metadata": {},
   "source": [
    "While using quoted text will create a vector of mode `character`:"
   ]
  },
  {
   "cell_type": "code",
   "execution_count": 2,
   "metadata": {
    "collapsed": true
   },
   "outputs": [],
   "source": [
    "z <- c(\"Sarah\", \"Tracy\", \"Jon\")"
   ]
  },
  {
   "cell_type": "markdown",
   "metadata": {},
   "source": [
    "### Examining Vectors\n",
    "\n",
    "The functions `typeof()`, `length()`, `class()` and `str()` provide useful\n",
    "information about your vectors and R objects in general."
   ]
  },
  {
   "cell_type": "code",
   "execution_count": 3,
   "metadata": {
    "collapsed": false
   },
   "outputs": [
    {
     "data": {
      "text/html": [
       "'character'"
      ],
      "text/latex": [
       "'character'"
      ],
      "text/markdown": [
       "'character'"
      ],
      "text/plain": [
       "[1] \"character\""
      ]
     },
     "execution_count": 3,
     "metadata": {},
     "output_type": "execute_result"
    },
    {
     "data": {
      "text/html": [
       "3"
      ],
      "text/latex": [
       "3"
      ],
      "text/markdown": [
       "3"
      ],
      "text/plain": [
       "[1] 3"
      ]
     },
     "execution_count": 3,
     "metadata": {},
     "output_type": "execute_result"
    },
    {
     "data": {
      "text/html": [
       "'character'"
      ],
      "text/latex": [
       "'character'"
      ],
      "text/markdown": [
       "'character'"
      ],
      "text/plain": [
       "[1] \"character\""
      ]
     },
     "execution_count": 3,
     "metadata": {},
     "output_type": "execute_result"
    },
    {
     "name": "stdout",
     "output_type": "stream",
     "text": [
      " chr [1:3] \"Sarah\" \"Tracy\" \"Jon\"\n"
     ]
    }
   ],
   "source": [
    "typeof(z)\n",
    "\n",
    "length(z)\n",
    "\n",
    "class(z)\n",
    "\n",
    "str(z)"
   ]
  },
  {
   "cell_type": "markdown",
   "metadata": {},
   "source": [
    "### Adding Elements\n",
    "\n",
    "The function `c()` (for combine) can also be used to add elements to a vector."
   ]
  },
  {
   "cell_type": "code",
   "execution_count": null,
   "metadata": {
    "collapsed": true
   },
   "outputs": [],
   "source": [
    "z <- c(z, \"Annette\")\n",
    "z\n",
    "z <- c(\"Greg\", z)\n",
    "z"
   ]
  },
  {
   "cell_type": "markdown",
   "metadata": {},
   "source": [
    "### Vectors from a Sequence of Numbers\n",
    "\n",
    "You can create vectors as a sequence of numbers."
   ]
  },
  {
   "cell_type": "code",
   "execution_count": null,
   "metadata": {
    "collapsed": true
   },
   "outputs": [],
   "source": [
    "series <- 1:10\n",
    "seq(10)\n",
    "seq(from = 1, to = 10, by = 0.1)"
   ]
  },
  {
   "cell_type": "markdown",
   "metadata": {},
   "source": [
    "### Missing Data\n",
    "\n",
    "R supports missing data in vectors. They are represented as `NA` (Not Available)\n",
    "and can be used for all the vector types covered in this lesson:"
   ]
  },
  {
   "cell_type": "code",
   "execution_count": null,
   "metadata": {
    "collapsed": true
   },
   "outputs": [],
   "source": [
    "x <- c(0.5, NA, 0.7)\n",
    "x <- c(TRUE, FALSE, NA)\n",
    "x <- c(\"a\", NA, \"c\", \"d\", \"e\")\n",
    "x <- c(1+5i, 2-3i, NA)"
   ]
  },
  {
   "cell_type": "markdown",
   "metadata": {},
   "source": [
    "The function `is.na()` indicates the elements of the vectors that represent\n",
    "missing data, and the function `anyNA()` returns `TRUE` if the vector contains\n",
    "any missing values:"
   ]
  },
  {
   "cell_type": "code",
   "execution_count": null,
   "metadata": {
    "collapsed": true
   },
   "outputs": [],
   "source": [
    "x <- c(\"a\", NA, \"c\", \"d\", NA)\n",
    "y <- c(\"a\", \"b\", \"c\", \"d\", \"e\")\n",
    "is.na(x)\n",
    "is.na(y)\n",
    "anyNA(x)\n",
    "anyNA(y)"
   ]
  },
  {
   "cell_type": "markdown",
   "metadata": {},
   "source": [
    "### Other Special Values\n",
    "\n",
    "`Inf` is infinity. You can have either positive or negative infinity."
   ]
  },
  {
   "cell_type": "code",
   "execution_count": 5,
   "metadata": {
    "collapsed": false
   },
   "outputs": [
    {
     "data": {
      "text/html": [
       "Inf"
      ],
      "text/latex": [
       "Inf"
      ],
      "text/markdown": [
       "Inf"
      ],
      "text/plain": [
       "[1] Inf"
      ]
     },
     "execution_count": 5,
     "metadata": {},
     "output_type": "execute_result"
    }
   ],
   "source": [
    "1/0"
   ]
  },
  {
   "cell_type": "markdown",
   "metadata": {},
   "source": [
    "`NaN` means Not a Number. It's an undefined value."
   ]
  },
  {
   "cell_type": "code",
   "execution_count": 6,
   "metadata": {
    "collapsed": false
   },
   "outputs": [
    {
     "data": {
      "text/html": [
       "NaN"
      ],
      "text/latex": [
       "NaN"
      ],
      "text/markdown": [
       "NaN"
      ],
      "text/plain": [
       "[1] NaN"
      ]
     },
     "execution_count": 6,
     "metadata": {},
     "output_type": "execute_result"
    }
   ],
   "source": [
    "0/0"
   ]
  },
  {
   "cell_type": "markdown",
   "metadata": {},
   "source": [
    "### What Happens When You Mix Types Inside a Vector?\n",
    "\n",
    "R will create a resulting vector with a mode that can most easily accommodate\n",
    "all the elements it contains. This conversion between modes of storage is called\n",
    "\"coercion\". When R converts the mode of storage based on its content, it is\n",
    "referred to as \"implicit coercion\". For instance, can you guess what the\n",
    "following do (without running them first)?"
   ]
  },
  {
   "cell_type": "code",
   "execution_count": 7,
   "metadata": {
    "collapsed": false
   },
   "outputs": [
    {
     "data": {
      "text/html": [
       "<ol class=list-inline>\n",
       "\t<li>'1.7'</li>\n",
       "\t<li>'a'</li>\n",
       "</ol>\n"
      ],
      "text/latex": [
       "\\begin{enumerate*}\n",
       "\\item '1.7'\n",
       "\\item 'a'\n",
       "\\end{enumerate*}\n"
      ],
      "text/markdown": [
       "1. '1.7'\n",
       "2. 'a'\n",
       "\n",
       "\n"
      ],
      "text/plain": [
       "[1] \"1.7\" \"a\"  "
      ]
     },
     "execution_count": 7,
     "metadata": {},
     "output_type": "execute_result"
    },
    {
     "data": {
      "text/html": [
       "<ol class=list-inline>\n",
       "\t<li>1</li>\n",
       "\t<li>2</li>\n",
       "</ol>\n"
      ],
      "text/latex": [
       "\\begin{enumerate*}\n",
       "\\item 1\n",
       "\\item 2\n",
       "\\end{enumerate*}\n"
      ],
      "text/markdown": [
       "1. 1\n",
       "2. 2\n",
       "\n",
       "\n"
      ],
      "text/plain": [
       "[1] 1 2"
      ]
     },
     "execution_count": 7,
     "metadata": {},
     "output_type": "execute_result"
    },
    {
     "data": {
      "text/html": [
       "<ol class=list-inline>\n",
       "\t<li>'a'</li>\n",
       "\t<li>'TRUE'</li>\n",
       "</ol>\n"
      ],
      "text/latex": [
       "\\begin{enumerate*}\n",
       "\\item 'a'\n",
       "\\item 'TRUE'\n",
       "\\end{enumerate*}\n"
      ],
      "text/markdown": [
       "1. 'a'\n",
       "2. 'TRUE'\n",
       "\n",
       "\n"
      ],
      "text/plain": [
       "[1] \"a\"    \"TRUE\""
      ]
     },
     "execution_count": 7,
     "metadata": {},
     "output_type": "execute_result"
    }
   ],
   "source": [
    "xx <- c(1.7, \"a\")\n",
    "xx\n",
    "xx <- c(TRUE, 2)\n",
    "xx\n",
    "xx <- c(\"a\", TRUE)\n",
    "xx"
   ]
  },
  {
   "cell_type": "markdown",
   "metadata": {},
   "source": [
    "You can also control how vectors are coerced explicitly using the\n",
    "`as.<class_name>()` functions:"
   ]
  },
  {
   "cell_type": "code",
   "execution_count": null,
   "metadata": {
    "collapsed": true
   },
   "outputs": [],
   "source": [
    "as.numeric(\"1\")\n",
    "as.character(1:2)"
   ]
  },
  {
   "cell_type": "markdown",
   "metadata": {},
   "source": [
    "### Objects Attributes\n",
    "\n",
    "Objects can have __attributes__. Attributes are part of the object. These include:\n",
    "\n",
    "* names\n",
    "* dimnames\n",
    "* dim\n",
    "* class\n",
    "* attributes (contain metadata)\n",
    "\n",
    "You can also glean other attribute-like information such as length (works on\n",
    "vectors and lists) or number of characters (for character strings)."
   ]
  },
  {
   "cell_type": "code",
   "execution_count": 8,
   "metadata": {
    "collapsed": false
   },
   "outputs": [
    {
     "data": {
      "text/html": [
       "10"
      ],
      "text/latex": [
       "10"
      ],
      "text/markdown": [
       "10"
      ],
      "text/plain": [
       "[1] 10"
      ]
     },
     "execution_count": 8,
     "metadata": {},
     "output_type": "execute_result"
    },
    {
     "data": {
      "text/html": [
       "14"
      ],
      "text/latex": [
       "14"
      ],
      "text/markdown": [
       "14"
      ],
      "text/plain": [
       "[1] 14"
      ]
     },
     "execution_count": 8,
     "metadata": {},
     "output_type": "execute_result"
    }
   ],
   "source": [
    "length(1:10)\n",
    "nchar(\"Clemson Tigers\")"
   ]
  },
  {
   "cell_type": "markdown",
   "metadata": {},
   "source": [
    "### Matrix\n",
    "\n",
    "In R matrices are an extension of the numeric or character vectors. They are not\n",
    "a separate type of object but simply an atomic vector with dimensions; the\n",
    "number of rows and columns."
   ]
  },
  {
   "cell_type": "code",
   "execution_count": null,
   "metadata": {
    "collapsed": true
   },
   "outputs": [],
   "source": [
    "m <- matrix(nrow = 2, ncol = 2)\n",
    "m\n",
    "dim(m)"
   ]
  },
  {
   "cell_type": "markdown",
   "metadata": {},
   "source": [
    "Matrices in R are filled column-wise."
   ]
  },
  {
   "cell_type": "code",
   "execution_count": null,
   "metadata": {
    "collapsed": true
   },
   "outputs": [],
   "source": [
    "m <- matrix(1:6, nrow = 2, ncol = 3)\n",
    "m"
   ]
  },
  {
   "cell_type": "markdown",
   "metadata": {},
   "source": [
    "Other ways to construct a matrix"
   ]
  },
  {
   "cell_type": "code",
   "execution_count": null,
   "metadata": {
    "collapsed": true
   },
   "outputs": [],
   "source": [
    "m      <- 1:10\n",
    "dim(m) <- c(2, 5)\n",
    "m"
   ]
  },
  {
   "cell_type": "markdown",
   "metadata": {},
   "source": [
    "This takes a vector and transforms it into a matrix with 2 rows and 5 columns.\n",
    "\n",
    "Another way is to bind columns or rows using `cbind()` and `rbind()`."
   ]
  },
  {
   "cell_type": "code",
   "execution_count": 9,
   "metadata": {
    "collapsed": false
   },
   "outputs": [
    {
     "data": {
      "text/html": [
       "<table>\n",
       "<thead><tr><th scope=col>x</th><th scope=col>y</th></tr></thead>\n",
       "<tbody>\n",
       "\t<tr><td> 1</td><td>10</td></tr>\n",
       "\t<tr><td> 2</td><td>11</td></tr>\n",
       "\t<tr><td> 3</td><td>12</td></tr>\n",
       "</tbody>\n",
       "</table>\n"
      ],
      "text/latex": [
       "\\begin{tabular}{ll}\n",
       " x & y\\\\\n",
       "\\hline\n",
       "\t  1 & 10\\\\\n",
       "\t  2 & 11\\\\\n",
       "\t  3 & 12\\\\\n",
       "\\end{tabular}\n"
      ],
      "text/markdown": [
       "1. 1\n",
       "2. 2\n",
       "3. 3\n",
       "4. 10\n",
       "5. 11\n",
       "6. 12\n",
       "\n",
       "\n"
      ],
      "text/plain": [
       "     x  y\n",
       "[1,] 1 10\n",
       "[2,] 2 11\n",
       "[3,] 3 12"
      ]
     },
     "execution_count": 9,
     "metadata": {},
     "output_type": "execute_result"
    },
    {
     "data": {
      "text/html": [
       "<table>\n",
       "<tbody>\n",
       "\t<tr><th scope=row>x</th><td>1</td><td>2</td><td>3</td></tr>\n",
       "\t<tr><th scope=row>y</th><td>10</td><td>11</td><td>12</td></tr>\n",
       "</tbody>\n",
       "</table>\n"
      ],
      "text/latex": [
       "\\begin{tabular}{r|lll}\n",
       "\tx & 1 & 2 & 3\\\\\n",
       "\ty & 10 & 11 & 12\\\\\n",
       "\\end{tabular}\n"
      ],
      "text/markdown": [
       "1. 1\n",
       "2. 10\n",
       "3. 2\n",
       "4. 11\n",
       "5. 3\n",
       "6. 12\n",
       "\n",
       "\n"
      ],
      "text/plain": [
       "  [,1] [,2] [,3]\n",
       "x    1    2    3\n",
       "y   10   11   12"
      ]
     },
     "execution_count": 9,
     "metadata": {},
     "output_type": "execute_result"
    }
   ],
   "source": [
    "x <- 1:3\n",
    "y <- 10:12\n",
    "cbind(x, y)\n",
    "\n",
    "rbind(x, y)"
   ]
  },
  {
   "cell_type": "markdown",
   "metadata": {},
   "source": [
    "You can also use the `byrow` argument to specify how the matrix is filled. From R's own documentation:"
   ]
  },
  {
   "cell_type": "code",
   "execution_count": 10,
   "metadata": {
    "collapsed": false
   },
   "outputs": [
    {
     "data": {
      "text/html": [
       "<table>\n",
       "<tbody>\n",
       "\t<tr><td>1</td><td>2</td><td>3</td></tr>\n",
       "\t<tr><td>11</td><td>12</td><td>13</td></tr>\n",
       "</tbody>\n",
       "</table>\n"
      ],
      "text/latex": [
       "\\begin{tabular}{lll}\n",
       "\t 1 & 2 & 3\\\\\n",
       "\t 11 & 12 & 13\\\\\n",
       "\\end{tabular}\n"
      ],
      "text/markdown": [
       "1. 1\n",
       "2. 11\n",
       "3. 2\n",
       "4. 12\n",
       "5. 3\n",
       "6. 13\n",
       "\n",
       "\n"
      ],
      "text/plain": [
       "     [,1] [,2] [,3]\n",
       "[1,]    1    2    3\n",
       "[2,]   11   12   13"
      ]
     },
     "execution_count": 10,
     "metadata": {},
     "output_type": "execute_result"
    }
   ],
   "source": [
    "mdat <- matrix(c(1,2,3, 11,12,13), nrow = 2, ncol = 3, byrow = TRUE)\n",
    "mdat"
   ]
  },
  {
   "cell_type": "markdown",
   "metadata": {},
   "source": [
    "### List\n",
    "\n",
    "In R lists act as containers. Unlike atomic vectors, the contents of a list are\n",
    "not restricted to a single mode and can encompass any mixture of data\n",
    "types. Lists are sometimes called generic vectors, because the elements of a\n",
    "list can by of any type of R object, even lists containing further lists. This\n",
    "property makes them fundamentally different from atomic vectors.\n",
    "\n",
    "A list is a special type of vector. Each element can be a different type.\n",
    "\n",
    "Create lists using `list()` or coerce other objects using `as.list()`. An empty\n",
    "list of the required length can be created using `vector()`"
   ]
  },
  {
   "cell_type": "code",
   "execution_count": null,
   "metadata": {
    "collapsed": true
   },
   "outputs": [],
   "source": [
    "x <- list(1, \"a\", TRUE, 1+4i)\n",
    "x\n",
    "x <- vector(\"list\", length = 5) ## empty list\n",
    "length(x)\n",
    "x[[1]]\n",
    "x <- 1:10\n",
    "x <- as.list(x)\n",
    "length(x)"
   ]
  },
  {
   "cell_type": "markdown",
   "metadata": {},
   "source": [
    "1. What is the class of `x[1]`?\n",
    "2. What about `x[[1]]`?"
   ]
  },
  {
   "cell_type": "code",
   "execution_count": null,
   "metadata": {
    "collapsed": false
   },
   "outputs": [],
   "source": [
    "xlist <- list(a = \"Karthik Ram\", b = seq(1,10), data = head(iris))\n",
    "xlist"
   ]
  },
  {
   "cell_type": "markdown",
   "metadata": {},
   "source": [
    "1. What is the length of this object? What about its structure?\n",
    "\n",
    "Lists can be extremely useful inside functions. You can “staple” together lots\n",
    "of different kinds of results into a single object that a function can return.\n",
    "\n",
    "A list does not print to the console like a vector. Instead, each element of the\n",
    "list starts on a new line.\n",
    "\n",
    "Elements are indexed by double brackets. Single brackets will still return\n",
    "a(nother) list."
   ]
  },
  {
   "cell_type": "markdown",
   "metadata": {},
   "source": [
    "### Data Frame\n",
    "\n",
    "A data frame is a very important data type in R. It's pretty much the *de facto*\n",
    "data structure for most tabular data and what we use for statistics.\n",
    "\n",
    "A data frame is a special type of list where every element of the list has same length.\n",
    "\n",
    "Data frames can have additional attributes such as `rownames()`, which can be\n",
    "useful for annotating data, like `subject_id` or `sample_id`. But most of the\n",
    "time they are not used.\n",
    "\n",
    "Some additional information on data frames:\n",
    "\n",
    "* Usually created by `read.csv()` and `read.table()`.\n",
    "* Can convert to matrix with `data.matrix()` (preferred) or `as.matrix()`\n",
    "* Coercion will be forced and not always what you expect.\n",
    "* Can also create with `data.frame()` function.\n",
    "* Find the number of rows and columns with `nrow(dat)` and `ncol(dat)`, respectively.\n",
    "* Rownames are usually 1, 2, ..., n.\n",
    "\n",
    "### Creating Data Frames by Hand\n",
    "\n",
    "To create data frames by hand:"
   ]
  },
  {
   "cell_type": "code",
   "execution_count": null,
   "metadata": {
    "collapsed": true
   },
   "outputs": [],
   "source": [
    "dat <- data.frame(id = letters[1:10], x = 1:10, y = 11:20)\n",
    "dat"
   ]
  },
  {
   "cell_type": "markdown",
   "metadata": {},
   "source": [
    "> ## Useful Data Frame Functions\n",
    ">\n",
    "> * `head()` - shown first 6 rows\n",
    "> * `tail()` - show last 6 rows\n",
    "> * `dim()` - returns the dimensions\n",
    "> * `nrow()` - number of rows\n",
    "> * `ncol()` - number of columns\n",
    "> * `str()` - structure of each column\n",
    "> * `names()` - shows the `names` attribute for a data frame, which gives the column names.\n",
    "\n",
    "See that it is actually a special list:"
   ]
  },
  {
   "cell_type": "code",
   "execution_count": null,
   "metadata": {
    "collapsed": true
   },
   "outputs": [],
   "source": [
    "is.list(iris)\n",
    "class(iris)"
   ]
  },
  {
   "cell_type": "markdown",
   "metadata": {
    "collapsed": true
   },
   "source": [
    "| Dimensions | Homogenous | Heterogeneous |\n",
    "| ------- | ---- | ---- |\n",
    "| 1-D | atomic vector | list |\n",
    "| 2-D | matrix | data frame |\n",
    "\n",
    "\n",
    "> ## Column Types in Data Frames\n",
    ">\n",
    "> Knowing that data frames are lists of lists, can columns be of different type?\n",
    ">\n",
    "> What type of structure do you expect on the iris data frame? Hint: Use `str()`.\n",
    ">\n",
    "> ~~~\n",
    "> # The Sepal.Length, Sepal.Width, Petal.Length and Petal.Width columns are all\n",
    "> # numeric types, while Species is a Factor.\n",
    "> # Lists can have elements of different types.\n",
    "> # Since a Data Frame is just a special type of list, it can have columns of\n",
    "> # differing type (although, remember that type must be consistent within each column!).\n",
    "> str(iris)\n",
    "> ~~~"
   ]
  }
 ],
 "metadata": {
  "kernelspec": {
   "display_name": "R 3.3.1",
   "language": "R",
   "name": "r"
  },
  "language_info": {
   "codemirror_mode": "r",
   "file_extension": ".r",
   "mimetype": "text/x-r-source",
   "name": "R",
   "pygments_lexer": "r",
   "version": "3.3.1"
  }
 },
 "nbformat": 4,
 "nbformat_minor": 0
}
