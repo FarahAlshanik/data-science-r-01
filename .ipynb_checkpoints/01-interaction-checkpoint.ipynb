{
 "cells": [
  {
   "cell_type": "markdown",
   "metadata": {},
   "source": [
    "---\n",
    "layout: lesson\n",
    "title: Introduction to Data Science using R\n",
    "subtitle: Interacting with Data\n",
    "minutes: 30\n",
    "---\n",
    "\n",
    "> ## Learning objectives {.objectives}\n",
    "> * Read tabular data from a file into a program\n",
    "> * Assign values to variables\n",
    "> * Select individual values and subsections from data\n",
    "> * Perform operations on a dat frame of data\n",
    "> * Display simple graphs\n",
    "\n",
    "## Data Preparation\n",
    "\n",
    "As we are using the Palmetto Supercomputer, we need to get the data, and upload the data onto the Supercomputer\n",
    "before R can read the data. This is done via the following steps:\n",
    "\n",
    "- Open a web browse, and download the data from https://github.com/clemsonciti/data-science-r-01/raw/gh-pages/r-novice-inflammation-data.zip to your computer and unzip this file\n",
    "- Create a directory named **intro-data-science** in your Palmetto home directory\n",
    "- Create a directory named **data** inside **intro-data-science**\n",
    "- Upload the files from the unzipped **r-novice-inflammation-data** directory on your computer onto the **data** directory"
   ]
  },
  {
   "cell_type": "markdown",
   "metadata": {},
   "source": [
    "## Loading Data\n",
    "\n",
    "To load our inflammation data, first we need to tell our computer where is the file that contains the values. We have been told its name is inflammation-01.csv. This is very important in R, if we forget this step we’ll get an error message when trying to read the file. We can change the current working directory using the function setwd. For this example, we change the path to the directory we just created:"
   ]
  },
  {
   "cell_type": "code",
   "execution_count": 1,
   "metadata": {
    "collapsed": false
   },
   "outputs": [],
   "source": [
    "setwd(\"/home/lngo/intro-data-science/\")"
   ]
  },
  {
   "cell_type": "markdown",
   "metadata": {
    "collapsed": false
   },
   "source": [
    "The data files are located in the directory **data** inside the working directory. Now we can load the data into R using read.csv:"
   ]
  },
  {
   "cell_type": "code",
   "execution_count": 3,
   "metadata": {
    "collapsed": false
   },
   "outputs": [
    {
     "data": {
      "text/html": [
       "<table>\n",
       "<thead><tr><th></th><th scope=col>V1</th><th scope=col>V2</th><th scope=col>V3</th><th scope=col>V4</th><th scope=col>V5</th><th scope=col>V6</th><th scope=col>V7</th><th scope=col>V8</th><th scope=col>V9</th><th scope=col>V10</th><th scope=col>ellip.h</th><th scope=col>V31</th><th scope=col>V32</th><th scope=col>V33</th><th scope=col>V34</th><th scope=col>V35</th><th scope=col>V36</th><th scope=col>V37</th><th scope=col>V38</th><th scope=col>V39</th><th scope=col>V40</th></tr></thead>\n",
       "<tbody>\n",
       "\t<tr><th scope=row>1</th><td>0</td><td>0</td><td>1</td><td>3</td><td>1</td><td>2</td><td>4</td><td>7</td><td>8</td><td>3</td><td>⋯</td><td>4</td><td>4</td><td>5</td><td>7</td><td>3</td><td>4</td><td>2</td><td>3</td><td>0</td><td>0</td></tr>\n",
       "\t<tr><th scope=row>2</th><td>0</td><td>1</td><td>2</td><td>1</td><td>2</td><td>1</td><td>3</td><td>2</td><td>2</td><td>6</td><td>⋯</td><td>3</td><td>5</td><td>4</td><td>4</td><td>5</td><td>5</td><td>1</td><td>1</td><td>0</td><td>1</td></tr>\n",
       "\t<tr><th scope=row>3</th><td>0</td><td>1</td><td>1</td><td>3</td><td>3</td><td>2</td><td>6</td><td>2</td><td>5</td><td>9</td><td>⋯</td><td>10</td><td>5</td><td>4</td><td>2</td><td>2</td><td>3</td><td>2</td><td>2</td><td>1</td><td>1</td></tr>\n",
       "\t<tr><th scope=row>4</th><td>0</td><td>0</td><td>2</td><td>0</td><td>4</td><td>2</td><td>2</td><td>1</td><td>6</td><td>7</td><td>⋯</td><td>3</td><td>5</td><td>6</td><td>3</td><td>3</td><td>4</td><td>2</td><td>3</td><td>2</td><td>1</td></tr>\n",
       "\t<tr><th scope=row>5</th><td>0</td><td>1</td><td>1</td><td>3</td><td>3</td><td>1</td><td>3</td><td>5</td><td>2</td><td>4</td><td>⋯</td><td>9</td><td>6</td><td>3</td><td>2</td><td>2</td><td>4</td><td>2</td><td>0</td><td>1</td><td>1</td></tr>\n",
       "\t<tr><th scope=row>6</th><td>0</td><td>0</td><td>1</td><td>2</td><td>2</td><td>4</td><td>2</td><td>1</td><td>6</td><td>4</td><td>⋯</td><td>8</td><td>4</td><td>7</td><td>3</td><td>5</td><td>4</td><td>4</td><td>3</td><td>2</td><td>1</td></tr>\n",
       "\t<tr><th scope=row>7</th><td>0</td><td>0</td><td>2</td><td>2</td><td>4</td><td>2</td><td>2</td><td>5</td><td>5</td><td>8</td><td>⋯</td><td>8</td><td>8</td><td>4</td><td>2</td><td>3</td><td>5</td><td>4</td><td>1</td><td>1</td><td>1</td></tr>\n",
       "\t<tr><th scope=row>8</th><td>0</td><td>0</td><td>1</td><td>2</td><td>3</td><td>1</td><td>2</td><td>3</td><td>5</td><td>3</td><td>⋯</td><td>4</td><td>9</td><td>3</td><td>5</td><td>2</td><td>5</td><td>3</td><td>2</td><td>2</td><td>1</td></tr>\n",
       "\t<tr><th scope=row>9</th><td>0</td><td>0</td><td>0</td><td>3</td><td>1</td><td>5</td><td>6</td><td>5</td><td>5</td><td>8</td><td>⋯</td><td>4</td><td>6</td><td>4</td><td>7</td><td>6</td><td>3</td><td>2</td><td>1</td><td>0</td><td>0</td></tr>\n",
       "\t<tr><th scope=row>10</th><td>0</td><td>1</td><td>1</td><td>2</td><td>1</td><td>3</td><td>5</td><td>3</td><td>5</td><td>8</td><td>⋯</td><td>2</td><td>5</td><td>4</td><td>5</td><td>1</td><td>4</td><td>1</td><td>2</td><td>0</td><td>0</td></tr>\n",
       "\t<tr><th scope=row>11</th><td>0</td><td>1</td><td>0</td><td>0</td><td>4</td><td>3</td><td>3</td><td>5</td><td>5</td><td>4</td><td>⋯</td><td>4</td><td>3</td><td>4</td><td>5</td><td>5</td><td>3</td><td>3</td><td>2</td><td>2</td><td>1</td></tr>\n",
       "\t<tr><th scope=row>12</th><td>0</td><td>1</td><td>0</td><td>0</td><td>3</td><td>4</td><td>2</td><td>7</td><td>8</td><td>5</td><td>⋯</td><td>8</td><td>3</td><td>5</td><td>4</td><td>5</td><td>5</td><td>4</td><td>0</td><td>1</td><td>1</td></tr>\n",
       "\t<tr><th scope=row>13</th><td>0</td><td>0</td><td>2</td><td>1</td><td>4</td><td>3</td><td>6</td><td>4</td><td>6</td><td>7</td><td>⋯</td><td>5</td><td>4</td><td>7</td><td>3</td><td>5</td><td>4</td><td>2</td><td>3</td><td>0</td><td>1</td></tr>\n",
       "\t<tr><th scope=row>14</th><td>0</td><td>0</td><td>0</td><td>0</td><td>1</td><td>3</td><td>1</td><td>6</td><td>6</td><td>5</td><td>⋯</td><td>5</td><td>8</td><td>7</td><td>4</td><td>6</td><td>4</td><td>1</td><td>3</td><td>0</td><td>0</td></tr>\n",
       "\t<tr><th scope=row>15</th><td>0</td><td>1</td><td>2</td><td>1</td><td>1</td><td>1</td><td>4</td><td>1</td><td>5</td><td>2</td><td>⋯</td><td>8</td><td>2</td><td>5</td><td>1</td><td>3</td><td>4</td><td>2</td><td>0</td><td>2</td><td>0</td></tr>\n",
       "\t<tr><th scope=row>16</th><td>0</td><td>1</td><td>1</td><td>0</td><td>1</td><td>2</td><td>4</td><td>3</td><td>6</td><td>4</td><td>⋯</td><td>10</td><td>9</td><td>5</td><td>6</td><td>5</td><td>3</td><td>4</td><td>2</td><td>2</td><td>0</td></tr>\n",
       "\t<tr><th scope=row>17</th><td>0</td><td>0</td><td>0</td><td>0</td><td>2</td><td>3</td><td>6</td><td>5</td><td>7</td><td>4</td><td>⋯</td><td>9</td><td>8</td><td>7</td><td>5</td><td>3</td><td>1</td><td>4</td><td>0</td><td>2</td><td>1</td></tr>\n",
       "\t<tr><th scope=row>18</th><td>0</td><td>0</td><td>0</td><td>1</td><td>2</td><td>1</td><td>4</td><td>3</td><td>6</td><td>7</td><td>⋯</td><td>2</td><td>3</td><td>6</td><td>5</td><td>4</td><td>2</td><td>3</td><td>0</td><td>1</td><td>0</td></tr>\n",
       "\t<tr><th scope=row>19</th><td>0</td><td>0</td><td>2</td><td>1</td><td>2</td><td>5</td><td>4</td><td>2</td><td>7</td><td>8</td><td>⋯</td><td>6</td><td>9</td><td>2</td><td>1</td><td>1</td><td>2</td><td>2</td><td>0</td><td>1</td><td>0</td></tr>\n",
       "\t<tr><th scope=row>20</th><td>0</td><td>1</td><td>2</td><td>0</td><td>1</td><td>4</td><td>3</td><td>2</td><td>2</td><td>7</td><td>⋯</td><td>6</td><td>6</td><td>6</td><td>1</td><td>1</td><td>2</td><td>4</td><td>3</td><td>1</td><td>1</td></tr>\n",
       "\t<tr><th scope=row>21</th><td>0</td><td>1</td><td>1</td><td>3</td><td>1</td><td>4</td><td>4</td><td>1</td><td>8</td><td>2</td><td>⋯</td><td>3</td><td>2</td><td>4</td><td>3</td><td>1</td><td>5</td><td>4</td><td>2</td><td>2</td><td>0</td></tr>\n",
       "\t<tr><th scope=row>22</th><td>0</td><td>0</td><td>2</td><td>3</td><td>2</td><td>3</td><td>2</td><td>6</td><td>3</td><td>8</td><td>⋯</td><td>8</td><td>5</td><td>6</td><td>6</td><td>1</td><td>4</td><td>3</td><td>0</td><td>2</td><td>0</td></tr>\n",
       "\t<tr><th scope=row>23</th><td>0</td><td>0</td><td>0</td><td>3</td><td>4</td><td>5</td><td>1</td><td>7</td><td>7</td><td>8</td><td>⋯</td><td>4</td><td>4</td><td>8</td><td>2</td><td>6</td><td>5</td><td>1</td><td>0</td><td>1</td><td>0</td></tr>\n",
       "\t<tr><th scope=row>24</th><td>0</td><td>1</td><td>1</td><td>1</td><td>1</td><td>3</td><td>3</td><td>2</td><td>6</td><td>3</td><td>⋯</td><td>5</td><td>3</td><td>5</td><td>1</td><td>1</td><td>4</td><td>4</td><td>1</td><td>2</td><td>0</td></tr>\n",
       "\t<tr><th scope=row>25</th><td>0</td><td>1</td><td>1</td><td>1</td><td>2</td><td>3</td><td>5</td><td>3</td><td>6</td><td>3</td><td>⋯</td><td>5</td><td>5</td><td>6</td><td>1</td><td>1</td><td>1</td><td>1</td><td>0</td><td>2</td><td>1</td></tr>\n",
       "\t<tr><th scope=row>26</th><td>0</td><td>0</td><td>2</td><td>1</td><td>3</td><td>3</td><td>2</td><td>7</td><td>4</td><td>4</td><td>⋯</td><td>8</td><td>5</td><td>7</td><td>2</td><td>2</td><td>4</td><td>1</td><td>1</td><td>1</td><td>0</td></tr>\n",
       "\t<tr><th scope=row>27</th><td>0</td><td>0</td><td>1</td><td>2</td><td>4</td><td>2</td><td>2</td><td>3</td><td>5</td><td>7</td><td>⋯</td><td>7</td><td>4</td><td>8</td><td>2</td><td>2</td><td>1</td><td>3</td><td>0</td><td>1</td><td>1</td></tr>\n",
       "\t<tr><th scope=row>28</th><td>0</td><td>0</td><td>1</td><td>1</td><td>1</td><td>5</td><td>1</td><td>5</td><td>2</td><td>2</td><td>⋯</td><td>9</td><td>4</td><td>5</td><td>3</td><td>2</td><td>5</td><td>4</td><td>3</td><td>2</td><td>1</td></tr>\n",
       "\t<tr><th scope=row>29</th><td>0</td><td>0</td><td>2</td><td>2</td><td>3</td><td>4</td><td>6</td><td>3</td><td>7</td><td>6</td><td>⋯</td><td>7</td><td>7</td><td>8</td><td>3</td><td>5</td><td>4</td><td>1</td><td>3</td><td>1</td><td>0</td></tr>\n",
       "\t<tr><th scope=row>30</th><td>0</td><td>0</td><td>0</td><td>1</td><td>4</td><td>4</td><td>6</td><td>3</td><td>8</td><td>6</td><td>⋯</td><td>6</td><td>9</td><td>5</td><td>5</td><td>2</td><td>5</td><td>2</td><td>1</td><td>0</td><td>1</td></tr>\n",
       "\t<tr><th scope=row>31</th><td>0</td><td>1</td><td>1</td><td>0</td><td>3</td><td>2</td><td>4</td><td>6</td><td>8</td><td>6</td><td>⋯</td><td>10</td><td>4</td><td>2</td><td>6</td><td>5</td><td>5</td><td>2</td><td>3</td><td>2</td><td>1</td></tr>\n",
       "\t<tr><th scope=row>32</th><td>0</td><td>0</td><td>2</td><td>3</td><td>3</td><td>4</td><td>5</td><td>3</td><td>6</td><td>7</td><td>⋯</td><td>3</td><td>6</td><td>6</td><td>4</td><td>5</td><td>2</td><td>2</td><td>3</td><td>0</td><td>0</td></tr>\n",
       "\t<tr><th scope=row>33</th><td>0</td><td>1</td><td>2</td><td>2</td><td>2</td><td>3</td><td>6</td><td>6</td><td>6</td><td>7</td><td>⋯</td><td>5</td><td>8</td><td>5</td><td>2</td><td>5</td><td>5</td><td>2</td><td>0</td><td>2</td><td>1</td></tr>\n",
       "\t<tr><th scope=row>34</th><td>0</td><td>0</td><td>2</td><td>1</td><td>3</td><td>5</td><td>6</td><td>7</td><td>5</td><td>8</td><td>⋯</td><td>2</td><td>9</td><td>7</td><td>2</td><td>4</td><td>2</td><td>1</td><td>2</td><td>1</td><td>1</td></tr>\n",
       "\t<tr><th scope=row>35</th><td>0</td><td>0</td><td>1</td><td>2</td><td>4</td><td>1</td><td>5</td><td>5</td><td>2</td><td>3</td><td>⋯</td><td>5</td><td>6</td><td>6</td><td>2</td><td>3</td><td>5</td><td>2</td><td>1</td><td>1</td><td>1</td></tr>\n",
       "\t<tr><th scope=row>36</th><td>0</td><td>0</td><td>0</td><td>3</td><td>1</td><td>3</td><td>6</td><td>4</td><td>3</td><td>4</td><td>⋯</td><td>3</td><td>9</td><td>5</td><td>1</td><td>6</td><td>5</td><td>4</td><td>2</td><td>2</td><td>0</td></tr>\n",
       "\t<tr><th scope=row>37</th><td>0</td><td>1</td><td>2</td><td>2</td><td>2</td><td>5</td><td>5</td><td>1</td><td>4</td><td>6</td><td>⋯</td><td>6</td><td>4</td><td>5</td><td>4</td><td>6</td><td>3</td><td>4</td><td>3</td><td>2</td><td>1</td></tr>\n",
       "\t<tr><th scope=row>38</th><td>0</td><td>1</td><td>1</td><td>2</td><td>3</td><td>1</td><td>5</td><td>1</td><td>2</td><td>2</td><td>⋯</td><td>9</td><td>9</td><td>5</td><td>4</td><td>4</td><td>2</td><td>1</td><td>0</td><td>1</td><td>0</td></tr>\n",
       "\t<tr><th scope=row>39</th><td>0</td><td>1</td><td>0</td><td>3</td><td>2</td><td>4</td><td>1</td><td>1</td><td>5</td><td>9</td><td>⋯</td><td>5</td><td>5</td><td>2</td><td>1</td><td>1</td><td>1</td><td>1</td><td>3</td><td>0</td><td>1</td></tr>\n",
       "\t<tr><th scope=row>40</th><td>0</td><td>1</td><td>1</td><td>3</td><td>1</td><td>1</td><td>5</td><td>5</td><td>3</td><td>7</td><td>⋯</td><td>2</td><td>3</td><td>6</td><td>3</td><td>3</td><td>5</td><td>4</td><td>3</td><td>2</td><td>1</td></tr>\n",
       "\t<tr><th scope=row>41</th><td>0</td><td>0</td><td>0</td><td>2</td><td>2</td><td>1</td><td>3</td><td>4</td><td>5</td><td>5</td><td>⋯</td><td>2</td><td>9</td><td>6</td><td>2</td><td>2</td><td>5</td><td>3</td><td>0</td><td>0</td><td>1</td></tr>\n",
       "\t<tr><th scope=row>42</th><td>0</td><td>0</td><td>1</td><td>3</td><td>3</td><td>1</td><td>2</td><td>1</td><td>8</td><td>9</td><td>⋯</td><td>4</td><td>8</td><td>2</td><td>6</td><td>6</td><td>4</td><td>2</td><td>2</td><td>0</td><td>0</td></tr>\n",
       "\t<tr><th scope=row>43</th><td>0</td><td>1</td><td>1</td><td>3</td><td>4</td><td>5</td><td>2</td><td>1</td><td>3</td><td>7</td><td>⋯</td><td>5</td><td>8</td><td>5</td><td>5</td><td>6</td><td>1</td><td>2</td><td>1</td><td>2</td><td>0</td></tr>\n",
       "\t<tr><th scope=row>44</th><td>0</td><td>0</td><td>1</td><td>3</td><td>1</td><td>4</td><td>3</td><td>6</td><td>7</td><td>8</td><td>⋯</td><td>10</td><td>2</td><td>5</td><td>1</td><td>5</td><td>4</td><td>2</td><td>1</td><td>0</td><td>1</td></tr>\n",
       "\t<tr><th scope=row>45</th><td>0</td><td>1</td><td>1</td><td>3</td><td>3</td><td>4</td><td>4</td><td>6</td><td>3</td><td>4</td><td>⋯</td><td>10</td><td>6</td><td>8</td><td>7</td><td>2</td><td>5</td><td>4</td><td>3</td><td>1</td><td>1</td></tr>\n",
       "\t<tr><th scope=row>46</th><td>0</td><td>1</td><td>2</td><td>2</td><td>4</td><td>3</td><td>1</td><td>4</td><td>8</td><td>9</td><td>⋯</td><td>5</td><td>8</td><td>4</td><td>4</td><td>5</td><td>2</td><td>4</td><td>1</td><td>1</td><td>0</td></tr>\n",
       "\t<tr><th scope=row>47</th><td>0</td><td>0</td><td>2</td><td>3</td><td>4</td><td>5</td><td>4</td><td>6</td><td>2</td><td>9</td><td>⋯</td><td>6</td><td>7</td><td>6</td><td>5</td><td>1</td><td>3</td><td>1</td><td>0</td><td>0</td><td>0</td></tr>\n",
       "\t<tr><th scope=row>48</th><td>0</td><td>1</td><td>1</td><td>3</td><td>1</td><td>4</td><td>6</td><td>2</td><td>8</td><td>2</td><td>⋯</td><td>6</td><td>9</td><td>5</td><td>6</td><td>1</td><td>1</td><td>2</td><td>1</td><td>2</td><td>1</td></tr>\n",
       "\t<tr><th scope=row>49</th><td>0</td><td>0</td><td>1</td><td>3</td><td>2</td><td>5</td><td>1</td><td>2</td><td>7</td><td>6</td><td>⋯</td><td>10</td><td>7</td><td>6</td><td>3</td><td>1</td><td>5</td><td>4</td><td>3</td><td>0</td><td>0</td></tr>\n",
       "\t<tr><th scope=row>50</th><td>0</td><td>0</td><td>1</td><td>2</td><td>3</td><td>4</td><td>5</td><td>7</td><td>5</td><td>4</td><td>⋯</td><td>4</td><td>6</td><td>2</td><td>4</td><td>1</td><td>4</td><td>2</td><td>2</td><td>2</td><td>1</td></tr>\n",
       "\t<tr><th scope=row>51</th><td>0</td><td>1</td><td>2</td><td>1</td><td>1</td><td>3</td><td>5</td><td>3</td><td>6</td><td>3</td><td>⋯</td><td>7</td><td>9</td><td>3</td><td>3</td><td>6</td><td>3</td><td>4</td><td>1</td><td>2</td><td>0</td></tr>\n",
       "\t<tr><th scope=row>52</th><td>0</td><td>1</td><td>2</td><td>2</td><td>3</td><td>5</td><td>2</td><td>4</td><td>5</td><td>6</td><td>⋯</td><td>8</td><td>5</td><td>4</td><td>1</td><td>3</td><td>2</td><td>1</td><td>3</td><td>1</td><td>0</td></tr>\n",
       "\t<tr><th scope=row>53</th><td>0</td><td>0</td><td>0</td><td>2</td><td>4</td><td>4</td><td>5</td><td>3</td><td>3</td><td>3</td><td>⋯</td><td>10</td><td>8</td><td>7</td><td>5</td><td>2</td><td>2</td><td>4</td><td>1</td><td>2</td><td>1</td></tr>\n",
       "\t<tr><th scope=row>54</th><td>0</td><td>0</td><td>2</td><td>1</td><td>1</td><td>4</td><td>4</td><td>7</td><td>2</td><td>9</td><td>⋯</td><td>7</td><td>6</td><td>5</td><td>4</td><td>1</td><td>4</td><td>2</td><td>2</td><td>2</td><td>1</td></tr>\n",
       "\t<tr><th scope=row>55</th><td>0</td><td>1</td><td>2</td><td>1</td><td>1</td><td>4</td><td>5</td><td>4</td><td>4</td><td>5</td><td>⋯</td><td>4</td><td>5</td><td>5</td><td>2</td><td>2</td><td>5</td><td>1</td><td>0</td><td>0</td><td>1</td></tr>\n",
       "\t<tr><th scope=row>56</th><td>0</td><td>0</td><td>1</td><td>3</td><td>2</td><td>3</td><td>6</td><td>4</td><td>5</td><td>7</td><td>⋯</td><td>3</td><td>5</td><td>3</td><td>5</td><td>4</td><td>5</td><td>3</td><td>3</td><td>0</td><td>1</td></tr>\n",
       "\t<tr><th scope=row>57</th><td>0</td><td>1</td><td>1</td><td>2</td><td>2</td><td>5</td><td>1</td><td>7</td><td>4</td><td>2</td><td>⋯</td><td>7</td><td>7</td><td>5</td><td>6</td><td>3</td><td>4</td><td>2</td><td>2</td><td>1</td><td>1</td></tr>\n",
       "\t<tr><th scope=row>58</th><td>0</td><td>1</td><td>1</td><td>1</td><td>4</td><td>1</td><td>6</td><td>4</td><td>6</td><td>3</td><td>⋯</td><td>8</td><td>6</td><td>6</td><td>4</td><td>3</td><td>5</td><td>2</td><td>1</td><td>1</td><td>1</td></tr>\n",
       "\t<tr><th scope=row>59</th><td>0</td><td>0</td><td>0</td><td>1</td><td>4</td><td>5</td><td>6</td><td>3</td><td>8</td><td>7</td><td>⋯</td><td>10</td><td>8</td><td>8</td><td>6</td><td>5</td><td>5</td><td>2</td><td>0</td><td>2</td><td>0</td></tr>\n",
       "\t<tr><th scope=row>60</th><td>0</td><td>0</td><td>1</td><td>0</td><td>3</td><td>2</td><td>5</td><td>4</td><td>8</td><td>2</td><td>⋯</td><td>8</td><td>5</td><td>3</td><td>5</td><td>4</td><td>1</td><td>3</td><td>1</td><td>1</td><td>0</td></tr>\n",
       "</tbody>\n",
       "</table>\n"
      ],
      "text/latex": [
       "\\begin{tabular}{r|llllllllllllllllllllllllllllllllllllllll}\n",
       "  & V1 & V2 & V3 & V4 & V5 & V6 & V7 & V8 & V9 & V10 & ellip.h & V31 & V32 & V33 & V34 & V35 & V36 & V37 & V38 & V39 & V40\\\\\n",
       "\\hline\n",
       "\t1 & 0 & 0 & 1 & 3 & 1 & 2 & 4 & 7 & 8 & 3 & ⋯ & 4 & 4 & 5 & 7 & 3 & 4 & 2 & 3 & 0 & 0\\\\\n",
       "\t2 & 0 & 1 & 2 & 1 & 2 & 1 & 3 & 2 & 2 & 6 & ⋯ & 3 & 5 & 4 & 4 & 5 & 5 & 1 & 1 & 0 & 1\\\\\n",
       "\t3 & 0 & 1 & 1 & 3 & 3 & 2 & 6 & 2 & 5 & 9 & ⋯ & 10 & 5 & 4 & 2 & 2 & 3 & 2 & 2 & 1 & 1\\\\\n",
       "\t4 & 0 & 0 & 2 & 0 & 4 & 2 & 2 & 1 & 6 & 7 & ⋯ & 3 & 5 & 6 & 3 & 3 & 4 & 2 & 3 & 2 & 1\\\\\n",
       "\t5 & 0 & 1 & 1 & 3 & 3 & 1 & 3 & 5 & 2 & 4 & ⋯ & 9 & 6 & 3 & 2 & 2 & 4 & 2 & 0 & 1 & 1\\\\\n",
       "\t6 & 0 & 0 & 1 & 2 & 2 & 4 & 2 & 1 & 6 & 4 & ⋯ & 8 & 4 & 7 & 3 & 5 & 4 & 4 & 3 & 2 & 1\\\\\n",
       "\t7 & 0 & 0 & 2 & 2 & 4 & 2 & 2 & 5 & 5 & 8 & ⋯ & 8 & 8 & 4 & 2 & 3 & 5 & 4 & 1 & 1 & 1\\\\\n",
       "\t8 & 0 & 0 & 1 & 2 & 3 & 1 & 2 & 3 & 5 & 3 & ⋯ & 4 & 9 & 3 & 5 & 2 & 5 & 3 & 2 & 2 & 1\\\\\n",
       "\t9 & 0 & 0 & 0 & 3 & 1 & 5 & 6 & 5 & 5 & 8 & ⋯ & 4 & 6 & 4 & 7 & 6 & 3 & 2 & 1 & 0 & 0\\\\\n",
       "\t10 & 0 & 1 & 1 & 2 & 1 & 3 & 5 & 3 & 5 & 8 & ⋯ & 2 & 5 & 4 & 5 & 1 & 4 & 1 & 2 & 0 & 0\\\\\n",
       "\t11 & 0 & 1 & 0 & 0 & 4 & 3 & 3 & 5 & 5 & 4 & ⋯ & 4 & 3 & 4 & 5 & 5 & 3 & 3 & 2 & 2 & 1\\\\\n",
       "\t12 & 0 & 1 & 0 & 0 & 3 & 4 & 2 & 7 & 8 & 5 & ⋯ & 8 & 3 & 5 & 4 & 5 & 5 & 4 & 0 & 1 & 1\\\\\n",
       "\t13 & 0 & 0 & 2 & 1 & 4 & 3 & 6 & 4 & 6 & 7 & ⋯ & 5 & 4 & 7 & 3 & 5 & 4 & 2 & 3 & 0 & 1\\\\\n",
       "\t14 & 0 & 0 & 0 & 0 & 1 & 3 & 1 & 6 & 6 & 5 & ⋯ & 5 & 8 & 7 & 4 & 6 & 4 & 1 & 3 & 0 & 0\\\\\n",
       "\t15 & 0 & 1 & 2 & 1 & 1 & 1 & 4 & 1 & 5 & 2 & ⋯ & 8 & 2 & 5 & 1 & 3 & 4 & 2 & 0 & 2 & 0\\\\\n",
       "\t16 & 0 & 1 & 1 & 0 & 1 & 2 & 4 & 3 & 6 & 4 & ⋯ & 10 & 9 & 5 & 6 & 5 & 3 & 4 & 2 & 2 & 0\\\\\n",
       "\t17 & 0 & 0 & 0 & 0 & 2 & 3 & 6 & 5 & 7 & 4 & ⋯ & 9 & 8 & 7 & 5 & 3 & 1 & 4 & 0 & 2 & 1\\\\\n",
       "\t18 & 0 & 0 & 0 & 1 & 2 & 1 & 4 & 3 & 6 & 7 & ⋯ & 2 & 3 & 6 & 5 & 4 & 2 & 3 & 0 & 1 & 0\\\\\n",
       "\t19 & 0 & 0 & 2 & 1 & 2 & 5 & 4 & 2 & 7 & 8 & ⋯ & 6 & 9 & 2 & 1 & 1 & 2 & 2 & 0 & 1 & 0\\\\\n",
       "\t20 & 0 & 1 & 2 & 0 & 1 & 4 & 3 & 2 & 2 & 7 & ⋯ & 6 & 6 & 6 & 1 & 1 & 2 & 4 & 3 & 1 & 1\\\\\n",
       "\t21 & 0 & 1 & 1 & 3 & 1 & 4 & 4 & 1 & 8 & 2 & ⋯ & 3 & 2 & 4 & 3 & 1 & 5 & 4 & 2 & 2 & 0\\\\\n",
       "\t22 & 0 & 0 & 2 & 3 & 2 & 3 & 2 & 6 & 3 & 8 & ⋯ & 8 & 5 & 6 & 6 & 1 & 4 & 3 & 0 & 2 & 0\\\\\n",
       "\t23 & 0 & 0 & 0 & 3 & 4 & 5 & 1 & 7 & 7 & 8 & ⋯ & 4 & 4 & 8 & 2 & 6 & 5 & 1 & 0 & 1 & 0\\\\\n",
       "\t24 & 0 & 1 & 1 & 1 & 1 & 3 & 3 & 2 & 6 & 3 & ⋯ & 5 & 3 & 5 & 1 & 1 & 4 & 4 & 1 & 2 & 0\\\\\n",
       "\t25 & 0 & 1 & 1 & 1 & 2 & 3 & 5 & 3 & 6 & 3 & ⋯ & 5 & 5 & 6 & 1 & 1 & 1 & 1 & 0 & 2 & 1\\\\\n",
       "\t26 & 0 & 0 & 2 & 1 & 3 & 3 & 2 & 7 & 4 & 4 & ⋯ & 8 & 5 & 7 & 2 & 2 & 4 & 1 & 1 & 1 & 0\\\\\n",
       "\t27 & 0 & 0 & 1 & 2 & 4 & 2 & 2 & 3 & 5 & 7 & ⋯ & 7 & 4 & 8 & 2 & 2 & 1 & 3 & 0 & 1 & 1\\\\\n",
       "\t28 & 0 & 0 & 1 & 1 & 1 & 5 & 1 & 5 & 2 & 2 & ⋯ & 9 & 4 & 5 & 3 & 2 & 5 & 4 & 3 & 2 & 1\\\\\n",
       "\t29 & 0 & 0 & 2 & 2 & 3 & 4 & 6 & 3 & 7 & 6 & ⋯ & 7 & 7 & 8 & 3 & 5 & 4 & 1 & 3 & 1 & 0\\\\\n",
       "\t30 & 0 & 0 & 0 & 1 & 4 & 4 & 6 & 3 & 8 & 6 & ⋯ & 6 & 9 & 5 & 5 & 2 & 5 & 2 & 1 & 0 & 1\\\\\n",
       "\t31 & 0 & 1 & 1 & 0 & 3 & 2 & 4 & 6 & 8 & 6 & ⋯ & 10 & 4 & 2 & 6 & 5 & 5 & 2 & 3 & 2 & 1\\\\\n",
       "\t32 & 0 & 0 & 2 & 3 & 3 & 4 & 5 & 3 & 6 & 7 & ⋯ & 3 & 6 & 6 & 4 & 5 & 2 & 2 & 3 & 0 & 0\\\\\n",
       "\t33 & 0 & 1 & 2 & 2 & 2 & 3 & 6 & 6 & 6 & 7 & ⋯ & 5 & 8 & 5 & 2 & 5 & 5 & 2 & 0 & 2 & 1\\\\\n",
       "\t34 & 0 & 0 & 2 & 1 & 3 & 5 & 6 & 7 & 5 & 8 & ⋯ & 2 & 9 & 7 & 2 & 4 & 2 & 1 & 2 & 1 & 1\\\\\n",
       "\t35 & 0 & 0 & 1 & 2 & 4 & 1 & 5 & 5 & 2 & 3 & ⋯ & 5 & 6 & 6 & 2 & 3 & 5 & 2 & 1 & 1 & 1\\\\\n",
       "\t36 & 0 & 0 & 0 & 3 & 1 & 3 & 6 & 4 & 3 & 4 & ⋯ & 3 & 9 & 5 & 1 & 6 & 5 & 4 & 2 & 2 & 0\\\\\n",
       "\t37 & 0 & 1 & 2 & 2 & 2 & 5 & 5 & 1 & 4 & 6 & ⋯ & 6 & 4 & 5 & 4 & 6 & 3 & 4 & 3 & 2 & 1\\\\\n",
       "\t38 & 0 & 1 & 1 & 2 & 3 & 1 & 5 & 1 & 2 & 2 & ⋯ & 9 & 9 & 5 & 4 & 4 & 2 & 1 & 0 & 1 & 0\\\\\n",
       "\t39 & 0 & 1 & 0 & 3 & 2 & 4 & 1 & 1 & 5 & 9 & ⋯ & 5 & 5 & 2 & 1 & 1 & 1 & 1 & 3 & 0 & 1\\\\\n",
       "\t40 & 0 & 1 & 1 & 3 & 1 & 1 & 5 & 5 & 3 & 7 & ⋯ & 2 & 3 & 6 & 3 & 3 & 5 & 4 & 3 & 2 & 1\\\\\n",
       "\t41 & 0 & 0 & 0 & 2 & 2 & 1 & 3 & 4 & 5 & 5 & ⋯ & 2 & 9 & 6 & 2 & 2 & 5 & 3 & 0 & 0 & 1\\\\\n",
       "\t42 & 0 & 0 & 1 & 3 & 3 & 1 & 2 & 1 & 8 & 9 & ⋯ & 4 & 8 & 2 & 6 & 6 & 4 & 2 & 2 & 0 & 0\\\\\n",
       "\t43 & 0 & 1 & 1 & 3 & 4 & 5 & 2 & 1 & 3 & 7 & ⋯ & 5 & 8 & 5 & 5 & 6 & 1 & 2 & 1 & 2 & 0\\\\\n",
       "\t44 & 0 & 0 & 1 & 3 & 1 & 4 & 3 & 6 & 7 & 8 & ⋯ & 10 & 2 & 5 & 1 & 5 & 4 & 2 & 1 & 0 & 1\\\\\n",
       "\t45 & 0 & 1 & 1 & 3 & 3 & 4 & 4 & 6 & 3 & 4 & ⋯ & 10 & 6 & 8 & 7 & 2 & 5 & 4 & 3 & 1 & 1\\\\\n",
       "\t46 & 0 & 1 & 2 & 2 & 4 & 3 & 1 & 4 & 8 & 9 & ⋯ & 5 & 8 & 4 & 4 & 5 & 2 & 4 & 1 & 1 & 0\\\\\n",
       "\t47 & 0 & 0 & 2 & 3 & 4 & 5 & 4 & 6 & 2 & 9 & ⋯ & 6 & 7 & 6 & 5 & 1 & 3 & 1 & 0 & 0 & 0\\\\\n",
       "\t48 & 0 & 1 & 1 & 3 & 1 & 4 & 6 & 2 & 8 & 2 & ⋯ & 6 & 9 & 5 & 6 & 1 & 1 & 2 & 1 & 2 & 1\\\\\n",
       "\t49 & 0 & 0 & 1 & 3 & 2 & 5 & 1 & 2 & 7 & 6 & ⋯ & 10 & 7 & 6 & 3 & 1 & 5 & 4 & 3 & 0 & 0\\\\\n",
       "\t50 & 0 & 0 & 1 & 2 & 3 & 4 & 5 & 7 & 5 & 4 & ⋯ & 4 & 6 & 2 & 4 & 1 & 4 & 2 & 2 & 2 & 1\\\\\n",
       "\t51 & 0 & 1 & 2 & 1 & 1 & 3 & 5 & 3 & 6 & 3 & ⋯ & 7 & 9 & 3 & 3 & 6 & 3 & 4 & 1 & 2 & 0\\\\\n",
       "\t52 & 0 & 1 & 2 & 2 & 3 & 5 & 2 & 4 & 5 & 6 & ⋯ & 8 & 5 & 4 & 1 & 3 & 2 & 1 & 3 & 1 & 0\\\\\n",
       "\t53 & 0 & 0 & 0 & 2 & 4 & 4 & 5 & 3 & 3 & 3 & ⋯ & 10 & 8 & 7 & 5 & 2 & 2 & 4 & 1 & 2 & 1\\\\\n",
       "\t54 & 0 & 0 & 2 & 1 & 1 & 4 & 4 & 7 & 2 & 9 & ⋯ & 7 & 6 & 5 & 4 & 1 & 4 & 2 & 2 & 2 & 1\\\\\n",
       "\t55 & 0 & 1 & 2 & 1 & 1 & 4 & 5 & 4 & 4 & 5 & ⋯ & 4 & 5 & 5 & 2 & 2 & 5 & 1 & 0 & 0 & 1\\\\\n",
       "\t56 & 0 & 0 & 1 & 3 & 2 & 3 & 6 & 4 & 5 & 7 & ⋯ & 3 & 5 & 3 & 5 & 4 & 5 & 3 & 3 & 0 & 1\\\\\n",
       "\t57 & 0 & 1 & 1 & 2 & 2 & 5 & 1 & 7 & 4 & 2 & ⋯ & 7 & 7 & 5 & 6 & 3 & 4 & 2 & 2 & 1 & 1\\\\\n",
       "\t58 & 0 & 1 & 1 & 1 & 4 & 1 & 6 & 4 & 6 & 3 & ⋯ & 8 & 6 & 6 & 4 & 3 & 5 & 2 & 1 & 1 & 1\\\\\n",
       "\t59 & 0 & 0 & 0 & 1 & 4 & 5 & 6 & 3 & 8 & 7 & ⋯ & 10 & 8 & 8 & 6 & 5 & 5 & 2 & 0 & 2 & 0\\\\\n",
       "\t60 & 0 & 0 & 1 & 0 & 3 & 2 & 5 & 4 & 8 & 2 & ⋯ & 8 & 5 & 3 & 5 & 4 & 1 & 3 & 1 & 1 & 0\\\\\n",
       "\\end{tabular}\n"
      ],
      "text/plain": [
       "   V1 V2 V3 V4 V5 V6 V7 V8 V9 V10 V11 V12 V13 V14 V15 V16 V17 V18 V19 V20 V21\n",
       "1   0  0  1  3  1  2  4  7  8   3   3   3  10   5   7   4   7   7  12  18   6\n",
       "2   0  1  2  1  2  1  3  2  2   6  10  11   5   9   4   4   7  16   8   6  18\n",
       "3   0  1  1  3  3  2  6  2  5   9   5   7   4   5   4  15   5  11   9  10  19\n",
       "4   0  0  2  0  4  2  2  1  6   7  10   7   9  13   8   8  15  10  10   7  17\n",
       "5   0  1  1  3  3  1  3  5  2   4   4   7   6   5   3  10   8  10   6  17   9\n",
       "6   0  0  1  2  2  4  2  1  6   4   7   6   6   9   9  15   4  16  18  12  12\n",
       "7   0  0  2  2  4  2  2  5  5   8   6   5  11   9   4  13   5  12  10   6   9\n",
       "8   0  0  1  2  3  1  2  3  5   3   7   8   8   5  10   9  15  11  18  19  20\n",
       "9   0  0  0  3  1  5  6  5  5   8   2   4  11  12  10  11   9  10  17  11   6\n",
       "10  0  1  1  2  1  3  5  3  5   8   6   8  12   5  13   6  13   8  16   8  18\n",
       "11  0  1  0  0  4  3  3  5  5   4   5   8   7  10  13   3   7  13  15  18   8\n",
       "12  0  1  0  0  3  4  2  7  8   5   2   8  11   5   5   8  14  11   6  11   9\n",
       "13  0  0  2  1  4  3  6  4  6   7   9   9   3  11   6  12   4  17  13  15  13\n",
       "14  0  0  0  0  1  3  1  6  6   5   5   6   3   6  13   3  10  13   9  16  15\n",
       "15  0  1  2  1  1  1  4  1  5   2   3   3  10   7  13   5   7  17   6   9  12\n",
       "16  0  1  1  0  1  2  4  3  6   4   7   5   5   7   5  10   7   8  18  17   9\n",
       "17  0  0  0  0  2  3  6  5  7   4   3   2  10   7   9  11  12   5  12   9  13\n",
       "18  0  0  0  1  2  1  4  3  6   7   4   2  12   6  12   4  14   7   8  14  13\n",
       "19  0  0  2  1  2  5  4  2  7   8   4   7  11   9   8  11  15  17  11  12   7\n",
       "20  0  1  2  0  1  4  3  2  2   7   3   3  12  13  11  13   6   5   9  16   9\n",
       "21  0  1  1  3  1  4  4  1  8   2   2   3  12  12  10  15  13   6   5   5  18\n",
       "22  0  0  2  3  2  3  2  6  3   8   7   4   6   6   9   5  12  12   8   5  12\n",
       "23  0  0  0  3  4  5  1  7  7   8   2   5  12   4  10  14   5   5  17  13  16\n",
       "24  0  1  1  1  1  3  3  2  6   3   9   7   8   8   4  13   7  14  11  15  14\n",
       "25  0  1  1  1  2  3  5  3  6   3   7  10   3   8  12   4  12   9  15   5  17\n",
       "26  0  0  2  1  3  3  2  7  4   4   3   8  12   9  12   9   5  16   8  17   7\n",
       "27  0  0  1  2  4  2  2  3  5   7  10   5   5  12   3  13   4  13   7  15   9\n",
       "28  0  0  1  1  1  5  1  5  2   2   4  10   4   8  14   6  15   6  12  15  15\n",
       "29  0  0  2  2  3  4  6  3  7   6   4   5   8   4   7   7   6  11  12  19  20\n",
       "30  0  0  0  1  4  4  6  3  8   6   4  10  12   3   3   6   8   7  17  16  14\n",
       "31  0  1  1  0  3  2  4  6  8   6   2   3  11   3  14  14  12   8   8  16  13\n",
       "32  0  0  2  3  3  4  5  3  6   7  10   5  10  13  14   3   8  10   9   9  19\n",
       "33  0  1  2  2  2  3  6  6  6   7   6   3  11  12  13  15  15  10  14  11  11\n",
       "34  0  0  2  1  3  5  6  7  5   8   9   3  12  10  12   4  12   9  13  10  10\n",
       "35  0  0  1  2  4  1  5  5  2   3   4   8   8  12   5  15   9  17   7  19  14\n",
       "36  0  0  0  3  1  3  6  4  3   4   8   3   4   8   3  11   5   7  10   5  15\n",
       "37  0  1  2  2  2  5  5  1  4   6   3   6   5   9   6   7   4   7  16   7  16\n",
       "38  0  1  1  2  3  1  5  1  2   2   5   7   6   6   5  10   6   7  17  13  15\n",
       "39  0  1  0  3  2  4  1  1  5   9  10   7  12  10   9  15  12  13  13   6  19\n",
       "40  0  1  1  3  1  1  5  5  3   7   2   2   3  12   4   6   8  15  16  16  15\n",
       "41  0  0  0  2  2  1  3  4  5   5   6   5   5  12  13   5   7   5  11  15  18\n",
       "42  0  0  1  3  3  1  2  1  8   9   2   8  10   3   8   6  10  13  11  17  19\n",
       "43  0  1  1  3  4  5  2  1  3   7   9   6  10   5   8  15  11  12  15   6  12\n",
       "44  0  0  1  3  1  4  3  6  7   8   5   7  11   3   6  11   6  10   6  19  18\n",
       "45  0  1  1  3  3  4  4  6  3   4   9   9   7   6   8  15  12  15   6  11   6\n",
       "46  0  1  2  2  4  3  1  4  8   9   5  10  10   3   4   6   7  11  16   6  14\n",
       "47  0  0  2  3  4  5  4  6  2   9   7   4   9  10   8  11  16  12  15  17  19\n",
       "48  0  1  1  3  1  4  6  2  8   2  10   3  11   9  13  15   5  15   6  10  10\n",
       "49  0  0  1  3  2  5  1  2  7   6   6   3  12   9   4  14   4   6  12   9  12\n",
       "50  0  0  1  2  3  4  5  7  5   4  10   5  12  12   5   4   7   9  18  16  16\n",
       "51  0  1  2  1  1  3  5  3  6   3  10  10  11  10  13  10  13   6   6  14   5\n",
       "52  0  1  2  2  3  5  2  4  5   6   8   3   5   4   3  15  15  12  16   7  20\n",
       "53  0  0  0  2  4  4  5  3  3   3  10   4   4   4  14  11  15  13  10  14  11\n",
       "54  0  0  2  1  1  4  4  7  2   9   4  10  12   7   6   6  11  12   9  15  15\n",
       "55  0  1  2  1  1  4  5  4  4   5   9   7  10   3  13  13   8   9  17  16  16\n",
       "56  0  0  1  3  2  3  6  4  5   7   2   4  11  11   3   8   8  16   5  13  16\n",
       "57  0  1  1  2  2  5  1  7  4   2   5   5   4   6   6   4  16  11  14  16  14\n",
       "58  0  1  1  1  4  1  6  4  6   3   6   5   6   4  14  13  13   9  12  19   9\n",
       "59  0  0  0  1  4  5  6  3  8   7   9  10   8   6   5  12  15   5  10   5   8\n",
       "60  0  0  1  0  3  2  5  4  8   2   9   3   3  10  12   9  14  11  13   8   6\n",
       "   V22 V23 V24 V25 V26 V27 V28 V29 V30 V31 V32 V33 V34 V35 V36 V37 V38 V39 V40\n",
       "1   13  11  11   7   7   4   6   8   8   4   4   5   7   3   4   2   3   0   0\n",
       "2    4  12   5  12   7  11   5  11   3   3   5   4   4   5   5   1   1   0   1\n",
       "3   14  12  17   7  12  11   7   4   2  10   5   4   2   2   3   2   2   1   1\n",
       "4    4   4   7   6  15   6   4   9  11   3   5   6   3   3   4   2   3   2   1\n",
       "5   14   9   7  13   9  12   6   7   7   9   6   3   2   2   4   2   0   1   1\n",
       "6    5  18   9   5   3  10   3  12   7   8   4   7   3   5   4   4   3   2   1\n",
       "7   17  15   8   9   3  13   7   8   2   8   8   4   2   3   5   4   1   1   1\n",
       "8    8   5  13  15  10   6  10   6   7   4   9   3   5   2   5   3   2   2   1\n",
       "9   16  12   6   8  14   6  13  10  11   4   6   4   7   6   3   2   1   0   0\n",
       "10  15  16  14  12   7   3   8   9  11   2   5   4   5   1   4   1   2   0   0\n",
       "11  15  15  16  11  14  12   4  10  10   4   3   4   5   5   3   3   2   2   1\n",
       "12  16  18   6  12   5   4   3   5   7   8   3   5   4   5   5   4   0   1   1\n",
       "13  12   8   7   4   7  12   9   5   6   5   4   7   3   5   4   2   3   0   1\n",
       "14   9  11   4   6   4  11  11  12   3   5   8   7   4   6   4   1   3   0   0\n",
       "15  13  10   4  12   4   6   7   6  10   8   2   5   1   3   4   2   0   2   0\n",
       "16   8  12  11  11  11  14   6  11   2  10   9   5   6   5   3   4   2   2   0\n",
       "17  19  14  17   5  13   8  11   5  10   9   8   7   5   3   1   4   0   2   1\n",
       "18  19   6   9  12   6   4  13   6   7   2   3   6   5   4   2   3   0   1   0\n",
       "19  12   7   6   7   4  13   5   7   6   6   9   2   1   1   2   2   0   1   0\n",
       "20  19  16  11   8   9  14  12  11   9   6   6   6   1   1   2   4   3   1   1\n",
       "21  19   9   6  11  12   7   6   3   6   3   2   4   3   1   5   4   2   2   0\n",
       "22  10  16   7  14  12   5   4   6   9   8   5   6   6   1   4   3   0   2   0\n",
       "23  15  13   6  12   9  10   3   3   7   4   4   8   2   6   5   1   0   1   0\n",
       "24  13   5  13   7  14   9  10   5  11   5   3   5   1   1   4   4   1   2   0\n",
       "25  16   5  10  10  15   7   5   3  11   5   5   6   1   1   1   1   0   2   1\n",
       "26  11  14   7  13  11   7  12  12   7   8   5   7   2   2   4   1   1   1   0\n",
       "27  12  18  14  16  12   3  11   3   2   7   4   8   2   2   1   3   0   1   1\n",
       "28  13   7  17   4   5  11   4   8   7   9   4   5   3   2   5   4   3   2   1\n",
       "29  18   9   5   4   7  14   8   4   3   7   7   8   3   5   4   1   3   1   0\n",
       "30  15  17   4  14  13   4   4  12  11   6   9   5   5   2   5   2   1   0   1\n",
       "31   7   6   9  15   7   6   4  10   8  10   4   2   6   5   5   2   3   2   1\n",
       "32  15  15   6   8   8  11   5   5   7   3   6   6   4   5   2   2   3   0   0\n",
       "33   8   6  12  10   5  12   7   7  11   5   8   5   2   5   5   2   0   2   1\n",
       "34   6  10  11   4  15  13   7   3   4   2   9   7   2   4   2   1   2   1   1\n",
       "35  18  12  17  14   4  13  13   8  11   5   6   6   2   3   5   2   1   1   1\n",
       "36   9  16  17  16   3   8   9   8   3   3   9   5   1   6   5   4   2   2   0\n",
       "37  13   9  16  12   6   7   9  10   3   6   4   5   4   6   3   4   3   2   1\n",
       "38  16  17  14   4   4  10  10  10  11   9   9   5   4   4   2   1   0   1   0\n",
       "39   9  10   6  13   5  13   6   7   2   5   5   2   1   1   1   1   3   0   1\n",
       "40   4  14   5  13  10   7  10   6   3   2   3   6   3   3   5   4   3   2   1\n",
       "41   7   9  10  14  12  11   9  10   3   2   9   6   2   2   5   3   0   0   1\n",
       "42   6   4  11   6  12   7   5   5   4   4   8   2   6   6   4   2   2   0   0\n",
       "43  16   6   4  14   3  12   9   6  11   5   8   5   5   6   1   2   1   2   0\n",
       "44  14   6  10   7   9   8   5   8   3  10   2   5   1   5   4   2   1   0   1\n",
       "45  18   5  14  15  12   9   8   3   6  10   6   8   7   2   5   4   3   1   1\n",
       "46   9  11  10  10   7  10   8   8   4   5   8   4   4   5   2   4   1   1   0\n",
       "47  10  18  13  15  11   8   4   7  11   6   7   6   5   1   3   1   0   0   0\n",
       "48   5  14  15  12   7   4   5  11   4   6   9   5   6   1   1   2   1   2   1\n",
       "49   7  11   7  16   8  13   6   7   6  10   7   6   3   1   5   4   3   0   0\n",
       "50  10  15  15  10   4   3   7   5   9   4   6   2   4   1   4   2   2   2   1\n",
       "51   4   5   5   9   4  12   7   7   4   7   9   3   3   6   3   4   1   2   0\n",
       "52  15  12   8   9   6  12   5   8   3   8   5   4   1   3   2   1   3   1   0\n",
       "53  17   9  11  11   7  10  12  10  10  10   8   7   5   2   2   4   1   2   1\n",
       "54   6   6  13   5  12   9   6   4   7   7   6   5   4   1   4   2   2   2   1\n",
       "55  15  12  13   5  12  10   9  11   9   4   5   5   2   2   5   1   0   0   1\n",
       "56   5   8   8   6   9  10  10   9   3   3   5   3   5   4   5   3   3   0   1\n",
       "57  14   8  17   4  14  13   7   6   3   7   7   5   6   3   4   2   2   1   1\n",
       "58  10  15  10   9  10  10   7   5   6   8   6   6   4   3   5   2   1   1   1\n",
       "59  13  18  17  14   9  13   4  10  11  10   8   8   6   5   5   2   0   2   0\n",
       "60  18  11   9  13  11   8   5   5   2   8   5   3   5   4   1   3   1   1   0"
      ]
     },
     "execution_count": 3,
     "metadata": {},
     "output_type": "execute_result"
    }
   ],
   "source": [
    "read.csv(file=\"data/inflammation-01.csv\", header=FALSE)"
   ]
  },
  {
   "cell_type": "markdown",
   "metadata": {},
   "source": [
    "The expression `read.csv(...)` is a function call that asks R to run the function `read.csv`.\n",
    "\n",
    "`read.csv` has two arguments: \n",
    "- the name of the file we want to read, and \n",
    "- whether the first line of the file contains names for the columns of data.\n",
    "\n",
    "The filename needs to be a character string, so we put it in quotes. Assigning the second argument, `header`, to be `FALSE` indicates that the data file does not have column headers. We'll talk more about the value `FALSE`, and its converse `TRUE`, in later lessons."
   ]
  },
  {
   "cell_type": "markdown",
   "metadata": {},
   "source": [
    "> ## Other Options for Reading CSV Files\n",
    "> `read.csv` actually has many more arguments that you may find useful when\n",
    "> importing your own data in the future. We will cover these arguments in later lessons. "
   ]
  },
  {
   "cell_type": "markdown",
   "metadata": {},
   "source": [
    "> ## Loading Data with Headers\n",
    ">\n",
    "> What happens if you forget to put `header = FALSE`? The default value is `header = TRUE`, which you can check with `?read.csv` or `help(read.csv)`. What do you expect will happen if you leave the default value? Before you run any code, think about what will happen to the first few rows of your data frame, and its overall size. Then run the following code and see if your expectations agree:\n",
    ">\n",
    "> ~~~\n",
    "> read.csv(file = \"data/inflammation-01.csv\")\n",
    "> ~~~"
   ]
  },
  {
   "cell_type": "markdown",
   "metadata": {},
   "source": [
    "> {: .r}\n",
    "{: .challenge}\n",
    "\n",
    "> ## Reading Different Decimal Point Formats\n",
    ">\n",
    "> Depending on the country you live in, your standard can use the dot or the comma as decimal mark.\n",
    "> Also, different devices or software can generate data with different decimal points.\n",
    "> Take a look at `?read.csv` and write the code to load a file called `commadec.txt` that has numeric values with commas as decimal mark, separated by semicolons.\n",
    "{: .challenge}"
   ]
  },
  {
   "cell_type": "markdown",
   "metadata": {},
   "source": [
    "The utility of a function is that it will perform its given action on whatever value is passed to the named argument(s).\n",
    "For example, in this case if we provided the name of a different file to the argument `file`, `read.csv` would read it instead.\n",
    "We'll learn more of the details about functions and their arguments in the next lesson.\n",
    "\n",
    "Since we didn't tell it to do anything else with the function's output, the console will display the full contents of the file `inflammation-01.csv`.\n",
    "Try it out.\n",
    "\n",
    "`read.csv` read the file, but we can't use data unless we assign it to a variable.\n",
    "A variable is just a name for a value, such as `x`, `current_temperature`, or `subject_id`.\n",
    "We can create a new variable simply by assigning a value to it using `<-`"
   ]
  },
  {
   "cell_type": "code",
   "execution_count": 7,
   "metadata": {
    "collapsed": true
   },
   "outputs": [],
   "source": [
    "weight_kg <- 55"
   ]
  },
  {
   "cell_type": "markdown",
   "metadata": {},
   "source": [
    "Once a variable has a value, we can print it by typing the name of the variable and hitting `Enter` (or `return`).\n",
    "In general, R will print to the console any object returned by a function or operation *unless* we assign it to a variable."
   ]
  },
  {
   "cell_type": "code",
   "execution_count": 8,
   "metadata": {
    "collapsed": false
   },
   "outputs": [
    {
     "data": {
      "text/html": [
       "55"
      ],
      "text/latex": [
       "55"
      ],
      "text/markdown": [
       "55"
      ],
      "text/plain": [
       "[1] 55"
      ]
     },
     "execution_count": 8,
     "metadata": {},
     "output_type": "execute_result"
    }
   ],
   "source": [
    "weight_kg"
   ]
  },
  {
   "cell_type": "markdown",
   "metadata": {},
   "source": [
    "We can do arithmetic with the variable:"
   ]
  },
  {
   "cell_type": "code",
   "execution_count": 9,
   "metadata": {
    "collapsed": false
   },
   "outputs": [
    {
     "data": {
      "text/html": [
       "121"
      ],
      "text/latex": [
       "121"
      ],
      "text/markdown": [
       "121"
      ],
      "text/plain": [
       "[1] 121"
      ]
     },
     "execution_count": 9,
     "metadata": {},
     "output_type": "execute_result"
    }
   ],
   "source": [
    "# weight in pounds:\n",
    "2.2 * weight_kg"
   ]
  },
  {
   "cell_type": "markdown",
   "metadata": {},
   "source": [
    "> ## Commenting\n",
    ">\n",
    "> We can add comments to our code using the `#` character. It is useful to\n",
    "> document our code in this way so that others (and us the next time we\n",
    "> read it) have an easier time following what the code is doing.\n",
    "{: .callout}\n",
    "\n",
    "We can also change an object's value by assigning it a new value:"
   ]
  },
  {
   "cell_type": "code",
   "execution_count": 10,
   "metadata": {
    "collapsed": false
   },
   "outputs": [
    {
     "data": {
      "text/html": [
       "57.5"
      ],
      "text/latex": [
       "57.5"
      ],
      "text/markdown": [
       "57.5"
      ],
      "text/plain": [
       "[1] 57.5"
      ]
     },
     "execution_count": 10,
     "metadata": {},
     "output_type": "execute_result"
    }
   ],
   "source": [
    "weight_kg <- 57.5\n",
    "# weight in kilograms is now\n",
    "weight_kg"
   ]
  },
  {
   "cell_type": "markdown",
   "metadata": {},
   "source": [
    "If we imagine the variable as a sticky note with a name written on it,\n",
    "assignment is like putting the sticky note on a particular value. \n",
    "\n",
    "This means that assigning a value to one object does not change the values of other variables.\n",
    "For example, let's store the subject's weight in pounds in a variable:"
   ]
  },
  {
   "cell_type": "code",
   "execution_count": 11,
   "metadata": {
    "collapsed": false
   },
   "outputs": [
    {
     "data": {
      "text/html": [
       "57.5"
      ],
      "text/latex": [
       "57.5"
      ],
      "text/markdown": [
       "57.5"
      ],
      "text/plain": [
       "[1] 57.5"
      ]
     },
     "execution_count": 11,
     "metadata": {},
     "output_type": "execute_result"
    },
    {
     "data": {
      "text/html": [
       "126.5"
      ],
      "text/latex": [
       "126.5"
      ],
      "text/markdown": [
       "126.5"
      ],
      "text/plain": [
       "[1] 126.5"
      ]
     },
     "execution_count": 11,
     "metadata": {},
     "output_type": "execute_result"
    }
   ],
   "source": [
    "weight_lb <- 2.2 * weight_kg\n",
    "# weight in kg...\n",
    "weight_kg\n",
    "\n",
    "# ...and in pounds\n",
    "weight_lb"
   ]
  },
  {
   "cell_type": "markdown",
   "metadata": {},
   "source": [
    "and then change `weight_kg`:"
   ]
  },
  {
   "cell_type": "code",
   "execution_count": 12,
   "metadata": {
    "collapsed": false
   },
   "outputs": [
    {
     "data": {
      "text/html": [
       "100"
      ],
      "text/latex": [
       "100"
      ],
      "text/markdown": [
       "100"
      ],
      "text/plain": [
       "[1] 100"
      ]
     },
     "execution_count": 12,
     "metadata": {},
     "output_type": "execute_result"
    },
    {
     "data": {
      "text/html": [
       "126.5"
      ],
      "text/latex": [
       "126.5"
      ],
      "text/markdown": [
       "126.5"
      ],
      "text/plain": [
       "[1] 126.5"
      ]
     },
     "execution_count": 12,
     "metadata": {},
     "output_type": "execute_result"
    }
   ],
   "source": [
    "weight_kg <- 100.0\n",
    "# weight in kg now...\n",
    "weight_kg\n",
    "\n",
    "# ...and weight in pounds still\n",
    "weight_lb"
   ]
  },
  {
   "cell_type": "markdown",
   "metadata": {},
   "source": [
    "Since `weight_lb` doesn't \"remember\" where its value came from, it isn't automatically updated when `weight_kg` changes.\n",
    "This is different from the way spreadsheets work.\n",
    "\n",
    "> ## Printing with Parentheses\n",
    ">\n",
    "> An alternative way to print the value of a variable is to use () around the assignment statement.\n",
    "> As an example: `(total_weight <- weight_kg + weight_lb)` adds the values of `weight_kg` and `weight_lb`,\n",
    "> assigns the result to the `total_weight`,\n",
    "> and finally prints the assigned value of the variable `total_weight`.\n",
    "\n",
    "\n",
    "Now that we know how to assign things to variables, let's re-run `read.csv` and save its result:"
   ]
  },
  {
   "cell_type": "code",
   "execution_count": 13,
   "metadata": {
    "collapsed": true
   },
   "outputs": [],
   "source": [
    "dat <- read.csv(file = \"data/inflammation-01.csv\", header = FALSE)"
   ]
  },
  {
   "cell_type": "markdown",
   "metadata": {},
   "source": [
    "This statement doesn't produce any output because assignment doesn't display anything.\n",
    "If we want to check that our data has been loaded, we can print the variable's value.\n",
    "However, for large data sets it is convenient to use the function `head` to display only the first few rows of data."
   ]
  },
  {
   "cell_type": "code",
   "execution_count": 14,
   "metadata": {
    "collapsed": false
   },
   "outputs": [
    {
     "data": {
      "text/html": [
       "<table>\n",
       "<thead><tr><th></th><th scope=col>V1</th><th scope=col>V2</th><th scope=col>V3</th><th scope=col>V4</th><th scope=col>V5</th><th scope=col>V6</th><th scope=col>V7</th><th scope=col>V8</th><th scope=col>V9</th><th scope=col>V10</th><th scope=col>ellip.h</th><th scope=col>V31</th><th scope=col>V32</th><th scope=col>V33</th><th scope=col>V34</th><th scope=col>V35</th><th scope=col>V36</th><th scope=col>V37</th><th scope=col>V38</th><th scope=col>V39</th><th scope=col>V40</th></tr></thead>\n",
       "<tbody>\n",
       "\t<tr><th scope=row>1</th><td>0</td><td>0</td><td>1</td><td>3</td><td>1</td><td>2</td><td>4</td><td>7</td><td>8</td><td>3</td><td>⋯</td><td>4</td><td>4</td><td>5</td><td>7</td><td>3</td><td>4</td><td>2</td><td>3</td><td>0</td><td>0</td></tr>\n",
       "\t<tr><th scope=row>2</th><td>0</td><td>1</td><td>2</td><td>1</td><td>2</td><td>1</td><td>3</td><td>2</td><td>2</td><td>6</td><td>⋯</td><td>3</td><td>5</td><td>4</td><td>4</td><td>5</td><td>5</td><td>1</td><td>1</td><td>0</td><td>1</td></tr>\n",
       "\t<tr><th scope=row>3</th><td>0</td><td>1</td><td>1</td><td>3</td><td>3</td><td>2</td><td>6</td><td>2</td><td>5</td><td>9</td><td>⋯</td><td>10</td><td>5</td><td>4</td><td>2</td><td>2</td><td>3</td><td>2</td><td>2</td><td>1</td><td>1</td></tr>\n",
       "\t<tr><th scope=row>4</th><td>0</td><td>0</td><td>2</td><td>0</td><td>4</td><td>2</td><td>2</td><td>1</td><td>6</td><td>7</td><td>⋯</td><td>3</td><td>5</td><td>6</td><td>3</td><td>3</td><td>4</td><td>2</td><td>3</td><td>2</td><td>1</td></tr>\n",
       "\t<tr><th scope=row>5</th><td>0</td><td>1</td><td>1</td><td>3</td><td>3</td><td>1</td><td>3</td><td>5</td><td>2</td><td>4</td><td>⋯</td><td>9</td><td>6</td><td>3</td><td>2</td><td>2</td><td>4</td><td>2</td><td>0</td><td>1</td><td>1</td></tr>\n",
       "\t<tr><th scope=row>6</th><td>0</td><td>0</td><td>1</td><td>2</td><td>2</td><td>4</td><td>2</td><td>1</td><td>6</td><td>4</td><td>⋯</td><td>8</td><td>4</td><td>7</td><td>3</td><td>5</td><td>4</td><td>4</td><td>3</td><td>2</td><td>1</td></tr>\n",
       "</tbody>\n",
       "</table>\n"
      ],
      "text/latex": [
       "\\begin{tabular}{r|llllllllllllllllllllllllllllllllllllllll}\n",
       "  & V1 & V2 & V3 & V4 & V5 & V6 & V7 & V8 & V9 & V10 & ellip.h & V31 & V32 & V33 & V34 & V35 & V36 & V37 & V38 & V39 & V40\\\\\n",
       "\\hline\n",
       "\t1 & 0 & 0 & 1 & 3 & 1 & 2 & 4 & 7 & 8 & 3 & ⋯ & 4 & 4 & 5 & 7 & 3 & 4 & 2 & 3 & 0 & 0\\\\\n",
       "\t2 & 0 & 1 & 2 & 1 & 2 & 1 & 3 & 2 & 2 & 6 & ⋯ & 3 & 5 & 4 & 4 & 5 & 5 & 1 & 1 & 0 & 1\\\\\n",
       "\t3 & 0 & 1 & 1 & 3 & 3 & 2 & 6 & 2 & 5 & 9 & ⋯ & 10 & 5 & 4 & 2 & 2 & 3 & 2 & 2 & 1 & 1\\\\\n",
       "\t4 & 0 & 0 & 2 & 0 & 4 & 2 & 2 & 1 & 6 & 7 & ⋯ & 3 & 5 & 6 & 3 & 3 & 4 & 2 & 3 & 2 & 1\\\\\n",
       "\t5 & 0 & 1 & 1 & 3 & 3 & 1 & 3 & 5 & 2 & 4 & ⋯ & 9 & 6 & 3 & 2 & 2 & 4 & 2 & 0 & 1 & 1\\\\\n",
       "\t6 & 0 & 0 & 1 & 2 & 2 & 4 & 2 & 1 & 6 & 4 & ⋯ & 8 & 4 & 7 & 3 & 5 & 4 & 4 & 3 & 2 & 1\\\\\n",
       "\\end{tabular}\n"
      ],
      "text/plain": [
       "  V1 V2 V3 V4 V5 V6 V7 V8 V9 V10 V11 V12 V13 V14 V15 V16 V17 V18 V19 V20 V21\n",
       "1  0  0  1  3  1  2  4  7  8   3   3   3  10   5   7   4   7   7  12  18   6\n",
       "2  0  1  2  1  2  1  3  2  2   6  10  11   5   9   4   4   7  16   8   6  18\n",
       "3  0  1  1  3  3  2  6  2  5   9   5   7   4   5   4  15   5  11   9  10  19\n",
       "4  0  0  2  0  4  2  2  1  6   7  10   7   9  13   8   8  15  10  10   7  17\n",
       "5  0  1  1  3  3  1  3  5  2   4   4   7   6   5   3  10   8  10   6  17   9\n",
       "6  0  0  1  2  2  4  2  1  6   4   7   6   6   9   9  15   4  16  18  12  12\n",
       "  V22 V23 V24 V25 V26 V27 V28 V29 V30 V31 V32 V33 V34 V35 V36 V37 V38 V39 V40\n",
       "1  13  11  11   7   7   4   6   8   8   4   4   5   7   3   4   2   3   0   0\n",
       "2   4  12   5  12   7  11   5  11   3   3   5   4   4   5   5   1   1   0   1\n",
       "3  14  12  17   7  12  11   7   4   2  10   5   4   2   2   3   2   2   1   1\n",
       "4   4   4   7   6  15   6   4   9  11   3   5   6   3   3   4   2   3   2   1\n",
       "5  14   9   7  13   9  12   6   7   7   9   6   3   2   2   4   2   0   1   1\n",
       "6   5  18   9   5   3  10   3  12   7   8   4   7   3   5   4   4   3   2   1"
      ]
     },
     "execution_count": 14,
     "metadata": {},
     "output_type": "execute_result"
    }
   ],
   "source": [
    "head(dat)"
   ]
  },
  {
   "cell_type": "markdown",
   "metadata": {},
   "source": [
    "> ## Assigning Values to Variables\n",
    ">\n",
    "> Draw diagrams showing what variables refer to what values after each statement in the following program:\n",
    ">\n",
    "> ~~~\n",
    "> mass <- 47.5\n",
    "> age <- 122\n",
    "> mass <- mass * 2.0\n",
    "> age <- age - 20\n",
    "> ~~~\n",
    "> {: .r}\n",
    "{: .challenge}\n",
    "\n",
    "### Manipulating Data\n",
    "\n",
    "Now that our data is loaded in memory, we can start doing things with it.\n",
    "First, let's ask what type of thing `dat` is:"
   ]
  },
  {
   "cell_type": "code",
   "execution_count": 15,
   "metadata": {
    "collapsed": false
   },
   "outputs": [
    {
     "data": {
      "text/html": [
       "'data.frame'"
      ],
      "text/latex": [
       "'data.frame'"
      ],
      "text/markdown": [
       "'data.frame'"
      ],
      "text/plain": [
       "[1] \"data.frame\""
      ]
     },
     "execution_count": 15,
     "metadata": {},
     "output_type": "execute_result"
    }
   ],
   "source": [
    "class(dat)"
   ]
  },
  {
   "cell_type": "markdown",
   "metadata": {},
   "source": [
    "The output tells us that is a data frame. Think of this structure as a spreadsheet in MS Excel that many of us are familiar with.\n",
    "Data frames are very useful for storing data and you will find them elsewhere when programming in R. A typical data frame of experimental data contains individual observations in rows and variables in columns.\n",
    "\n",
    "We can see the shape, or dimensions, of the data frame with the function `dim`:"
   ]
  },
  {
   "cell_type": "code",
   "execution_count": 16,
   "metadata": {
    "collapsed": false
   },
   "outputs": [
    {
     "data": {
      "text/html": [
       "<ol class=list-inline>\n",
       "\t<li>60</li>\n",
       "\t<li>40</li>\n",
       "</ol>\n"
      ],
      "text/latex": [
       "\\begin{enumerate*}\n",
       "\\item 60\n",
       "\\item 40\n",
       "\\end{enumerate*}\n"
      ],
      "text/markdown": [
       "1. 60\n",
       "2. 40\n",
       "\n",
       "\n"
      ],
      "text/plain": [
       "[1] 60 40"
      ]
     },
     "execution_count": 16,
     "metadata": {},
     "output_type": "execute_result"
    }
   ],
   "source": [
    "dim(dat)"
   ]
  },
  {
   "cell_type": "markdown",
   "metadata": {},
   "source": [
    "This tells us that our data frame, `dat`, has 60 rows and 40 columns.\n",
    "\n",
    "If we want to get a single value from the data frame, we can provide an index in square brackets, just as we do in math:"
   ]
  },
  {
   "cell_type": "code",
   "execution_count": 17,
   "metadata": {
    "collapsed": false
   },
   "outputs": [
    {
     "data": {
      "text/html": [
       "0"
      ],
      "text/latex": [
       "0"
      ],
      "text/markdown": [
       "0"
      ],
      "text/plain": [
       "[1] 0"
      ]
     },
     "execution_count": 17,
     "metadata": {},
     "output_type": "execute_result"
    }
   ],
   "source": [
    "# first value in dat\n",
    "dat[1, 1]"
   ]
  },
  {
   "cell_type": "code",
   "execution_count": 18,
   "metadata": {
    "collapsed": false
   },
   "outputs": [
    {
     "data": {
      "text/html": [
       "16"
      ],
      "text/latex": [
       "16"
      ],
      "text/markdown": [
       "16"
      ],
      "text/plain": [
       "[1] 16"
      ]
     },
     "execution_count": 18,
     "metadata": {},
     "output_type": "execute_result"
    }
   ],
   "source": [
    "# middle value in dat\n",
    "dat[30, 20]"
   ]
  },
  {
   "cell_type": "markdown",
   "metadata": {},
   "source": [
    "An index like `[30, 20]` selects a single element of a data frame, but we can select whole sections as well.\n",
    "For example, we can select the first ten days (columns) of values for the first four patients (rows) like this:"
   ]
  },
  {
   "cell_type": "code",
   "execution_count": 19,
   "metadata": {
    "collapsed": false
   },
   "outputs": [
    {
     "data": {
      "text/html": [
       "<table>\n",
       "<thead><tr><th></th><th scope=col>V1</th><th scope=col>V2</th><th scope=col>V3</th><th scope=col>V4</th><th scope=col>V5</th><th scope=col>V6</th><th scope=col>V7</th><th scope=col>V8</th><th scope=col>V9</th><th scope=col>V10</th></tr></thead>\n",
       "<tbody>\n",
       "\t<tr><th scope=row>1</th><td>0</td><td>0</td><td>1</td><td>3</td><td>1</td><td>2</td><td>4</td><td>7</td><td>8</td><td>3</td></tr>\n",
       "\t<tr><th scope=row>2</th><td>0</td><td>1</td><td>2</td><td>1</td><td>2</td><td>1</td><td>3</td><td>2</td><td>2</td><td>6</td></tr>\n",
       "\t<tr><th scope=row>3</th><td>0</td><td>1</td><td>1</td><td>3</td><td>3</td><td>2</td><td>6</td><td>2</td><td>5</td><td>9</td></tr>\n",
       "\t<tr><th scope=row>4</th><td>0</td><td>0</td><td>2</td><td>0</td><td>4</td><td>2</td><td>2</td><td>1</td><td>6</td><td>7</td></tr>\n",
       "</tbody>\n",
       "</table>\n"
      ],
      "text/latex": [
       "\\begin{tabular}{r|llllllllll}\n",
       "  & V1 & V2 & V3 & V4 & V5 & V6 & V7 & V8 & V9 & V10\\\\\n",
       "\\hline\n",
       "\t1 & 0 & 0 & 1 & 3 & 1 & 2 & 4 & 7 & 8 & 3\\\\\n",
       "\t2 & 0 & 1 & 2 & 1 & 2 & 1 & 3 & 2 & 2 & 6\\\\\n",
       "\t3 & 0 & 1 & 1 & 3 & 3 & 2 & 6 & 2 & 5 & 9\\\\\n",
       "\t4 & 0 & 0 & 2 & 0 & 4 & 2 & 2 & 1 & 6 & 7\\\\\n",
       "\\end{tabular}\n"
      ],
      "text/plain": [
       "  V1 V2 V3 V4 V5 V6 V7 V8 V9 V10\n",
       "1  0  0  1  3  1  2  4  7  8   3\n",
       "2  0  1  2  1  2  1  3  2  2   6\n",
       "3  0  1  1  3  3  2  6  2  5   9\n",
       "4  0  0  2  0  4  2  2  1  6   7"
      ]
     },
     "execution_count": 19,
     "metadata": {},
     "output_type": "execute_result"
    }
   ],
   "source": [
    "dat[1:4, 1:10]"
   ]
  },
  {
   "cell_type": "markdown",
   "metadata": {},
   "source": [
    "The slice`1:4` means, \"Start at index 1 and go to index 4.\"\n",
    "\n",
    "The slice does not need to start at 1, e.g. the line below selects rows 5 through 10:"
   ]
  },
  {
   "cell_type": "code",
   "execution_count": 20,
   "metadata": {
    "collapsed": false
   },
   "outputs": [
    {
     "data": {
      "text/html": [
       "<table>\n",
       "<thead><tr><th></th><th scope=col>V1</th><th scope=col>V2</th><th scope=col>V3</th><th scope=col>V4</th><th scope=col>V5</th><th scope=col>V6</th><th scope=col>V7</th><th scope=col>V8</th><th scope=col>V9</th><th scope=col>V10</th></tr></thead>\n",
       "<tbody>\n",
       "\t<tr><th scope=row>5</th><td>0</td><td>1</td><td>1</td><td>3</td><td>3</td><td>1</td><td>3</td><td>5</td><td>2</td><td>4</td></tr>\n",
       "\t<tr><th scope=row>6</th><td>0</td><td>0</td><td>1</td><td>2</td><td>2</td><td>4</td><td>2</td><td>1</td><td>6</td><td>4</td></tr>\n",
       "\t<tr><th scope=row>7</th><td>0</td><td>0</td><td>2</td><td>2</td><td>4</td><td>2</td><td>2</td><td>5</td><td>5</td><td>8</td></tr>\n",
       "\t<tr><th scope=row>8</th><td>0</td><td>0</td><td>1</td><td>2</td><td>3</td><td>1</td><td>2</td><td>3</td><td>5</td><td>3</td></tr>\n",
       "\t<tr><th scope=row>9</th><td>0</td><td>0</td><td>0</td><td>3</td><td>1</td><td>5</td><td>6</td><td>5</td><td>5</td><td>8</td></tr>\n",
       "\t<tr><th scope=row>10</th><td>0</td><td>1</td><td>1</td><td>2</td><td>1</td><td>3</td><td>5</td><td>3</td><td>5</td><td>8</td></tr>\n",
       "</tbody>\n",
       "</table>\n"
      ],
      "text/latex": [
       "\\begin{tabular}{r|llllllllll}\n",
       "  & V1 & V2 & V3 & V4 & V5 & V6 & V7 & V8 & V9 & V10\\\\\n",
       "\\hline\n",
       "\t5 & 0 & 1 & 1 & 3 & 3 & 1 & 3 & 5 & 2 & 4\\\\\n",
       "\t6 & 0 & 0 & 1 & 2 & 2 & 4 & 2 & 1 & 6 & 4\\\\\n",
       "\t7 & 0 & 0 & 2 & 2 & 4 & 2 & 2 & 5 & 5 & 8\\\\\n",
       "\t8 & 0 & 0 & 1 & 2 & 3 & 1 & 2 & 3 & 5 & 3\\\\\n",
       "\t9 & 0 & 0 & 0 & 3 & 1 & 5 & 6 & 5 & 5 & 8\\\\\n",
       "\t10 & 0 & 1 & 1 & 2 & 1 & 3 & 5 & 3 & 5 & 8\\\\\n",
       "\\end{tabular}\n"
      ],
      "text/plain": [
       "   V1 V2 V3 V4 V5 V6 V7 V8 V9 V10\n",
       "5   0  1  1  3  3  1  3  5  2   4\n",
       "6   0  0  1  2  2  4  2  1  6   4\n",
       "7   0  0  2  2  4  2  2  5  5   8\n",
       "8   0  0  1  2  3  1  2  3  5   3\n",
       "9   0  0  0  3  1  5  6  5  5   8\n",
       "10  0  1  1  2  1  3  5  3  5   8"
      ]
     },
     "execution_count": 20,
     "metadata": {},
     "output_type": "execute_result"
    }
   ],
   "source": [
    "dat[5:10, 1:10]"
   ]
  },
  {
   "cell_type": "markdown",
   "metadata": {},
   "source": [
    "We can use the function `c`, which stands for **c**ombine, to select non-contiguous values:"
   ]
  },
  {
   "cell_type": "code",
   "execution_count": 21,
   "metadata": {
    "collapsed": false
   },
   "outputs": [
    {
     "data": {
      "text/html": [
       "<table>\n",
       "<thead><tr><th></th><th scope=col>V10</th><th scope=col>V14</th><th scope=col>V29</th></tr></thead>\n",
       "<tbody>\n",
       "\t<tr><th scope=row>3</th><td>9</td><td>5</td><td>4</td></tr>\n",
       "\t<tr><th scope=row>8</th><td>3</td><td>5</td><td>6</td></tr>\n",
       "\t<tr><th scope=row>37</th><td>6</td><td>9</td><td>10</td></tr>\n",
       "\t<tr><th scope=row>56</th><td>7</td><td>11</td><td>9</td></tr>\n",
       "</tbody>\n",
       "</table>\n"
      ],
      "text/latex": [
       "\\begin{tabular}{r|lll}\n",
       "  & V10 & V14 & V29\\\\\n",
       "\\hline\n",
       "\t3 & 9 & 5 & 4\\\\\n",
       "\t8 & 3 & 5 & 6\\\\\n",
       "\t37 & 6 & 9 & 10\\\\\n",
       "\t56 & 7 & 11 & 9\\\\\n",
       "\\end{tabular}\n"
      ],
      "text/plain": [
       "   V10 V14 V29\n",
       "3    9   5   4\n",
       "8    3   5   6\n",
       "37   6   9  10\n",
       "56   7  11   9"
      ]
     },
     "execution_count": 21,
     "metadata": {},
     "output_type": "execute_result"
    }
   ],
   "source": [
    "dat[c(3, 8, 37, 56), c(10, 14, 29)]"
   ]
  },
  {
   "cell_type": "markdown",
   "metadata": {},
   "source": [
    "We also don't have to provide a slice for either the rows or the columns.\n",
    "If we don't include a slice for the rows, R returns all the rows; if we don't include a slice for the columns, R returns all the columns.\n",
    "If we don't provide a slice for either rows or columns, e.g. `dat[, ]`, R returns the full data frame."
   ]
  },
  {
   "cell_type": "code",
   "execution_count": 22,
   "metadata": {
    "collapsed": false
   },
   "outputs": [
    {
     "data": {
      "text/html": [
       "<table>\n",
       "<thead><tr><th></th><th scope=col>V1</th><th scope=col>V2</th><th scope=col>V3</th><th scope=col>V4</th><th scope=col>V5</th><th scope=col>V6</th><th scope=col>V7</th><th scope=col>V8</th><th scope=col>V9</th><th scope=col>V10</th><th scope=col>ellip.h</th><th scope=col>V31</th><th scope=col>V32</th><th scope=col>V33</th><th scope=col>V34</th><th scope=col>V35</th><th scope=col>V36</th><th scope=col>V37</th><th scope=col>V38</th><th scope=col>V39</th><th scope=col>V40</th></tr></thead>\n",
       "<tbody>\n",
       "\t<tr><th scope=row>5</th><td>0</td><td>1</td><td>1</td><td>3</td><td>3</td><td>1</td><td>3</td><td>5</td><td>2</td><td>4</td><td>⋯</td><td>9</td><td>6</td><td>3</td><td>2</td><td>2</td><td>4</td><td>2</td><td>0</td><td>1</td><td>1</td></tr>\n",
       "</tbody>\n",
       "</table>\n"
      ],
      "text/latex": [
       "\\begin{tabular}{r|llllllllllllllllllllllllllllllllllllllll}\n",
       "  & V1 & V2 & V3 & V4 & V5 & V6 & V7 & V8 & V9 & V10 & ellip.h & V31 & V32 & V33 & V34 & V35 & V36 & V37 & V38 & V39 & V40\\\\\n",
       "\\hline\n",
       "\t5 & 0 & 1 & 1 & 3 & 3 & 1 & 3 & 5 & 2 & 4 & ⋯ & 9 & 6 & 3 & 2 & 2 & 4 & 2 & 0 & 1 & 1\\\\\n",
       "\\end{tabular}\n"
      ],
      "text/plain": [
       "  V1 V2 V3 V4 V5 V6 V7 V8 V9 V10 V11 V12 V13 V14 V15 V16 V17 V18 V19 V20 V21\n",
       "5  0  1  1  3  3  1  3  5  2   4   4   7   6   5   3  10   8  10   6  17   9\n",
       "  V22 V23 V24 V25 V26 V27 V28 V29 V30 V31 V32 V33 V34 V35 V36 V37 V38 V39 V40\n",
       "5  14   9   7  13   9  12   6   7   7   9   6   3   2   2   4   2   0   1   1"
      ]
     },
     "execution_count": 22,
     "metadata": {},
     "output_type": "execute_result"
    }
   ],
   "source": [
    "# All columns from row 5\n",
    "dat[5, ]"
   ]
  },
  {
   "cell_type": "code",
   "execution_count": 23,
   "metadata": {
    "collapsed": false
   },
   "outputs": [
    {
     "data": {
      "text/html": [
       "<ol class=list-inline>\n",
       "\t<li>4</li>\n",
       "\t<li>4</li>\n",
       "\t<li>15</li>\n",
       "\t<li>8</li>\n",
       "\t<li>10</li>\n",
       "\t<li>15</li>\n",
       "\t<li>13</li>\n",
       "\t<li>9</li>\n",
       "\t<li>11</li>\n",
       "\t<li>6</li>\n",
       "\t<li>3</li>\n",
       "\t<li>8</li>\n",
       "\t<li>12</li>\n",
       "\t<li>3</li>\n",
       "\t<li>5</li>\n",
       "\t<li>10</li>\n",
       "\t<li>11</li>\n",
       "\t<li>4</li>\n",
       "\t<li>11</li>\n",
       "\t<li>13</li>\n",
       "\t<li>15</li>\n",
       "\t<li>5</li>\n",
       "\t<li>14</li>\n",
       "\t<li>13</li>\n",
       "\t<li>4</li>\n",
       "\t<li>9</li>\n",
       "\t<li>13</li>\n",
       "\t<li>6</li>\n",
       "\t<li>7</li>\n",
       "\t<li>6</li>\n",
       "\t<li>14</li>\n",
       "\t<li>3</li>\n",
       "\t<li>15</li>\n",
       "\t<li>4</li>\n",
       "\t<li>15</li>\n",
       "\t<li>11</li>\n",
       "\t<li>7</li>\n",
       "\t<li>10</li>\n",
       "\t<li>15</li>\n",
       "\t<li>6</li>\n",
       "\t<li>5</li>\n",
       "\t<li>6</li>\n",
       "\t<li>15</li>\n",
       "\t<li>11</li>\n",
       "\t<li>15</li>\n",
       "\t<li>6</li>\n",
       "\t<li>11</li>\n",
       "\t<li>15</li>\n",
       "\t<li>14</li>\n",
       "\t<li>4</li>\n",
       "\t<li>10</li>\n",
       "\t<li>15</li>\n",
       "\t<li>11</li>\n",
       "\t<li>6</li>\n",
       "\t<li>13</li>\n",
       "\t<li>8</li>\n",
       "\t<li>4</li>\n",
       "\t<li>13</li>\n",
       "\t<li>12</li>\n",
       "\t<li>9</li>\n",
       "</ol>\n"
      ],
      "text/latex": [
       "\\begin{enumerate*}\n",
       "\\item 4\n",
       "\\item 4\n",
       "\\item 15\n",
       "\\item 8\n",
       "\\item 10\n",
       "\\item 15\n",
       "\\item 13\n",
       "\\item 9\n",
       "\\item 11\n",
       "\\item 6\n",
       "\\item 3\n",
       "\\item 8\n",
       "\\item 12\n",
       "\\item 3\n",
       "\\item 5\n",
       "\\item 10\n",
       "\\item 11\n",
       "\\item 4\n",
       "\\item 11\n",
       "\\item 13\n",
       "\\item 15\n",
       "\\item 5\n",
       "\\item 14\n",
       "\\item 13\n",
       "\\item 4\n",
       "\\item 9\n",
       "\\item 13\n",
       "\\item 6\n",
       "\\item 7\n",
       "\\item 6\n",
       "\\item 14\n",
       "\\item 3\n",
       "\\item 15\n",
       "\\item 4\n",
       "\\item 15\n",
       "\\item 11\n",
       "\\item 7\n",
       "\\item 10\n",
       "\\item 15\n",
       "\\item 6\n",
       "\\item 5\n",
       "\\item 6\n",
       "\\item 15\n",
       "\\item 11\n",
       "\\item 15\n",
       "\\item 6\n",
       "\\item 11\n",
       "\\item 15\n",
       "\\item 14\n",
       "\\item 4\n",
       "\\item 10\n",
       "\\item 15\n",
       "\\item 11\n",
       "\\item 6\n",
       "\\item 13\n",
       "\\item 8\n",
       "\\item 4\n",
       "\\item 13\n",
       "\\item 12\n",
       "\\item 9\n",
       "\\end{enumerate*}\n"
      ],
      "text/markdown": [
       "1. 4\n",
       "2. 4\n",
       "3. 15\n",
       "4. 8\n",
       "5. 10\n",
       "6. 15\n",
       "7. 13\n",
       "8. 9\n",
       "9. 11\n",
       "10. 6\n",
       "11. 3\n",
       "12. 8\n",
       "13. 12\n",
       "14. 3\n",
       "15. 5\n",
       "16. 10\n",
       "17. 11\n",
       "18. 4\n",
       "19. 11\n",
       "20. 13\n",
       "21. 15\n",
       "22. 5\n",
       "23. 14\n",
       "24. 13\n",
       "25. 4\n",
       "26. 9\n",
       "27. 13\n",
       "28. 6\n",
       "29. 7\n",
       "30. 6\n",
       "31. 14\n",
       "32. 3\n",
       "33. 15\n",
       "34. 4\n",
       "35. 15\n",
       "36. 11\n",
       "37. 7\n",
       "38. 10\n",
       "39. 15\n",
       "40. 6\n",
       "41. 5\n",
       "42. 6\n",
       "43. 15\n",
       "44. 11\n",
       "45. 15\n",
       "46. 6\n",
       "47. 11\n",
       "48. 15\n",
       "49. 14\n",
       "50. 4\n",
       "51. 10\n",
       "52. 15\n",
       "53. 11\n",
       "54. 6\n",
       "55. 13\n",
       "56. 8\n",
       "57. 4\n",
       "58. 13\n",
       "59. 12\n",
       "60. 9\n",
       "\n",
       "\n"
      ],
      "text/plain": [
       " [1]  4  4 15  8 10 15 13  9 11  6  3  8 12  3  5 10 11  4 11 13 15  5 14 13  4\n",
       "[26]  9 13  6  7  6 14  3 15  4 15 11  7 10 15  6  5  6 15 11 15  6 11 15 14  4\n",
       "[51] 10 15 11  6 13  8  4 13 12  9"
      ]
     },
     "execution_count": 23,
     "metadata": {},
     "output_type": "execute_result"
    }
   ],
   "source": [
    "# All rows from column 16\n",
    "dat[, 16]"
   ]
  },
  {
   "cell_type": "markdown",
   "metadata": {},
   "source": [
    "Now let's perform some common mathematical operations to learn about our inflammation data.\n",
    "When analyzing data we often want to look at partial statistics, such as the maximum value per patient or the average value per day.\n",
    "One way to do this is to select the data we want to create a new temporary data frame, and then perform the calculation on this subset:"
   ]
  },
  {
   "cell_type": "code",
   "execution_count": 24,
   "metadata": {
    "collapsed": false
   },
   "outputs": [
    {
     "data": {
      "text/html": [
       "18"
      ],
      "text/latex": [
       "18"
      ],
      "text/markdown": [
       "18"
      ],
      "text/plain": [
       "[1] 18"
      ]
     },
     "execution_count": 24,
     "metadata": {},
     "output_type": "execute_result"
    }
   ],
   "source": [
    "# first row, all of the columns\n",
    "patient_1 <- dat[1, ]\n",
    "# max inflammation for patient 1\n",
    "max(patient_1)"
   ]
  },
  {
   "cell_type": "markdown",
   "metadata": {},
   "source": [
    "> ## Forcing Conversion\n",
    ">\n",
    "> The code above may give you an error in some R installations,\n",
    "> since R does not automatically convert a sliced row of a `data.frame` to a vector.\n",
    "> (Confusingly, sliced columns are automatically converted.)\n",
    "> If this happens, you can use the `as.numeric` command to convert the row of data to a numeric vector:\n",
    ">\n",
    "> `patient_1 <- as.numeric(dat[1, ])`\n",
    ">\n",
    "> `max(patient_1)`\n",
    ">\n",
    "> You can also check the `class` of each object:\n",
    ">\n",
    "> `class(dat[1, ])`\n",
    ">\n",
    "> `class(as.numeric(dat[1, ]))`\n",
    "{: .callout}\n",
    "\n",
    "We don't actually need to store the row in a variable of its own.\n",
    "Instead, we can combine the selection and the function call:"
   ]
  },
  {
   "cell_type": "code",
   "execution_count": 25,
   "metadata": {
    "collapsed": false
   },
   "outputs": [
    {
     "data": {
      "text/html": [
       "18"
      ],
      "text/latex": [
       "18"
      ],
      "text/markdown": [
       "18"
      ],
      "text/plain": [
       "[1] 18"
      ]
     },
     "execution_count": 25,
     "metadata": {},
     "output_type": "execute_result"
    }
   ],
   "source": [
    "# max inflammation for patient 2\n",
    "max(dat[2, ])"
   ]
  },
  {
   "cell_type": "markdown",
   "metadata": {},
   "source": [
    "R also has functions for other common calculations, e.g. finding the minimum, mean, median, and standard deviation of the data:"
   ]
  },
  {
   "cell_type": "code",
   "execution_count": null,
   "metadata": {
    "collapsed": true
   },
   "outputs": [],
   "source": [
    "# minimum inflammation on day 7\n",
    "min(dat[, 7])"
   ]
  },
  {
   "cell_type": "code",
   "execution_count": 26,
   "metadata": {
    "collapsed": false
   },
   "outputs": [
    {
     "data": {
      "text/html": [
       "3.8"
      ],
      "text/latex": [
       "3.8"
      ],
      "text/markdown": [
       "3.8"
      ],
      "text/plain": [
       "[1] 3.8"
      ]
     },
     "execution_count": 26,
     "metadata": {},
     "output_type": "execute_result"
    }
   ],
   "source": [
    "# mean inflammation on day 7\n",
    "mean(dat[, 7])"
   ]
  },
  {
   "cell_type": "code",
   "execution_count": 27,
   "metadata": {
    "collapsed": false
   },
   "outputs": [
    {
     "data": {
      "text/html": [
       "4"
      ],
      "text/latex": [
       "4"
      ],
      "text/markdown": [
       "4"
      ],
      "text/plain": [
       "[1] 4"
      ]
     },
     "execution_count": 27,
     "metadata": {},
     "output_type": "execute_result"
    }
   ],
   "source": [
    "# median inflammation on day 7\n",
    "median(dat[, 7])"
   ]
  },
  {
   "cell_type": "code",
   "execution_count": 28,
   "metadata": {
    "collapsed": false
   },
   "outputs": [
    {
     "data": {
      "text/html": [
       "1.72518729025016"
      ],
      "text/latex": [
       "1.72518729025016"
      ],
      "text/markdown": [
       "1.72518729025016"
      ],
      "text/plain": [
       "[1] 1.725187"
      ]
     },
     "execution_count": 28,
     "metadata": {},
     "output_type": "execute_result"
    }
   ],
   "source": [
    "# standard deviation of inflammation on day 7\n",
    "sd(dat[, 7])"
   ]
  },
  {
   "cell_type": "markdown",
   "metadata": {},
   "source": [
    "What if we need the maximum inflammation for all patients, or the average for each day?\n",
    "As the diagram below shows, we want to perform the operation across a margin of the data frame:\n",
    "\n",
    "<img src=\"../fig/r-operations-across-axes.png\" alt=\"Operations Across Axes\" />\n",
    "\n",
    "To support this, we can use the `apply` function.\n",
    "\n",
    "> ## Getting Help\n",
    ">\n",
    "> To learn about a function in R, e.g. `apply`, we can read its help\n",
    "> documention by running `help(apply)` or `?apply`.\n",
    "{: .callout}\n",
    "\n",
    "`apply` allows us to repeat a function on all of the rows (`MARGIN = 1`) or columns (`MARGIN = 2`) of a data frame.\n",
    "\n",
    "Thus, to obtain the average inflammation of each patient we will need to calculate the mean of all of the rows (`MARGIN = 1`) of the data frame."
   ]
  },
  {
   "cell_type": "code",
   "execution_count": 29,
   "metadata": {
    "collapsed": true
   },
   "outputs": [],
   "source": [
    "avg_patient_inflammation <- apply(dat, 1, mean)"
   ]
  },
  {
   "cell_type": "code",
   "execution_count": 30,
   "metadata": {
    "collapsed": true
   },
   "outputs": [],
   "source": [
    "avg_day_inflammation <- apply(dat, 2, mean)"
   ]
  },
  {
   "cell_type": "markdown",
   "metadata": {},
   "source": [
    "Since the second argument to `apply` is `MARGIN`, the above command is equivalent to `apply(dat, MARGIN = 2, mean)`.\n",
    "We'll learn why this is so in the next lesson."
   ]
  },
  {
   "cell_type": "markdown",
   "metadata": {},
   "source": [
    "> ## Slicing (Subsetting) Data\n",
    ">\n",
    "> A subsection of a data frame is called a [slice]({{ site.github.url }}/reference/#slice).\n",
    "> We can take slices of character vectors as well:"
   ]
  },
  {
   "cell_type": "code",
   "execution_count": 31,
   "metadata": {
    "collapsed": true
   },
   "outputs": [],
   "source": [
    "animal <- c(\"m\", \"o\", \"n\", \"k\", \"e\", \"y\")"
   ]
  },
  {
   "cell_type": "code",
   "execution_count": 32,
   "metadata": {
    "collapsed": false
   },
   "outputs": [
    {
     "data": {
      "text/html": [
       "<ol class=list-inline>\n",
       "\t<li>'m'</li>\n",
       "\t<li>'o'</li>\n",
       "\t<li>'n'</li>\n",
       "</ol>\n"
      ],
      "text/latex": [
       "\\begin{enumerate*}\n",
       "\\item 'm'\n",
       "\\item 'o'\n",
       "\\item 'n'\n",
       "\\end{enumerate*}\n"
      ],
      "text/markdown": [
       "1. 'm'\n",
       "2. 'o'\n",
       "3. 'n'\n",
       "\n",
       "\n"
      ],
      "text/plain": [
       "[1] \"m\" \"o\" \"n\""
      ]
     },
     "execution_count": 32,
     "metadata": {},
     "output_type": "execute_result"
    }
   ],
   "source": [
    "# first three characters\n",
    "animal[1:3]"
   ]
  },
  {
   "cell_type": "code",
   "execution_count": 33,
   "metadata": {
    "collapsed": false
   },
   "outputs": [
    {
     "data": {
      "text/html": [
       "<ol class=list-inline>\n",
       "\t<li>'k'</li>\n",
       "\t<li>'e'</li>\n",
       "\t<li>'y'</li>\n",
       "</ol>\n"
      ],
      "text/latex": [
       "\\begin{enumerate*}\n",
       "\\item 'k'\n",
       "\\item 'e'\n",
       "\\item 'y'\n",
       "\\end{enumerate*}\n"
      ],
      "text/markdown": [
       "1. 'k'\n",
       "2. 'e'\n",
       "3. 'y'\n",
       "\n",
       "\n"
      ],
      "text/plain": [
       "[1] \"k\" \"e\" \"y\""
      ]
     },
     "execution_count": 33,
     "metadata": {},
     "output_type": "execute_result"
    }
   ],
   "source": [
    " # last three characters\n",
    " animal[4:6]"
   ]
  },
  {
   "cell_type": "markdown",
   "metadata": {},
   "source": [
    "> 1.  If the first four characters are selected using the slice `animal[1:4]`, how can we obtain the first four characters in reverse order?\n",
    ">\n",
    "> 2.  What is `animal[-1]`?\n",
    ">    What is `animal[-4]`?\n",
    ">    Given those answers,\n",
    ">    explain what `animal[-1:-4]` does.\n",
    ">\n",
    "> 3.  Use a slice of `animal` to create a new character vector that spells the word \"eon\", i.e. `c(\"e\", \"o\", \"n\")`.\n",
    "{: .challenge}"
   ]
  },
  {
   "cell_type": "markdown",
   "metadata": {},
   "source": [
    "> ## Subsetting More Data\n",
    ">\n",
    "> Suppose you want to determine the maximum inflammation for patient 5 across days three to seven.\n",
    "> To do this you would extract the relevant slice from the data frame and calculate the maximum value.\n",
    "> Which of the following lines of R code gives the correct answer?\n",
    ">\n",
    "> 1. `max(dat[5, ])`\n",
    "> 2. `max(dat[3:7, 5])`\n",
    "> 3. `max(dat[5, 3:7])`\n",
    "> 4. `max(dat[5, 3, 7])`\n",
    "{: .challenge}"
   ]
  },
  {
   "cell_type": "markdown",
   "metadata": {},
   "source": [
    "> ## Slicing and Re-Assignment\n",
    ">\n",
    "> Using the inflammation data frame `dat` from above:\n",
    "> Let's pretend there was something wrong with the instrument on the first five days for every second patient (#2, 4, 6, etc.), which resulted in the measurements being twice as large as they should be.\n",
    ">\n",
    "> 1. Write a vector containing each affected patient (hint: `? seq`)\n",
    "> 2. Create a new data frame with in which you halve the first five days' values in only those patients\n",
    "> 3. Print out the corrected data frame to check that your code has fixed the problem\n",
    ">\n",
    "> > ## Solution\n",
    "> > ~~~\n",
    "> > whichPatients <- seq(2,40,2)\n",
    "> > whichDays <- c(1:5)\n",
    "> > dat2 <- dat\n",
    "> > dat2[whichPatients,whichDays] <- dat2[whichPatients,whichDays]/2\n",
    "> > (dat2)\n",
    "> > ~~~\n",
    "> > {: .r}\n",
    "> {: .solution}\n",
    "{: .challenge}\n",
    "\n",
    "\n",
    "> ## Using the Apply Function on Patient Data\n",
    ">\n",
    "> Challenge: the apply function can be used to summarize datasets and subsets\n",
    "> of data across rows and columns using the MARGIN argument.\n",
    "> Suppose you want to calculate the mean inflammation for specific days and patients\n",
    "> in the patient dataset (i.e. 60 patients across 40 days).\n",
    ">\n",
    "> Please use a combination of the apply function and indexing to:\n",
    ">\n",
    "> 1. calculate the mean inflammation for patients 1 to 5 over the whole 40 days\n",
    "> 1. calculate the mean inflammation for days 1 to 10 (across all patients).\n",
    "> 1. calculate the mean inflammation for every second day (across all patients).\n",
    ">\n",
    "> Think about the number of rows and columns you would expect as the result before each\n",
    "> apply call and check your intuition by applying the mean function."
   ]
  },
  {
   "cell_type": "markdown",
   "metadata": {},
   "source": [
    "> > ## Solution\n",
    "> > ~~~\n",
    "> > # 1.\n",
    "> > apply(dat[1:5, ], 1, mean)\n",
    "> > # 2.\n",
    "> > apply(dat[, 1:10], 2, mean)\n",
    "> > # 3.\n",
    "> > apply(dat[, seq(1,40, by=2)], 2, mean)\n",
    "> > ~~~\n",
    "> > {: .r}\n",
    "> {: .solution}\n",
    "{: .challenge}"
   ]
  },
  {
   "cell_type": "markdown",
   "metadata": {},
   "source": [
    "### Plotting\n",
    "\n",
    "The mathematician Richard Hamming once said, \"The purpose of computing is insight, not numbers,\" and the best way to develop insight is often to visualize data.\n",
    "Visualization deserves an entire lecture (or course) of its own, but we can explore a few of R's plotting features.\n",
    "\n",
    "Let's take a look at the average inflammation over time.\n",
    "Recall that we already calculated these values above using `apply(dat, 2, mean)` and saved them in the variable `avg_day_inflammation`.\n",
    "Plotting the values is done with the function `plot`."
   ]
  },
  {
   "cell_type": "code",
   "execution_count": 34,
   "metadata": {
    "collapsed": false
   },
   "outputs": [
    {
     "data": {
      "image/png": "[encoded data removed]",
      "image/svg+xml": [
       "<?xml version=\"1.0\" encoding=\"UTF-8\"?>\n",
       "<svg xmlns=\"http://www.w3.org/2000/svg\" xmlns:xlink=\"http://www.w3.org/1999/xlink\" width=\"504pt\" height=\"504pt\" viewBox=\"0 0 504 504\" version=\"1.1\">\n",
       "<defs>\n",
       "<g>\n",
       "<symbol overflow=\"visible\" id=\"glyph0-0\">\n",
       "<path style=\"stroke:none;\" d=\"\"/>\n",
       "</symbol>\n",
       "<symbol overflow=\"visible\" id=\"glyph0-1\">\n",
       "<path style=\"stroke:none;\" d=\"M 3.296875 -8.515625 C 2.515625 -8.515625 1.78125 -8.15625 1.34375 -7.578125 C 0.796875 -6.828125 0.515625 -5.6875 0.515625 -4.109375 C 0.515625 -1.25 1.46875 0.28125 3.296875 0.28125 C 5.09375 0.28125 6.078125 -1.25 6.078125 -4.046875 C 6.078125 -5.703125 5.8125 -6.796875 5.25 -7.578125 C 4.8125 -8.171875 4.109375 -8.515625 3.296875 -8.515625 Z M 3.296875 -7.578125 C 4.4375 -7.578125 5 -6.421875 5 -4.140625 C 5 -1.734375 4.453125 -0.59375 3.28125 -0.59375 C 2.15625 -0.59375 1.59375 -1.78125 1.59375 -4.109375 C 1.59375 -6.4375 2.15625 -7.578125 3.296875 -7.578125 Z \"/>\n",
       "</symbol>\n",
       "<symbol overflow=\"visible\" id=\"glyph0-2\">\n",
       "<path style=\"stroke:none;\" d=\"M 3.109375 -6.0625 L 3.109375 0 L 4.15625 0 L 4.15625 -8.515625 L 3.46875 -8.515625 C 3.09375 -7.203125 2.859375 -7.015625 1.21875 -6.8125 L 1.21875 -6.0625 Z \"/>\n",
       "</symbol>\n",
       "<symbol overflow=\"visible\" id=\"glyph0-3\">\n",
       "<path style=\"stroke:none;\" d=\"M 6.078125 -1.046875 L 1.59375 -1.046875 C 1.703125 -1.734375 2.09375 -2.1875 3.125 -2.796875 L 4.328125 -3.4375 C 5.515625 -4.09375 6.125 -4.96875 6.125 -6.015625 C 6.125 -6.71875 5.84375 -7.375 5.34375 -7.84375 C 4.84375 -8.296875 4.21875 -8.515625 3.40625 -8.515625 C 2.328125 -8.515625 1.53125 -8.125 1.0625 -7.40625 C 0.75 -6.953125 0.625 -6.421875 0.59375 -5.5625 L 1.65625 -5.5625 C 1.6875 -6.125 1.765625 -6.484375 1.90625 -6.75 C 2.1875 -7.265625 2.734375 -7.578125 3.375 -7.578125 C 4.328125 -7.578125 5.046875 -6.90625 5.046875 -5.984375 C 5.046875 -5.3125 4.65625 -4.734375 3.90625 -4.3125 L 2.796875 -3.6875 C 1.015625 -2.671875 0.5 -1.875 0.40625 0 L 6.078125 0 Z \"/>\n",
       "</symbol>\n",
       "<symbol overflow=\"visible\" id=\"glyph0-4\">\n",
       "<path style=\"stroke:none;\" d=\"M 2.65625 -3.90625 L 3.234375 -3.90625 C 4.390625 -3.90625 4.984375 -3.390625 4.984375 -2.359375 C 4.984375 -1.296875 4.328125 -0.65625 3.234375 -0.65625 C 2.078125 -0.65625 1.515625 -1.234375 1.4375 -2.46875 L 0.390625 -2.46875 C 0.4375 -1.78125 0.546875 -1.34375 0.75 -0.953125 C 1.1875 -0.140625 2.03125 0.28125 3.1875 0.28125 C 4.9375 0.28125 6.078125 -0.765625 6.078125 -2.375 C 6.078125 -3.453125 5.65625 -4.0625 4.625 -4.40625 C 5.421875 -4.71875 5.8125 -5.3125 5.8125 -6.171875 C 5.8125 -7.625 4.84375 -8.515625 3.234375 -8.515625 C 1.515625 -8.515625 0.59375 -7.578125 0.5625 -5.765625 L 1.625 -5.765625 C 1.625 -6.28125 1.6875 -6.5625 1.8125 -6.828125 C 2.046875 -7.296875 2.578125 -7.578125 3.234375 -7.578125 C 4.171875 -7.578125 4.734375 -7.03125 4.734375 -6.125 C 4.734375 -5.53125 4.53125 -5.171875 4.0625 -4.984375 C 3.765625 -4.859375 3.390625 -4.8125 2.65625 -4.796875 Z \"/>\n",
       "</symbol>\n",
       "<symbol overflow=\"visible\" id=\"glyph0-5\">\n",
       "<path style=\"stroke:none;\" d=\"M 3.921875 -2.046875 L 3.921875 0 L 4.984375 0 L 4.984375 -2.046875 L 6.234375 -2.046875 L 6.234375 -2.984375 L 4.984375 -2.984375 L 4.984375 -8.515625 L 4.203125 -8.515625 L 0.34375 -3.15625 L 0.34375 -2.046875 Z M 3.921875 -2.984375 L 1.265625 -2.984375 L 3.921875 -6.703125 Z \"/>\n",
       "</symbol>\n",
       "<symbol overflow=\"visible\" id=\"glyph0-6\">\n",
       "<path style=\"stroke:none;\" d=\"M 2.328125 -8.75 L 1.203125 -8.75 L 1.203125 0 L 2.328125 0 Z \"/>\n",
       "</symbol>\n",
       "<symbol overflow=\"visible\" id=\"glyph0-7\">\n",
       "<path style=\"stroke:none;\" d=\"M 0.84375 -6.28125 L 0.84375 0 L 1.84375 0 L 1.84375 -3.46875 C 1.84375 -4.75 2.515625 -5.59375 3.546875 -5.59375 C 4.34375 -5.59375 4.84375 -5.109375 4.84375 -4.359375 L 4.84375 0 L 5.84375 0 L 5.84375 -4.75 C 5.84375 -5.796875 5.0625 -6.46875 3.859375 -6.46875 C 2.921875 -6.46875 2.3125 -6.109375 1.765625 -5.234375 L 1.765625 -6.28125 Z \"/>\n",
       "</symbol>\n",
       "<symbol overflow=\"visible\" id=\"glyph0-8\">\n",
       "<path style=\"stroke:none;\" d=\"M 5.9375 -8.75 L 4.9375 -8.75 L 4.9375 -5.5 C 4.53125 -6.125 3.859375 -6.46875 3.015625 -6.46875 C 1.375 -6.46875 0.3125 -5.15625 0.3125 -3.15625 C 0.3125 -1.03125 1.359375 0.28125 3.046875 0.28125 C 3.90625 0.28125 4.515625 -0.046875 5.046875 -0.828125 L 5.046875 0 L 5.9375 0 Z M 3.1875 -5.53125 C 4.265625 -5.53125 4.9375 -4.578125 4.9375 -3.078125 C 4.9375 -1.625 4.25 -0.65625 3.1875 -0.65625 C 2.09375 -0.65625 1.359375 -1.625 1.359375 -3.09375 C 1.359375 -4.5625 2.09375 -5.53125 3.1875 -5.53125 Z \"/>\n",
       "</symbol>\n",
       "<symbol overflow=\"visible\" id=\"glyph0-9\">\n",
       "<path style=\"stroke:none;\" d=\"M 6.15625 -2.8125 C 6.15625 -3.765625 6.078125 -4.34375 5.90625 -4.8125 C 5.5 -5.84375 4.53125 -6.46875 3.359375 -6.46875 C 1.609375 -6.46875 0.484375 -5.125 0.484375 -3.0625 C 0.484375 -1 1.578125 0.28125 3.34375 0.28125 C 4.78125 0.28125 5.765625 -0.546875 6.03125 -1.90625 L 5.015625 -1.90625 C 4.734375 -1.078125 4.171875 -0.640625 3.375 -0.640625 C 2.734375 -0.640625 2.203125 -0.9375 1.859375 -1.46875 C 1.625 -1.828125 1.53125 -2.1875 1.53125 -2.8125 Z M 1.546875 -3.625 C 1.625 -4.78125 2.34375 -5.546875 3.34375 -5.546875 C 4.328125 -5.546875 5.09375 -4.734375 5.09375 -3.703125 C 5.09375 -3.671875 5.09375 -3.640625 5.078125 -3.625 Z \"/>\n",
       "</symbol>\n",
       "<symbol overflow=\"visible\" id=\"glyph0-10\">\n",
       "<path style=\"stroke:none;\" d=\"M 3.5 -3.25 L 5.609375 -6.28125 L 4.484375 -6.28125 L 2.96875 -4.015625 L 1.46875 -6.28125 L 0.328125 -6.28125 L 2.421875 -3.203125 L 0.203125 0 L 1.34375 0 L 2.9375 -2.40625 L 4.515625 0 L 5.671875 0 Z \"/>\n",
       "</symbol>\n",
       "<symbol overflow=\"visible\" id=\"glyph1-0\">\n",
       "<path style=\"stroke:none;\" d=\"\"/>\n",
       "</symbol>\n",
       "<symbol overflow=\"visible\" id=\"glyph1-1\">\n",
       "<path style=\"stroke:none;\" d=\"M -8.515625 -3.296875 C -8.515625 -2.515625 -8.15625 -1.78125 -7.578125 -1.34375 C -6.828125 -0.796875 -5.6875 -0.515625 -4.109375 -0.515625 C -1.25 -0.515625 0.28125 -1.46875 0.28125 -3.296875 C 0.28125 -5.09375 -1.25 -6.078125 -4.046875 -6.078125 C -5.703125 -6.078125 -6.796875 -5.8125 -7.578125 -5.25 C -8.171875 -4.8125 -8.515625 -4.109375 -8.515625 -3.296875 Z M -7.578125 -3.296875 C -7.578125 -4.4375 -6.421875 -5 -4.140625 -5 C -1.734375 -5 -0.59375 -4.453125 -0.59375 -3.28125 C -0.59375 -2.15625 -1.78125 -1.59375 -4.109375 -1.59375 C -6.4375 -1.59375 -7.578125 -2.15625 -7.578125 -3.296875 Z \"/>\n",
       "</symbol>\n",
       "<symbol overflow=\"visible\" id=\"glyph1-2\">\n",
       "<path style=\"stroke:none;\" d=\"M -1.046875 -6.078125 L -1.046875 -1.59375 C -1.734375 -1.703125 -2.1875 -2.09375 -2.796875 -3.125 L -3.4375 -4.328125 C -4.09375 -5.515625 -4.96875 -6.125 -6.015625 -6.125 C -6.71875 -6.125 -7.375 -5.84375 -7.84375 -5.34375 C -8.296875 -4.84375 -8.515625 -4.21875 -8.515625 -3.40625 C -8.515625 -2.328125 -8.125 -1.53125 -7.40625 -1.0625 C -6.953125 -0.75 -6.421875 -0.625 -5.5625 -0.59375 L -5.5625 -1.65625 C -6.125 -1.6875 -6.484375 -1.765625 -6.75 -1.90625 C -7.265625 -2.1875 -7.578125 -2.734375 -7.578125 -3.375 C -7.578125 -4.328125 -6.90625 -5.046875 -5.984375 -5.046875 C -5.3125 -5.046875 -4.734375 -4.65625 -4.3125 -3.90625 L -3.6875 -2.796875 C -2.671875 -1.015625 -1.875 -0.5 0 -0.40625 L 0 -6.078125 Z \"/>\n",
       "</symbol>\n",
       "<symbol overflow=\"visible\" id=\"glyph1-3\">\n",
       "<path style=\"stroke:none;\" d=\"M -2.046875 -3.921875 L 0 -3.921875 L 0 -4.984375 L -2.046875 -4.984375 L -2.046875 -6.234375 L -2.984375 -6.234375 L -2.984375 -4.984375 L -8.515625 -4.984375 L -8.515625 -4.203125 L -3.15625 -0.34375 L -2.046875 -0.34375 Z M -2.984375 -3.921875 L -2.984375 -1.265625 L -6.703125 -3.921875 Z \"/>\n",
       "</symbol>\n",
       "<symbol overflow=\"visible\" id=\"glyph1-4\">\n",
       "<path style=\"stroke:none;\" d=\"M -6.28125 -5.96875 C -7.6875 -5.765625 -8.515625 -4.859375 -8.515625 -3.5625 C -8.515625 -2.625 -8.046875 -1.78125 -7.296875 -1.28125 C -6.46875 -0.75 -5.421875 -0.515625 -3.875 -0.515625 C -2.453125 -0.515625 -1.53125 -0.734375 -0.78125 -1.234375 C -0.09375 -1.6875 0.28125 -2.4375 0.28125 -3.375 C 0.28125 -4.984375 -0.921875 -6.15625 -2.59375 -6.15625 C -4.171875 -6.15625 -5.296875 -5.078125 -5.296875 -3.546875 C -5.296875 -2.71875 -4.96875 -2.046875 -4.34375 -1.59375 C -6.421875 -1.609375 -7.578125 -2.28125 -7.578125 -3.484375 C -7.578125 -4.234375 -7.109375 -4.75 -6.28125 -4.921875 Z M -4.359375 -3.421875 C -4.359375 -4.4375 -3.640625 -5.078125 -2.515625 -5.078125 C -1.4375 -5.078125 -0.65625 -4.359375 -0.65625 -3.390625 C -0.65625 -2.40625 -1.46875 -1.65625 -2.5625 -1.65625 C -3.625 -1.65625 -4.359375 -2.375 -4.359375 -3.421875 Z \"/>\n",
       "</symbol>\n",
       "<symbol overflow=\"visible\" id=\"glyph1-5\">\n",
       "<path style=\"stroke:none;\" d=\"M -4.46875 -4.6875 C -5 -5.5625 -5.4375 -5.859375 -6.234375 -5.859375 C -7.578125 -5.859375 -8.515625 -4.8125 -8.515625 -3.296875 C -8.515625 -1.796875 -7.578125 -0.75 -6.234375 -0.75 C -5.453125 -0.75 -5.015625 -1.03125 -4.46875 -1.890625 C -4.015625 -0.921875 -3.296875 -0.4375 -2.359375 -0.4375 C -0.796875 -0.4375 0.28125 -1.625 0.28125 -3.296875 C 0.28125 -4.984375 -0.796875 -6.15625 -2.359375 -6.15625 C -3.296875 -6.15625 -4.015625 -5.671875 -4.46875 -4.6875 Z M -7.578125 -3.296875 C -7.578125 -4.203125 -7.046875 -4.78125 -6.21875 -4.78125 C -5.421875 -4.78125 -4.890625 -4.1875 -4.890625 -3.296875 C -4.890625 -2.40625 -5.421875 -1.828125 -6.234375 -1.828125 C -7.046875 -1.828125 -7.578125 -2.40625 -7.578125 -3.296875 Z M -4.015625 -3.296875 C -4.015625 -4.359375 -3.34375 -5.078125 -2.34375 -5.078125 C -1.328125 -5.078125 -0.65625 -4.359375 -0.65625 -3.28125 C -0.65625 -2.25 -1.34375 -1.53125 -2.34375 -1.53125 C -3.34375 -1.53125 -4.015625 -2.25 -4.015625 -3.296875 Z \"/>\n",
       "</symbol>\n",
       "<symbol overflow=\"visible\" id=\"glyph1-6\">\n",
       "<path style=\"stroke:none;\" d=\"M -6.0625 -3.109375 L 0 -3.109375 L 0 -4.15625 L -8.515625 -4.15625 L -8.515625 -3.46875 C -7.203125 -3.09375 -7.015625 -2.859375 -6.8125 -1.21875 L -6.0625 -1.21875 Z \"/>\n",
       "</symbol>\n",
       "<symbol overflow=\"visible\" id=\"glyph1-7\">\n",
       "<path style=\"stroke:none;\" d=\"M -0.59375 -6.421875 C -0.5625 -6.3125 -0.5625 -6.265625 -0.5625 -6.203125 C -0.5625 -5.859375 -0.75 -5.65625 -1.0625 -5.65625 L -4.75 -5.65625 C -5.875 -5.65625 -6.46875 -4.84375 -6.46875 -3.296875 C -6.46875 -2.390625 -6.203125 -1.625 -5.734375 -1.21875 C -5.40625 -0.921875 -5.046875 -0.796875 -4.421875 -0.78125 L -4.421875 -1.78125 C -5.203125 -1.875 -5.546875 -2.328125 -5.546875 -3.265625 C -5.546875 -4.15625 -5.203125 -4.671875 -4.609375 -4.671875 L -4.34375 -4.671875 C -3.921875 -4.671875 -3.75 -4.421875 -3.640625 -3.625 C -3.46875 -2.203125 -3.421875 -1.984375 -3.265625 -1.609375 C -2.96875 -0.875 -2.40625 -0.5 -1.578125 -0.5 C -0.4375 -0.5 0.28125 -1.296875 0.28125 -2.5625 C 0.28125 -3.359375 0 -4 -0.640625 -4.703125 C -0.015625 -4.78125 0.28125 -5.09375 0.28125 -5.734375 C 0.28125 -5.9375 0.25 -6.09375 0.171875 -6.421875 Z M -1.984375 -4.671875 C -1.640625 -4.671875 -1.4375 -4.578125 -1.15625 -4.265625 C -0.796875 -3.859375 -0.59375 -3.375 -0.59375 -2.78125 C -0.59375 -2 -0.96875 -1.546875 -1.609375 -1.546875 C -2.265625 -1.546875 -2.609375 -1.984375 -2.765625 -3.0625 C -2.90625 -4.109375 -2.953125 -4.328125 -3.109375 -4.671875 Z \"/>\n",
       "</symbol>\n",
       "<symbol overflow=\"visible\" id=\"glyph1-8\">\n",
       "<path style=\"stroke:none;\" d=\"M 0 -3.421875 L -6.28125 -5.828125 L -6.28125 -4.703125 L -1.1875 -2.921875 L -6.28125 -1.25 L -6.28125 -0.125 L 0 -2.328125 Z \"/>\n",
       "</symbol>\n",
       "<symbol overflow=\"visible\" id=\"glyph1-9\">\n",
       "<path style=\"stroke:none;\" d=\"M -6.28125 -4.9375 L -5.375 -4.9375 C -6.125 -4.4375 -6.46875 -3.828125 -6.46875 -3.03125 C -6.46875 -1.421875 -5.078125 -0.34375 -3.03125 -0.34375 C -2 -0.34375 -1.15625 -0.625 -0.5625 -1.140625 C -0.03125 -1.609375 0.28125 -2.28125 0.28125 -2.9375 C 0.28125 -3.734375 -0.0625 -4.28125 -0.859375 -4.84375 L -0.53125 -4.84375 C 0.328125 -4.84375 0.84375 -4.734375 1.1875 -4.484375 C 1.5625 -4.21875 1.78125 -3.703125 1.78125 -3.09375 C 1.78125 -2.640625 1.65625 -2.234375 1.4375 -1.953125 C 1.265625 -1.734375 1.09375 -1.625 0.71875 -1.578125 L 0.71875 -0.546875 C 1.90625 -0.65625 2.609375 -1.578125 2.609375 -3.0625 C 2.609375 -4 2.3125 -4.796875 1.8125 -5.203125 C 1.234375 -5.6875 0.4375 -5.875 -1.03125 -5.875 L -6.28125 -5.875 Z M -5.546875 -3.125 C -5.546875 -4.21875 -4.625 -4.84375 -3.0625 -4.84375 C -1.5625 -4.84375 -0.640625 -4.203125 -0.640625 -3.140625 C -0.640625 -2.046875 -1.578125 -1.390625 -3.09375 -1.390625 C -4.609375 -1.390625 -5.546875 -2.0625 -5.546875 -3.125 Z \"/>\n",
       "</symbol>\n",
       "<symbol overflow=\"visible\" id=\"glyph1-10\">\n",
       "<path style=\"stroke:none;\" d=\"M 1.515625 -6.9375 L 1.515625 0.265625 L 2.109375 0.265625 L 2.109375 -6.9375 Z \"/>\n",
       "</symbol>\n",
       "<symbol overflow=\"visible\" id=\"glyph1-11\">\n",
       "<path style=\"stroke:none;\" d=\"M -8.75 -5.9375 L -8.75 -4.9375 L -5.5 -4.9375 C -6.125 -4.53125 -6.46875 -3.859375 -6.46875 -3.015625 C -6.46875 -1.375 -5.15625 -0.3125 -3.15625 -0.3125 C -1.03125 -0.3125 0.28125 -1.359375 0.28125 -3.046875 C 0.28125 -3.90625 -0.046875 -4.515625 -0.828125 -5.046875 L 0 -5.046875 L 0 -5.9375 Z M -5.53125 -3.1875 C -5.53125 -4.265625 -4.578125 -4.9375 -3.078125 -4.9375 C -1.625 -4.9375 -0.65625 -4.25 -0.65625 -3.1875 C -0.65625 -2.09375 -1.625 -1.359375 -3.09375 -1.359375 C -4.5625 -1.359375 -5.53125 -2.09375 -5.53125 -3.1875 Z \"/>\n",
       "</symbol>\n",
       "<symbol overflow=\"visible\" id=\"glyph1-12\">\n",
       "<path style=\"stroke:none;\" d=\"M -6.28125 -4.65625 L -1.390625 -2.921875 L -6.28125 -1.3125 L -6.28125 -0.234375 L 0.03125 -2.359375 L 1.015625 -1.984375 C 1.46875 -1.828125 1.625 -1.59375 1.625 -1.171875 C 1.625 -1.03125 1.609375 -0.859375 1.5625 -0.640625 L 2.453125 -0.640625 C 2.5625 -0.859375 2.609375 -1.0625 2.609375 -1.3125 C 2.609375 -1.640625 2.515625 -1.984375 2.3125 -2.25 C 2.09375 -2.5625 1.828125 -2.75 1.3125 -2.9375 L -6.28125 -5.734375 Z \"/>\n",
       "</symbol>\n",
       "<symbol overflow=\"visible\" id=\"glyph1-13\">\n",
       "<path style=\"stroke:none;\" d=\"M -6.28125 -1.796875 L -6.28125 -0.796875 L 0 -0.796875 L 0 -1.796875 Z M -8.75 -1.796875 L -8.75 -0.796875 L -7.484375 -0.796875 L -7.484375 -1.796875 Z \"/>\n",
       "</symbol>\n",
       "<symbol overflow=\"visible\" id=\"glyph1-14\">\n",
       "<path style=\"stroke:none;\" d=\"M -6.28125 -0.84375 L 0 -0.84375 L 0 -1.84375 L -3.46875 -1.84375 C -4.75 -1.84375 -5.59375 -2.515625 -5.59375 -3.546875 C -5.59375 -4.34375 -5.109375 -4.84375 -4.359375 -4.84375 L 0 -4.84375 L 0 -5.84375 L -4.75 -5.84375 C -5.796875 -5.84375 -6.46875 -5.0625 -6.46875 -3.859375 C -6.46875 -2.921875 -6.109375 -2.3125 -5.234375 -1.765625 L -6.28125 -1.765625 Z \"/>\n",
       "</symbol>\n",
       "<symbol overflow=\"visible\" id=\"glyph1-15\">\n",
       "<path style=\"stroke:none;\" d=\"M -6.28125 -3.09375 L -6.28125 -2.046875 L -7.265625 -2.046875 C -7.6875 -2.046875 -7.90625 -2.296875 -7.90625 -2.75 C -7.90625 -2.828125 -7.90625 -2.875 -7.890625 -3.09375 L -8.71875 -3.09375 C -8.765625 -2.875 -8.78125 -2.734375 -8.78125 -2.53125 C -8.78125 -1.609375 -8.25 -1.0625 -7.359375 -1.0625 L -6.28125 -1.0625 L -6.28125 -0.21875 L -5.46875 -0.21875 L -5.46875 -1.0625 L 0 -1.0625 L 0 -2.046875 L -5.46875 -2.046875 L -5.46875 -3.09375 Z \"/>\n",
       "</symbol>\n",
       "<symbol overflow=\"visible\" id=\"glyph1-16\">\n",
       "<path style=\"stroke:none;\" d=\"M -8.75 -1.828125 L -8.75 -0.8125 L 0 -0.8125 L 0 -1.828125 Z \"/>\n",
       "</symbol>\n",
       "<symbol overflow=\"visible\" id=\"glyph1-17\">\n",
       "<path style=\"stroke:none;\" d=\"M -6.28125 -0.84375 L 0 -0.84375 L 0 -1.84375 L -3.953125 -1.84375 C -4.859375 -1.84375 -5.59375 -2.515625 -5.59375 -3.328125 C -5.59375 -4.0625 -5.140625 -4.484375 -4.328125 -4.484375 L 0 -4.484375 L 0 -5.5 L -3.953125 -5.5 C -4.859375 -5.5 -5.59375 -6.15625 -5.59375 -6.96875 C -5.59375 -7.703125 -5.125 -8.140625 -4.328125 -8.140625 L 0 -8.140625 L 0 -9.140625 L -4.71875 -9.140625 C -5.84375 -9.140625 -6.46875 -8.5 -6.46875 -7.3125 C -6.46875 -6.484375 -6.21875 -5.96875 -5.515625 -5.390625 C -6.1875 -5.015625 -6.46875 -4.515625 -6.46875 -3.703125 C -6.46875 -2.859375 -6.15625 -2.296875 -5.40625 -1.765625 L -6.28125 -1.765625 Z \"/>\n",
       "</symbol>\n",
       "<symbol overflow=\"visible\" id=\"glyph1-18\">\n",
       "<path style=\"stroke:none;\" d=\"M -6.28125 -3.046875 L -6.28125 -2.015625 L -8.015625 -2.015625 L -8.015625 -1.015625 L -6.28125 -1.015625 L -6.28125 -0.171875 L -5.46875 -0.171875 L -5.46875 -1.015625 L -0.71875 -1.015625 C -0.078125 -1.015625 0.28125 -1.453125 0.28125 -2.234375 C 0.28125 -2.46875 0.25 -2.71875 0.1875 -3.046875 L -0.640625 -3.046875 C -0.609375 -2.921875 -0.59375 -2.765625 -0.59375 -2.5625 C -0.59375 -2.140625 -0.71875 -2.015625 -1.15625 -2.015625 L -5.46875 -2.015625 L -5.46875 -3.046875 Z \"/>\n",
       "</symbol>\n",
       "<symbol overflow=\"visible\" id=\"glyph1-19\">\n",
       "<path style=\"stroke:none;\" d=\"M -6.46875 -3.265625 C -6.46875 -1.5 -5.203125 -0.4375 -3.09375 -0.4375 C -0.984375 -0.4375 0.28125 -1.484375 0.28125 -3.28125 C 0.28125 -5.046875 -0.984375 -6.125 -3.046875 -6.125 C -5.21875 -6.125 -6.46875 -5.078125 -6.46875 -3.265625 Z M -5.546875 -3.28125 C -5.546875 -4.40625 -4.625 -5.078125 -3.0625 -5.078125 C -1.578125 -5.078125 -0.640625 -4.375 -0.640625 -3.28125 C -0.640625 -2.15625 -1.578125 -1.46875 -3.09375 -1.46875 C -4.609375 -1.46875 -5.546875 -2.15625 -5.546875 -3.28125 Z \"/>\n",
       "</symbol>\n",
       "</g>\n",
       "</defs>\n",
       "<g id=\"surface45\">\n",
       "<rect x=\"0\" y=\"0\" width=\"504\" height=\"504\" style=\"fill:rgb(100%,100%,100%);fill-opacity:1;stroke:none;\"/>\n",
       "<path style=\"fill:none;stroke-width:0.75;stroke-linecap:round;stroke-linejoin:round;stroke:rgb(0%,0%,0%);stroke-opacity:1;stroke-miterlimit:10;\" d=\"M 77.101562 416.800781 C 77.101562 420.398438 71.699219 420.398438 71.699219 416.800781 C 71.699219 413.199219 77.101562 413.199219 77.101562 416.800781 \"/>\n",
       "<path style=\"fill:none;stroke-width:0.75;stroke-linecap:round;stroke-linejoin:round;stroke:rgb(0%,0%,0%);stroke-opacity:1;stroke-miterlimit:10;\" d=\"M 86.945312 405.117188 C 86.945312 408.71875 81.546875 408.71875 81.546875 405.117188 C 81.546875 401.515625 86.945312 401.515625 86.945312 405.117188 \"/>\n",
       "<path style=\"fill:none;stroke-width:0.75;stroke-linecap:round;stroke-linejoin:round;stroke:rgb(0%,0%,0%);stroke-opacity:1;stroke-miterlimit:10;\" d=\"M 96.792969 387.808594 C 96.792969 391.410156 91.390625 391.410156 91.390625 387.808594 C 91.390625 384.207031 96.792969 384.207031 96.792969 387.808594 \"/>\n",
       "<path style=\"fill:none;stroke-width:0.75;stroke-linecap:round;stroke-linejoin:round;stroke:rgb(0%,0%,0%);stroke-opacity:1;stroke-miterlimit:10;\" d=\"M 106.636719 371.367188 C 106.636719 374.964844 101.238281 374.964844 101.238281 371.367188 C 101.238281 367.765625 106.636719 367.765625 106.636719 371.367188 \"/>\n",
       "<path style=\"fill:none;stroke-width:0.75;stroke-linecap:round;stroke-linejoin:round;stroke:rgb(0%,0%,0%);stroke-opacity:1;stroke-miterlimit:10;\" d=\"M 116.484375 353.625 C 116.484375 357.226562 111.085938 357.226562 111.085938 353.625 C 111.085938 350.023438 116.484375 350.023438 116.484375 353.625 \"/>\n",
       "<path style=\"fill:none;stroke-width:0.75;stroke-linecap:round;stroke-linejoin:round;stroke:rgb(0%,0%,0%);stroke-opacity:1;stroke-miterlimit:10;\" d=\"M 126.332031 335.019531 C 126.332031 338.617188 120.929688 338.617188 120.929688 335.019531 C 120.929688 331.417969 126.332031 331.417969 126.332031 335.019531 \"/>\n",
       "<path style=\"fill:none;stroke-width:0.75;stroke-linecap:round;stroke-linejoin:round;stroke:rgb(0%,0%,0%);stroke-opacity:1;stroke-miterlimit:10;\" d=\"M 136.175781 318.144531 C 136.175781 321.742188 130.777344 321.742188 130.777344 318.144531 C 130.777344 314.542969 136.175781 314.542969 136.175781 318.144531 \"/>\n",
       "<path style=\"fill:none;stroke-width:0.75;stroke-linecap:round;stroke-linejoin:round;stroke:rgb(0%,0%,0%);stroke-opacity:1;stroke-miterlimit:10;\" d=\"M 146.023438 315.980469 C 146.023438 319.578125 140.625 319.578125 140.625 315.980469 C 140.625 312.378906 146.023438 312.378906 146.023438 315.980469 \"/>\n",
       "<path style=\"fill:none;stroke-width:0.75;stroke-linecap:round;stroke-linejoin:round;stroke:rgb(0%,0%,0%);stroke-opacity:1;stroke-miterlimit:10;\" d=\"M 155.871094 280.929688 C 155.871094 284.53125 150.46875 284.53125 150.46875 280.929688 C 150.46875 277.332031 155.871094 277.332031 155.871094 280.929688 \"/>\n",
       "<path style=\"fill:none;stroke-width:0.75;stroke-linecap:round;stroke-linejoin:round;stroke:rgb(0%,0%,0%);stroke-opacity:1;stroke-miterlimit:10;\" d=\"M 165.714844 273.574219 C 165.714844 277.175781 160.316406 277.175781 160.316406 273.574219 C 160.316406 269.976562 165.714844 269.976562 165.714844 273.574219 \"/>\n",
       "<path style=\"fill:none;stroke-width:0.75;stroke-linecap:round;stroke-linejoin:round;stroke:rgb(0%,0%,0%);stroke-opacity:1;stroke-miterlimit:10;\" d=\"M 175.5625 262.324219 C 175.5625 265.925781 170.160156 265.925781 170.160156 262.324219 C 170.160156 258.722656 175.5625 258.722656 175.5625 262.324219 \"/>\n",
       "<path style=\"fill:none;stroke-width:0.75;stroke-linecap:round;stroke-linejoin:round;stroke:rgb(0%,0%,0%);stroke-opacity:1;stroke-miterlimit:10;\" d=\"M 185.40625 263.621094 C 185.40625 267.222656 180.007812 267.222656 180.007812 263.621094 C 180.007812 260.023438 185.40625 260.023438 185.40625 263.621094 \"/>\n",
       "<path style=\"fill:none;stroke-width:0.75;stroke-linecap:round;stroke-linejoin:round;stroke:rgb(0%,0%,0%);stroke-opacity:1;stroke-miterlimit:10;\" d=\"M 195.253906 200.015625 C 195.253906 203.613281 189.855469 203.613281 189.855469 200.015625 C 189.855469 196.414062 195.253906 196.414062 195.253906 200.015625 \"/>\n",
       "<path style=\"fill:none;stroke-width:0.75;stroke-linecap:round;stroke-linejoin:round;stroke:rgb(0%,0%,0%);stroke-opacity:1;stroke-miterlimit:10;\" d=\"M 205.101562 216.023438 C 205.101562 219.625 199.699219 219.625 199.699219 216.023438 C 199.699219 212.425781 205.101562 212.425781 205.101562 216.023438 \"/>\n",
       "<path style=\"fill:none;stroke-width:0.75;stroke-linecap:round;stroke-linejoin:round;stroke:rgb(0%,0%,0%);stroke-opacity:1;stroke-miterlimit:10;\" d=\"M 214.945312 199.582031 C 214.945312 203.183594 209.546875 203.183594 209.546875 199.582031 C 209.546875 195.980469 214.945312 195.980469 214.945312 199.582031 \"/>\n",
       "<path style=\"fill:none;stroke-width:0.75;stroke-linecap:round;stroke-linejoin:round;stroke:rgb(0%,0%,0%);stroke-opacity:1;stroke-miterlimit:10;\" d=\"M 224.792969 170.160156 C 224.792969 173.757812 219.390625 173.757812 219.390625 170.160156 C 219.390625 166.558594 224.792969 166.558594 224.792969 170.160156 \"/>\n",
       "<path style=\"fill:none;stroke-width:0.75;stroke-linecap:round;stroke-linejoin:round;stroke:rgb(0%,0%,0%);stroke-opacity:1;stroke-miterlimit:10;\" d=\"M 234.636719 167.996094 C 234.636719 171.59375 229.238281 171.59375 229.238281 167.996094 C 229.238281 164.394531 234.636719 164.394531 234.636719 167.996094 \"/>\n",
       "<path style=\"fill:none;stroke-width:0.75;stroke-linecap:round;stroke-linejoin:round;stroke:rgb(0%,0%,0%);stroke-opacity:1;stroke-miterlimit:10;\" d=\"M 244.484375 140.734375 C 244.484375 144.335938 239.085938 144.335938 239.085938 140.734375 C 239.085938 137.132812 244.484375 137.132812 244.484375 140.734375 \"/>\n",
       "<path style=\"fill:none;stroke-width:0.75;stroke-linecap:round;stroke-linejoin:round;stroke:rgb(0%,0%,0%);stroke-opacity:1;stroke-miterlimit:10;\" d=\"M 254.332031 116.503906 C 254.332031 120.101562 248.929688 120.101562 248.929688 116.503906 C 248.929688 112.902344 254.332031 112.902344 254.332031 116.503906 \"/>\n",
       "<path style=\"fill:none;stroke-width:0.75;stroke-linecap:round;stroke-linejoin:round;stroke:rgb(0%,0%,0%);stroke-opacity:1;stroke-miterlimit:10;\" d=\"M 264.175781 96.167969 C 264.175781 99.765625 258.777344 99.765625 258.777344 96.167969 C 258.777344 92.566406 264.175781 92.566406 264.175781 96.167969 \"/>\n",
       "<path style=\"fill:none;stroke-width:0.75;stroke-linecap:round;stroke-linejoin:round;stroke:rgb(0%,0%,0%);stroke-opacity:1;stroke-miterlimit:10;\" d=\"M 274.023438 72.800781 C 274.023438 76.398438 268.625 76.398438 268.625 72.800781 C 268.625 69.199219 274.023438 69.199219 274.023438 72.800781 \"/>\n",
       "<path style=\"fill:none;stroke-width:0.75;stroke-linecap:round;stroke-linejoin:round;stroke:rgb(0%,0%,0%);stroke-opacity:1;stroke-miterlimit:10;\" d=\"M 283.871094 106.117188 C 283.871094 109.71875 278.46875 109.71875 278.46875 106.117188 C 278.46875 102.519531 283.871094 102.519531 283.871094 106.117188 \"/>\n",
       "<path style=\"fill:none;stroke-width:0.75;stroke-linecap:round;stroke-linejoin:round;stroke:rgb(0%,0%,0%);stroke-opacity:1;stroke-miterlimit:10;\" d=\"M 293.714844 130.351562 C 293.714844 133.949219 288.316406 133.949219 288.316406 130.351562 C 288.316406 126.75 293.714844 126.75 293.714844 130.351562 \"/>\n",
       "<path style=\"fill:none;stroke-width:0.75;stroke-linecap:round;stroke-linejoin:round;stroke:rgb(0%,0%,0%);stroke-opacity:1;stroke-miterlimit:10;\" d=\"M 303.5625 152.851562 C 303.5625 156.449219 298.160156 156.449219 298.160156 152.851562 C 298.160156 149.25 303.5625 149.25 303.5625 152.851562 \"/>\n",
       "<path style=\"fill:none;stroke-width:0.75;stroke-linecap:round;stroke-linejoin:round;stroke:rgb(0%,0%,0%);stroke-opacity:1;stroke-miterlimit:10;\" d=\"M 313.40625 157.175781 C 313.40625 160.777344 308.007812 160.777344 308.007812 157.175781 C 308.007812 153.578125 313.40625 153.578125 313.40625 157.175781 \"/>\n",
       "<path style=\"fill:none;stroke-width:0.75;stroke-linecap:round;stroke-linejoin:round;stroke:rgb(0%,0%,0%);stroke-opacity:1;stroke-miterlimit:10;\" d=\"M 323.253906 191.792969 C 323.253906 195.394531 317.855469 195.394531 317.855469 191.792969 C 317.855469 188.195312 323.253906 188.195312 323.253906 191.792969 \"/>\n",
       "<path style=\"fill:none;stroke-width:0.75;stroke-linecap:round;stroke-linejoin:round;stroke:rgb(0%,0%,0%);stroke-opacity:1;stroke-miterlimit:10;\" d=\"M 333.101562 179.246094 C 333.101562 182.84375 327.699219 182.84375 327.699219 179.246094 C 327.699219 175.644531 333.101562 175.644531 333.101562 179.246094 \"/>\n",
       "<path style=\"fill:none;stroke-width:0.75;stroke-linecap:round;stroke-linejoin:round;stroke:rgb(0%,0%,0%);stroke-opacity:1;stroke-miterlimit:10;\" d=\"M 342.945312 228.574219 C 342.945312 232.171875 337.546875 232.171875 337.546875 228.574219 C 337.546875 224.972656 342.945312 224.972656 342.945312 228.574219 \"/>\n",
       "<path style=\"fill:none;stroke-width:0.75;stroke-linecap:round;stroke-linejoin:round;stroke:rgb(0%,0%,0%);stroke-opacity:1;stroke-miterlimit:10;\" d=\"M 352.792969 226.410156 C 352.792969 230.011719 347.390625 230.011719 347.390625 226.410156 C 347.390625 222.808594 352.792969 222.808594 352.792969 226.410156 \"/>\n",
       "<path style=\"fill:none;stroke-width:0.75;stroke-linecap:round;stroke-linejoin:round;stroke:rgb(0%,0%,0%);stroke-opacity:1;stroke-miterlimit:10;\" d=\"M 362.636719 245.882812 C 362.636719 249.480469 357.238281 249.480469 357.238281 245.882812 C 357.238281 242.28125 362.636719 242.28125 362.636719 245.882812 \"/>\n",
       "<path style=\"fill:none;stroke-width:0.75;stroke-linecap:round;stroke-linejoin:round;stroke:rgb(0%,0%,0%);stroke-opacity:1;stroke-miterlimit:10;\" d=\"M 372.484375 259.296875 C 372.484375 262.894531 367.085938 262.894531 367.085938 259.296875 C 367.085938 255.695312 372.484375 255.695312 372.484375 259.296875 \"/>\n",
       "<path style=\"fill:none;stroke-width:0.75;stroke-linecap:round;stroke-linejoin:round;stroke:rgb(0%,0%,0%);stroke-opacity:1;stroke-miterlimit:10;\" d=\"M 382.332031 262.324219 C 382.332031 265.925781 376.929688 265.925781 376.929688 262.324219 C 376.929688 258.722656 382.332031 258.722656 382.332031 262.324219 \"/>\n",
       "<path style=\"fill:none;stroke-width:0.75;stroke-linecap:round;stroke-linejoin:round;stroke:rgb(0%,0%,0%);stroke-opacity:1;stroke-miterlimit:10;\" d=\"M 392.175781 283.960938 C 392.175781 287.558594 386.777344 287.558594 386.777344 283.960938 C 386.777344 280.359375 392.175781 280.359375 392.175781 283.960938 \"/>\n",
       "<path style=\"fill:none;stroke-width:0.75;stroke-linecap:round;stroke-linejoin:round;stroke:rgb(0%,0%,0%);stroke-opacity:1;stroke-miterlimit:10;\" d=\"M 402.023438 323.335938 C 402.023438 326.9375 396.625 326.9375 396.625 323.335938 C 396.625 319.734375 402.023438 319.734375 402.023438 323.335938 \"/>\n",
       "<path style=\"fill:none;stroke-width:0.75;stroke-linecap:round;stroke-linejoin:round;stroke:rgb(0%,0%,0%);stroke-opacity:1;stroke-miterlimit:10;\" d=\"M 411.871094 331.125 C 411.871094 334.722656 406.46875 334.722656 406.46875 331.125 C 406.46875 327.523438 411.871094 327.523438 411.871094 331.125 \"/>\n",
       "<path style=\"fill:none;stroke-width:0.75;stroke-linecap:round;stroke-linejoin:round;stroke:rgb(0%,0%,0%);stroke-opacity:1;stroke-miterlimit:10;\" d=\"M 421.714844 324.203125 C 421.714844 327.800781 416.316406 327.800781 416.316406 324.203125 C 416.316406 320.601562 421.714844 320.601562 421.714844 324.203125 \"/>\n",
       "<path style=\"fill:none;stroke-width:0.75;stroke-linecap:round;stroke-linejoin:round;stroke:rgb(0%,0%,0%);stroke-opacity:1;stroke-miterlimit:10;\" d=\"M 431.5625 352.328125 C 431.5625 355.925781 426.160156 355.925781 426.160156 352.328125 C 426.160156 348.726562 431.5625 348.726562 431.5625 352.328125 \"/>\n",
       "<path style=\"fill:none;stroke-width:0.75;stroke-linecap:round;stroke-linejoin:round;stroke:rgb(0%,0%,0%);stroke-opacity:1;stroke-miterlimit:10;\" d=\"M 441.40625 377.855469 C 441.40625 381.457031 436.007812 381.457031 436.007812 377.855469 C 436.007812 374.257812 441.40625 374.257812 441.40625 377.855469 \"/>\n",
       "<path style=\"fill:none;stroke-width:0.75;stroke-linecap:round;stroke-linejoin:round;stroke:rgb(0%,0%,0%);stroke-opacity:1;stroke-miterlimit:10;\" d=\"M 451.253906 387.375 C 451.253906 390.976562 445.855469 390.976562 445.855469 387.375 C 445.855469 383.777344 451.253906 383.777344 451.253906 387.375 \"/>\n",
       "<path style=\"fill:none;stroke-width:0.75;stroke-linecap:round;stroke-linejoin:round;stroke:rgb(0%,0%,0%);stroke-opacity:1;stroke-miterlimit:10;\" d=\"M 461.101562 402.089844 C 461.101562 405.6875 455.699219 405.6875 455.699219 402.089844 C 455.699219 398.488281 461.101562 398.488281 461.101562 402.089844 \"/>\n",
       "<path style=\"fill:none;stroke-width:0.75;stroke-linecap:round;stroke-linejoin:round;stroke:rgb(0%,0%,0%);stroke-opacity:1;stroke-miterlimit:10;\" d=\"M 64.554688 430.558594 L 458.398438 430.558594 \"/>\n",
       "<path style=\"fill:none;stroke-width:0.75;stroke-linecap:round;stroke-linejoin:round;stroke:rgb(0%,0%,0%);stroke-opacity:1;stroke-miterlimit:10;\" d=\"M 64.554688 430.558594 L 64.554688 437.761719 \"/>\n",
       "<path style=\"fill:none;stroke-width:0.75;stroke-linecap:round;stroke-linejoin:round;stroke:rgb(0%,0%,0%);stroke-opacity:1;stroke-miterlimit:10;\" d=\"M 163.015625 430.558594 L 163.015625 437.761719 \"/>\n",
       "<path style=\"fill:none;stroke-width:0.75;stroke-linecap:round;stroke-linejoin:round;stroke:rgb(0%,0%,0%);stroke-opacity:1;stroke-miterlimit:10;\" d=\"M 261.476562 430.558594 L 261.476562 437.761719 \"/>\n",
       "<path style=\"fill:none;stroke-width:0.75;stroke-linecap:round;stroke-linejoin:round;stroke:rgb(0%,0%,0%);stroke-opacity:1;stroke-miterlimit:10;\" d=\"M 359.9375 430.558594 L 359.9375 437.761719 \"/>\n",
       "<path style=\"fill:none;stroke-width:0.75;stroke-linecap:round;stroke-linejoin:round;stroke:rgb(0%,0%,0%);stroke-opacity:1;stroke-miterlimit:10;\" d=\"M 458.398438 430.558594 L 458.398438 437.761719 \"/>\n",
       "<g style=\"fill:rgb(0%,0%,0%);fill-opacity:1;\">\n",
       "  <use xlink:href=\"#glyph0-1\" x=\"61.054688\" y=\"455.916016\"/>\n",
       "</g>\n",
       "<g style=\"fill:rgb(0%,0%,0%);fill-opacity:1;\">\n",
       "  <use xlink:href=\"#glyph0-2\" x=\"156.015625\" y=\"455.916016\"/>\n",
       "  <use xlink:href=\"#glyph0-1\" x=\"162.6875\" y=\"455.916016\"/>\n",
       "</g>\n",
       "<g style=\"fill:rgb(0%,0%,0%);fill-opacity:1;\">\n",
       "  <use xlink:href=\"#glyph0-3\" x=\"254.476562\" y=\"455.916016\"/>\n",
       "  <use xlink:href=\"#glyph0-1\" x=\"261.148438\" y=\"455.916016\"/>\n",
       "</g>\n",
       "<g style=\"fill:rgb(0%,0%,0%);fill-opacity:1;\">\n",
       "  <use xlink:href=\"#glyph0-4\" x=\"352.9375\" y=\"455.916016\"/>\n",
       "  <use xlink:href=\"#glyph0-1\" x=\"359.609375\" y=\"455.916016\"/>\n",
       "</g>\n",
       "<g style=\"fill:rgb(0%,0%,0%);fill-opacity:1;\">\n",
       "  <use xlink:href=\"#glyph0-5\" x=\"451.398438\" y=\"455.916016\"/>\n",
       "  <use xlink:href=\"#glyph0-1\" x=\"458.070312\" y=\"455.916016\"/>\n",
       "</g>\n",
       "<path style=\"fill:none;stroke-width:0.75;stroke-linecap:round;stroke-linejoin:round;stroke:rgb(0%,0%,0%);stroke-opacity:1;stroke-miterlimit:10;\" d=\"M 59.039062 416.800781 L 59.039062 105.253906 \"/>\n",
       "<path style=\"fill:none;stroke-width:0.75;stroke-linecap:round;stroke-linejoin:round;stroke:rgb(0%,0%,0%);stroke-opacity:1;stroke-miterlimit:10;\" d=\"M 59.039062 416.800781 L 51.839844 416.800781 \"/>\n",
       "<path style=\"fill:none;stroke-width:0.75;stroke-linecap:round;stroke-linejoin:round;stroke:rgb(0%,0%,0%);stroke-opacity:1;stroke-miterlimit:10;\" d=\"M 59.039062 364.875 L 51.839844 364.875 \"/>\n",
       "<path style=\"fill:none;stroke-width:0.75;stroke-linecap:round;stroke-linejoin:round;stroke:rgb(0%,0%,0%);stroke-opacity:1;stroke-miterlimit:10;\" d=\"M 59.039062 312.949219 L 51.839844 312.949219 \"/>\n",
       "<path style=\"fill:none;stroke-width:0.75;stroke-linecap:round;stroke-linejoin:round;stroke:rgb(0%,0%,0%);stroke-opacity:1;stroke-miterlimit:10;\" d=\"M 59.039062 261.027344 L 51.839844 261.027344 \"/>\n",
       "<path style=\"fill:none;stroke-width:0.75;stroke-linecap:round;stroke-linejoin:round;stroke:rgb(0%,0%,0%);stroke-opacity:1;stroke-miterlimit:10;\" d=\"M 59.039062 209.101562 L 51.839844 209.101562 \"/>\n",
       "<path style=\"fill:none;stroke-width:0.75;stroke-linecap:round;stroke-linejoin:round;stroke:rgb(0%,0%,0%);stroke-opacity:1;stroke-miterlimit:10;\" d=\"M 59.039062 157.175781 L 51.839844 157.175781 \"/>\n",
       "<path style=\"fill:none;stroke-width:0.75;stroke-linecap:round;stroke-linejoin:round;stroke:rgb(0%,0%,0%);stroke-opacity:1;stroke-miterlimit:10;\" d=\"M 59.039062 105.253906 L 51.839844 105.253906 \"/>\n",
       "<g style=\"fill:rgb(0%,0%,0%);fill-opacity:1;\">\n",
       "  <use xlink:href=\"#glyph1-1\" x=\"41.197266\" y=\"420.300781\"/>\n",
       "</g>\n",
       "<g style=\"fill:rgb(0%,0%,0%);fill-opacity:1;\">\n",
       "  <use xlink:href=\"#glyph1-2\" x=\"41.197266\" y=\"368.375\"/>\n",
       "</g>\n",
       "<g style=\"fill:rgb(0%,0%,0%);fill-opacity:1;\">\n",
       "  <use xlink:href=\"#glyph1-3\" x=\"41.197266\" y=\"316.449219\"/>\n",
       "</g>\n",
       "<g style=\"fill:rgb(0%,0%,0%);fill-opacity:1;\">\n",
       "  <use xlink:href=\"#glyph1-4\" x=\"41.197266\" y=\"264.527344\"/>\n",
       "</g>\n",
       "<g style=\"fill:rgb(0%,0%,0%);fill-opacity:1;\">\n",
       "  <use xlink:href=\"#glyph1-5\" x=\"41.197266\" y=\"212.601562\"/>\n",
       "</g>\n",
       "<g style=\"fill:rgb(0%,0%,0%);fill-opacity:1;\">\n",
       "  <use xlink:href=\"#glyph1-6\" x=\"41.197266\" y=\"164.175781\"/>\n",
       "  <use xlink:href=\"#glyph1-1\" x=\"41.197266\" y=\"157.503906\"/>\n",
       "</g>\n",
       "<g style=\"fill:rgb(0%,0%,0%);fill-opacity:1;\">\n",
       "  <use xlink:href=\"#glyph1-6\" x=\"41.197266\" y=\"112.253906\"/>\n",
       "  <use xlink:href=\"#glyph1-2\" x=\"41.197266\" y=\"105.582031\"/>\n",
       "</g>\n",
       "<path style=\"fill:none;stroke-width:0.75;stroke-linecap:round;stroke-linejoin:round;stroke:rgb(0%,0%,0%);stroke-opacity:1;stroke-miterlimit:10;\" d=\"M 59.039062 430.558594 L 473.761719 430.558594 L 473.761719 59.039062 L 59.039062 59.039062 L 59.039062 430.558594 \"/>\n",
       "<g style=\"fill:rgb(0%,0%,0%);fill-opacity:1;\">\n",
       "  <use xlink:href=\"#glyph0-6\" x=\"251.398438\" y=\"484.716797\"/>\n",
       "  <use xlink:href=\"#glyph0-7\" x=\"254.734375\" y=\"484.716797\"/>\n",
       "  <use xlink:href=\"#glyph0-8\" x=\"261.40625\" y=\"484.716797\"/>\n",
       "  <use xlink:href=\"#glyph0-9\" x=\"268.078125\" y=\"484.716797\"/>\n",
       "  <use xlink:href=\"#glyph0-10\" x=\"274.75\" y=\"484.716797\"/>\n",
       "</g>\n",
       "<g style=\"fill:rgb(0%,0%,0%);fill-opacity:1;\">\n",
       "  <use xlink:href=\"#glyph1-7\" x=\"12.396484\" y=\"305.300781\"/>\n",
       "  <use xlink:href=\"#glyph1-8\" x=\"12.396484\" y=\"298.628906\"/>\n",
       "  <use xlink:href=\"#glyph1-9\" x=\"12.396484\" y=\"292.628906\"/>\n",
       "  <use xlink:href=\"#glyph1-10\" x=\"12.396484\" y=\"285.957031\"/>\n",
       "  <use xlink:href=\"#glyph1-11\" x=\"12.396484\" y=\"279.285156\"/>\n",
       "  <use xlink:href=\"#glyph1-7\" x=\"12.396484\" y=\"272.613281\"/>\n",
       "  <use xlink:href=\"#glyph1-12\" x=\"12.396484\" y=\"265.941406\"/>\n",
       "  <use xlink:href=\"#glyph1-10\" x=\"12.396484\" y=\"259.941406\"/>\n",
       "  <use xlink:href=\"#glyph1-13\" x=\"12.396484\" y=\"253.269531\"/>\n",
       "  <use xlink:href=\"#glyph1-14\" x=\"12.396484\" y=\"250.605469\"/>\n",
       "  <use xlink:href=\"#glyph1-15\" x=\"12.396484\" y=\"243.933594\"/>\n",
       "  <use xlink:href=\"#glyph1-16\" x=\"12.396484\" y=\"240.597656\"/>\n",
       "  <use xlink:href=\"#glyph1-7\" x=\"12.396484\" y=\"237.933594\"/>\n",
       "  <use xlink:href=\"#glyph1-17\" x=\"12.396484\" y=\"231.261719\"/>\n",
       "  <use xlink:href=\"#glyph1-17\" x=\"12.396484\" y=\"221.265625\"/>\n",
       "  <use xlink:href=\"#glyph1-7\" x=\"12.396484\" y=\"211.269531\"/>\n",
       "  <use xlink:href=\"#glyph1-18\" x=\"12.396484\" y=\"204.597656\"/>\n",
       "  <use xlink:href=\"#glyph1-13\" x=\"12.396484\" y=\"201.261719\"/>\n",
       "  <use xlink:href=\"#glyph1-19\" x=\"12.396484\" y=\"198.597656\"/>\n",
       "  <use xlink:href=\"#glyph1-14\" x=\"12.396484\" y=\"191.925781\"/>\n",
       "</g>\n",
       "</g>\n",
       "</svg>\n"
      ],
      "text/plain": [
       "plot without title"
      ]
     },
     "metadata": {
      "image/svg+xml": {
       "isolated": true
      }
     },
     "output_type": "display_data"
    }
   ],
   "source": [
    "plot(avg_day_inflammation)"
   ]
  },
  {
   "cell_type": "markdown",
   "metadata": {},
   "source": [
    "Above, we gave the function `plot` a vector of numbers corresponding to the average inflammation per day across all patients.\n",
    "`plot` created a scatter plot where the y-axis is the average inflammation level and the x-axis is the order, or index, of the values in the vector, which in this case correspond to the 40 days of treatment.\n",
    "The result is roughly a linear rise and fall, which is suspicious: based on other studies, we expect a sharper rise and slower fall.\n",
    "Let's have a look at two other statistics: the maximum and minimum inflammation per day."
   ]
  },
  {
   "cell_type": "code",
   "execution_count": 35,
   "metadata": {
    "collapsed": false
   },
   "outputs": [
    {
     "data": {
      "image/png": "[encoded data removed]",
      "image/svg+xml": [
       "<?xml version=\"1.0\" encoding=\"UTF-8\"?>\n",
       "<svg xmlns=\"http://www.w3.org/2000/svg\" xmlns:xlink=\"http://www.w3.org/1999/xlink\" width=\"504pt\" height=\"504pt\" viewBox=\"0 0 504 504\" version=\"1.1\">\n",
       "<defs>\n",
       "<g>\n",
       "<symbol overflow=\"visible\" id=\"glyph0-0\">\n",
       "<path style=\"stroke:none;\" d=\"\"/>\n",
       "</symbol>\n",
       "<symbol overflow=\"visible\" id=\"glyph0-1\">\n",
       "<path style=\"stroke:none;\" d=\"M 3.296875 -8.515625 C 2.515625 -8.515625 1.78125 -8.15625 1.34375 -7.578125 C 0.796875 -6.828125 0.515625 -5.6875 0.515625 -4.109375 C 0.515625 -1.25 1.46875 0.28125 3.296875 0.28125 C 5.09375 0.28125 6.078125 -1.25 6.078125 -4.046875 C 6.078125 -5.703125 5.8125 -6.796875 5.25 -7.578125 C 4.8125 -8.171875 4.109375 -8.515625 3.296875 -8.515625 Z M 3.296875 -7.578125 C 4.4375 -7.578125 5 -6.421875 5 -4.140625 C 5 -1.734375 4.453125 -0.59375 3.28125 -0.59375 C 2.15625 -0.59375 1.59375 -1.78125 1.59375 -4.109375 C 1.59375 -6.4375 2.15625 -7.578125 3.296875 -7.578125 Z \"/>\n",
       "</symbol>\n",
       "<symbol overflow=\"visible\" id=\"glyph0-2\">\n",
       "<path style=\"stroke:none;\" d=\"M 3.109375 -6.0625 L 3.109375 0 L 4.15625 0 L 4.15625 -8.515625 L 3.46875 -8.515625 C 3.09375 -7.203125 2.859375 -7.015625 1.21875 -6.8125 L 1.21875 -6.0625 Z \"/>\n",
       "</symbol>\n",
       "<symbol overflow=\"visible\" id=\"glyph0-3\">\n",
       "<path style=\"stroke:none;\" d=\"M 6.078125 -1.046875 L 1.59375 -1.046875 C 1.703125 -1.734375 2.09375 -2.1875 3.125 -2.796875 L 4.328125 -3.4375 C 5.515625 -4.09375 6.125 -4.96875 6.125 -6.015625 C 6.125 -6.71875 5.84375 -7.375 5.34375 -7.84375 C 4.84375 -8.296875 4.21875 -8.515625 3.40625 -8.515625 C 2.328125 -8.515625 1.53125 -8.125 1.0625 -7.40625 C 0.75 -6.953125 0.625 -6.421875 0.59375 -5.5625 L 1.65625 -5.5625 C 1.6875 -6.125 1.765625 -6.484375 1.90625 -6.75 C 2.1875 -7.265625 2.734375 -7.578125 3.375 -7.578125 C 4.328125 -7.578125 5.046875 -6.90625 5.046875 -5.984375 C 5.046875 -5.3125 4.65625 -4.734375 3.90625 -4.3125 L 2.796875 -3.6875 C 1.015625 -2.671875 0.5 -1.875 0.40625 0 L 6.078125 0 Z \"/>\n",
       "</symbol>\n",
       "<symbol overflow=\"visible\" id=\"glyph0-4\">\n",
       "<path style=\"stroke:none;\" d=\"M 2.65625 -3.90625 L 3.234375 -3.90625 C 4.390625 -3.90625 4.984375 -3.390625 4.984375 -2.359375 C 4.984375 -1.296875 4.328125 -0.65625 3.234375 -0.65625 C 2.078125 -0.65625 1.515625 -1.234375 1.4375 -2.46875 L 0.390625 -2.46875 C 0.4375 -1.78125 0.546875 -1.34375 0.75 -0.953125 C 1.1875 -0.140625 2.03125 0.28125 3.1875 0.28125 C 4.9375 0.28125 6.078125 -0.765625 6.078125 -2.375 C 6.078125 -3.453125 5.65625 -4.0625 4.625 -4.40625 C 5.421875 -4.71875 5.8125 -5.3125 5.8125 -6.171875 C 5.8125 -7.625 4.84375 -8.515625 3.234375 -8.515625 C 1.515625 -8.515625 0.59375 -7.578125 0.5625 -5.765625 L 1.625 -5.765625 C 1.625 -6.28125 1.6875 -6.5625 1.8125 -6.828125 C 2.046875 -7.296875 2.578125 -7.578125 3.234375 -7.578125 C 4.171875 -7.578125 4.734375 -7.03125 4.734375 -6.125 C 4.734375 -5.53125 4.53125 -5.171875 4.0625 -4.984375 C 3.765625 -4.859375 3.390625 -4.8125 2.65625 -4.796875 Z \"/>\n",
       "</symbol>\n",
       "<symbol overflow=\"visible\" id=\"glyph0-5\">\n",
       "<path style=\"stroke:none;\" d=\"M 3.921875 -2.046875 L 3.921875 0 L 4.984375 0 L 4.984375 -2.046875 L 6.234375 -2.046875 L 6.234375 -2.984375 L 4.984375 -2.984375 L 4.984375 -8.515625 L 4.203125 -8.515625 L 0.34375 -3.15625 L 0.34375 -2.046875 Z M 3.921875 -2.984375 L 1.265625 -2.984375 L 3.921875 -6.703125 Z \"/>\n",
       "</symbol>\n",
       "<symbol overflow=\"visible\" id=\"glyph0-6\">\n",
       "<path style=\"stroke:none;\" d=\"M 2.328125 -8.75 L 1.203125 -8.75 L 1.203125 0 L 2.328125 0 Z \"/>\n",
       "</symbol>\n",
       "<symbol overflow=\"visible\" id=\"glyph0-7\">\n",
       "<path style=\"stroke:none;\" d=\"M 0.84375 -6.28125 L 0.84375 0 L 1.84375 0 L 1.84375 -3.46875 C 1.84375 -4.75 2.515625 -5.59375 3.546875 -5.59375 C 4.34375 -5.59375 4.84375 -5.109375 4.84375 -4.359375 L 4.84375 0 L 5.84375 0 L 5.84375 -4.75 C 5.84375 -5.796875 5.0625 -6.46875 3.859375 -6.46875 C 2.921875 -6.46875 2.3125 -6.109375 1.765625 -5.234375 L 1.765625 -6.28125 Z \"/>\n",
       "</symbol>\n",
       "<symbol overflow=\"visible\" id=\"glyph0-8\">\n",
       "<path style=\"stroke:none;\" d=\"M 5.9375 -8.75 L 4.9375 -8.75 L 4.9375 -5.5 C 4.53125 -6.125 3.859375 -6.46875 3.015625 -6.46875 C 1.375 -6.46875 0.3125 -5.15625 0.3125 -3.15625 C 0.3125 -1.03125 1.359375 0.28125 3.046875 0.28125 C 3.90625 0.28125 4.515625 -0.046875 5.046875 -0.828125 L 5.046875 0 L 5.9375 0 Z M 3.1875 -5.53125 C 4.265625 -5.53125 4.9375 -4.578125 4.9375 -3.078125 C 4.9375 -1.625 4.25 -0.65625 3.1875 -0.65625 C 2.09375 -0.65625 1.359375 -1.625 1.359375 -3.09375 C 1.359375 -4.5625 2.09375 -5.53125 3.1875 -5.53125 Z \"/>\n",
       "</symbol>\n",
       "<symbol overflow=\"visible\" id=\"glyph0-9\">\n",
       "<path style=\"stroke:none;\" d=\"M 6.15625 -2.8125 C 6.15625 -3.765625 6.078125 -4.34375 5.90625 -4.8125 C 5.5 -5.84375 4.53125 -6.46875 3.359375 -6.46875 C 1.609375 -6.46875 0.484375 -5.125 0.484375 -3.0625 C 0.484375 -1 1.578125 0.28125 3.34375 0.28125 C 4.78125 0.28125 5.765625 -0.546875 6.03125 -1.90625 L 5.015625 -1.90625 C 4.734375 -1.078125 4.171875 -0.640625 3.375 -0.640625 C 2.734375 -0.640625 2.203125 -0.9375 1.859375 -1.46875 C 1.625 -1.828125 1.53125 -2.1875 1.53125 -2.8125 Z M 1.546875 -3.625 C 1.625 -4.78125 2.34375 -5.546875 3.34375 -5.546875 C 4.328125 -5.546875 5.09375 -4.734375 5.09375 -3.703125 C 5.09375 -3.671875 5.09375 -3.640625 5.078125 -3.625 Z \"/>\n",
       "</symbol>\n",
       "<symbol overflow=\"visible\" id=\"glyph0-10\">\n",
       "<path style=\"stroke:none;\" d=\"M 3.5 -3.25 L 5.609375 -6.28125 L 4.484375 -6.28125 L 2.96875 -4.015625 L 1.46875 -6.28125 L 0.328125 -6.28125 L 2.421875 -3.203125 L 0.203125 0 L 1.34375 0 L 2.9375 -2.40625 L 4.515625 0 L 5.671875 0 Z \"/>\n",
       "</symbol>\n",
       "<symbol overflow=\"visible\" id=\"glyph1-0\">\n",
       "<path style=\"stroke:none;\" d=\"\"/>\n",
       "</symbol>\n",
       "<symbol overflow=\"visible\" id=\"glyph1-1\">\n",
       "<path style=\"stroke:none;\" d=\"M -8.515625 -3.296875 C -8.515625 -2.515625 -8.15625 -1.78125 -7.578125 -1.34375 C -6.828125 -0.796875 -5.6875 -0.515625 -4.109375 -0.515625 C -1.25 -0.515625 0.28125 -1.46875 0.28125 -3.296875 C 0.28125 -5.09375 -1.25 -6.078125 -4.046875 -6.078125 C -5.703125 -6.078125 -6.796875 -5.8125 -7.578125 -5.25 C -8.171875 -4.8125 -8.515625 -4.109375 -8.515625 -3.296875 Z M -7.578125 -3.296875 C -7.578125 -4.4375 -6.421875 -5 -4.140625 -5 C -1.734375 -5 -0.59375 -4.453125 -0.59375 -3.28125 C -0.59375 -2.15625 -1.78125 -1.59375 -4.109375 -1.59375 C -6.4375 -1.59375 -7.578125 -2.15625 -7.578125 -3.296875 Z \"/>\n",
       "</symbol>\n",
       "<symbol overflow=\"visible\" id=\"glyph1-2\">\n",
       "<path style=\"stroke:none;\" d=\"M -8.515625 -5.71875 L -8.515625 -1.3125 L -3.875 -0.6875 L -3.875 -1.65625 C -4.46875 -2.140625 -4.671875 -2.5625 -4.671875 -3.21875 C -4.671875 -4.359375 -3.890625 -5.078125 -2.625 -5.078125 C -1.40625 -5.078125 -0.65625 -4.375 -0.65625 -3.21875 C -0.65625 -2.296875 -1.125 -1.734375 -2.09375 -1.46875 L -2.09375 -0.421875 C -1.390625 -0.5625 -1.0625 -0.6875 -0.75 -0.9375 C -0.09375 -1.421875 0.28125 -2.28125 0.28125 -3.234375 C 0.28125 -4.953125 -0.96875 -6.15625 -2.765625 -6.15625 C -4.453125 -6.15625 -5.609375 -5.046875 -5.609375 -3.40625 C -5.609375 -2.8125 -5.453125 -2.328125 -5.09375 -1.84375 L -7.46875 -2.171875 L -7.46875 -5.71875 Z \"/>\n",
       "</symbol>\n",
       "<symbol overflow=\"visible\" id=\"glyph1-3\">\n",
       "<path style=\"stroke:none;\" d=\"M -6.0625 -3.109375 L 0 -3.109375 L 0 -4.15625 L -8.515625 -4.15625 L -8.515625 -3.46875 C -7.203125 -3.09375 -7.015625 -2.859375 -6.8125 -1.21875 L -6.0625 -1.21875 Z \"/>\n",
       "</symbol>\n",
       "<symbol overflow=\"visible\" id=\"glyph1-4\">\n",
       "<path style=\"stroke:none;\" d=\"M -1.046875 -6.078125 L -1.046875 -1.59375 C -1.734375 -1.703125 -2.1875 -2.09375 -2.796875 -3.125 L -3.4375 -4.328125 C -4.09375 -5.515625 -4.96875 -6.125 -6.015625 -6.125 C -6.71875 -6.125 -7.375 -5.84375 -7.84375 -5.34375 C -8.296875 -4.84375 -8.515625 -4.21875 -8.515625 -3.40625 C -8.515625 -2.328125 -8.125 -1.53125 -7.40625 -1.0625 C -6.953125 -0.75 -6.421875 -0.625 -5.5625 -0.59375 L -5.5625 -1.65625 C -6.125 -1.6875 -6.484375 -1.765625 -6.75 -1.90625 C -7.265625 -2.1875 -7.578125 -2.734375 -7.578125 -3.375 C -7.578125 -4.328125 -6.90625 -5.046875 -5.984375 -5.046875 C -5.3125 -5.046875 -4.734375 -4.65625 -4.3125 -3.90625 L -3.6875 -2.796875 C -2.671875 -1.015625 -1.875 -0.5 0 -0.40625 L 0 -6.078125 Z \"/>\n",
       "</symbol>\n",
       "<symbol overflow=\"visible\" id=\"glyph1-5\">\n",
       "<path style=\"stroke:none;\" d=\"M -6.28125 -0.84375 L 0 -0.84375 L 0 -1.84375 L -3.953125 -1.84375 C -4.859375 -1.84375 -5.59375 -2.515625 -5.59375 -3.328125 C -5.59375 -4.0625 -5.140625 -4.484375 -4.328125 -4.484375 L 0 -4.484375 L 0 -5.5 L -3.953125 -5.5 C -4.859375 -5.5 -5.59375 -6.15625 -5.59375 -6.96875 C -5.59375 -7.703125 -5.125 -8.140625 -4.328125 -8.140625 L 0 -8.140625 L 0 -9.140625 L -4.71875 -9.140625 C -5.84375 -9.140625 -6.46875 -8.5 -6.46875 -7.3125 C -6.46875 -6.484375 -6.21875 -5.96875 -5.515625 -5.390625 C -6.1875 -5.015625 -6.46875 -4.515625 -6.46875 -3.703125 C -6.46875 -2.859375 -6.15625 -2.296875 -5.40625 -1.765625 L -6.28125 -1.765625 Z \"/>\n",
       "</symbol>\n",
       "<symbol overflow=\"visible\" id=\"glyph1-6\">\n",
       "<path style=\"stroke:none;\" d=\"M -0.59375 -6.421875 C -0.5625 -6.3125 -0.5625 -6.265625 -0.5625 -6.203125 C -0.5625 -5.859375 -0.75 -5.65625 -1.0625 -5.65625 L -4.75 -5.65625 C -5.875 -5.65625 -6.46875 -4.84375 -6.46875 -3.296875 C -6.46875 -2.390625 -6.203125 -1.625 -5.734375 -1.21875 C -5.40625 -0.921875 -5.046875 -0.796875 -4.421875 -0.78125 L -4.421875 -1.78125 C -5.203125 -1.875 -5.546875 -2.328125 -5.546875 -3.265625 C -5.546875 -4.15625 -5.203125 -4.671875 -4.609375 -4.671875 L -4.34375 -4.671875 C -3.921875 -4.671875 -3.75 -4.421875 -3.640625 -3.625 C -3.46875 -2.203125 -3.421875 -1.984375 -3.265625 -1.609375 C -2.96875 -0.875 -2.40625 -0.5 -1.578125 -0.5 C -0.4375 -0.5 0.28125 -1.296875 0.28125 -2.5625 C 0.28125 -3.359375 0 -4 -0.640625 -4.703125 C -0.015625 -4.78125 0.28125 -5.09375 0.28125 -5.734375 C 0.28125 -5.9375 0.25 -6.09375 0.171875 -6.421875 Z M -1.984375 -4.671875 C -1.640625 -4.671875 -1.4375 -4.578125 -1.15625 -4.265625 C -0.796875 -3.859375 -0.59375 -3.375 -0.59375 -2.78125 C -0.59375 -2 -0.96875 -1.546875 -1.609375 -1.546875 C -2.265625 -1.546875 -2.609375 -1.984375 -2.765625 -3.0625 C -2.90625 -4.109375 -2.953125 -4.328125 -3.109375 -4.671875 Z \"/>\n",
       "</symbol>\n",
       "<symbol overflow=\"visible\" id=\"glyph1-7\">\n",
       "<path style=\"stroke:none;\" d=\"M -3.25 -3.5 L -6.28125 -5.609375 L -6.28125 -4.484375 L -4.015625 -2.96875 L -6.28125 -1.46875 L -6.28125 -0.328125 L -3.203125 -2.421875 L 0 -0.203125 L 0 -1.34375 L -2.40625 -2.9375 L 0 -4.515625 L 0 -5.671875 Z \"/>\n",
       "</symbol>\n",
       "<symbol overflow=\"visible\" id=\"glyph1-8\">\n",
       "<path style=\"stroke:none;\" d=\"M 1.515625 -6.9375 L 1.515625 0.265625 L 2.109375 0.265625 L 2.109375 -6.9375 Z \"/>\n",
       "</symbol>\n",
       "<symbol overflow=\"visible\" id=\"glyph1-9\">\n",
       "<path style=\"stroke:none;\" d=\"M -8.75 -5.9375 L -8.75 -4.9375 L -5.5 -4.9375 C -6.125 -4.53125 -6.46875 -3.859375 -6.46875 -3.015625 C -6.46875 -1.375 -5.15625 -0.3125 -3.15625 -0.3125 C -1.03125 -0.3125 0.28125 -1.359375 0.28125 -3.046875 C 0.28125 -3.90625 -0.046875 -4.515625 -0.828125 -5.046875 L 0 -5.046875 L 0 -5.9375 Z M -5.53125 -3.1875 C -5.53125 -4.265625 -4.578125 -4.9375 -3.078125 -4.9375 C -1.625 -4.9375 -0.65625 -4.25 -0.65625 -3.1875 C -0.65625 -2.09375 -1.625 -1.359375 -3.09375 -1.359375 C -4.5625 -1.359375 -5.53125 -2.09375 -5.53125 -3.1875 Z \"/>\n",
       "</symbol>\n",
       "<symbol overflow=\"visible\" id=\"glyph1-10\">\n",
       "<path style=\"stroke:none;\" d=\"M -6.28125 -4.65625 L -1.390625 -2.921875 L -6.28125 -1.3125 L -6.28125 -0.234375 L 0.03125 -2.359375 L 1.015625 -1.984375 C 1.46875 -1.828125 1.625 -1.59375 1.625 -1.171875 C 1.625 -1.03125 1.609375 -0.859375 1.5625 -0.640625 L 2.453125 -0.640625 C 2.5625 -0.859375 2.609375 -1.0625 2.609375 -1.3125 C 2.609375 -1.640625 2.515625 -1.984375 2.3125 -2.25 C 2.09375 -2.5625 1.828125 -2.75 1.3125 -2.9375 L -6.28125 -5.734375 Z \"/>\n",
       "</symbol>\n",
       "<symbol overflow=\"visible\" id=\"glyph1-11\">\n",
       "<path style=\"stroke:none;\" d=\"M -6.28125 -1.796875 L -6.28125 -0.796875 L 0 -0.796875 L 0 -1.796875 Z M -8.75 -1.796875 L -8.75 -0.796875 L -7.484375 -0.796875 L -7.484375 -1.796875 Z \"/>\n",
       "</symbol>\n",
       "<symbol overflow=\"visible\" id=\"glyph1-12\">\n",
       "<path style=\"stroke:none;\" d=\"M -6.28125 -0.84375 L 0 -0.84375 L 0 -1.84375 L -3.46875 -1.84375 C -4.75 -1.84375 -5.59375 -2.515625 -5.59375 -3.546875 C -5.59375 -4.34375 -5.109375 -4.84375 -4.359375 -4.84375 L 0 -4.84375 L 0 -5.84375 L -4.75 -5.84375 C -5.796875 -5.84375 -6.46875 -5.0625 -6.46875 -3.859375 C -6.46875 -2.921875 -6.109375 -2.3125 -5.234375 -1.765625 L -6.28125 -1.765625 Z \"/>\n",
       "</symbol>\n",
       "<symbol overflow=\"visible\" id=\"glyph1-13\">\n",
       "<path style=\"stroke:none;\" d=\"M -6.28125 -3.09375 L -6.28125 -2.046875 L -7.265625 -2.046875 C -7.6875 -2.046875 -7.90625 -2.296875 -7.90625 -2.75 C -7.90625 -2.828125 -7.90625 -2.875 -7.890625 -3.09375 L -8.71875 -3.09375 C -8.765625 -2.875 -8.78125 -2.734375 -8.78125 -2.53125 C -8.78125 -1.609375 -8.25 -1.0625 -7.359375 -1.0625 L -6.28125 -1.0625 L -6.28125 -0.21875 L -5.46875 -0.21875 L -5.46875 -1.0625 L 0 -1.0625 L 0 -2.046875 L -5.46875 -2.046875 L -5.46875 -3.09375 Z \"/>\n",
       "</symbol>\n",
       "<symbol overflow=\"visible\" id=\"glyph1-14\">\n",
       "<path style=\"stroke:none;\" d=\"M -8.75 -1.828125 L -8.75 -0.8125 L 0 -0.8125 L 0 -1.828125 Z \"/>\n",
       "</symbol>\n",
       "<symbol overflow=\"visible\" id=\"glyph1-15\">\n",
       "<path style=\"stroke:none;\" d=\"M -6.28125 -3.046875 L -6.28125 -2.015625 L -8.015625 -2.015625 L -8.015625 -1.015625 L -6.28125 -1.015625 L -6.28125 -0.171875 L -5.46875 -0.171875 L -5.46875 -1.015625 L -0.71875 -1.015625 C -0.078125 -1.015625 0.28125 -1.453125 0.28125 -2.234375 C 0.28125 -2.46875 0.25 -2.71875 0.1875 -3.046875 L -0.640625 -3.046875 C -0.609375 -2.921875 -0.59375 -2.765625 -0.59375 -2.5625 C -0.59375 -2.140625 -0.71875 -2.015625 -1.15625 -2.015625 L -5.46875 -2.015625 L -5.46875 -3.046875 Z \"/>\n",
       "</symbol>\n",
       "<symbol overflow=\"visible\" id=\"glyph1-16\">\n",
       "<path style=\"stroke:none;\" d=\"M -6.46875 -3.265625 C -6.46875 -1.5 -5.203125 -0.4375 -3.09375 -0.4375 C -0.984375 -0.4375 0.28125 -1.484375 0.28125 -3.28125 C 0.28125 -5.046875 -0.984375 -6.125 -3.046875 -6.125 C -5.21875 -6.125 -6.46875 -5.078125 -6.46875 -3.265625 Z M -5.546875 -3.28125 C -5.546875 -4.40625 -4.625 -5.078125 -3.0625 -5.078125 C -1.578125 -5.078125 -0.640625 -4.375 -0.640625 -3.28125 C -0.640625 -2.15625 -1.578125 -1.46875 -3.09375 -1.46875 C -4.609375 -1.46875 -5.546875 -2.15625 -5.546875 -3.28125 Z \"/>\n",
       "</symbol>\n",
       "</g>\n",
       "</defs>\n",
       "<g id=\"surface65\">\n",
       "<rect x=\"0\" y=\"0\" width=\"504\" height=\"504\" style=\"fill:rgb(100%,100%,100%);fill-opacity:1;stroke:none;\"/>\n",
       "<path style=\"fill:none;stroke-width:0.75;stroke-linecap:round;stroke-linejoin:round;stroke:rgb(0%,0%,0%);stroke-opacity:1;stroke-miterlimit:10;\" d=\"M 77.101562 416.800781 C 77.101562 420.398438 71.699219 420.398438 71.699219 416.800781 C 71.699219 413.199219 77.101562 413.199219 77.101562 416.800781 \"/>\n",
       "<path style=\"fill:none;stroke-width:0.75;stroke-linecap:round;stroke-linejoin:round;stroke:rgb(0%,0%,0%);stroke-opacity:1;stroke-miterlimit:10;\" d=\"M 86.945312 399.601562 C 86.945312 403.199219 81.546875 403.199219 81.546875 399.601562 C 81.546875 396 86.945312 396 86.945312 399.601562 \"/>\n",
       "<path style=\"fill:none;stroke-width:0.75;stroke-linecap:round;stroke-linejoin:round;stroke:rgb(0%,0%,0%);stroke-opacity:1;stroke-miterlimit:10;\" d=\"M 96.792969 382.398438 C 96.792969 386 91.390625 386 91.390625 382.398438 C 91.390625 378.800781 96.792969 378.800781 96.792969 382.398438 \"/>\n",
       "<path style=\"fill:none;stroke-width:0.75;stroke-linecap:round;stroke-linejoin:round;stroke:rgb(0%,0%,0%);stroke-opacity:1;stroke-miterlimit:10;\" d=\"M 106.636719 365.199219 C 106.636719 368.800781 101.238281 368.800781 101.238281 365.199219 C 101.238281 361.601562 106.636719 361.601562 106.636719 365.199219 \"/>\n",
       "<path style=\"fill:none;stroke-width:0.75;stroke-linecap:round;stroke-linejoin:round;stroke:rgb(0%,0%,0%);stroke-opacity:1;stroke-miterlimit:10;\" d=\"M 116.484375 348 C 116.484375 351.601562 111.085938 351.601562 111.085938 348 C 111.085938 344.398438 116.484375 344.398438 116.484375 348 \"/>\n",
       "<path style=\"fill:none;stroke-width:0.75;stroke-linecap:round;stroke-linejoin:round;stroke:rgb(0%,0%,0%);stroke-opacity:1;stroke-miterlimit:10;\" d=\"M 126.332031 330.800781 C 126.332031 334.398438 120.929688 334.398438 120.929688 330.800781 C 120.929688 327.199219 126.332031 327.199219 126.332031 330.800781 \"/>\n",
       "<path style=\"fill:none;stroke-width:0.75;stroke-linecap:round;stroke-linejoin:round;stroke:rgb(0%,0%,0%);stroke-opacity:1;stroke-miterlimit:10;\" d=\"M 136.175781 313.601562 C 136.175781 317.199219 130.777344 317.199219 130.777344 313.601562 C 130.777344 310 136.175781 310 136.175781 313.601562 \"/>\n",
       "<path style=\"fill:none;stroke-width:0.75;stroke-linecap:round;stroke-linejoin:round;stroke:rgb(0%,0%,0%);stroke-opacity:1;stroke-miterlimit:10;\" d=\"M 146.023438 296.398438 C 146.023438 300 140.625 300 140.625 296.398438 C 140.625 292.800781 146.023438 292.800781 146.023438 296.398438 \"/>\n",
       "<path style=\"fill:none;stroke-width:0.75;stroke-linecap:round;stroke-linejoin:round;stroke:rgb(0%,0%,0%);stroke-opacity:1;stroke-miterlimit:10;\" d=\"M 155.871094 279.199219 C 155.871094 282.800781 150.46875 282.800781 150.46875 279.199219 C 150.46875 275.601562 155.871094 275.601562 155.871094 279.199219 \"/>\n",
       "<path style=\"fill:none;stroke-width:0.75;stroke-linecap:round;stroke-linejoin:round;stroke:rgb(0%,0%,0%);stroke-opacity:1;stroke-miterlimit:10;\" d=\"M 165.714844 262 C 165.714844 265.601562 160.316406 265.601562 160.316406 262 C 160.316406 258.398438 165.714844 258.398438 165.714844 262 \"/>\n",
       "<path style=\"fill:none;stroke-width:0.75;stroke-linecap:round;stroke-linejoin:round;stroke:rgb(0%,0%,0%);stroke-opacity:1;stroke-miterlimit:10;\" d=\"M 175.5625 244.800781 C 175.5625 248.398438 170.160156 248.398438 170.160156 244.800781 C 170.160156 241.199219 175.5625 241.199219 175.5625 244.800781 \"/>\n",
       "<path style=\"fill:none;stroke-width:0.75;stroke-linecap:round;stroke-linejoin:round;stroke:rgb(0%,0%,0%);stroke-opacity:1;stroke-miterlimit:10;\" d=\"M 185.40625 227.601562 C 185.40625 231.199219 180.007812 231.199219 180.007812 227.601562 C 180.007812 224 185.40625 224 185.40625 227.601562 \"/>\n",
       "<path style=\"fill:none;stroke-width:0.75;stroke-linecap:round;stroke-linejoin:round;stroke:rgb(0%,0%,0%);stroke-opacity:1;stroke-miterlimit:10;\" d=\"M 195.253906 210.398438 C 195.253906 214 189.855469 214 189.855469 210.398438 C 189.855469 206.800781 195.253906 206.800781 195.253906 210.398438 \"/>\n",
       "<path style=\"fill:none;stroke-width:0.75;stroke-linecap:round;stroke-linejoin:round;stroke:rgb(0%,0%,0%);stroke-opacity:1;stroke-miterlimit:10;\" d=\"M 205.101562 193.199219 C 205.101562 196.800781 199.699219 196.800781 199.699219 193.199219 C 199.699219 189.601562 205.101562 189.601562 205.101562 193.199219 \"/>\n",
       "<path style=\"fill:none;stroke-width:0.75;stroke-linecap:round;stroke-linejoin:round;stroke:rgb(0%,0%,0%);stroke-opacity:1;stroke-miterlimit:10;\" d=\"M 214.945312 176 C 214.945312 179.601562 209.546875 179.601562 209.546875 176 C 209.546875 172.398438 214.945312 172.398438 214.945312 176 \"/>\n",
       "<path style=\"fill:none;stroke-width:0.75;stroke-linecap:round;stroke-linejoin:round;stroke:rgb(0%,0%,0%);stroke-opacity:1;stroke-miterlimit:10;\" d=\"M 224.792969 158.800781 C 224.792969 162.398438 219.390625 162.398438 219.390625 158.800781 C 219.390625 155.199219 224.792969 155.199219 224.792969 158.800781 \"/>\n",
       "<path style=\"fill:none;stroke-width:0.75;stroke-linecap:round;stroke-linejoin:round;stroke:rgb(0%,0%,0%);stroke-opacity:1;stroke-miterlimit:10;\" d=\"M 234.636719 141.601562 C 234.636719 145.199219 229.238281 145.199219 229.238281 141.601562 C 229.238281 138 234.636719 138 234.636719 141.601562 \"/>\n",
       "<path style=\"fill:none;stroke-width:0.75;stroke-linecap:round;stroke-linejoin:round;stroke:rgb(0%,0%,0%);stroke-opacity:1;stroke-miterlimit:10;\" d=\"M 244.484375 124.398438 C 244.484375 128 239.085938 128 239.085938 124.398438 C 239.085938 120.800781 244.484375 120.800781 244.484375 124.398438 \"/>\n",
       "<path style=\"fill:none;stroke-width:0.75;stroke-linecap:round;stroke-linejoin:round;stroke:rgb(0%,0%,0%);stroke-opacity:1;stroke-miterlimit:10;\" d=\"M 254.332031 107.199219 C 254.332031 110.800781 248.929688 110.800781 248.929688 107.199219 C 248.929688 103.601562 254.332031 103.601562 254.332031 107.199219 \"/>\n",
       "<path style=\"fill:none;stroke-width:0.75;stroke-linecap:round;stroke-linejoin:round;stroke:rgb(0%,0%,0%);stroke-opacity:1;stroke-miterlimit:10;\" d=\"M 264.175781 90 C 264.175781 93.601562 258.777344 93.601562 258.777344 90 C 258.777344 86.398438 264.175781 86.398438 264.175781 90 \"/>\n",
       "<path style=\"fill:none;stroke-width:0.75;stroke-linecap:round;stroke-linejoin:round;stroke:rgb(0%,0%,0%);stroke-opacity:1;stroke-miterlimit:10;\" d=\"M 274.023438 72.800781 C 274.023438 76.398438 268.625 76.398438 268.625 72.800781 C 268.625 69.199219 274.023438 69.199219 274.023438 72.800781 \"/>\n",
       "<path style=\"fill:none;stroke-width:0.75;stroke-linecap:round;stroke-linejoin:round;stroke:rgb(0%,0%,0%);stroke-opacity:1;stroke-miterlimit:10;\" d=\"M 283.871094 90 C 283.871094 93.601562 278.46875 93.601562 278.46875 90 C 278.46875 86.398438 283.871094 86.398438 283.871094 90 \"/>\n",
       "<path style=\"fill:none;stroke-width:0.75;stroke-linecap:round;stroke-linejoin:round;stroke:rgb(0%,0%,0%);stroke-opacity:1;stroke-miterlimit:10;\" d=\"M 293.714844 107.199219 C 293.714844 110.800781 288.316406 110.800781 288.316406 107.199219 C 288.316406 103.601562 293.714844 103.601562 293.714844 107.199219 \"/>\n",
       "<path style=\"fill:none;stroke-width:0.75;stroke-linecap:round;stroke-linejoin:round;stroke:rgb(0%,0%,0%);stroke-opacity:1;stroke-miterlimit:10;\" d=\"M 303.5625 124.398438 C 303.5625 128 298.160156 128 298.160156 124.398438 C 298.160156 120.800781 303.5625 120.800781 303.5625 124.398438 \"/>\n",
       "<path style=\"fill:none;stroke-width:0.75;stroke-linecap:round;stroke-linejoin:round;stroke:rgb(0%,0%,0%);stroke-opacity:1;stroke-miterlimit:10;\" d=\"M 313.40625 141.601562 C 313.40625 145.199219 308.007812 145.199219 308.007812 141.601562 C 308.007812 138 313.40625 138 313.40625 141.601562 \"/>\n",
       "<path style=\"fill:none;stroke-width:0.75;stroke-linecap:round;stroke-linejoin:round;stroke:rgb(0%,0%,0%);stroke-opacity:1;stroke-miterlimit:10;\" d=\"M 323.253906 158.800781 C 323.253906 162.398438 317.855469 162.398438 317.855469 158.800781 C 317.855469 155.199219 323.253906 155.199219 323.253906 158.800781 \"/>\n",
       "<path style=\"fill:none;stroke-width:0.75;stroke-linecap:round;stroke-linejoin:round;stroke:rgb(0%,0%,0%);stroke-opacity:1;stroke-miterlimit:10;\" d=\"M 333.101562 176 C 333.101562 179.601562 327.699219 179.601562 327.699219 176 C 327.699219 172.398438 333.101562 172.398438 333.101562 176 \"/>\n",
       "<path style=\"fill:none;stroke-width:0.75;stroke-linecap:round;stroke-linejoin:round;stroke:rgb(0%,0%,0%);stroke-opacity:1;stroke-miterlimit:10;\" d=\"M 342.945312 193.199219 C 342.945312 196.800781 337.546875 196.800781 337.546875 193.199219 C 337.546875 189.601562 342.945312 189.601562 342.945312 193.199219 \"/>\n",
       "<path style=\"fill:none;stroke-width:0.75;stroke-linecap:round;stroke-linejoin:round;stroke:rgb(0%,0%,0%);stroke-opacity:1;stroke-miterlimit:10;\" d=\"M 352.792969 210.398438 C 352.792969 214 347.390625 214 347.390625 210.398438 C 347.390625 206.800781 352.792969 206.800781 352.792969 210.398438 \"/>\n",
       "<path style=\"fill:none;stroke-width:0.75;stroke-linecap:round;stroke-linejoin:round;stroke:rgb(0%,0%,0%);stroke-opacity:1;stroke-miterlimit:10;\" d=\"M 362.636719 227.601562 C 362.636719 231.199219 357.238281 231.199219 357.238281 227.601562 C 357.238281 224 362.636719 224 362.636719 227.601562 \"/>\n",
       "<path style=\"fill:none;stroke-width:0.75;stroke-linecap:round;stroke-linejoin:round;stroke:rgb(0%,0%,0%);stroke-opacity:1;stroke-miterlimit:10;\" d=\"M 372.484375 244.800781 C 372.484375 248.398438 367.085938 248.398438 367.085938 244.800781 C 367.085938 241.199219 372.484375 241.199219 372.484375 244.800781 \"/>\n",
       "<path style=\"fill:none;stroke-width:0.75;stroke-linecap:round;stroke-linejoin:round;stroke:rgb(0%,0%,0%);stroke-opacity:1;stroke-miterlimit:10;\" d=\"M 382.332031 262 C 382.332031 265.601562 376.929688 265.601562 376.929688 262 C 376.929688 258.398438 382.332031 258.398438 382.332031 262 \"/>\n",
       "<path style=\"fill:none;stroke-width:0.75;stroke-linecap:round;stroke-linejoin:round;stroke:rgb(0%,0%,0%);stroke-opacity:1;stroke-miterlimit:10;\" d=\"M 392.175781 279.199219 C 392.175781 282.800781 386.777344 282.800781 386.777344 279.199219 C 386.777344 275.601562 392.175781 275.601562 392.175781 279.199219 \"/>\n",
       "<path style=\"fill:none;stroke-width:0.75;stroke-linecap:round;stroke-linejoin:round;stroke:rgb(0%,0%,0%);stroke-opacity:1;stroke-miterlimit:10;\" d=\"M 402.023438 296.398438 C 402.023438 300 396.625 300 396.625 296.398438 C 396.625 292.800781 402.023438 292.800781 402.023438 296.398438 \"/>\n",
       "<path style=\"fill:none;stroke-width:0.75;stroke-linecap:round;stroke-linejoin:round;stroke:rgb(0%,0%,0%);stroke-opacity:1;stroke-miterlimit:10;\" d=\"M 411.871094 313.601562 C 411.871094 317.199219 406.46875 317.199219 406.46875 313.601562 C 406.46875 310 411.871094 310 411.871094 313.601562 \"/>\n",
       "<path style=\"fill:none;stroke-width:0.75;stroke-linecap:round;stroke-linejoin:round;stroke:rgb(0%,0%,0%);stroke-opacity:1;stroke-miterlimit:10;\" d=\"M 421.714844 330.800781 C 421.714844 334.398438 416.316406 334.398438 416.316406 330.800781 C 416.316406 327.199219 421.714844 327.199219 421.714844 330.800781 \"/>\n",
       "<path style=\"fill:none;stroke-width:0.75;stroke-linecap:round;stroke-linejoin:round;stroke:rgb(0%,0%,0%);stroke-opacity:1;stroke-miterlimit:10;\" d=\"M 431.5625 348 C 431.5625 351.601562 426.160156 351.601562 426.160156 348 C 426.160156 344.398438 431.5625 344.398438 431.5625 348 \"/>\n",
       "<path style=\"fill:none;stroke-width:0.75;stroke-linecap:round;stroke-linejoin:round;stroke:rgb(0%,0%,0%);stroke-opacity:1;stroke-miterlimit:10;\" d=\"M 441.40625 365.199219 C 441.40625 368.800781 436.007812 368.800781 436.007812 365.199219 C 436.007812 361.601562 441.40625 361.601562 441.40625 365.199219 \"/>\n",
       "<path style=\"fill:none;stroke-width:0.75;stroke-linecap:round;stroke-linejoin:round;stroke:rgb(0%,0%,0%);stroke-opacity:1;stroke-miterlimit:10;\" d=\"M 451.253906 382.398438 C 451.253906 386 445.855469 386 445.855469 382.398438 C 445.855469 378.800781 451.253906 378.800781 451.253906 382.398438 \"/>\n",
       "<path style=\"fill:none;stroke-width:0.75;stroke-linecap:round;stroke-linejoin:round;stroke:rgb(0%,0%,0%);stroke-opacity:1;stroke-miterlimit:10;\" d=\"M 461.101562 399.601562 C 461.101562 403.199219 455.699219 403.199219 455.699219 399.601562 C 455.699219 396 461.101562 396 461.101562 399.601562 \"/>\n",
       "<path style=\"fill:none;stroke-width:0.75;stroke-linecap:round;stroke-linejoin:round;stroke:rgb(0%,0%,0%);stroke-opacity:1;stroke-miterlimit:10;\" d=\"M 64.554688 430.558594 L 458.398438 430.558594 \"/>\n",
       "<path style=\"fill:none;stroke-width:0.75;stroke-linecap:round;stroke-linejoin:round;stroke:rgb(0%,0%,0%);stroke-opacity:1;stroke-miterlimit:10;\" d=\"M 64.554688 430.558594 L 64.554688 437.761719 \"/>\n",
       "<path style=\"fill:none;stroke-width:0.75;stroke-linecap:round;stroke-linejoin:round;stroke:rgb(0%,0%,0%);stroke-opacity:1;stroke-miterlimit:10;\" d=\"M 163.015625 430.558594 L 163.015625 437.761719 \"/>\n",
       "<path style=\"fill:none;stroke-width:0.75;stroke-linecap:round;stroke-linejoin:round;stroke:rgb(0%,0%,0%);stroke-opacity:1;stroke-miterlimit:10;\" d=\"M 261.476562 430.558594 L 261.476562 437.761719 \"/>\n",
       "<path style=\"fill:none;stroke-width:0.75;stroke-linecap:round;stroke-linejoin:round;stroke:rgb(0%,0%,0%);stroke-opacity:1;stroke-miterlimit:10;\" d=\"M 359.9375 430.558594 L 359.9375 437.761719 \"/>\n",
       "<path style=\"fill:none;stroke-width:0.75;stroke-linecap:round;stroke-linejoin:round;stroke:rgb(0%,0%,0%);stroke-opacity:1;stroke-miterlimit:10;\" d=\"M 458.398438 430.558594 L 458.398438 437.761719 \"/>\n",
       "<g style=\"fill:rgb(0%,0%,0%);fill-opacity:1;\">\n",
       "  <use xlink:href=\"#glyph0-1\" x=\"61.054688\" y=\"455.916016\"/>\n",
       "</g>\n",
       "<g style=\"fill:rgb(0%,0%,0%);fill-opacity:1;\">\n",
       "  <use xlink:href=\"#glyph0-2\" x=\"156.015625\" y=\"455.916016\"/>\n",
       "  <use xlink:href=\"#glyph0-1\" x=\"162.6875\" y=\"455.916016\"/>\n",
       "</g>\n",
       "<g style=\"fill:rgb(0%,0%,0%);fill-opacity:1;\">\n",
       "  <use xlink:href=\"#glyph0-3\" x=\"254.476562\" y=\"455.916016\"/>\n",
       "  <use xlink:href=\"#glyph0-1\" x=\"261.148438\" y=\"455.916016\"/>\n",
       "</g>\n",
       "<g style=\"fill:rgb(0%,0%,0%);fill-opacity:1;\">\n",
       "  <use xlink:href=\"#glyph0-4\" x=\"352.9375\" y=\"455.916016\"/>\n",
       "  <use xlink:href=\"#glyph0-1\" x=\"359.609375\" y=\"455.916016\"/>\n",
       "</g>\n",
       "<g style=\"fill:rgb(0%,0%,0%);fill-opacity:1;\">\n",
       "  <use xlink:href=\"#glyph0-5\" x=\"451.398438\" y=\"455.916016\"/>\n",
       "  <use xlink:href=\"#glyph0-1\" x=\"458.070312\" y=\"455.916016\"/>\n",
       "</g>\n",
       "<path style=\"fill:none;stroke-width:0.75;stroke-linecap:round;stroke-linejoin:round;stroke:rgb(0%,0%,0%);stroke-opacity:1;stroke-miterlimit:10;\" d=\"M 59.039062 416.800781 L 59.039062 72.800781 \"/>\n",
       "<path style=\"fill:none;stroke-width:0.75;stroke-linecap:round;stroke-linejoin:round;stroke:rgb(0%,0%,0%);stroke-opacity:1;stroke-miterlimit:10;\" d=\"M 59.039062 416.800781 L 51.839844 416.800781 \"/>\n",
       "<path style=\"fill:none;stroke-width:0.75;stroke-linecap:round;stroke-linejoin:round;stroke:rgb(0%,0%,0%);stroke-opacity:1;stroke-miterlimit:10;\" d=\"M 59.039062 330.800781 L 51.839844 330.800781 \"/>\n",
       "<path style=\"fill:none;stroke-width:0.75;stroke-linecap:round;stroke-linejoin:round;stroke:rgb(0%,0%,0%);stroke-opacity:1;stroke-miterlimit:10;\" d=\"M 59.039062 244.800781 L 51.839844 244.800781 \"/>\n",
       "<path style=\"fill:none;stroke-width:0.75;stroke-linecap:round;stroke-linejoin:round;stroke:rgb(0%,0%,0%);stroke-opacity:1;stroke-miterlimit:10;\" d=\"M 59.039062 158.800781 L 51.839844 158.800781 \"/>\n",
       "<path style=\"fill:none;stroke-width:0.75;stroke-linecap:round;stroke-linejoin:round;stroke:rgb(0%,0%,0%);stroke-opacity:1;stroke-miterlimit:10;\" d=\"M 59.039062 72.800781 L 51.839844 72.800781 \"/>\n",
       "<g style=\"fill:rgb(0%,0%,0%);fill-opacity:1;\">\n",
       "  <use xlink:href=\"#glyph1-1\" x=\"41.197266\" y=\"420.300781\"/>\n",
       "</g>\n",
       "<g style=\"fill:rgb(0%,0%,0%);fill-opacity:1;\">\n",
       "  <use xlink:href=\"#glyph1-2\" x=\"41.197266\" y=\"334.300781\"/>\n",
       "</g>\n",
       "<g style=\"fill:rgb(0%,0%,0%);fill-opacity:1;\">\n",
       "  <use xlink:href=\"#glyph1-3\" x=\"41.197266\" y=\"251.800781\"/>\n",
       "  <use xlink:href=\"#glyph1-1\" x=\"41.197266\" y=\"245.128906\"/>\n",
       "</g>\n",
       "<g style=\"fill:rgb(0%,0%,0%);fill-opacity:1;\">\n",
       "  <use xlink:href=\"#glyph1-3\" x=\"41.197266\" y=\"165.800781\"/>\n",
       "  <use xlink:href=\"#glyph1-2\" x=\"41.197266\" y=\"159.128906\"/>\n",
       "</g>\n",
       "<g style=\"fill:rgb(0%,0%,0%);fill-opacity:1;\">\n",
       "  <use xlink:href=\"#glyph1-4\" x=\"41.197266\" y=\"79.800781\"/>\n",
       "  <use xlink:href=\"#glyph1-1\" x=\"41.197266\" y=\"73.128906\"/>\n",
       "</g>\n",
       "<path style=\"fill:none;stroke-width:0.75;stroke-linecap:round;stroke-linejoin:round;stroke:rgb(0%,0%,0%);stroke-opacity:1;stroke-miterlimit:10;\" d=\"M 59.039062 430.558594 L 473.761719 430.558594 L 473.761719 59.039062 L 59.039062 59.039062 L 59.039062 430.558594 \"/>\n",
       "<g style=\"fill:rgb(0%,0%,0%);fill-opacity:1;\">\n",
       "  <use xlink:href=\"#glyph0-6\" x=\"251.398438\" y=\"484.716797\"/>\n",
       "  <use xlink:href=\"#glyph0-7\" x=\"254.734375\" y=\"484.716797\"/>\n",
       "  <use xlink:href=\"#glyph0-8\" x=\"261.40625\" y=\"484.716797\"/>\n",
       "  <use xlink:href=\"#glyph0-9\" x=\"268.078125\" y=\"484.716797\"/>\n",
       "  <use xlink:href=\"#glyph0-10\" x=\"274.75\" y=\"484.716797\"/>\n",
       "</g>\n",
       "<g style=\"fill:rgb(0%,0%,0%);fill-opacity:1;\">\n",
       "  <use xlink:href=\"#glyph1-5\" x=\"12.396484\" y=\"306.800781\"/>\n",
       "  <use xlink:href=\"#glyph1-6\" x=\"12.396484\" y=\"296.804688\"/>\n",
       "  <use xlink:href=\"#glyph1-7\" x=\"12.396484\" y=\"290.132812\"/>\n",
       "  <use xlink:href=\"#glyph1-8\" x=\"12.396484\" y=\"284.132812\"/>\n",
       "  <use xlink:href=\"#glyph1-9\" x=\"12.396484\" y=\"277.460938\"/>\n",
       "  <use xlink:href=\"#glyph1-6\" x=\"12.396484\" y=\"270.789062\"/>\n",
       "  <use xlink:href=\"#glyph1-10\" x=\"12.396484\" y=\"264.117188\"/>\n",
       "  <use xlink:href=\"#glyph1-8\" x=\"12.396484\" y=\"258.117188\"/>\n",
       "  <use xlink:href=\"#glyph1-11\" x=\"12.396484\" y=\"251.445312\"/>\n",
       "  <use xlink:href=\"#glyph1-12\" x=\"12.396484\" y=\"248.78125\"/>\n",
       "  <use xlink:href=\"#glyph1-13\" x=\"12.396484\" y=\"242.109375\"/>\n",
       "  <use xlink:href=\"#glyph1-14\" x=\"12.396484\" y=\"238.773438\"/>\n",
       "  <use xlink:href=\"#glyph1-6\" x=\"12.396484\" y=\"236.109375\"/>\n",
       "  <use xlink:href=\"#glyph1-5\" x=\"12.396484\" y=\"229.4375\"/>\n",
       "  <use xlink:href=\"#glyph1-5\" x=\"12.396484\" y=\"219.441406\"/>\n",
       "  <use xlink:href=\"#glyph1-6\" x=\"12.396484\" y=\"209.445312\"/>\n",
       "  <use xlink:href=\"#glyph1-15\" x=\"12.396484\" y=\"202.773438\"/>\n",
       "  <use xlink:href=\"#glyph1-11\" x=\"12.396484\" y=\"199.4375\"/>\n",
       "  <use xlink:href=\"#glyph1-16\" x=\"12.396484\" y=\"196.773438\"/>\n",
       "  <use xlink:href=\"#glyph1-12\" x=\"12.396484\" y=\"190.101562\"/>\n",
       "</g>\n",
       "</g>\n",
       "</svg>\n"
      ],
      "text/plain": [
       "plot without title"
      ]
     },
     "metadata": {
      "image/svg+xml": {
       "isolated": true
      }
     },
     "output_type": "display_data"
    }
   ],
   "source": [
    "max_day_inflammation <- apply(dat, 2, max)\n",
    "plot(max_day_inflammation)"
   ]
  },
  {
   "cell_type": "code",
   "execution_count": 36,
   "metadata": {
    "collapsed": false
   },
   "outputs": [
    {
     "data": {
      "image/png": "[encoded data removed]",
      "image/svg+xml": [
       "<?xml version=\"1.0\" encoding=\"UTF-8\"?>\n",
       "<svg xmlns=\"http://www.w3.org/2000/svg\" xmlns:xlink=\"http://www.w3.org/1999/xlink\" width=\"504pt\" height=\"504pt\" viewBox=\"0 0 504 504\" version=\"1.1\">\n",
       "<defs>\n",
       "<g>\n",
       "<symbol overflow=\"visible\" id=\"glyph0-0\">\n",
       "<path style=\"stroke:none;\" d=\"\"/>\n",
       "</symbol>\n",
       "<symbol overflow=\"visible\" id=\"glyph0-1\">\n",
       "<path style=\"stroke:none;\" d=\"M 3.296875 -8.515625 C 2.515625 -8.515625 1.78125 -8.15625 1.34375 -7.578125 C 0.796875 -6.828125 0.515625 -5.6875 0.515625 -4.109375 C 0.515625 -1.25 1.46875 0.28125 3.296875 0.28125 C 5.09375 0.28125 6.078125 -1.25 6.078125 -4.046875 C 6.078125 -5.703125 5.8125 -6.796875 5.25 -7.578125 C 4.8125 -8.171875 4.109375 -8.515625 3.296875 -8.515625 Z M 3.296875 -7.578125 C 4.4375 -7.578125 5 -6.421875 5 -4.140625 C 5 -1.734375 4.453125 -0.59375 3.28125 -0.59375 C 2.15625 -0.59375 1.59375 -1.78125 1.59375 -4.109375 C 1.59375 -6.4375 2.15625 -7.578125 3.296875 -7.578125 Z \"/>\n",
       "</symbol>\n",
       "<symbol overflow=\"visible\" id=\"glyph0-2\">\n",
       "<path style=\"stroke:none;\" d=\"M 3.109375 -6.0625 L 3.109375 0 L 4.15625 0 L 4.15625 -8.515625 L 3.46875 -8.515625 C 3.09375 -7.203125 2.859375 -7.015625 1.21875 -6.8125 L 1.21875 -6.0625 Z \"/>\n",
       "</symbol>\n",
       "<symbol overflow=\"visible\" id=\"glyph0-3\">\n",
       "<path style=\"stroke:none;\" d=\"M 6.078125 -1.046875 L 1.59375 -1.046875 C 1.703125 -1.734375 2.09375 -2.1875 3.125 -2.796875 L 4.328125 -3.4375 C 5.515625 -4.09375 6.125 -4.96875 6.125 -6.015625 C 6.125 -6.71875 5.84375 -7.375 5.34375 -7.84375 C 4.84375 -8.296875 4.21875 -8.515625 3.40625 -8.515625 C 2.328125 -8.515625 1.53125 -8.125 1.0625 -7.40625 C 0.75 -6.953125 0.625 -6.421875 0.59375 -5.5625 L 1.65625 -5.5625 C 1.6875 -6.125 1.765625 -6.484375 1.90625 -6.75 C 2.1875 -7.265625 2.734375 -7.578125 3.375 -7.578125 C 4.328125 -7.578125 5.046875 -6.90625 5.046875 -5.984375 C 5.046875 -5.3125 4.65625 -4.734375 3.90625 -4.3125 L 2.796875 -3.6875 C 1.015625 -2.671875 0.5 -1.875 0.40625 0 L 6.078125 0 Z \"/>\n",
       "</symbol>\n",
       "<symbol overflow=\"visible\" id=\"glyph0-4\">\n",
       "<path style=\"stroke:none;\" d=\"M 2.65625 -3.90625 L 3.234375 -3.90625 C 4.390625 -3.90625 4.984375 -3.390625 4.984375 -2.359375 C 4.984375 -1.296875 4.328125 -0.65625 3.234375 -0.65625 C 2.078125 -0.65625 1.515625 -1.234375 1.4375 -2.46875 L 0.390625 -2.46875 C 0.4375 -1.78125 0.546875 -1.34375 0.75 -0.953125 C 1.1875 -0.140625 2.03125 0.28125 3.1875 0.28125 C 4.9375 0.28125 6.078125 -0.765625 6.078125 -2.375 C 6.078125 -3.453125 5.65625 -4.0625 4.625 -4.40625 C 5.421875 -4.71875 5.8125 -5.3125 5.8125 -6.171875 C 5.8125 -7.625 4.84375 -8.515625 3.234375 -8.515625 C 1.515625 -8.515625 0.59375 -7.578125 0.5625 -5.765625 L 1.625 -5.765625 C 1.625 -6.28125 1.6875 -6.5625 1.8125 -6.828125 C 2.046875 -7.296875 2.578125 -7.578125 3.234375 -7.578125 C 4.171875 -7.578125 4.734375 -7.03125 4.734375 -6.125 C 4.734375 -5.53125 4.53125 -5.171875 4.0625 -4.984375 C 3.765625 -4.859375 3.390625 -4.8125 2.65625 -4.796875 Z \"/>\n",
       "</symbol>\n",
       "<symbol overflow=\"visible\" id=\"glyph0-5\">\n",
       "<path style=\"stroke:none;\" d=\"M 3.921875 -2.046875 L 3.921875 0 L 4.984375 0 L 4.984375 -2.046875 L 6.234375 -2.046875 L 6.234375 -2.984375 L 4.984375 -2.984375 L 4.984375 -8.515625 L 4.203125 -8.515625 L 0.34375 -3.15625 L 0.34375 -2.046875 Z M 3.921875 -2.984375 L 1.265625 -2.984375 L 3.921875 -6.703125 Z \"/>\n",
       "</symbol>\n",
       "<symbol overflow=\"visible\" id=\"glyph0-6\">\n",
       "<path style=\"stroke:none;\" d=\"M 2.328125 -8.75 L 1.203125 -8.75 L 1.203125 0 L 2.328125 0 Z \"/>\n",
       "</symbol>\n",
       "<symbol overflow=\"visible\" id=\"glyph0-7\">\n",
       "<path style=\"stroke:none;\" d=\"M 0.84375 -6.28125 L 0.84375 0 L 1.84375 0 L 1.84375 -3.46875 C 1.84375 -4.75 2.515625 -5.59375 3.546875 -5.59375 C 4.34375 -5.59375 4.84375 -5.109375 4.84375 -4.359375 L 4.84375 0 L 5.84375 0 L 5.84375 -4.75 C 5.84375 -5.796875 5.0625 -6.46875 3.859375 -6.46875 C 2.921875 -6.46875 2.3125 -6.109375 1.765625 -5.234375 L 1.765625 -6.28125 Z \"/>\n",
       "</symbol>\n",
       "<symbol overflow=\"visible\" id=\"glyph0-8\">\n",
       "<path style=\"stroke:none;\" d=\"M 5.9375 -8.75 L 4.9375 -8.75 L 4.9375 -5.5 C 4.53125 -6.125 3.859375 -6.46875 3.015625 -6.46875 C 1.375 -6.46875 0.3125 -5.15625 0.3125 -3.15625 C 0.3125 -1.03125 1.359375 0.28125 3.046875 0.28125 C 3.90625 0.28125 4.515625 -0.046875 5.046875 -0.828125 L 5.046875 0 L 5.9375 0 Z M 3.1875 -5.53125 C 4.265625 -5.53125 4.9375 -4.578125 4.9375 -3.078125 C 4.9375 -1.625 4.25 -0.65625 3.1875 -0.65625 C 2.09375 -0.65625 1.359375 -1.625 1.359375 -3.09375 C 1.359375 -4.5625 2.09375 -5.53125 3.1875 -5.53125 Z \"/>\n",
       "</symbol>\n",
       "<symbol overflow=\"visible\" id=\"glyph0-9\">\n",
       "<path style=\"stroke:none;\" d=\"M 6.15625 -2.8125 C 6.15625 -3.765625 6.078125 -4.34375 5.90625 -4.8125 C 5.5 -5.84375 4.53125 -6.46875 3.359375 -6.46875 C 1.609375 -6.46875 0.484375 -5.125 0.484375 -3.0625 C 0.484375 -1 1.578125 0.28125 3.34375 0.28125 C 4.78125 0.28125 5.765625 -0.546875 6.03125 -1.90625 L 5.015625 -1.90625 C 4.734375 -1.078125 4.171875 -0.640625 3.375 -0.640625 C 2.734375 -0.640625 2.203125 -0.9375 1.859375 -1.46875 C 1.625 -1.828125 1.53125 -2.1875 1.53125 -2.8125 Z M 1.546875 -3.625 C 1.625 -4.78125 2.34375 -5.546875 3.34375 -5.546875 C 4.328125 -5.546875 5.09375 -4.734375 5.09375 -3.703125 C 5.09375 -3.671875 5.09375 -3.640625 5.078125 -3.625 Z \"/>\n",
       "</symbol>\n",
       "<symbol overflow=\"visible\" id=\"glyph0-10\">\n",
       "<path style=\"stroke:none;\" d=\"M 3.5 -3.25 L 5.609375 -6.28125 L 4.484375 -6.28125 L 2.96875 -4.015625 L 1.46875 -6.28125 L 0.328125 -6.28125 L 2.421875 -3.203125 L 0.203125 0 L 1.34375 0 L 2.9375 -2.40625 L 4.515625 0 L 5.671875 0 Z \"/>\n",
       "</symbol>\n",
       "<symbol overflow=\"visible\" id=\"glyph1-0\">\n",
       "<path style=\"stroke:none;\" d=\"\"/>\n",
       "</symbol>\n",
       "<symbol overflow=\"visible\" id=\"glyph1-1\">\n",
       "<path style=\"stroke:none;\" d=\"M -8.515625 -3.296875 C -8.515625 -2.515625 -8.15625 -1.78125 -7.578125 -1.34375 C -6.828125 -0.796875 -5.6875 -0.515625 -4.109375 -0.515625 C -1.25 -0.515625 0.28125 -1.46875 0.28125 -3.296875 C 0.28125 -5.09375 -1.25 -6.078125 -4.046875 -6.078125 C -5.703125 -6.078125 -6.796875 -5.8125 -7.578125 -5.25 C -8.171875 -4.8125 -8.515625 -4.109375 -8.515625 -3.296875 Z M -7.578125 -3.296875 C -7.578125 -4.4375 -6.421875 -5 -4.140625 -5 C -1.734375 -5 -0.59375 -4.453125 -0.59375 -3.28125 C -0.59375 -2.15625 -1.78125 -1.59375 -4.109375 -1.59375 C -6.4375 -1.59375 -7.578125 -2.15625 -7.578125 -3.296875 Z \"/>\n",
       "</symbol>\n",
       "<symbol overflow=\"visible\" id=\"glyph1-2\">\n",
       "<path style=\"stroke:none;\" d=\"M -6.0625 -3.109375 L 0 -3.109375 L 0 -4.15625 L -8.515625 -4.15625 L -8.515625 -3.46875 C -7.203125 -3.09375 -7.015625 -2.859375 -6.8125 -1.21875 L -6.0625 -1.21875 Z \"/>\n",
       "</symbol>\n",
       "<symbol overflow=\"visible\" id=\"glyph1-3\">\n",
       "<path style=\"stroke:none;\" d=\"M -1.046875 -6.078125 L -1.046875 -1.59375 C -1.734375 -1.703125 -2.1875 -2.09375 -2.796875 -3.125 L -3.4375 -4.328125 C -4.09375 -5.515625 -4.96875 -6.125 -6.015625 -6.125 C -6.71875 -6.125 -7.375 -5.84375 -7.84375 -5.34375 C -8.296875 -4.84375 -8.515625 -4.21875 -8.515625 -3.40625 C -8.515625 -2.328125 -8.125 -1.53125 -7.40625 -1.0625 C -6.953125 -0.75 -6.421875 -0.625 -5.5625 -0.59375 L -5.5625 -1.65625 C -6.125 -1.6875 -6.484375 -1.765625 -6.75 -1.90625 C -7.265625 -2.1875 -7.578125 -2.734375 -7.578125 -3.375 C -7.578125 -4.328125 -6.90625 -5.046875 -5.984375 -5.046875 C -5.3125 -5.046875 -4.734375 -4.65625 -4.3125 -3.90625 L -3.6875 -2.796875 C -2.671875 -1.015625 -1.875 -0.5 0 -0.40625 L 0 -6.078125 Z \"/>\n",
       "</symbol>\n",
       "<symbol overflow=\"visible\" id=\"glyph1-4\">\n",
       "<path style=\"stroke:none;\" d=\"M -3.90625 -2.65625 L -3.90625 -3.234375 C -3.90625 -4.390625 -3.390625 -4.984375 -2.359375 -4.984375 C -1.296875 -4.984375 -0.65625 -4.328125 -0.65625 -3.234375 C -0.65625 -2.078125 -1.234375 -1.515625 -2.46875 -1.4375 L -2.46875 -0.390625 C -1.78125 -0.4375 -1.34375 -0.546875 -0.953125 -0.75 C -0.140625 -1.1875 0.28125 -2.03125 0.28125 -3.1875 C 0.28125 -4.9375 -0.765625 -6.078125 -2.375 -6.078125 C -3.453125 -6.078125 -4.0625 -5.65625 -4.40625 -4.625 C -4.71875 -5.421875 -5.3125 -5.8125 -6.171875 -5.8125 C -7.625 -5.8125 -8.515625 -4.84375 -8.515625 -3.234375 C -8.515625 -1.515625 -7.578125 -0.59375 -5.765625 -0.5625 L -5.765625 -1.625 C -6.28125 -1.625 -6.5625 -1.6875 -6.828125 -1.8125 C -7.296875 -2.046875 -7.578125 -2.578125 -7.578125 -3.234375 C -7.578125 -4.171875 -7.03125 -4.734375 -6.125 -4.734375 C -5.53125 -4.734375 -5.171875 -4.53125 -4.984375 -4.0625 C -4.859375 -3.765625 -4.8125 -3.390625 -4.796875 -2.65625 Z \"/>\n",
       "</symbol>\n",
       "<symbol overflow=\"visible\" id=\"glyph1-5\">\n",
       "<path style=\"stroke:none;\" d=\"M -2.046875 -3.921875 L 0 -3.921875 L 0 -4.984375 L -2.046875 -4.984375 L -2.046875 -6.234375 L -2.984375 -6.234375 L -2.984375 -4.984375 L -8.515625 -4.984375 L -8.515625 -4.203125 L -3.15625 -0.34375 L -2.046875 -0.34375 Z M -2.984375 -3.921875 L -2.984375 -1.265625 L -6.703125 -3.921875 Z \"/>\n",
       "</symbol>\n",
       "<symbol overflow=\"visible\" id=\"glyph1-6\">\n",
       "<path style=\"stroke:none;\" d=\"M -8.515625 -5.71875 L -8.515625 -1.3125 L -3.875 -0.6875 L -3.875 -1.65625 C -4.46875 -2.140625 -4.671875 -2.5625 -4.671875 -3.21875 C -4.671875 -4.359375 -3.890625 -5.078125 -2.625 -5.078125 C -1.40625 -5.078125 -0.65625 -4.375 -0.65625 -3.21875 C -0.65625 -2.296875 -1.125 -1.734375 -2.09375 -1.46875 L -2.09375 -0.421875 C -1.390625 -0.5625 -1.0625 -0.6875 -0.75 -0.9375 C -0.09375 -1.421875 0.28125 -2.28125 0.28125 -3.234375 C 0.28125 -4.953125 -0.96875 -6.15625 -2.765625 -6.15625 C -4.453125 -6.15625 -5.609375 -5.046875 -5.609375 -3.40625 C -5.609375 -2.8125 -5.453125 -2.328125 -5.09375 -1.84375 L -7.46875 -2.171875 L -7.46875 -5.71875 Z \"/>\n",
       "</symbol>\n",
       "<symbol overflow=\"visible\" id=\"glyph1-7\">\n",
       "<path style=\"stroke:none;\" d=\"M -6.28125 -0.84375 L 0 -0.84375 L 0 -1.84375 L -3.953125 -1.84375 C -4.859375 -1.84375 -5.59375 -2.515625 -5.59375 -3.328125 C -5.59375 -4.0625 -5.140625 -4.484375 -4.328125 -4.484375 L 0 -4.484375 L 0 -5.5 L -3.953125 -5.5 C -4.859375 -5.5 -5.59375 -6.15625 -5.59375 -6.96875 C -5.59375 -7.703125 -5.125 -8.140625 -4.328125 -8.140625 L 0 -8.140625 L 0 -9.140625 L -4.71875 -9.140625 C -5.84375 -9.140625 -6.46875 -8.5 -6.46875 -7.3125 C -6.46875 -6.484375 -6.21875 -5.96875 -5.515625 -5.390625 C -6.1875 -5.015625 -6.46875 -4.515625 -6.46875 -3.703125 C -6.46875 -2.859375 -6.15625 -2.296875 -5.40625 -1.765625 L -6.28125 -1.765625 Z \"/>\n",
       "</symbol>\n",
       "<symbol overflow=\"visible\" id=\"glyph1-8\">\n",
       "<path style=\"stroke:none;\" d=\"M -6.28125 -1.796875 L -6.28125 -0.796875 L 0 -0.796875 L 0 -1.796875 Z M -8.75 -1.796875 L -8.75 -0.796875 L -7.484375 -0.796875 L -7.484375 -1.796875 Z \"/>\n",
       "</symbol>\n",
       "<symbol overflow=\"visible\" id=\"glyph1-9\">\n",
       "<path style=\"stroke:none;\" d=\"M -6.28125 -0.84375 L 0 -0.84375 L 0 -1.84375 L -3.46875 -1.84375 C -4.75 -1.84375 -5.59375 -2.515625 -5.59375 -3.546875 C -5.59375 -4.34375 -5.109375 -4.84375 -4.359375 -4.84375 L 0 -4.84375 L 0 -5.84375 L -4.75 -5.84375 C -5.796875 -5.84375 -6.46875 -5.0625 -6.46875 -3.859375 C -6.46875 -2.921875 -6.109375 -2.3125 -5.234375 -1.765625 L -6.28125 -1.765625 Z \"/>\n",
       "</symbol>\n",
       "<symbol overflow=\"visible\" id=\"glyph1-10\">\n",
       "<path style=\"stroke:none;\" d=\"M 1.515625 -6.9375 L 1.515625 0.265625 L 2.109375 0.265625 L 2.109375 -6.9375 Z \"/>\n",
       "</symbol>\n",
       "<symbol overflow=\"visible\" id=\"glyph1-11\">\n",
       "<path style=\"stroke:none;\" d=\"M -8.75 -5.9375 L -8.75 -4.9375 L -5.5 -4.9375 C -6.125 -4.53125 -6.46875 -3.859375 -6.46875 -3.015625 C -6.46875 -1.375 -5.15625 -0.3125 -3.15625 -0.3125 C -1.03125 -0.3125 0.28125 -1.359375 0.28125 -3.046875 C 0.28125 -3.90625 -0.046875 -4.515625 -0.828125 -5.046875 L 0 -5.046875 L 0 -5.9375 Z M -5.53125 -3.1875 C -5.53125 -4.265625 -4.578125 -4.9375 -3.078125 -4.9375 C -1.625 -4.9375 -0.65625 -4.25 -0.65625 -3.1875 C -0.65625 -2.09375 -1.625 -1.359375 -3.09375 -1.359375 C -4.5625 -1.359375 -5.53125 -2.09375 -5.53125 -3.1875 Z \"/>\n",
       "</symbol>\n",
       "<symbol overflow=\"visible\" id=\"glyph1-12\">\n",
       "<path style=\"stroke:none;\" d=\"M -0.59375 -6.421875 C -0.5625 -6.3125 -0.5625 -6.265625 -0.5625 -6.203125 C -0.5625 -5.859375 -0.75 -5.65625 -1.0625 -5.65625 L -4.75 -5.65625 C -5.875 -5.65625 -6.46875 -4.84375 -6.46875 -3.296875 C -6.46875 -2.390625 -6.203125 -1.625 -5.734375 -1.21875 C -5.40625 -0.921875 -5.046875 -0.796875 -4.421875 -0.78125 L -4.421875 -1.78125 C -5.203125 -1.875 -5.546875 -2.328125 -5.546875 -3.265625 C -5.546875 -4.15625 -5.203125 -4.671875 -4.609375 -4.671875 L -4.34375 -4.671875 C -3.921875 -4.671875 -3.75 -4.421875 -3.640625 -3.625 C -3.46875 -2.203125 -3.421875 -1.984375 -3.265625 -1.609375 C -2.96875 -0.875 -2.40625 -0.5 -1.578125 -0.5 C -0.4375 -0.5 0.28125 -1.296875 0.28125 -2.5625 C 0.28125 -3.359375 0 -4 -0.640625 -4.703125 C -0.015625 -4.78125 0.28125 -5.09375 0.28125 -5.734375 C 0.28125 -5.9375 0.25 -6.09375 0.171875 -6.421875 Z M -1.984375 -4.671875 C -1.640625 -4.671875 -1.4375 -4.578125 -1.15625 -4.265625 C -0.796875 -3.859375 -0.59375 -3.375 -0.59375 -2.78125 C -0.59375 -2 -0.96875 -1.546875 -1.609375 -1.546875 C -2.265625 -1.546875 -2.609375 -1.984375 -2.765625 -3.0625 C -2.90625 -4.109375 -2.953125 -4.328125 -3.109375 -4.671875 Z \"/>\n",
       "</symbol>\n",
       "<symbol overflow=\"visible\" id=\"glyph1-13\">\n",
       "<path style=\"stroke:none;\" d=\"M -6.28125 -4.65625 L -1.390625 -2.921875 L -6.28125 -1.3125 L -6.28125 -0.234375 L 0.03125 -2.359375 L 1.015625 -1.984375 C 1.46875 -1.828125 1.625 -1.59375 1.625 -1.171875 C 1.625 -1.03125 1.609375 -0.859375 1.5625 -0.640625 L 2.453125 -0.640625 C 2.5625 -0.859375 2.609375 -1.0625 2.609375 -1.3125 C 2.609375 -1.640625 2.515625 -1.984375 2.3125 -2.25 C 2.09375 -2.5625 1.828125 -2.75 1.3125 -2.9375 L -6.28125 -5.734375 Z \"/>\n",
       "</symbol>\n",
       "<symbol overflow=\"visible\" id=\"glyph1-14\">\n",
       "<path style=\"stroke:none;\" d=\"M -6.28125 -3.09375 L -6.28125 -2.046875 L -7.265625 -2.046875 C -7.6875 -2.046875 -7.90625 -2.296875 -7.90625 -2.75 C -7.90625 -2.828125 -7.90625 -2.875 -7.890625 -3.09375 L -8.71875 -3.09375 C -8.765625 -2.875 -8.78125 -2.734375 -8.78125 -2.53125 C -8.78125 -1.609375 -8.25 -1.0625 -7.359375 -1.0625 L -6.28125 -1.0625 L -6.28125 -0.21875 L -5.46875 -0.21875 L -5.46875 -1.0625 L 0 -1.0625 L 0 -2.046875 L -5.46875 -2.046875 L -5.46875 -3.09375 Z \"/>\n",
       "</symbol>\n",
       "<symbol overflow=\"visible\" id=\"glyph1-15\">\n",
       "<path style=\"stroke:none;\" d=\"M -8.75 -1.828125 L -8.75 -0.8125 L 0 -0.8125 L 0 -1.828125 Z \"/>\n",
       "</symbol>\n",
       "<symbol overflow=\"visible\" id=\"glyph1-16\">\n",
       "<path style=\"stroke:none;\" d=\"M -6.28125 -3.046875 L -6.28125 -2.015625 L -8.015625 -2.015625 L -8.015625 -1.015625 L -6.28125 -1.015625 L -6.28125 -0.171875 L -5.46875 -0.171875 L -5.46875 -1.015625 L -0.71875 -1.015625 C -0.078125 -1.015625 0.28125 -1.453125 0.28125 -2.234375 C 0.28125 -2.46875 0.25 -2.71875 0.1875 -3.046875 L -0.640625 -3.046875 C -0.609375 -2.921875 -0.59375 -2.765625 -0.59375 -2.5625 C -0.59375 -2.140625 -0.71875 -2.015625 -1.15625 -2.015625 L -5.46875 -2.015625 L -5.46875 -3.046875 Z \"/>\n",
       "</symbol>\n",
       "<symbol overflow=\"visible\" id=\"glyph1-17\">\n",
       "<path style=\"stroke:none;\" d=\"M -6.46875 -3.265625 C -6.46875 -1.5 -5.203125 -0.4375 -3.09375 -0.4375 C -0.984375 -0.4375 0.28125 -1.484375 0.28125 -3.28125 C 0.28125 -5.046875 -0.984375 -6.125 -3.046875 -6.125 C -5.21875 -6.125 -6.46875 -5.078125 -6.46875 -3.265625 Z M -5.546875 -3.28125 C -5.546875 -4.40625 -4.625 -5.078125 -3.0625 -5.078125 C -1.578125 -5.078125 -0.640625 -4.375 -0.640625 -3.28125 C -0.640625 -2.15625 -1.578125 -1.46875 -3.09375 -1.46875 C -4.609375 -1.46875 -5.546875 -2.15625 -5.546875 -3.28125 Z \"/>\n",
       "</symbol>\n",
       "</g>\n",
       "</defs>\n",
       "<g id=\"surface85\">\n",
       "<rect x=\"0\" y=\"0\" width=\"504\" height=\"504\" style=\"fill:rgb(100%,100%,100%);fill-opacity:1;stroke:none;\"/>\n",
       "<path style=\"fill:none;stroke-width:0.75;stroke-linecap:round;stroke-linejoin:round;stroke:rgb(0%,0%,0%);stroke-opacity:1;stroke-miterlimit:10;\" d=\"M 77.101562 416.800781 C 77.101562 420.398438 71.699219 420.398438 71.699219 416.800781 C 71.699219 413.199219 77.101562 413.199219 77.101562 416.800781 \"/>\n",
       "<path style=\"fill:none;stroke-width:0.75;stroke-linecap:round;stroke-linejoin:round;stroke:rgb(0%,0%,0%);stroke-opacity:1;stroke-miterlimit:10;\" d=\"M 86.945312 416.800781 C 86.945312 420.398438 81.546875 420.398438 81.546875 416.800781 C 81.546875 413.199219 86.945312 413.199219 86.945312 416.800781 \"/>\n",
       "<path style=\"fill:none;stroke-width:0.75;stroke-linecap:round;stroke-linejoin:round;stroke:rgb(0%,0%,0%);stroke-opacity:1;stroke-miterlimit:10;\" d=\"M 96.792969 416.800781 C 96.792969 420.398438 91.390625 420.398438 91.390625 416.800781 C 91.390625 413.199219 96.792969 413.199219 96.792969 416.800781 \"/>\n",
       "<path style=\"fill:none;stroke-width:0.75;stroke-linecap:round;stroke-linejoin:round;stroke:rgb(0%,0%,0%);stroke-opacity:1;stroke-miterlimit:10;\" d=\"M 106.636719 416.800781 C 106.636719 420.398438 101.238281 420.398438 101.238281 416.800781 C 101.238281 413.199219 106.636719 413.199219 106.636719 416.800781 \"/>\n",
       "<path style=\"fill:none;stroke-width:0.75;stroke-linecap:round;stroke-linejoin:round;stroke:rgb(0%,0%,0%);stroke-opacity:1;stroke-miterlimit:10;\" d=\"M 116.484375 348 C 116.484375 351.601562 111.085938 351.601562 111.085938 348 C 111.085938 344.398438 116.484375 344.398438 116.484375 348 \"/>\n",
       "<path style=\"fill:none;stroke-width:0.75;stroke-linecap:round;stroke-linejoin:round;stroke:rgb(0%,0%,0%);stroke-opacity:1;stroke-miterlimit:10;\" d=\"M 126.332031 348 C 126.332031 351.601562 120.929688 351.601562 120.929688 348 C 120.929688 344.398438 126.332031 344.398438 126.332031 348 \"/>\n",
       "<path style=\"fill:none;stroke-width:0.75;stroke-linecap:round;stroke-linejoin:round;stroke:rgb(0%,0%,0%);stroke-opacity:1;stroke-miterlimit:10;\" d=\"M 136.175781 348 C 136.175781 351.601562 130.777344 351.601562 130.777344 348 C 130.777344 344.398438 136.175781 344.398438 136.175781 348 \"/>\n",
       "<path style=\"fill:none;stroke-width:0.75;stroke-linecap:round;stroke-linejoin:round;stroke:rgb(0%,0%,0%);stroke-opacity:1;stroke-miterlimit:10;\" d=\"M 146.023438 348 C 146.023438 351.601562 140.625 351.601562 140.625 348 C 140.625 344.398438 146.023438 344.398438 146.023438 348 \"/>\n",
       "<path style=\"fill:none;stroke-width:0.75;stroke-linecap:round;stroke-linejoin:round;stroke:rgb(0%,0%,0%);stroke-opacity:1;stroke-miterlimit:10;\" d=\"M 155.871094 279.199219 C 155.871094 282.800781 150.46875 282.800781 150.46875 279.199219 C 150.46875 275.601562 155.871094 275.601562 155.871094 279.199219 \"/>\n",
       "<path style=\"fill:none;stroke-width:0.75;stroke-linecap:round;stroke-linejoin:round;stroke:rgb(0%,0%,0%);stroke-opacity:1;stroke-miterlimit:10;\" d=\"M 165.714844 279.199219 C 165.714844 282.800781 160.316406 282.800781 160.316406 279.199219 C 160.316406 275.601562 165.714844 275.601562 165.714844 279.199219 \"/>\n",
       "<path style=\"fill:none;stroke-width:0.75;stroke-linecap:round;stroke-linejoin:round;stroke:rgb(0%,0%,0%);stroke-opacity:1;stroke-miterlimit:10;\" d=\"M 175.5625 279.199219 C 175.5625 282.800781 170.160156 282.800781 170.160156 279.199219 C 170.160156 275.601562 175.5625 275.601562 175.5625 279.199219 \"/>\n",
       "<path style=\"fill:none;stroke-width:0.75;stroke-linecap:round;stroke-linejoin:round;stroke:rgb(0%,0%,0%);stroke-opacity:1;stroke-miterlimit:10;\" d=\"M 185.40625 279.199219 C 185.40625 282.800781 180.007812 282.800781 180.007812 279.199219 C 180.007812 275.601562 185.40625 275.601562 185.40625 279.199219 \"/>\n",
       "<path style=\"fill:none;stroke-width:0.75;stroke-linecap:round;stroke-linejoin:round;stroke:rgb(0%,0%,0%);stroke-opacity:1;stroke-miterlimit:10;\" d=\"M 195.253906 210.398438 C 195.253906 214 189.855469 214 189.855469 210.398438 C 189.855469 206.800781 195.253906 206.800781 195.253906 210.398438 \"/>\n",
       "<path style=\"fill:none;stroke-width:0.75;stroke-linecap:round;stroke-linejoin:round;stroke:rgb(0%,0%,0%);stroke-opacity:1;stroke-miterlimit:10;\" d=\"M 205.101562 210.398438 C 205.101562 214 199.699219 214 199.699219 210.398438 C 199.699219 206.800781 205.101562 206.800781 205.101562 210.398438 \"/>\n",
       "<path style=\"fill:none;stroke-width:0.75;stroke-linecap:round;stroke-linejoin:round;stroke:rgb(0%,0%,0%);stroke-opacity:1;stroke-miterlimit:10;\" d=\"M 214.945312 210.398438 C 214.945312 214 209.546875 214 209.546875 210.398438 C 209.546875 206.800781 214.945312 206.800781 214.945312 210.398438 \"/>\n",
       "<path style=\"fill:none;stroke-width:0.75;stroke-linecap:round;stroke-linejoin:round;stroke:rgb(0%,0%,0%);stroke-opacity:1;stroke-miterlimit:10;\" d=\"M 224.792969 210.398438 C 224.792969 214 219.390625 214 219.390625 210.398438 C 219.390625 206.800781 224.792969 206.800781 224.792969 210.398438 \"/>\n",
       "<path style=\"fill:none;stroke-width:0.75;stroke-linecap:round;stroke-linejoin:round;stroke:rgb(0%,0%,0%);stroke-opacity:1;stroke-miterlimit:10;\" d=\"M 234.636719 141.601562 C 234.636719 145.199219 229.238281 145.199219 229.238281 141.601562 C 229.238281 138 234.636719 138 234.636719 141.601562 \"/>\n",
       "<path style=\"fill:none;stroke-width:0.75;stroke-linecap:round;stroke-linejoin:round;stroke:rgb(0%,0%,0%);stroke-opacity:1;stroke-miterlimit:10;\" d=\"M 244.484375 72.800781 C 244.484375 76.398438 239.085938 76.398438 239.085938 72.800781 C 239.085938 69.199219 244.484375 69.199219 244.484375 72.800781 \"/>\n",
       "<path style=\"fill:none;stroke-width:0.75;stroke-linecap:round;stroke-linejoin:round;stroke:rgb(0%,0%,0%);stroke-opacity:1;stroke-miterlimit:10;\" d=\"M 254.332031 72.800781 C 254.332031 76.398438 248.929688 76.398438 248.929688 72.800781 C 248.929688 69.199219 254.332031 69.199219 254.332031 72.800781 \"/>\n",
       "<path style=\"fill:none;stroke-width:0.75;stroke-linecap:round;stroke-linejoin:round;stroke:rgb(0%,0%,0%);stroke-opacity:1;stroke-miterlimit:10;\" d=\"M 264.175781 72.800781 C 264.175781 76.398438 258.777344 76.398438 258.777344 72.800781 C 258.777344 69.199219 264.175781 69.199219 264.175781 72.800781 \"/>\n",
       "<path style=\"fill:none;stroke-width:0.75;stroke-linecap:round;stroke-linejoin:round;stroke:rgb(0%,0%,0%);stroke-opacity:1;stroke-miterlimit:10;\" d=\"M 274.023438 72.800781 C 274.023438 76.398438 268.625 76.398438 268.625 72.800781 C 268.625 69.199219 274.023438 69.199219 274.023438 72.800781 \"/>\n",
       "<path style=\"fill:none;stroke-width:0.75;stroke-linecap:round;stroke-linejoin:round;stroke:rgb(0%,0%,0%);stroke-opacity:1;stroke-miterlimit:10;\" d=\"M 283.871094 141.601562 C 283.871094 145.199219 278.46875 145.199219 278.46875 141.601562 C 278.46875 138 283.871094 138 283.871094 141.601562 \"/>\n",
       "<path style=\"fill:none;stroke-width:0.75;stroke-linecap:round;stroke-linejoin:round;stroke:rgb(0%,0%,0%);stroke-opacity:1;stroke-miterlimit:10;\" d=\"M 293.714844 141.601562 C 293.714844 145.199219 288.316406 145.199219 288.316406 141.601562 C 288.316406 138 293.714844 138 293.714844 141.601562 \"/>\n",
       "<path style=\"fill:none;stroke-width:0.75;stroke-linecap:round;stroke-linejoin:round;stroke:rgb(0%,0%,0%);stroke-opacity:1;stroke-miterlimit:10;\" d=\"M 303.5625 141.601562 C 303.5625 145.199219 298.160156 145.199219 298.160156 141.601562 C 298.160156 138 303.5625 138 303.5625 141.601562 \"/>\n",
       "<path style=\"fill:none;stroke-width:0.75;stroke-linecap:round;stroke-linejoin:round;stroke:rgb(0%,0%,0%);stroke-opacity:1;stroke-miterlimit:10;\" d=\"M 313.40625 141.601562 C 313.40625 145.199219 308.007812 145.199219 308.007812 141.601562 C 308.007812 138 313.40625 138 313.40625 141.601562 \"/>\n",
       "<path style=\"fill:none;stroke-width:0.75;stroke-linecap:round;stroke-linejoin:round;stroke:rgb(0%,0%,0%);stroke-opacity:1;stroke-miterlimit:10;\" d=\"M 323.253906 210.398438 C 323.253906 214 317.855469 214 317.855469 210.398438 C 317.855469 206.800781 323.253906 206.800781 323.253906 210.398438 \"/>\n",
       "<path style=\"fill:none;stroke-width:0.75;stroke-linecap:round;stroke-linejoin:round;stroke:rgb(0%,0%,0%);stroke-opacity:1;stroke-miterlimit:10;\" d=\"M 333.101562 210.398438 C 333.101562 214 327.699219 214 327.699219 210.398438 C 327.699219 206.800781 333.101562 206.800781 333.101562 210.398438 \"/>\n",
       "<path style=\"fill:none;stroke-width:0.75;stroke-linecap:round;stroke-linejoin:round;stroke:rgb(0%,0%,0%);stroke-opacity:1;stroke-miterlimit:10;\" d=\"M 342.945312 210.398438 C 342.945312 214 337.546875 214 337.546875 210.398438 C 337.546875 206.800781 342.945312 206.800781 342.945312 210.398438 \"/>\n",
       "<path style=\"fill:none;stroke-width:0.75;stroke-linecap:round;stroke-linejoin:round;stroke:rgb(0%,0%,0%);stroke-opacity:1;stroke-miterlimit:10;\" d=\"M 352.792969 210.398438 C 352.792969 214 347.390625 214 347.390625 210.398438 C 347.390625 206.800781 352.792969 206.800781 352.792969 210.398438 \"/>\n",
       "<path style=\"fill:none;stroke-width:0.75;stroke-linecap:round;stroke-linejoin:round;stroke:rgb(0%,0%,0%);stroke-opacity:1;stroke-miterlimit:10;\" d=\"M 362.636719 279.199219 C 362.636719 282.800781 357.238281 282.800781 357.238281 279.199219 C 357.238281 275.601562 362.636719 275.601562 362.636719 279.199219 \"/>\n",
       "<path style=\"fill:none;stroke-width:0.75;stroke-linecap:round;stroke-linejoin:round;stroke:rgb(0%,0%,0%);stroke-opacity:1;stroke-miterlimit:10;\" d=\"M 372.484375 279.199219 C 372.484375 282.800781 367.085938 282.800781 367.085938 279.199219 C 367.085938 275.601562 372.484375 275.601562 372.484375 279.199219 \"/>\n",
       "<path style=\"fill:none;stroke-width:0.75;stroke-linecap:round;stroke-linejoin:round;stroke:rgb(0%,0%,0%);stroke-opacity:1;stroke-miterlimit:10;\" d=\"M 382.332031 279.199219 C 382.332031 282.800781 376.929688 282.800781 376.929688 279.199219 C 376.929688 275.601562 382.332031 275.601562 382.332031 279.199219 \"/>\n",
       "<path style=\"fill:none;stroke-width:0.75;stroke-linecap:round;stroke-linejoin:round;stroke:rgb(0%,0%,0%);stroke-opacity:1;stroke-miterlimit:10;\" d=\"M 392.175781 279.199219 C 392.175781 282.800781 386.777344 282.800781 386.777344 279.199219 C 386.777344 275.601562 392.175781 275.601562 392.175781 279.199219 \"/>\n",
       "<path style=\"fill:none;stroke-width:0.75;stroke-linecap:round;stroke-linejoin:round;stroke:rgb(0%,0%,0%);stroke-opacity:1;stroke-miterlimit:10;\" d=\"M 402.023438 348 C 402.023438 351.601562 396.625 351.601562 396.625 348 C 396.625 344.398438 402.023438 344.398438 402.023438 348 \"/>\n",
       "<path style=\"fill:none;stroke-width:0.75;stroke-linecap:round;stroke-linejoin:round;stroke:rgb(0%,0%,0%);stroke-opacity:1;stroke-miterlimit:10;\" d=\"M 411.871094 348 C 411.871094 351.601562 406.46875 351.601562 406.46875 348 C 406.46875 344.398438 411.871094 344.398438 411.871094 348 \"/>\n",
       "<path style=\"fill:none;stroke-width:0.75;stroke-linecap:round;stroke-linejoin:round;stroke:rgb(0%,0%,0%);stroke-opacity:1;stroke-miterlimit:10;\" d=\"M 421.714844 348 C 421.714844 351.601562 416.316406 351.601562 416.316406 348 C 416.316406 344.398438 421.714844 344.398438 421.714844 348 \"/>\n",
       "<path style=\"fill:none;stroke-width:0.75;stroke-linecap:round;stroke-linejoin:round;stroke:rgb(0%,0%,0%);stroke-opacity:1;stroke-miterlimit:10;\" d=\"M 431.5625 348 C 431.5625 351.601562 426.160156 351.601562 426.160156 348 C 426.160156 344.398438 431.5625 344.398438 431.5625 348 \"/>\n",
       "<path style=\"fill:none;stroke-width:0.75;stroke-linecap:round;stroke-linejoin:round;stroke:rgb(0%,0%,0%);stroke-opacity:1;stroke-miterlimit:10;\" d=\"M 441.40625 416.800781 C 441.40625 420.398438 436.007812 420.398438 436.007812 416.800781 C 436.007812 413.199219 441.40625 413.199219 441.40625 416.800781 \"/>\n",
       "<path style=\"fill:none;stroke-width:0.75;stroke-linecap:round;stroke-linejoin:round;stroke:rgb(0%,0%,0%);stroke-opacity:1;stroke-miterlimit:10;\" d=\"M 451.253906 416.800781 C 451.253906 420.398438 445.855469 420.398438 445.855469 416.800781 C 445.855469 413.199219 451.253906 413.199219 451.253906 416.800781 \"/>\n",
       "<path style=\"fill:none;stroke-width:0.75;stroke-linecap:round;stroke-linejoin:round;stroke:rgb(0%,0%,0%);stroke-opacity:1;stroke-miterlimit:10;\" d=\"M 461.101562 416.800781 C 461.101562 420.398438 455.699219 420.398438 455.699219 416.800781 C 455.699219 413.199219 461.101562 413.199219 461.101562 416.800781 \"/>\n",
       "<path style=\"fill:none;stroke-width:0.75;stroke-linecap:round;stroke-linejoin:round;stroke:rgb(0%,0%,0%);stroke-opacity:1;stroke-miterlimit:10;\" d=\"M 64.554688 430.558594 L 458.398438 430.558594 \"/>\n",
       "<path style=\"fill:none;stroke-width:0.75;stroke-linecap:round;stroke-linejoin:round;stroke:rgb(0%,0%,0%);stroke-opacity:1;stroke-miterlimit:10;\" d=\"M 64.554688 430.558594 L 64.554688 437.761719 \"/>\n",
       "<path style=\"fill:none;stroke-width:0.75;stroke-linecap:round;stroke-linejoin:round;stroke:rgb(0%,0%,0%);stroke-opacity:1;stroke-miterlimit:10;\" d=\"M 163.015625 430.558594 L 163.015625 437.761719 \"/>\n",
       "<path style=\"fill:none;stroke-width:0.75;stroke-linecap:round;stroke-linejoin:round;stroke:rgb(0%,0%,0%);stroke-opacity:1;stroke-miterlimit:10;\" d=\"M 261.476562 430.558594 L 261.476562 437.761719 \"/>\n",
       "<path style=\"fill:none;stroke-width:0.75;stroke-linecap:round;stroke-linejoin:round;stroke:rgb(0%,0%,0%);stroke-opacity:1;stroke-miterlimit:10;\" d=\"M 359.9375 430.558594 L 359.9375 437.761719 \"/>\n",
       "<path style=\"fill:none;stroke-width:0.75;stroke-linecap:round;stroke-linejoin:round;stroke:rgb(0%,0%,0%);stroke-opacity:1;stroke-miterlimit:10;\" d=\"M 458.398438 430.558594 L 458.398438 437.761719 \"/>\n",
       "<g style=\"fill:rgb(0%,0%,0%);fill-opacity:1;\">\n",
       "  <use xlink:href=\"#glyph0-1\" x=\"61.054688\" y=\"455.916016\"/>\n",
       "</g>\n",
       "<g style=\"fill:rgb(0%,0%,0%);fill-opacity:1;\">\n",
       "  <use xlink:href=\"#glyph0-2\" x=\"156.015625\" y=\"455.916016\"/>\n",
       "  <use xlink:href=\"#glyph0-1\" x=\"162.6875\" y=\"455.916016\"/>\n",
       "</g>\n",
       "<g style=\"fill:rgb(0%,0%,0%);fill-opacity:1;\">\n",
       "  <use xlink:href=\"#glyph0-3\" x=\"254.476562\" y=\"455.916016\"/>\n",
       "  <use xlink:href=\"#glyph0-1\" x=\"261.148438\" y=\"455.916016\"/>\n",
       "</g>\n",
       "<g style=\"fill:rgb(0%,0%,0%);fill-opacity:1;\">\n",
       "  <use xlink:href=\"#glyph0-4\" x=\"352.9375\" y=\"455.916016\"/>\n",
       "  <use xlink:href=\"#glyph0-1\" x=\"359.609375\" y=\"455.916016\"/>\n",
       "</g>\n",
       "<g style=\"fill:rgb(0%,0%,0%);fill-opacity:1;\">\n",
       "  <use xlink:href=\"#glyph0-5\" x=\"451.398438\" y=\"455.916016\"/>\n",
       "  <use xlink:href=\"#glyph0-1\" x=\"458.070312\" y=\"455.916016\"/>\n",
       "</g>\n",
       "<path style=\"fill:none;stroke-width:0.75;stroke-linecap:round;stroke-linejoin:round;stroke:rgb(0%,0%,0%);stroke-opacity:1;stroke-miterlimit:10;\" d=\"M 59.039062 416.800781 L 59.039062 72.800781 \"/>\n",
       "<path style=\"fill:none;stroke-width:0.75;stroke-linecap:round;stroke-linejoin:round;stroke:rgb(0%,0%,0%);stroke-opacity:1;stroke-miterlimit:10;\" d=\"M 59.039062 416.800781 L 51.839844 416.800781 \"/>\n",
       "<path style=\"fill:none;stroke-width:0.75;stroke-linecap:round;stroke-linejoin:round;stroke:rgb(0%,0%,0%);stroke-opacity:1;stroke-miterlimit:10;\" d=\"M 59.039062 348 L 51.839844 348 \"/>\n",
       "<path style=\"fill:none;stroke-width:0.75;stroke-linecap:round;stroke-linejoin:round;stroke:rgb(0%,0%,0%);stroke-opacity:1;stroke-miterlimit:10;\" d=\"M 59.039062 279.199219 L 51.839844 279.199219 \"/>\n",
       "<path style=\"fill:none;stroke-width:0.75;stroke-linecap:round;stroke-linejoin:round;stroke:rgb(0%,0%,0%);stroke-opacity:1;stroke-miterlimit:10;\" d=\"M 59.039062 210.398438 L 51.839844 210.398438 \"/>\n",
       "<path style=\"fill:none;stroke-width:0.75;stroke-linecap:round;stroke-linejoin:round;stroke:rgb(0%,0%,0%);stroke-opacity:1;stroke-miterlimit:10;\" d=\"M 59.039062 141.601562 L 51.839844 141.601562 \"/>\n",
       "<path style=\"fill:none;stroke-width:0.75;stroke-linecap:round;stroke-linejoin:round;stroke:rgb(0%,0%,0%);stroke-opacity:1;stroke-miterlimit:10;\" d=\"M 59.039062 72.800781 L 51.839844 72.800781 \"/>\n",
       "<g style=\"fill:rgb(0%,0%,0%);fill-opacity:1;\">\n",
       "  <use xlink:href=\"#glyph1-1\" x=\"41.197266\" y=\"420.300781\"/>\n",
       "</g>\n",
       "<g style=\"fill:rgb(0%,0%,0%);fill-opacity:1;\">\n",
       "  <use xlink:href=\"#glyph1-2\" x=\"41.197266\" y=\"351.5\"/>\n",
       "</g>\n",
       "<g style=\"fill:rgb(0%,0%,0%);fill-opacity:1;\">\n",
       "  <use xlink:href=\"#glyph1-3\" x=\"41.197266\" y=\"282.699219\"/>\n",
       "</g>\n",
       "<g style=\"fill:rgb(0%,0%,0%);fill-opacity:1;\">\n",
       "  <use xlink:href=\"#glyph1-4\" x=\"41.197266\" y=\"213.898438\"/>\n",
       "</g>\n",
       "<g style=\"fill:rgb(0%,0%,0%);fill-opacity:1;\">\n",
       "  <use xlink:href=\"#glyph1-5\" x=\"41.197266\" y=\"145.101562\"/>\n",
       "</g>\n",
       "<g style=\"fill:rgb(0%,0%,0%);fill-opacity:1;\">\n",
       "  <use xlink:href=\"#glyph1-6\" x=\"41.197266\" y=\"76.300781\"/>\n",
       "</g>\n",
       "<path style=\"fill:none;stroke-width:0.75;stroke-linecap:round;stroke-linejoin:round;stroke:rgb(0%,0%,0%);stroke-opacity:1;stroke-miterlimit:10;\" d=\"M 59.039062 430.558594 L 473.761719 430.558594 L 473.761719 59.039062 L 59.039062 59.039062 L 59.039062 430.558594 \"/>\n",
       "<g style=\"fill:rgb(0%,0%,0%);fill-opacity:1;\">\n",
       "  <use xlink:href=\"#glyph0-6\" x=\"251.398438\" y=\"484.716797\"/>\n",
       "  <use xlink:href=\"#glyph0-7\" x=\"254.734375\" y=\"484.716797\"/>\n",
       "  <use xlink:href=\"#glyph0-8\" x=\"261.40625\" y=\"484.716797\"/>\n",
       "  <use xlink:href=\"#glyph0-9\" x=\"268.078125\" y=\"484.716797\"/>\n",
       "  <use xlink:href=\"#glyph0-10\" x=\"274.75\" y=\"484.716797\"/>\n",
       "</g>\n",
       "<g style=\"fill:rgb(0%,0%,0%);fill-opacity:1;\">\n",
       "  <use xlink:href=\"#glyph1-7\" x=\"12.396484\" y=\"305.300781\"/>\n",
       "  <use xlink:href=\"#glyph1-8\" x=\"12.396484\" y=\"295.304688\"/>\n",
       "  <use xlink:href=\"#glyph1-9\" x=\"12.396484\" y=\"292.640625\"/>\n",
       "  <use xlink:href=\"#glyph1-10\" x=\"12.396484\" y=\"285.96875\"/>\n",
       "  <use xlink:href=\"#glyph1-11\" x=\"12.396484\" y=\"279.296875\"/>\n",
       "  <use xlink:href=\"#glyph1-12\" x=\"12.396484\" y=\"272.625\"/>\n",
       "  <use xlink:href=\"#glyph1-13\" x=\"12.396484\" y=\"265.953125\"/>\n",
       "  <use xlink:href=\"#glyph1-10\" x=\"12.396484\" y=\"259.953125\"/>\n",
       "  <use xlink:href=\"#glyph1-8\" x=\"12.396484\" y=\"253.28125\"/>\n",
       "  <use xlink:href=\"#glyph1-9\" x=\"12.396484\" y=\"250.617188\"/>\n",
       "  <use xlink:href=\"#glyph1-14\" x=\"12.396484\" y=\"243.945312\"/>\n",
       "  <use xlink:href=\"#glyph1-15\" x=\"12.396484\" y=\"240.609375\"/>\n",
       "  <use xlink:href=\"#glyph1-12\" x=\"12.396484\" y=\"237.945312\"/>\n",
       "  <use xlink:href=\"#glyph1-7\" x=\"12.396484\" y=\"231.273438\"/>\n",
       "  <use xlink:href=\"#glyph1-7\" x=\"12.396484\" y=\"221.277344\"/>\n",
       "  <use xlink:href=\"#glyph1-12\" x=\"12.396484\" y=\"211.28125\"/>\n",
       "  <use xlink:href=\"#glyph1-16\" x=\"12.396484\" y=\"204.609375\"/>\n",
       "  <use xlink:href=\"#glyph1-8\" x=\"12.396484\" y=\"201.273438\"/>\n",
       "  <use xlink:href=\"#glyph1-17\" x=\"12.396484\" y=\"198.609375\"/>\n",
       "  <use xlink:href=\"#glyph1-9\" x=\"12.396484\" y=\"191.9375\"/>\n",
       "</g>\n",
       "</g>\n",
       "</svg>\n"
      ],
      "text/plain": [
       "plot without title"
      ]
     },
     "metadata": {
      "image/svg+xml": {
       "isolated": true
      }
     },
     "output_type": "display_data"
    }
   ],
   "source": [
    "min_day_inflammation <- apply(dat, 2, min)\n",
    "plot(min_day_inflammation)"
   ]
  },
  {
   "cell_type": "markdown",
   "metadata": {
    "collapsed": false
   },
   "source": [
    "The maximum value rises and falls perfectly smoothly, while the minimum seems to be a step function. Neither result seems particularly likely, so either there's a mistake in our calculations or something is wrong with our data.\n",
    "\n",
    "> ## Plotting Data\n",
    ">\n",
    "> Create a plot showing the standard deviation of the inflammation data for each day across all patients.\n",
    "{: .challenge}"
   ]
  }
 ],
 "metadata": {
  "kernelspec": {
   "display_name": "R 3.3.1",
   "language": "R",
   "name": "r"
  },
  "language_info": {
   "codemirror_mode": "r",
   "file_extension": ".r",
   "mimetype": "text/x-r-source",
   "name": "R",
   "pygments_lexer": "r",
   "version": "3.3.1"
  }
 },
 "nbformat": 4,
 "nbformat_minor": 0
}
