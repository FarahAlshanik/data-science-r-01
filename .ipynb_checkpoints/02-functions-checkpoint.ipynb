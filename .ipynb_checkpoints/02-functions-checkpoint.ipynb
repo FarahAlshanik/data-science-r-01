{
 "cells": [
  {
   "cell_type": "markdown",
   "metadata": {},
   "source": [
    "---\n",
    "layout: lesson\n",
    "title: Introduction to Data Science using R\n",
    "subtitle: Creating Functions\n",
    "minutes: 30\n",
    "---\n",
    "\n",
    "> ## Learning objectives {.objectives}\n",
    "> * Define a function that takes arguments\n",
    "> * Return a value from a function\n",
    "> * Test a function\n",
    "> * Set default values for function arguments\n",
    "> * Explain why we should divide programs into small, single-purpose functions\n",
    "\n",
    "\n",
    "If we only had one data set to analyze, it would probably be faster to load the file into a spreadsheet and use that to plot some simple statistics.\n",
    "But we have twelve files to check, and may have more in the future.\n",
    "In this lesson, we'll learn how to write a function so that we can repeat several operations with a single command.\n",
    "\n",
    "### Defining a Function\n",
    "\n",
    "Let's start by defining a function `fahr_to_kelvin` that converts temperatures from Fahrenheit to Kelvin:"
   ]
  },
  {
   "cell_type": "code",
   "execution_count": null,
   "metadata": {
    "collapsed": true
   },
   "outputs": [],
   "source": [
    "fahr_to_kelvin <- function(temp) {\n",
    "  kelvin <- ((temp - 32) * (5 / 9)) + 273.15\n",
    "  return(kelvin)\n",
    "}"
   ]
  },
  {
   "cell_type": "markdown",
   "metadata": {},
   "source": [
    "We define `fahr_to_kelvin` by assigning it to the output of `function`.\n",
    "The list of argument names are contained within parentheses.\n",
    "Next, the body of the function--the statements that are executed when it runs--is contained within curly braces (`{}`).\n",
    "The statements in the body are indented by two spaces, which makes the code easier to read but does not affect how the code operates.\n",
    "\n",
    "When we call the function, the values we pass to it are assigned to those variables so that we can use them inside the function.\n",
    "Inside the function, we use a return statement to send a result back to whoever asked for it.\n",
    "\n",
    "> ## Automatic Returns\n",
    ">\n",
    "> In R, it is not necessary to include the return statement.\n",
    "> R automatically returns whichever variable is on the last line of the body\n",
    "> of the function. Since we are just learning, we will explicitly define the\n",
    "> return statement.\n",
    "{: .callout}\n",
    "\n",
    "Let's try running our function.\n",
    "Calling our own function is no different from calling any other function:"
   ]
  },
  {
   "cell_type": "code",
   "execution_count": null,
   "metadata": {
    "collapsed": true
   },
   "outputs": [],
   "source": [
    "# freezing point of water\n",
    "fahr_to_kelvin(32)"
   ]
  },
  {
   "cell_type": "code",
   "execution_count": null,
   "metadata": {
    "collapsed": true
   },
   "outputs": [],
   "source": [
    "# boiling point of water\n",
    "fahr_to_kelvin(212)"
   ]
  },
  {
   "cell_type": "markdown",
   "metadata": {},
   "source": [
    "We've successfully called the function that we defined, and we have access to the value that we returned.\n",
    "\n",
    "### Composing Functions\n",
    "\n",
    "Now that we've seen how to turn Fahrenheit into Kelvin, it's easy to turn Kelvin into Celsius:"
   ]
  },
  {
   "cell_type": "code",
   "execution_count": null,
   "metadata": {
    "collapsed": true
   },
   "outputs": [],
   "source": [
    "kelvin_to_celsius <- function(temp) {\n",
    "  celsius <- temp - 273.15\n",
    "  return(celsius)\n",
    "}"
   ]
  },
  {
   "cell_type": "code",
   "execution_count": null,
   "metadata": {
    "collapsed": true
   },
   "outputs": [],
   "source": [
    "#absolute zero in Celsius\n",
    "kelvin_to_celsius(0)"
   ]
  },
  {
   "cell_type": "markdown",
   "metadata": {},
   "source": [
    "What about converting Fahrenheit to Celsius?\n",
    "We could write out the formula, but we don't need to.\n",
    "Instead, we can compose the two functions we have already created:"
   ]
  },
  {
   "cell_type": "code",
   "execution_count": null,
   "metadata": {
    "collapsed": true
   },
   "outputs": [],
   "source": [
    "fahr_to_celsius <- function(temp) {\n",
    "  temp_k <- fahr_to_kelvin(temp)\n",
    "  result <- kelvin_to_celsius(temp_k)\n",
    "  return(result)"
   ]
  },
  {
   "cell_type": "code",
   "execution_count": null,
   "metadata": {
    "collapsed": true
   },
   "outputs": [],
   "source": [
    "# freezing point of water in Celsius\n",
    "fahr_to_celsius(32.0)"
   ]
  },
  {
   "cell_type": "markdown",
   "metadata": {},
   "source": [
    "This is our first taste of how larger programs are built: we define basic\n",
    "operations, then combine them in ever-larger chunks to get the effect we want.\n",
    "Real-life functions will usually be larger than the ones shown here--typically half a dozen to a few dozen lines--but they shouldn't ever be much longer than that, or the next person who reads it won't be able to understand what's going on.\n",
    "\n",
    "> ## Chaining Functions\n",
    ">\n",
    "> This example showed the output of `fahr_to_kelvin` assigned to `temp_k`, which\n",
    "> is then passed to `kelvin_to_celsius` to get the final result. It is also possible\n",
    "> to perform this calculation in one line of code, by \"chaining\" functions\n",
    "> together, like so:\n",
    "{: .callout}"
   ]
  },
  {
   "cell_type": "code",
   "execution_count": null,
   "metadata": {
    "collapsed": true
   },
   "outputs": [],
   "source": [
    " # freezing point of water in Celsius\n",
    " kelvin_to_celsius(fahr_to_kelvin(32.0))"
   ]
  },
  {
   "cell_type": "markdown",
   "metadata": {},
   "source": [
    "> ## Create a Function\n",
    ">\n",
    "> In the last lesson, we learned to **c**oncatenate elements into a vector using the `c` function,\n",
    "> e.g. `x <- c(\"A\", \"B\", \"C\")` creates a vector `x` with three elements.\n",
    "> Furthermore, we can extend that vector again using `c`, e.g. `y <- c(x, \"D\")` creates a vector `y` with four elements.\n",
    "> Write a function called `fence` that takes two vectors as arguments, called\n",
    "> original` and `wrapper`, and returns a new vector that has the wrapper vector\n",
    "> at the beginning and end of the original:"
   ]
  },
  {
   "cell_type": "code",
   "execution_count": null,
   "metadata": {
    "collapsed": true
   },
   "outputs": [],
   "source": [
    "best_practice <- c(\"Write\", \"programs\", \"for\", \"people\", \"not\", \"computers\")\n",
    "asterisk <- \"***\"  # R interprets a variable with a single value as a vector\n",
    "                    # with one element.\n",
    "fence(best_practice, asterisk)"
   ]
  },
  {
   "cell_type": "markdown",
   "metadata": {},
   "source": [
    "> If the variable `v` refers to a vector, then `v[1]` is the vector's first element and `v[length(v)]` is its last (the function `length` returns the number of elements in a vector).\n",
    "> Write a function called `outside` that returns a vector made up of just the first and last elements of its input:"
   ]
  },
  {
   "cell_type": "code",
   "execution_count": null,
   "metadata": {
    "collapsed": true
   },
   "outputs": [],
   "source": [
    "dry_principle <- c(\"Don't\", \"repeat\", \"yourself\", \"or\", \"others\")\n",
    "outside(dry_principle)"
   ]
  },
  {
   "cell_type": "markdown",
   "metadata": {},
   "source": [
    "> ## Named Variables and the Scope of Variables\n",
    ">\n",
    ">  + Functions can accept arguments explicitly assigned to a variable name in\n",
    ">    in the function call `functionName(variable = value)`, as well as arguments by\n",
    ">    order:\n",
    "> "
   ]
  },
  {
   "cell_type": "code",
   "execution_count": null,
   "metadata": {
    "collapsed": true
   },
   "outputs": [],
   "source": [
    "input_1 = 20\n",
    "mySum <- function(input_1, input_2 = 10) {\n",
    "  output <- input_1 + input_2\n",
    "  return(output)\n",
    "}"
   ]
  },
  {
   "cell_type": "markdown",
   "metadata": {},
   "source": [
    "> 1.  Given the above code was run, which value does `mySum(input_1 = 1, 3)` produce?\n",
    ">     1. 4\n",
    ">     2. 11\n",
    ">     3. 23\n",
    ">     4. 30\n",
    "> 2.  If `mySum(3)` returns 13, why does `mySum(input_2 = 3)` return an error?"
   ]
  },
  {
   "cell_type": "markdown",
   "metadata": {},
   "source": [
    "### Testing and Documenting\n",
    "\n",
    "Once we start putting things in functions so that we can re-use them, we need to start testing that those functions are working correctly.\n",
    "To see how to do this, let's write a function to center a dataset around a particular value:"
   ]
  },
  {
   "cell_type": "code",
   "execution_count": null,
   "metadata": {
    "collapsed": true
   },
   "outputs": [],
   "source": [
    "center <- function(data, desired) {\n",
    "  new_data <- (data - mean(data)) + desired\n",
    "  return(new_data)\n",
    "}"
   ]
  },
  {
   "cell_type": "markdown",
   "metadata": {},
   "source": [
    "We could test this on our actual data, but since we don't know what the values ought to be, it will be hard to tell if the result was correct.\n",
    "Instead, let's create a vector of 0s and then center that around 3.\n",
    "This will make it simple to see if our function is working as expected:"
   ]
  },
  {
   "cell_type": "code",
   "execution_count": null,
   "metadata": {
    "collapsed": true
   },
   "outputs": [],
   "source": [
    "z <- c(0, 0, 0, 0)\n",
    "z"
   ]
  },
  {
   "cell_type": "code",
   "execution_count": null,
   "metadata": {
    "collapsed": false
   },
   "outputs": [],
   "source": [
    "center(z, 3)"
   ]
  },
  {
   "cell_type": "markdown",
   "metadata": {},
   "source": [
    "That looks right, so let's try center on our real data. We'll center the inflammation data from day 4 around 0:"
   ]
  },
  {
   "cell_type": "code",
   "execution_count": null,
   "metadata": {
    "collapsed": false
   },
   "outputs": [],
   "source": [
    "setwd(\"/home/lngo/intro-data-science/\") #If this is the first time that you run this notebook\n",
    "dat <- read.csv(file = \"data/inflammation-01.csv\", header = FALSE)\n",
    "centered <- center(dat[, 4], 0)\n",
    "head(centered)"
   ]
  },
  {
   "cell_type": "markdown",
   "metadata": {},
   "source": [
    "It's hard to tell from the default output whether the result is correct, but there are a few simple tests that will reassure us:"
   ]
  },
  {
   "cell_type": "code",
   "execution_count": null,
   "metadata": {
    "collapsed": false
   },
   "outputs": [],
   "source": [
    "# original min\n",
    "min(dat[, 4])\n",
    "\n",
    "# original mean\n",
    "mean(dat[, 4])\n",
    "\n",
    "# original max\n",
    "max(dat[, 4])"
   ]
  },
  {
   "cell_type": "code",
   "execution_count": null,
   "metadata": {
    "collapsed": false
   },
   "outputs": [],
   "source": [
    "# centered min\n",
    "min(centered)\n",
    "\n",
    "# centered mean\n",
    "mean(centered)\n",
    "\n",
    "# centered max\n",
    "max(centered)"
   ]
  },
  {
   "cell_type": "markdown",
   "metadata": {},
   "source": [
    "That seems almost right: the original mean was about 1.75, so the lower bound from zero is now about -1.75.\n",
    "The mean of the centered data is 0.\n",
    "We can even go further and check that the standard deviation hasn't changed:"
   ]
  },
  {
   "cell_type": "code",
   "execution_count": null,
   "metadata": {
    "collapsed": false
   },
   "outputs": [],
   "source": [
    "# original standard deviation\n",
    "sd(dat[, 4])\n",
    "\n",
    "# centered standard deviation\n",
    "sd(centered)"
   ]
  },
  {
   "cell_type": "markdown",
   "metadata": {},
   "source": [
    "Those values look the same, but we probably wouldn't notice if they were different in the sixth decimal place.\n",
    "Let's do this instead:"
   ]
  },
  {
   "cell_type": "code",
   "execution_count": null,
   "metadata": {
    "collapsed": false
   },
   "outputs": [],
   "source": [
    "# difference in standard deviations before and after\n",
    "sd(dat[, 4]) - sd(centered)"
   ]
  },
  {
   "cell_type": "markdown",
   "metadata": {},
   "source": [
    "Sometimes, a very small difference can be detected due to rounding at very low decimal places.\n",
    "R has a useful function for comparing two objects allowing for rounding errors, `all.equal`:"
   ]
  },
  {
   "cell_type": "code",
   "execution_count": null,
   "metadata": {
    "collapsed": false
   },
   "outputs": [],
   "source": [
    "all.equal(sd(dat[, 4]), sd(centered))"
   ]
  },
  {
   "cell_type": "markdown",
   "metadata": {},
   "source": [
    "It's still possible that our function is wrong, but it seems unlikely enough that we should probably get back to doing our analysis.\n",
    "We have one more task first, though: we should write some documentation for our function to remind ourselves later what it's for and how to use it.\n",
    "\n",
    "A common way to put documentation in software is to add comments like this:"
   ]
  },
  {
   "cell_type": "code",
   "execution_count": null,
   "metadata": {
    "collapsed": true
   },
   "outputs": [],
   "source": [
    "center <- function(data, desired) {\n",
    "  # return a new vector containing the original data centered around the\n",
    "  # desired value.\n",
    "  # Example: center(c(1, 2, 3), 0) => c(-1, 0, 1)\n",
    "  new_data <- (data - mean(data)) + desired\n",
    "  return(new_data)\n",
    "}"
   ]
  },
  {
   "cell_type": "markdown",
   "metadata": {},
   "source": [
    "> ## Writing Documentation\n",
    ">\n",
    "> Formal documentation for R functions is written in separate `.Rd` using a\n",
    "> markup language similar to [LaTeX][]. You see the result of this documentation\n",
    "> when you look at the help file for a given function, e.g. `?read.csv`.\n",
    "> The [roxygen2][] package allows R coders to write documentation alongside\n",
    "> the function code and then process it into the appropriate `.Rd` files.\n",
    "> You will want to switch to this more formal method of writing documentation\n",
    "> when you start writing more complicated R projects.\n",
    "{: .callout}\n",
    "\n",
    "[LaTeX]: http://www.latex-project.org/\n",
    "[roxygen2]: http://cran.r-project.org/web/packages/roxygen2/vignettes/rd.html"
   ]
  },
  {
   "cell_type": "markdown",
   "metadata": {},
   "source": [
    "> ## Functions to Create Graphs\n",
    ">\n",
    "> Write a function called `analyze` that takes a filename as a argument\n",
    "> and displays the three graphs produced in the [previous lesson][01] (average, min and max inflammation over time).\n",
    "> `analyze(\"data/inflammation-01.csv\")` should produce the graphs already shown,\n",
    "> while `analyze(\"data/inflammation-02.csv\")` should produce corresponding graphs for the second data set.\n",
    "> Be sure to document your function with comments."
   ]
  },
  {
   "cell_type": "markdown",
   "metadata": {},
   "source": [
    "> ## Rescaling\n",
    ">\n",
    "> Write a function `rescale` that takes a vector as input and returns a corresponding vector of values scaled to lie in the range 0 to 1.\n",
    "> (If $L$ and $H$ are the lowest and highest values in the original vector, then the replacement for a value $v$ should be $(v-L) / (H-L)$.)\n",
    "> Be sure to document your function with comments.\n",
    ">\n",
    "> Test that your `rescale` function is working properly using `min`, `max`, and `plot`."
   ]
  },
  {
   "cell_type": "markdown",
   "metadata": {},
   "source": [
    "### Defining Defaults\n",
    "\n",
    "We have passed arguments to functions in two ways: directly, as in `dim(dat)`, and by name, as in `read.csv(file = \"data/inflammation-01.csv\", header = FALSE)`.\n",
    "In fact, we can pass the arguments to `read.csv` without naming them:"
   ]
  },
  {
   "cell_type": "markdown",
   "metadata": {},
   "source": [
    "dat <- read.csv(\"data/inflammation-01.csv\", FALSE)"
   ]
  },
  {
   "cell_type": "markdown",
   "metadata": {},
   "source": [
    "However, the position of the arguments matters if they are not named."
   ]
  },
  {
   "cell_type": "markdown",
   "metadata": {},
   "source": [
    "dat <- read.csv(header = FALSE, file = \"data/inflammation-01.csv\")\n",
    "dat <- read.csv(FALSE, \"data/inflammation-01.csv\")"
   ]
  },
  {
   "cell_type": "markdown",
   "metadata": {},
   "source": [
    "To understand what's going on, and make our own functions easier to use, let's re-define our `center` function like this:"
   ]
  },
  {
   "cell_type": "code",
   "execution_count": null,
   "metadata": {
    "collapsed": true
   },
   "outputs": [],
   "source": [
    "center <- function(data, desired = 0) {\n",
    "  # return a new vector containing the original data centered around the\n",
    "  # desired value (0 by default).\n",
    "  # Example: center(c(1, 2, 3), 0) => c(-1, 0, 1)\n",
    "  new_data <- (data - mean(data)) + desired\n",
    "  return(new_data)\n",
    "}"
   ]
  },
  {
   "cell_type": "markdown",
   "metadata": {},
   "source": [
    "The key change is that the second argument is now written `desired = 0` instead of just `desired`.\n",
    "If we call the function with two arguments, it works as it did before:"
   ]
  },
  {
   "cell_type": "code",
   "execution_count": null,
   "metadata": {
    "collapsed": true
   },
   "outputs": [],
   "source": [
    "test_data <- c(0, 0, 0, 0)\n",
    "center(test_data, 3)"
   ]
  },
  {
   "cell_type": "markdown",
   "metadata": {},
   "source": [
    "But we can also now call `center()` with just one argument, in which case `desired` is automatically assigned the default value of `0`:"
   ]
  },
  {
   "cell_type": "code",
   "execution_count": null,
   "metadata": {
    "collapsed": true
   },
   "outputs": [],
   "source": [
    "more_data <- 5 + test_data\n",
    "more_data"
   ]
  },
  {
   "cell_type": "code",
   "execution_count": null,
   "metadata": {
    "collapsed": true
   },
   "outputs": [],
   "source": [
    "center(more_data)"
   ]
  },
  {
   "cell_type": "markdown",
   "metadata": {},
   "source": [
    "This is handy: if we usually want a function to work one way, but occasionally need it to do something else, we can allow people to pass an argument when they need to but provide a default to make the normal case easier.\n",
    "\n",
    "The example below shows how R matches values to arguments"
   ]
  },
  {
   "cell_type": "code",
   "execution_count": null,
   "metadata": {
    "collapsed": true
   },
   "outputs": [],
   "source": [
    "display <- function(a = 1, b = 2, c = 3) {\n",
    "  result <- c(a, b, c)\n",
    "  names(result) <- c(\"a\", \"b\", \"c\")  # This names each element of the vector\n",
    "  return(result)\n",
    "}"
   ]
  },
  {
   "cell_type": "code",
   "execution_count": null,
   "metadata": {
    "collapsed": true
   },
   "outputs": [],
   "source": [
    "# no arguments\n",
    "display()\n",
    "\n",
    "# one argument\n",
    "display(55)\n",
    "\n",
    "# two arguments\n",
    "display(55, 66)\n",
    "\n",
    "# three arguments\n",
    "display (55, 66, 77)"
   ]
  },
  {
   "cell_type": "markdown",
   "metadata": {},
   "source": [
    "As this example shows, arguments are matched from left to right, and any that haven't been given a value explicitly get their default value.\n",
    "We can override this behavior by naming the value as we pass it in:"
   ]
  },
  {
   "cell_type": "code",
   "execution_count": null,
   "metadata": {
    "collapsed": true
   },
   "outputs": [],
   "source": [
    "# only setting the value of c\n",
    "display(c = 77)"
   ]
  },
  {
   "cell_type": "markdown",
   "metadata": {},
   "source": [
    "> ## Matching Arguments\n",
    ">\n",
    "> To be precise, R has three ways that arguments are supplied\n",
    "> by you are matched to the *formal arguments* of the function definition:\n",
    ">\n",
    "> 1. by complete name,\n",
    "> 2. by partial name (matching on initial *n* characters of the argument name), and\n",
    "> 3. by position.\n",
    ">\n",
    "> Arguments are matched in the manner outlined above in *that order*: by\n",
    "> complete name, then by partial matching of names, and finally by position.\n",
    "\n",
    "With that in hand, let's look at the help for `read.csv()`:"
   ]
  },
  {
   "cell_type": "code",
   "execution_count": null,
   "metadata": {
    "collapsed": true
   },
   "outputs": [],
   "source": [
    "?read.csv"
   ]
  },
  {
   "cell_type": "markdown",
   "metadata": {},
   "source": [
    "There's a lot of information there, but the most important part is the first couple of lines:"
   ]
  },
  {
   "cell_type": "code",
   "execution_count": null,
   "metadata": {
    "collapsed": true
   },
   "outputs": [],
   "source": [
    "read.csv(file, header = TRUE, sep = \",\", quote = \"\\\"\",\n",
    "         dec = \".\", fill = TRUE, comment.char = \"\", ...)"
   ]
  },
  {
   "cell_type": "markdown",
   "metadata": {},
   "source": [
    "This tells us that `read.csv()` has one argument, `file`, that doesn't have a default value, and six others that do.\n",
    "Now we understand why the following gives an error:"
   ]
  },
  {
   "cell_type": "code",
   "execution_count": null,
   "metadata": {
    "collapsed": true
   },
   "outputs": [],
   "source": [
    "dat <- read.csv(FALSE, \"data/inflammation-01.csv\")"
   ]
  },
  {
   "cell_type": "markdown",
   "metadata": {},
   "source": [
    "It fails because `FALSE` is assigned to `file` and the filename is assigned to the argument `header`.\n",
    "\n",
    "> ## A Function with Default Argument Values\n",
    ">\n",
    "> Rewrite the `rescale` function so that it scales a vector to lie between 0 and 1 by default, but will allow the caller to specify lower and upper bounds if they want.\n",
    "> Compare your implementation to your neighbor's: do the two functions always behave the same way?"
   ]
  }
 ],
 "metadata": {
  "kernelspec": {
   "display_name": "R 3.3.1",
   "language": "R",
   "name": "r"
  },
  "language_info": {
   "codemirror_mode": "r",
   "file_extension": ".r",
   "mimetype": "text/x-r-source",
   "name": "R",
   "pygments_lexer": "r",
   "version": "3.3.1"
  }
 },
 "nbformat": 4,
 "nbformat_minor": 0
}
