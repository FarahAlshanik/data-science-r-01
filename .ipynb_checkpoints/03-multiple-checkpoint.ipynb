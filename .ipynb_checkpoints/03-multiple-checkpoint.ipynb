{
 "cells": [
  {
   "cell_type": "markdown",
   "metadata": {},
   "source": [
    "---\n",
    "layout: lesson\n",
    "title: Introduction to Data Science using R\n",
    "subtitle: Analyzing Multiple Data Sets\n",
    "minutes: 30\n",
    "---\n",
    "> ## Learning objectives {.objectives}\n",
    "> * Explain what a `for` loop does\n",
    "> * Correctly write `for` loops to repeat simple calculations\n",
    "> * Trace changes to a loop variable as the loop runs\n",
    "> * Trace changes to other variables as they are updated by a `for` loop\n",
    "> * Use a function to get a list of filenames that match a simple pattern\n",
    "> * Use a `for` loop to process multiple files\n",
    "\n",
    "We have created a function called `analyze` that creates graphs of the minimum, average, and maximum daily inflammation rates for a single data set:"
   ]
  },
  {
   "cell_type": "code",
   "execution_count": null,
   "metadata": {
    "collapsed": false
   },
   "outputs": [],
   "source": [
    "setwd(\"/home/lngo/intro-data-science/\")\n",
    "analyze <- function(filename) {\n",
    "  # Plots the average, min, and max inflammation over time.\n",
    "  # Input is character string of a csv file.\n",
    "  dat <- read.csv(file = filename, header = FALSE)\n",
    "  avg_day_inflammation <- apply(dat, 2, mean)\n",
    "  plot(avg_day_inflammation)\n",
    "  max_day_inflammation <- apply(dat, 2, max)\n",
    "  plot(max_day_inflammation)\n",
    "  min_day_inflammation <- apply(dat, 2, min)\n",
    "  plot(min_day_inflammation)\n",
    "}\n",
    "analyze(\"data/inflammation-01.csv\")"
   ]
  },
  {
   "cell_type": "markdown",
   "metadata": {},
   "source": [
    "We can use it to analyze other data sets one by one:"
   ]
  },
  {
   "cell_type": "code",
   "execution_count": null,
   "metadata": {
    "collapsed": true
   },
   "outputs": [],
   "source": [
    "analyze(\"data/inflammation-02.csv\")"
   ]
  },
  {
   "cell_type": "markdown",
   "metadata": {},
   "source": [
    "but we have a dozen data sets right now and more on the way.\n",
    "We want to create plots for all our data sets with a single statement.\n",
    "To do that, we'll have to teach the computer how to repeat things.\n",
    "\n",
    "### For Loops\n",
    "\n",
    "Suppose we want to print each word in a sentence.\n",
    "One way is to use six `print` statements:"
   ]
  },
  {
   "cell_type": "code",
   "execution_count": 2,
   "metadata": {
    "collapsed": false
   },
   "outputs": [
    {
     "name": "stdout",
     "output_type": "stream",
     "text": [
      "[1] \"Let\"\n",
      "[1] \"the\"\n",
      "[1] \"computer\"\n",
      "[1] \"do\"\n",
      "[1] \"the\"\n",
      "[1] \"work\"\n"
     ]
    }
   ],
   "source": [
    "best_practice <- c(\"Let\", \"the\", \"computer\", \"do\", \"the\", \"work\")\n",
    "print_words <- function(sentence) {\n",
    "  print(sentence[1])\n",
    "  print(sentence[2])\n",
    "  print(sentence[3])\n",
    "  print(sentence[4])\n",
    "  print(sentence[5])\n",
    "  print(sentence[6])\n",
    "}\n",
    "\n",
    "print_words(best_practice)"
   ]
  },
  {
   "cell_type": "markdown",
   "metadata": {},
   "source": [
    "but that's a bad approach for two reasons:\n",
    "\n",
    " 1. It doesn't scale: if we want to print the elements in a vector that's hundreds long, we'd be better off just typing them in.\n",
    "\n",
    " 2. It's fragile: if we give it a longer vector, it only prints part of the data, and if we give it a shorter input, it returns `NA` values because we're asking for elements that don't exist!"
   ]
  },
  {
   "cell_type": "code",
   "execution_count": 3,
   "metadata": {
    "collapsed": false
   },
   "outputs": [
    {
     "data": {
      "text/html": [
       "<ol class=list-inline>\n",
       "\t<li>'Let'</li>\n",
       "\t<li>'the'</li>\n",
       "\t<li>'computer'</li>\n",
       "\t<li>'do'</li>\n",
       "\t<li>'the'</li>\n",
       "</ol>\n"
      ],
      "text/latex": [
       "\\begin{enumerate*}\n",
       "\\item 'Let'\n",
       "\\item 'the'\n",
       "\\item 'computer'\n",
       "\\item 'do'\n",
       "\\item 'the'\n",
       "\\end{enumerate*}\n"
      ],
      "text/markdown": [
       "1. 'Let'\n",
       "2. 'the'\n",
       "3. 'computer'\n",
       "4. 'do'\n",
       "5. 'the'\n",
       "\n",
       "\n"
      ],
      "text/plain": [
       "[1] \"Let\"      \"the\"      \"computer\" \"do\"       \"the\"     "
      ]
     },
     "execution_count": 3,
     "metadata": {},
     "output_type": "execute_result"
    }
   ],
   "source": [
    "best_practice[-6]"
   ]
  },
  {
   "cell_type": "code",
   "execution_count": 4,
   "metadata": {
    "collapsed": false
   },
   "outputs": [
    {
     "name": "stdout",
     "output_type": "stream",
     "text": [
      "[1] \"Let\"\n",
      "[1] \"the\"\n",
      "[1] \"computer\"\n",
      "[1] \"do\"\n",
      "[1] \"the\"\n",
      "[1] NA\n"
     ]
    }
   ],
   "source": [
    "print_words(best_practice[-6])"
   ]
  },
  {
   "cell_type": "markdown",
   "metadata": {},
   "source": [
    "> ## Not Available\n",
    ">\n",
    "> R has has a special variable, `NA`, for designating missing values that are\n",
    "> **N**ot **A**vailable in a data set. See `?NA` and [An Introduction to R][na]\n",
    "> for more details.\n",
    "[na]: http://cran.r-project.org/doc/manuals/r-release/R-intro.html#Missing-values\n",
    "\n",
    "\n",
    "Here's a better approach:"
   ]
  },
  {
   "cell_type": "code",
   "execution_count": null,
   "metadata": {
    "collapsed": true
   },
   "outputs": [],
   "source": [
    "print_words <- function(sentence) {\n",
    "  for (word in sentence) {\n",
    "    print(word)\n",
    "  }\n",
    "}\n",
    "\n",
    "print_words(best_practice)"
   ]
  },
  {
   "cell_type": "markdown",
   "metadata": {},
   "source": [
    "This is shorter---certainly shorter than something that prints every character in a hundred-letter string---and more robust as well:"
   ]
  },
  {
   "cell_type": "code",
   "execution_count": null,
   "metadata": {
    "collapsed": true
   },
   "outputs": [],
   "source": [
    "print_words(best_practice[-6])"
   ]
  },
  {
   "cell_type": "markdown",
   "metadata": {},
   "source": [
    "The improved version of `print_words` uses a *for* loop to repeat an operation---in this case, printing---once for each thing in a collection.\n",
    "The general form of a loop is:\n",
    "\n",
    "~~~\n",
    "for (variable in collection) {\n",
    "  do things with variable\n",
    "}\n",
    "~~~\n",
    "\n",
    "We can name the loop variable anything we like (with a few [restrictions][], e.g. the name of the variable cannot start with a digit).\n",
    "`in` is part of the `for` syntax.\n",
    "Note that the body of the loop is enclosed in curly braces `{ }`.\n",
    "For a single-line loop body, as here, the braces aren't needed, but it is good practice to include them as we did.\n",
    "\n",
    "[restrictions]: http://cran.r-project.org/doc/manuals/R-intro.html#R-commands_003b-case-sensitivity-etc\n",
    "\n",
    "Here's another loop that repeatedly updates a variable:"
   ]
  },
  {
   "cell_type": "code",
   "execution_count": null,
   "metadata": {
    "collapsed": true
   },
   "outputs": [],
   "source": [
    "len <- 0\n",
    "vowels <- c(\"a\", \"e\", \"i\", \"o\", \"u\")\n",
    "for (v in vowels) {\n",
    "  len <- len + 1\n",
    "}"
   ]
  },
  {
   "cell_type": "markdown",
   "metadata": {},
   "source": [
    "It's worth tracing the execution of this little program step by step.\n",
    "Since there are five elements in the vector `vowels`, the statement inside the loop will be executed five times.\n",
    "The first time around, `len` is zero (the value assigned to it on line 1) and `v` is `\"a\"`.\n",
    "The statement adds 1 to the old value of `len`, producing 1, and updates `len` to refer to that new value.\n",
    "The next time around, `v` is `\"e\"` and `len` is 1, so `len` is updated to be 2.\n",
    "After three more updates, `len` is 5; since there is nothing left in the vector `vowels` for R to process, the loop finishes.\n",
    "\n",
    "Note that a loop variable is just a variable that's being used to record progress in a loop.\n",
    "It still exists after the loop is over, and we can re-use variables previously defined as loop variables as well:"
   ]
  },
  {
   "cell_type": "code",
   "execution_count": null,
   "metadata": {
    "collapsed": true
   },
   "outputs": [],
   "source": [
    "letter <- \"z\"\n",
    "for (letter in c(\"a\", \"b\", \"c\")) {\n",
    "  print(letter)\n",
    "}\n",
    "\n",
    "# after the loop, letter is\n",
    "letter"
   ]
  },
  {
   "cell_type": "markdown",
   "metadata": {},
   "source": [
    "Note also that finding the length of a vector is such a common operation that R actually has a built-in function to do it called `length`:"
   ]
  },
  {
   "cell_type": "code",
   "execution_count": null,
   "metadata": {
    "collapsed": true
   },
   "outputs": [],
   "source": [
    "length(vowels)"
   ]
  },
  {
   "cell_type": "markdown",
   "metadata": {},
   "source": [
    "`length` is much faster than any R function we could write ourselves, and much easier to read than a two-line loop; it will also give us the length of many other things that we haven't met yet, so we should always use it when we can."
   ]
  },
  {
   "cell_type": "markdown",
   "metadata": {},
   "source": [
    "> ## Printing Numbers\n",
    ">\n",
    "> R has a built-in function called `seq` that creates a list of numbers:"
   ]
  },
  {
   "cell_type": "markdown",
   "metadata": {},
   "source": [
    "> seq(3)"
   ]
  },
  {
   "cell_type": "markdown",
   "metadata": {},
   "source": [
    "> Using `seq`, write a function that prints the first **N** natural numbers, one per line:\n",
    ">\n",
    "> \n",
    "> ~~~\n",
    "> print_N(3)\n",
    "> ~~~\n",
    "> \n",
    "> ~~~\n",
    "> [1] 1\n",
    "> [1] 2\n",
    "> [1] 3\n",
    "> ~~~"
   ]
  },
  {
   "cell_type": "markdown",
   "metadata": {},
   "source": [
    "> ## Summing Values\n",
    ">\n",
    "> Write a function called `total` that calculates the sum of the values in a vector.\n",
    "> (R has a built-in function called `sum` that does this for you.\n",
    "> Please don't use it for this exercise.)\n",
    "> \n",
    "> ~~~\n",
    "> ex_vec <- c(4, 8, 15, 16, 23, 42)\n",
    "> total(ex_vec)\n",
    "> ~~~\n",
    "> \n",
    "> ~~~\n",
    "> [1] 108\n",
    "> ~~~"
   ]
  },
  {
   "cell_type": "markdown",
   "metadata": {},
   "source": [
    "> ## Exponentiation\n",
    ">\n",
    "> Exponentiation is built into R:\n",
    ">"
   ]
  },
  {
   "cell_type": "markdown",
   "metadata": {},
   "source": [
    "> 2^4"
   ]
  },
  {
   "cell_type": "markdown",
   "metadata": {},
   "source": [
    "> Write a function called `expo` that uses a loop to calculate the same result.\n",
    ">\n",
    "> \n",
    "> ~~~\n",
    "> expo(2, 4)\n",
    "> ~~~\n",
    "> {: .r}\n",
    "> \n",
    "> \n",
    "> \n",
    "> ~~~\n",
    "> [1] 16\n",
    "> ~~~"
   ]
  },
  {
   "cell_type": "markdown",
   "metadata": {},
   "source": [
    "### Processing Multiple Files\n",
    "\n",
    "We now have almost everything we need to process all our data files.\n",
    "The only thing that's missing is a function that finds files whose names match a pattern.\n",
    "We do not need to write it ourselves because R already has a function to do this called `list.files`.\n",
    "\n",
    "If we run the function without any arguments, `list.files()`, it returns every file in the current working directory.\n",
    "We can understand this result by reading the help file (`?list.files`).\n",
    "The first argument, `path`, is the path to the directory to be searched, and it has the default value of `\".\"`\n",
    "(recall from the Introduction to Linux workshop that `\".\"` is shorthand for the current working directory).\n",
    "The second argument, `pattern`, is the pattern being searched, and it has the default value of `NULL`.\n",
    "Since no pattern is specified to filter the files, all files are returned.\n",
    "\n",
    "So to list all the csv files, we could run either of the following:"
   ]
  },
  {
   "cell_type": "markdown",
   "metadata": {},
   "source": [
    "list.files(path = \"data\", pattern = \"csv\")"
   ]
  },
  {
   "cell_type": "markdown",
   "metadata": {},
   "source": [
    "list.files(path = \"data\", pattern = \"inflammation\")"
   ]
  },
  {
   "cell_type": "markdown",
   "metadata": {},
   "source": [
    "> ## Organizing Larger Projects\n",
    ">\n",
    "> For larger projects, it is recommended to organize separate parts of the\n",
    "> analysis into multiple subdirectories, e.g. one subdirectory for the raw data,\n",
    "> one for the code, and one for the results like figures. We have done that here\n",
    "> to some extent, putting all of our data files into the subdirectory \"data\".\n",
    "> For more advice on this topic, you can read [A quick guide to organizing\n",
    "> computational biology projects][Noble2009] by William Stafford Noble.\n",
    "[Noble2009]: http://www.ploscompbiol.org/article/info%3Adoi%2F10.1371%2Fjournal.pcbi.1000424\n",
    "\n",
    "\n",
    "As these examples show, `list.files` result is a vector of strings, which means we can loop over it to do something with each filename in turn.\n",
    "In our case, the \"something\" we want is our `analyze` function.\n",
    "\n",
    "Because we have put our data in separate subdirectory, if we want to access these files\n",
    "using the output of `list.files` we also need to include the \"path\" portion of the file name.\n",
    "We can do that by using the argument `full.names = TRUE`."
   ]
  },
  {
   "cell_type": "markdown",
   "metadata": {},
   "source": [
    "list.files(path = \"data\", pattern = \"csv\", full.names = TRUE)"
   ]
  },
  {
   "cell_type": "markdown",
   "metadata": {},
   "source": [
    "list.files(path = \"data\", pattern = \"inflammation\", full.names = TRUE)"
   ]
  },
  {
   "cell_type": "markdown",
   "metadata": {},
   "source": [
    "Let's test out running our `analyze` function by using it on the first three files in the vector returned by `list.files`:"
   ]
  },
  {
   "cell_type": "code",
   "execution_count": null,
   "metadata": {
    "collapsed": false
   },
   "outputs": [],
   "source": [
    "filenames <- list.files(path = \"data\", pattern = \"inflammation.*csv\", full.names = TRUE)\n",
    "filenames <- filenames[1:3]\n",
    "for (f in filenames) {\n",
    "  print(f)\n",
    "  analyze(f)\n",
    "}"
   ]
  },
  {
   "cell_type": "markdown",
   "metadata": {},
   "source": [
    "Sure enough, the maxima of these data sets show exactly the same ramp as the first, and their minima show the same staircase structure."
   ]
  },
  {
   "cell_type": "markdown",
   "metadata": {},
   "source": [
    "> ## Other Ways to Do It\n",
    ">\n",
    "> In this lesson we saw how to use a simple `for` loop to repeat an operation.\n",
    "> As you progress with R, you will learn that there are multiple ways to\n",
    "> accomplish this. Sometimes the choice of one method over another is more a\n",
    "> matter of personal style, but other times it can have consequences for the\n",
    "> speed of your code. \n",
    "\n",
    "> ## Using Loops to Analyze Multiple Files\n",
    ">\n",
    "> Write a function called `analyze_all` that takes a filename pattern as its sole argument\n",
    "> and runs `analyze` for each file whose name matches the pattern."
   ]
  },
  {
   "cell_type": "code",
   "execution_count": null,
   "metadata": {
    "collapsed": true
   },
   "outputs": [],
   "source": []
  }
 ],
 "metadata": {
  "kernelspec": {
   "display_name": "R 3.3.1",
   "language": "R",
   "name": "r"
  },
  "language_info": {
   "codemirror_mode": "r",
   "file_extension": ".r",
   "mimetype": "text/x-r-source",
   "name": "R",
   "pygments_lexer": "r",
   "version": "3.3.1"
  }
 },
 "nbformat": 4,
 "nbformat_minor": 0
}
