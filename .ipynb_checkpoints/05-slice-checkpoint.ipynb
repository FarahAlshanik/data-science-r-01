{
 "cells": [
  {
   "cell_type": "markdown",
   "metadata": {},
   "source": [
    "---\n",
    "layout: lesson\n",
    "title: Introduction to Data Science using R\n",
    "subtitle: Addressing Data\n",
    "minutes: 30\n",
    "---\n",
    "\n",
    "> ## Learning objectives {.objectives}\n",
    "> * Understand the three different ways R can address data inside a data frame\n",
    "> * Combine different methods for addressing data with the assignment operator to update subsets of data\n",
    "\n",
    "R is a powerful language for data manipulation.\n",
    "There are three main ways for addressing data inside R objects.\n",
    "\n",
    "* By index (slicing)\n",
    "* By logical vector\n",
    "* By name (columns only)\n",
    "\n",
    "Lets start by loading some sample data:"
   ]
  },
  {
   "cell_type": "code",
   "execution_count": 1,
   "metadata": {
    "collapsed": true
   },
   "outputs": [],
   "source": [
    "setwd(\"/home/lngo/intro-data-science/\")\n",
    "dat <- read.csv(file = 'data/sample.csv', header = TRUE, stringsAsFactors = FALSE)"
   ]
  },
  {
   "cell_type": "markdown",
   "metadata": {},
   "source": [
    "> ## Interpreting Rows as Headers\n",
    ">\n",
    "> The first row of this csv file is a list of column names.\n",
    "> We used the *header=TRUE* argument to `read.csv` so that R can interpret the file correctly.\n",
    "> We are using the *stringsAsFactors=FALSE* argument to override the default behaviour for R.\n",
    "> Using factors in R is covered in a separate lesson.\n",
    "\n",
    "Lets take a look at this data."
   ]
  },
  {
   "cell_type": "code",
   "execution_count": 2,
   "metadata": {
    "collapsed": false
   },
   "outputs": [
    {
     "data": {
      "text/html": [
       "'data.frame'"
      ],
      "text/latex": [
       "'data.frame'"
      ],
      "text/markdown": [
       "'data.frame'"
      ],
      "text/plain": [
       "[1] \"data.frame\""
      ]
     },
     "execution_count": 2,
     "metadata": {},
     "output_type": "execute_result"
    }
   ],
   "source": [
    "class(dat)"
   ]
  },
  {
   "cell_type": "markdown",
   "metadata": {},
   "source": [
    "R has loaded the contents of the .csv file into a variable called `dat` which is a `data frame`."
   ]
  },
  {
   "cell_type": "code",
   "execution_count": 3,
   "metadata": {
    "collapsed": false
   },
   "outputs": [
    {
     "data": {
      "text/html": [
       "<ol class=list-inline>\n",
       "\t<li>100</li>\n",
       "\t<li>9</li>\n",
       "</ol>\n"
      ],
      "text/latex": [
       "\\begin{enumerate*}\n",
       "\\item 100\n",
       "\\item 9\n",
       "\\end{enumerate*}\n"
      ],
      "text/markdown": [
       "1. 100\n",
       "2. 9\n",
       "\n",
       "\n"
      ],
      "text/plain": [
       "[1] 100   9"
      ]
     },
     "execution_count": 3,
     "metadata": {},
     "output_type": "execute_result"
    }
   ],
   "source": [
    "dim(dat)"
   ]
  },
  {
   "cell_type": "markdown",
   "metadata": {},
   "source": [
    "The data has 100 rows and 9 columns."
   ]
  },
  {
   "cell_type": "code",
   "execution_count": 4,
   "metadata": {
    "collapsed": false
   },
   "outputs": [
    {
     "data": {
      "text/html": [
       "<table>\n",
       "<thead><tr><th></th><th scope=col>ID</th><th scope=col>Gender</th><th scope=col>Group</th><th scope=col>BloodPressure</th><th scope=col>Age</th><th scope=col>Aneurisms_q1</th><th scope=col>Aneurisms_q2</th><th scope=col>Aneurisms_q3</th><th scope=col>Aneurisms_q4</th></tr></thead>\n",
       "<tbody>\n",
       "\t<tr><th scope=row>1</th><td>Sub001</td><td>m</td><td>Control</td><td>132</td><td>16</td><td>114</td><td>140</td><td>202</td><td>237</td></tr>\n",
       "\t<tr><th scope=row>2</th><td>Sub002</td><td>m</td><td>Treatment2</td><td>139</td><td>17.2</td><td>148</td><td>209</td><td>248</td><td>248</td></tr>\n",
       "\t<tr><th scope=row>3</th><td>Sub003</td><td>m</td><td>Treatment2</td><td>130</td><td>19.5</td><td>196</td><td>251</td><td>122</td><td>177</td></tr>\n",
       "\t<tr><th scope=row>4</th><td>Sub004</td><td>f</td><td>Treatment1</td><td>105</td><td>15.7</td><td>199</td><td>140</td><td>233</td><td>220</td></tr>\n",
       "\t<tr><th scope=row>5</th><td>Sub005</td><td>m</td><td>Treatment1</td><td>125</td><td>19.9</td><td>188</td><td>120</td><td>222</td><td>228</td></tr>\n",
       "\t<tr><th scope=row>6</th><td>Sub006</td><td>M</td><td>Treatment2</td><td>112</td><td>14.3</td><td>260</td><td>266</td><td>320</td><td>294</td></tr>\n",
       "</tbody>\n",
       "</table>\n"
      ],
      "text/latex": [
       "\\begin{tabular}{r|lllllllll}\n",
       "  & ID & Gender & Group & BloodPressure & Age & Aneurisms_q1 & Aneurisms_q2 & Aneurisms_q3 & Aneurisms_q4\\\\\n",
       "\\hline\n",
       "\t1 & Sub001 & m & Control & 132 & 16 & 114 & 140 & 202 & 237\\\\\n",
       "\t2 & Sub002 & m & Treatment2 & 139 & 17.2 & 148 & 209 & 248 & 248\\\\\n",
       "\t3 & Sub003 & m & Treatment2 & 130 & 19.5 & 196 & 251 & 122 & 177\\\\\n",
       "\t4 & Sub004 & f & Treatment1 & 105 & 15.7 & 199 & 140 & 233 & 220\\\\\n",
       "\t5 & Sub005 & m & Treatment1 & 125 & 19.9 & 188 & 120 & 222 & 228\\\\\n",
       "\t6 & Sub006 & M & Treatment2 & 112 & 14.3 & 260 & 266 & 320 & 294\\\\\n",
       "\\end{tabular}\n"
      ],
      "text/plain": [
       "      ID Gender      Group BloodPressure  Age Aneurisms_q1 Aneurisms_q2\n",
       "1 Sub001      m    Control           132 16.0          114          140\n",
       "2 Sub002      m Treatment2           139 17.2          148          209\n",
       "3 Sub003      m Treatment2           130 19.5          196          251\n",
       "4 Sub004      f Treatment1           105 15.7          199          140\n",
       "5 Sub005      m Treatment1           125 19.9          188          120\n",
       "6 Sub006      M Treatment2           112 14.3          260          266\n",
       "  Aneurisms_q3 Aneurisms_q4\n",
       "1          202          237\n",
       "2          248          248\n",
       "3          122          177\n",
       "4          233          220\n",
       "5          222          228\n",
       "6          320          294"
      ]
     },
     "execution_count": 4,
     "metadata": {},
     "output_type": "execute_result"
    }
   ],
   "source": [
    "head(dat)"
   ]
  },
  {
   "cell_type": "markdown",
   "metadata": {},
   "source": [
    "The data is the results of an (not real) experiment, looking at the number of aneurysms that formed in the eyes of patients who undertook 3 different treatments.\n",
    "\n",
    "### Addressing by Index\n",
    "\n",
    "Data can be accessed by index. We have already seen how square brackets `[` can be used to subset (slice) data. The generic format is `dat[row_numbers,column_numbers]`.\n",
    "\n",
    "\n",
    "> ## Selecting Values\n",
    ">\n",
    "> What will be returned by `dat[1,1]`?\n",
    "\n",
    "If we leave out a dimension R will interpret this as a request for all values in that dimension.\n",
    "\n",
    "> ## Selecting More Values\n",
    ">\n",
    "> What will be returned by `dat[,2]`?\n",
    "\n",
    "The colon `:` can be used to create a sequence of integers."
   ]
  },
  {
   "cell_type": "code",
   "execution_count": 5,
   "metadata": {
    "collapsed": false
   },
   "outputs": [
    {
     "data": {
      "text/html": [
       "<ol class=list-inline>\n",
       "\t<li>6</li>\n",
       "\t<li>7</li>\n",
       "\t<li>8</li>\n",
       "\t<li>9</li>\n",
       "</ol>\n"
      ],
      "text/latex": [
       "\\begin{enumerate*}\n",
       "\\item 6\n",
       "\\item 7\n",
       "\\item 8\n",
       "\\item 9\n",
       "\\end{enumerate*}\n"
      ],
      "text/markdown": [
       "1. 6\n",
       "2. 7\n",
       "3. 8\n",
       "4. 9\n",
       "\n",
       "\n"
      ],
      "text/plain": [
       "[1] 6 7 8 9"
      ]
     },
     "execution_count": 5,
     "metadata": {},
     "output_type": "execute_result"
    }
   ],
   "source": [
    "6:9"
   ]
  },
  {
   "cell_type": "markdown",
   "metadata": {},
   "source": [
    "This creates a vector of numbers from 6 to 9.\n",
    "\n",
    "This can be very useful for addressing data.\n",
    "\n",
    "> ## Subsetting with Sequences\n",
    ">\n",
    "> Use the colon operator to index just the aneurism count data (columns 6 to 9)."
   ]
  },
  {
   "cell_type": "markdown",
   "metadata": {},
   "source": [
    "Finally we can use the `c()` (combine) function to address non-sequential rows and columns."
   ]
  },
  {
   "cell_type": "code",
   "execution_count": 6,
   "metadata": {
    "collapsed": false
   },
   "outputs": [
    {
     "data": {
      "text/html": [
       "<table>\n",
       "<thead><tr><th></th><th scope=col>ID</th><th scope=col>Gender</th><th scope=col>Group</th><th scope=col>BloodPressure</th><th scope=col>Age</th></tr></thead>\n",
       "<tbody>\n",
       "\t<tr><th scope=row>1</th><td>Sub001</td><td>m</td><td>Control</td><td>132</td><td>16</td></tr>\n",
       "\t<tr><th scope=row>5</th><td>Sub005</td><td>m</td><td>Treatment1</td><td>125</td><td>19.9</td></tr>\n",
       "\t<tr><th scope=row>7</th><td>Sub007</td><td>f</td><td>Control</td><td>173</td><td>17.7</td></tr>\n",
       "\t<tr><th scope=row>9</th><td>Sub009</td><td>m</td><td>Treatment2</td><td>131</td><td>19.4</td></tr>\n",
       "</tbody>\n",
       "</table>\n"
      ],
      "text/latex": [
       "\\begin{tabular}{r|lllll}\n",
       "  & ID & Gender & Group & BloodPressure & Age\\\\\n",
       "\\hline\n",
       "\t1 & Sub001 & m & Control & 132 & 16\\\\\n",
       "\t5 & Sub005 & m & Treatment1 & 125 & 19.9\\\\\n",
       "\t7 & Sub007 & f & Control & 173 & 17.7\\\\\n",
       "\t9 & Sub009 & m & Treatment2 & 131 & 19.4\\\\\n",
       "\\end{tabular}\n"
      ],
      "text/plain": [
       "      ID Gender      Group BloodPressure  Age\n",
       "1 Sub001      m    Control           132 16.0\n",
       "5 Sub005      m Treatment1           125 19.9\n",
       "7 Sub007      f    Control           173 17.7\n",
       "9 Sub009      m Treatment2           131 19.4"
      ]
     },
     "execution_count": 6,
     "metadata": {},
     "output_type": "execute_result"
    }
   ],
   "source": [
    "dat[c(1,5,7,9), 1:5]"
   ]
  },
  {
   "cell_type": "markdown",
   "metadata": {},
   "source": [
    "Returns the first 5 columns for patients in rows 1,5,7 & 9\n",
    "\n",
    "> ## Subsetting Non-Sequential Data\n",
    ">\n",
    "> Return the age and gender values for the first 5 patients.\n",
    "\n",
    "### Addressing by Name\n",
    "\n",
    "Columns in an R data frame are named."
   ]
  },
  {
   "cell_type": "code",
   "execution_count": 7,
   "metadata": {
    "collapsed": false
   },
   "outputs": [
    {
     "data": {
      "text/html": [
       "<ol class=list-inline>\n",
       "\t<li>'ID'</li>\n",
       "\t<li>'Gender'</li>\n",
       "\t<li>'Group'</li>\n",
       "\t<li>'BloodPressure'</li>\n",
       "\t<li>'Age'</li>\n",
       "\t<li>'Aneurisms_q1'</li>\n",
       "\t<li>'Aneurisms_q2'</li>\n",
       "\t<li>'Aneurisms_q3'</li>\n",
       "\t<li>'Aneurisms_q4'</li>\n",
       "</ol>\n"
      ],
      "text/latex": [
       "\\begin{enumerate*}\n",
       "\\item 'ID'\n",
       "\\item 'Gender'\n",
       "\\item 'Group'\n",
       "\\item 'BloodPressure'\n",
       "\\item 'Age'\n",
       "\\item 'Aneurisms_q1'\n",
       "\\item 'Aneurisms_q2'\n",
       "\\item 'Aneurisms_q3'\n",
       "\\item 'Aneurisms_q4'\n",
       "\\end{enumerate*}\n"
      ],
      "text/markdown": [
       "1. 'ID'\n",
       "2. 'Gender'\n",
       "3. 'Group'\n",
       "4. 'BloodPressure'\n",
       "5. 'Age'\n",
       "6. 'Aneurisms_q1'\n",
       "7. 'Aneurisms_q2'\n",
       "8. 'Aneurisms_q3'\n",
       "9. 'Aneurisms_q4'\n",
       "\n",
       "\n"
      ],
      "text/plain": [
       "[1] \"ID\"            \"Gender\"        \"Group\"         \"BloodPressure\"\n",
       "[5] \"Age\"           \"Aneurisms_q1\"  \"Aneurisms_q2\"  \"Aneurisms_q3\" \n",
       "[9] \"Aneurisms_q4\" "
      ]
     },
     "execution_count": 7,
     "metadata": {},
     "output_type": "execute_result"
    }
   ],
   "source": [
    "names(dat)"
   ]
  },
  {
   "cell_type": "markdown",
   "metadata": {},
   "source": [
    "> ## Default Names\n",
    ">\n",
    "> If names are not specified e.g. using `headers=FALSE` in a `read.csv()` function, R assigns default names `V1,V2,...,Vn`\n",
    "\n",
    "We usually use the `$` operator to address a column by name"
   ]
  },
  {
   "cell_type": "code",
   "execution_count": 8,
   "metadata": {
    "collapsed": false
   },
   "outputs": [
    {
     "data": {
      "text/html": [
       "<ol class=list-inline>\n",
       "\t<li>'m'</li>\n",
       "\t<li>'m'</li>\n",
       "\t<li>'m'</li>\n",
       "\t<li>'f'</li>\n",
       "\t<li>'m'</li>\n",
       "\t<li>'M'</li>\n",
       "\t<li>'f'</li>\n",
       "\t<li>'m'</li>\n",
       "\t<li>'m'</li>\n",
       "\t<li>'f'</li>\n",
       "\t<li>'m'</li>\n",
       "\t<li>'f'</li>\n",
       "\t<li>'f'</li>\n",
       "\t<li>'m'</li>\n",
       "\t<li>'m'</li>\n",
       "\t<li>'m'</li>\n",
       "\t<li>'f'</li>\n",
       "\t<li>'m'</li>\n",
       "\t<li>'m'</li>\n",
       "\t<li>'F'</li>\n",
       "\t<li>'f'</li>\n",
       "\t<li>'m'</li>\n",
       "\t<li>'f'</li>\n",
       "\t<li>'f'</li>\n",
       "\t<li>'m'</li>\n",
       "\t<li>'M'</li>\n",
       "\t<li>'M'</li>\n",
       "\t<li>'f'</li>\n",
       "\t<li>'m'</li>\n",
       "\t<li>'f'</li>\n",
       "\t<li>'f'</li>\n",
       "\t<li>'m'</li>\n",
       "\t<li>'m'</li>\n",
       "\t<li>'m'</li>\n",
       "\t<li>'m'</li>\n",
       "\t<li>'f'</li>\n",
       "\t<li>'f'</li>\n",
       "\t<li>'m'</li>\n",
       "\t<li>'M'</li>\n",
       "\t<li>'m'</li>\n",
       "\t<li>'f'</li>\n",
       "\t<li>'m'</li>\n",
       "\t<li>'m'</li>\n",
       "\t<li>'m'</li>\n",
       "\t<li>'f'</li>\n",
       "\t<li>'f'</li>\n",
       "\t<li>'M'</li>\n",
       "\t<li>'M'</li>\n",
       "\t<li>'m'</li>\n",
       "\t<li>'m'</li>\n",
       "\t<li>'m'</li>\n",
       "\t<li>'f'</li>\n",
       "\t<li>'f'</li>\n",
       "\t<li>'f'</li>\n",
       "\t<li>'m'</li>\n",
       "\t<li>'f'</li>\n",
       "\t<li>'m'</li>\n",
       "\t<li>'m'</li>\n",
       "\t<li>'m'</li>\n",
       "\t<li>'f'</li>\n",
       "\t<li>'f'</li>\n",
       "\t<li>'f'</li>\n",
       "\t<li>'f'</li>\n",
       "\t<li>'M'</li>\n",
       "\t<li>'f'</li>\n",
       "\t<li>'m'</li>\n",
       "\t<li>'f'</li>\n",
       "\t<li>'f'</li>\n",
       "\t<li>'M'</li>\n",
       "\t<li>'m'</li>\n",
       "\t<li>'m'</li>\n",
       "\t<li>'m'</li>\n",
       "\t<li>'F'</li>\n",
       "\t<li>'m'</li>\n",
       "\t<li>'m'</li>\n",
       "\t<li>'f'</li>\n",
       "\t<li>'M'</li>\n",
       "\t<li>'M'</li>\n",
       "\t<li>'M'</li>\n",
       "\t<li>'f'</li>\n",
       "\t<li>'m'</li>\n",
       "\t<li>'M'</li>\n",
       "\t<li>'M'</li>\n",
       "\t<li>'m'</li>\n",
       "\t<li>'m'</li>\n",
       "\t<li>'f'</li>\n",
       "\t<li>'f'</li>\n",
       "\t<li>'f'</li>\n",
       "\t<li>'m'</li>\n",
       "\t<li>'m'</li>\n",
       "\t<li>'f'</li>\n",
       "\t<li>'m'</li>\n",
       "\t<li>'F'</li>\n",
       "\t<li>'f'</li>\n",
       "\t<li>'m'</li>\n",
       "\t<li>'m'</li>\n",
       "\t<li>'F'</li>\n",
       "\t<li>'m'</li>\n",
       "\t<li>'M'</li>\n",
       "\t<li>'M'</li>\n",
       "</ol>\n"
      ],
      "text/latex": [
       "\\begin{enumerate*}\n",
       "\\item 'm'\n",
       "\\item 'm'\n",
       "\\item 'm'\n",
       "\\item 'f'\n",
       "\\item 'm'\n",
       "\\item 'M'\n",
       "\\item 'f'\n",
       "\\item 'm'\n",
       "\\item 'm'\n",
       "\\item 'f'\n",
       "\\item 'm'\n",
       "\\item 'f'\n",
       "\\item 'f'\n",
       "\\item 'm'\n",
       "\\item 'm'\n",
       "\\item 'm'\n",
       "\\item 'f'\n",
       "\\item 'm'\n",
       "\\item 'm'\n",
       "\\item 'F'\n",
       "\\item 'f'\n",
       "\\item 'm'\n",
       "\\item 'f'\n",
       "\\item 'f'\n",
       "\\item 'm'\n",
       "\\item 'M'\n",
       "\\item 'M'\n",
       "\\item 'f'\n",
       "\\item 'm'\n",
       "\\item 'f'\n",
       "\\item 'f'\n",
       "\\item 'm'\n",
       "\\item 'm'\n",
       "\\item 'm'\n",
       "\\item 'm'\n",
       "\\item 'f'\n",
       "\\item 'f'\n",
       "\\item 'm'\n",
       "\\item 'M'\n",
       "\\item 'm'\n",
       "\\item 'f'\n",
       "\\item 'm'\n",
       "\\item 'm'\n",
       "\\item 'm'\n",
       "\\item 'f'\n",
       "\\item 'f'\n",
       "\\item 'M'\n",
       "\\item 'M'\n",
       "\\item 'm'\n",
       "\\item 'm'\n",
       "\\item 'm'\n",
       "\\item 'f'\n",
       "\\item 'f'\n",
       "\\item 'f'\n",
       "\\item 'm'\n",
       "\\item 'f'\n",
       "\\item 'm'\n",
       "\\item 'm'\n",
       "\\item 'm'\n",
       "\\item 'f'\n",
       "\\item 'f'\n",
       "\\item 'f'\n",
       "\\item 'f'\n",
       "\\item 'M'\n",
       "\\item 'f'\n",
       "\\item 'm'\n",
       "\\item 'f'\n",
       "\\item 'f'\n",
       "\\item 'M'\n",
       "\\item 'm'\n",
       "\\item 'm'\n",
       "\\item 'm'\n",
       "\\item 'F'\n",
       "\\item 'm'\n",
       "\\item 'm'\n",
       "\\item 'f'\n",
       "\\item 'M'\n",
       "\\item 'M'\n",
       "\\item 'M'\n",
       "\\item 'f'\n",
       "\\item 'm'\n",
       "\\item 'M'\n",
       "\\item 'M'\n",
       "\\item 'm'\n",
       "\\item 'm'\n",
       "\\item 'f'\n",
       "\\item 'f'\n",
       "\\item 'f'\n",
       "\\item 'm'\n",
       "\\item 'm'\n",
       "\\item 'f'\n",
       "\\item 'm'\n",
       "\\item 'F'\n",
       "\\item 'f'\n",
       "\\item 'm'\n",
       "\\item 'm'\n",
       "\\item 'F'\n",
       "\\item 'm'\n",
       "\\item 'M'\n",
       "\\item 'M'\n",
       "\\end{enumerate*}\n"
      ],
      "text/markdown": [
       "1. 'm'\n",
       "2. 'm'\n",
       "3. 'm'\n",
       "4. 'f'\n",
       "5. 'm'\n",
       "6. 'M'\n",
       "7. 'f'\n",
       "8. 'm'\n",
       "9. 'm'\n",
       "10. 'f'\n",
       "11. 'm'\n",
       "12. 'f'\n",
       "13. 'f'\n",
       "14. 'm'\n",
       "15. 'm'\n",
       "16. 'm'\n",
       "17. 'f'\n",
       "18. 'm'\n",
       "19. 'm'\n",
       "20. 'F'\n",
       "21. 'f'\n",
       "22. 'm'\n",
       "23. 'f'\n",
       "24. 'f'\n",
       "25. 'm'\n",
       "26. 'M'\n",
       "27. 'M'\n",
       "28. 'f'\n",
       "29. 'm'\n",
       "30. 'f'\n",
       "31. 'f'\n",
       "32. 'm'\n",
       "33. 'm'\n",
       "34. 'm'\n",
       "35. 'm'\n",
       "36. 'f'\n",
       "37. 'f'\n",
       "38. 'm'\n",
       "39. 'M'\n",
       "40. 'm'\n",
       "41. 'f'\n",
       "42. 'm'\n",
       "43. 'm'\n",
       "44. 'm'\n",
       "45. 'f'\n",
       "46. 'f'\n",
       "47. 'M'\n",
       "48. 'M'\n",
       "49. 'm'\n",
       "50. 'm'\n",
       "51. 'm'\n",
       "52. 'f'\n",
       "53. 'f'\n",
       "54. 'f'\n",
       "55. 'm'\n",
       "56. 'f'\n",
       "57. 'm'\n",
       "58. 'm'\n",
       "59. 'm'\n",
       "60. 'f'\n",
       "61. 'f'\n",
       "62. 'f'\n",
       "63. 'f'\n",
       "64. 'M'\n",
       "65. 'f'\n",
       "66. 'm'\n",
       "67. 'f'\n",
       "68. 'f'\n",
       "69. 'M'\n",
       "70. 'm'\n",
       "71. 'm'\n",
       "72. 'm'\n",
       "73. 'F'\n",
       "74. 'm'\n",
       "75. 'm'\n",
       "76. 'f'\n",
       "77. 'M'\n",
       "78. 'M'\n",
       "79. 'M'\n",
       "80. 'f'\n",
       "81. 'm'\n",
       "82. 'M'\n",
       "83. 'M'\n",
       "84. 'm'\n",
       "85. 'm'\n",
       "86. 'f'\n",
       "87. 'f'\n",
       "88. 'f'\n",
       "89. 'm'\n",
       "90. 'm'\n",
       "91. 'f'\n",
       "92. 'm'\n",
       "93. 'F'\n",
       "94. 'f'\n",
       "95. 'm'\n",
       "96. 'm'\n",
       "97. 'F'\n",
       "98. 'm'\n",
       "99. 'M'\n",
       "100. 'M'\n",
       "\n",
       "\n"
      ],
      "text/plain": [
       "  [1] \"m\" \"m\" \"m\" \"f\" \"m\" \"M\" \"f\" \"m\" \"m\" \"f\" \"m\" \"f\" \"f\" \"m\" \"m\" \"m\" \"f\" \"m\"\n",
       " [19] \"m\" \"F\" \"f\" \"m\" \"f\" \"f\" \"m\" \"M\" \"M\" \"f\" \"m\" \"f\" \"f\" \"m\" \"m\" \"m\" \"m\" \"f\"\n",
       " [37] \"f\" \"m\" \"M\" \"m\" \"f\" \"m\" \"m\" \"m\" \"f\" \"f\" \"M\" \"M\" \"m\" \"m\" \"m\" \"f\" \"f\" \"f\"\n",
       " [55] \"m\" \"f\" \"m\" \"m\" \"m\" \"f\" \"f\" \"f\" \"f\" \"M\" \"f\" \"m\" \"f\" \"f\" \"M\" \"m\" \"m\" \"m\"\n",
       " [73] \"F\" \"m\" \"m\" \"f\" \"M\" \"M\" \"M\" \"f\" \"m\" \"M\" \"M\" \"m\" \"m\" \"f\" \"f\" \"f\" \"m\" \"m\"\n",
       " [91] \"f\" \"m\" \"F\" \"f\" \"m\" \"m\" \"F\" \"m\" \"M\" \"M\""
      ]
     },
     "execution_count": 8,
     "metadata": {},
     "output_type": "execute_result"
    }
   ],
   "source": [
    "dat$Gender"
   ]
  },
  {
   "cell_type": "markdown",
   "metadata": {},
   "source": [
    "Named addressing can also be used in square brackets."
   ]
  },
  {
   "cell_type": "code",
   "execution_count": 9,
   "metadata": {
    "collapsed": false
   },
   "outputs": [
    {
     "data": {
      "text/html": [
       "<table>\n",
       "<thead><tr><th></th><th scope=col>Age</th><th scope=col>Gender</th></tr></thead>\n",
       "<tbody>\n",
       "\t<tr><th scope=row>1</th><td>16</td><td>m</td></tr>\n",
       "\t<tr><th scope=row>2</th><td>17.2</td><td>m</td></tr>\n",
       "\t<tr><th scope=row>3</th><td>19.5</td><td>m</td></tr>\n",
       "\t<tr><th scope=row>4</th><td>15.7</td><td>f</td></tr>\n",
       "\t<tr><th scope=row>5</th><td>19.9</td><td>m</td></tr>\n",
       "\t<tr><th scope=row>6</th><td>14.3</td><td>M</td></tr>\n",
       "</tbody>\n",
       "</table>\n"
      ],
      "text/latex": [
       "\\begin{tabular}{r|ll}\n",
       "  & Age & Gender\\\\\n",
       "\\hline\n",
       "\t1 & 16 & m\\\\\n",
       "\t2 & 17.2 & m\\\\\n",
       "\t3 & 19.5 & m\\\\\n",
       "\t4 & 15.7 & f\\\\\n",
       "\t5 & 19.9 & m\\\\\n",
       "\t6 & 14.3 & M\\\\\n",
       "\\end{tabular}\n"
      ],
      "text/plain": [
       "   Age Gender\n",
       "1 16.0      m\n",
       "2 17.2      m\n",
       "3 19.5      m\n",
       "4 15.7      f\n",
       "5 19.9      m\n",
       "6 14.3      M"
      ]
     },
     "execution_count": 9,
     "metadata": {},
     "output_type": "execute_result"
    }
   ],
   "source": [
    "head(dat[,c('Age', 'Gender')])"
   ]
  },
  {
   "cell_type": "markdown",
   "metadata": {},
   "source": [
    "> ## Best Practice\n",
    ">\n",
    "> Best practice is to address columns by name, often you will create or delete columns and the column position will change.\n",
    "\n",
    "### Logical Indexing\n",
    "\n",
    "A logical vector contains only the special values `TRUE` & `FALSE`."
   ]
  },
  {
   "cell_type": "markdown",
   "metadata": {},
   "source": [
    "c(TRUE, TRUE, FALSE, FALSE, TRUE)"
   ]
  },
  {
   "cell_type": "markdown",
   "metadata": {},
   "source": [
    "> ## Truth and Its Opposite\n",
    ">\n",
    "> Note the values `TRUE` and `FALSE` are all capital letters and are not quoted.\n",
    "{: .callout}\n",
    "\n",
    "Logical vectors can be created using `relational operators` e.g. `<, >, ==, !=, %in%`."
   ]
  },
  {
   "cell_type": "code",
   "execution_count": 10,
   "metadata": {
    "collapsed": false
   },
   "outputs": [
    {
     "data": {
      "text/html": [
       "<ol class=list-inline>\n",
       "\t<li>TRUE</li>\n",
       "\t<li>TRUE</li>\n",
       "\t<li>TRUE</li>\n",
       "\t<li>FALSE</li>\n",
       "\t<li>FALSE</li>\n",
       "\t<li>FALSE</li>\n",
       "</ol>\n"
      ],
      "text/latex": [
       "\\begin{enumerate*}\n",
       "\\item TRUE\n",
       "\\item TRUE\n",
       "\\item TRUE\n",
       "\\item FALSE\n",
       "\\item FALSE\n",
       "\\item FALSE\n",
       "\\end{enumerate*}\n"
      ],
      "text/markdown": [
       "1. TRUE\n",
       "2. TRUE\n",
       "3. TRUE\n",
       "4. FALSE\n",
       "5. FALSE\n",
       "6. FALSE\n",
       "\n",
       "\n"
      ],
      "text/plain": [
       "[1]  TRUE  TRUE  TRUE FALSE FALSE FALSE"
      ]
     },
     "execution_count": 10,
     "metadata": {},
     "output_type": "execute_result"
    }
   ],
   "source": [
    "x <- c(1, 2, 3, 11, 12, 13)\n",
    "x < 10"
   ]
  },
  {
   "cell_type": "code",
   "execution_count": 11,
   "metadata": {
    "collapsed": false
   },
   "outputs": [
    {
     "data": {
      "text/html": [
       "<ol class=list-inline>\n",
       "\t<li>TRUE</li>\n",
       "\t<li>TRUE</li>\n",
       "\t<li>TRUE</li>\n",
       "\t<li>FALSE</li>\n",
       "\t<li>FALSE</li>\n",
       "\t<li>FALSE</li>\n",
       "</ol>\n"
      ],
      "text/latex": [
       "\\begin{enumerate*}\n",
       "\\item TRUE\n",
       "\\item TRUE\n",
       "\\item TRUE\n",
       "\\item FALSE\n",
       "\\item FALSE\n",
       "\\item FALSE\n",
       "\\end{enumerate*}\n"
      ],
      "text/markdown": [
       "1. TRUE\n",
       "2. TRUE\n",
       "3. TRUE\n",
       "4. FALSE\n",
       "5. FALSE\n",
       "6. FALSE\n",
       "\n",
       "\n"
      ],
      "text/plain": [
       "[1]  TRUE  TRUE  TRUE FALSE FALSE FALSE"
      ]
     },
     "execution_count": 11,
     "metadata": {},
     "output_type": "execute_result"
    }
   ],
   "source": [
    "x %in% 1:10"
   ]
  },
  {
   "cell_type": "markdown",
   "metadata": {},
   "source": [
    "We can use logical vectors to select data from a data frame."
   ]
  },
  {
   "cell_type": "code",
   "execution_count": 12,
   "metadata": {
    "collapsed": false
   },
   "outputs": [
    {
     "data": {
      "text/html": [
       "<ol class=list-inline>\n",
       "\t<li>132</li>\n",
       "\t<li>173</li>\n",
       "\t<li>129</li>\n",
       "\t<li>77</li>\n",
       "\t<li>158</li>\n",
       "\t<li>81</li>\n",
       "\t<li>137</li>\n",
       "\t<li>111</li>\n",
       "\t<li>135</li>\n",
       "\t<li>108</li>\n",
       "\t<li>133</li>\n",
       "\t<li>139</li>\n",
       "\t<li>126</li>\n",
       "\t<li>125</li>\n",
       "\t<li>99</li>\n",
       "\t<li>122</li>\n",
       "\t<li>155</li>\n",
       "\t<li>133</li>\n",
       "\t<li>94</li>\n",
       "\t<li>98</li>\n",
       "\t<li>74</li>\n",
       "\t<li>116</li>\n",
       "\t<li>97</li>\n",
       "\t<li>104</li>\n",
       "\t<li>117</li>\n",
       "\t<li>90</li>\n",
       "\t<li>150</li>\n",
       "\t<li>116</li>\n",
       "\t<li>108</li>\n",
       "\t<li>102</li>\n",
       "</ol>\n"
      ],
      "text/latex": [
       "\\begin{enumerate*}\n",
       "\\item 132\n",
       "\\item 173\n",
       "\\item 129\n",
       "\\item 77\n",
       "\\item 158\n",
       "\\item 81\n",
       "\\item 137\n",
       "\\item 111\n",
       "\\item 135\n",
       "\\item 108\n",
       "\\item 133\n",
       "\\item 139\n",
       "\\item 126\n",
       "\\item 125\n",
       "\\item 99\n",
       "\\item 122\n",
       "\\item 155\n",
       "\\item 133\n",
       "\\item 94\n",
       "\\item 98\n",
       "\\item 74\n",
       "\\item 116\n",
       "\\item 97\n",
       "\\item 104\n",
       "\\item 117\n",
       "\\item 90\n",
       "\\item 150\n",
       "\\item 116\n",
       "\\item 108\n",
       "\\item 102\n",
       "\\end{enumerate*}\n"
      ],
      "text/markdown": [
       "1. 132\n",
       "2. 173\n",
       "3. 129\n",
       "4. 77\n",
       "5. 158\n",
       "6. 81\n",
       "7. 137\n",
       "8. 111\n",
       "9. 135\n",
       "10. 108\n",
       "11. 133\n",
       "12. 139\n",
       "13. 126\n",
       "14. 125\n",
       "15. 99\n",
       "16. 122\n",
       "17. 155\n",
       "18. 133\n",
       "19. 94\n",
       "20. 98\n",
       "21. 74\n",
       "22. 116\n",
       "23. 97\n",
       "24. 104\n",
       "25. 117\n",
       "26. 90\n",
       "27. 150\n",
       "28. 116\n",
       "29. 108\n",
       "30. 102\n",
       "\n",
       "\n"
      ],
      "text/plain": [
       " [1] 132 173 129  77 158  81 137 111 135 108 133 139 126 125  99 122 155 133  94\n",
       "[20]  98  74 116  97 104 117  90 150 116 108 102"
      ]
     },
     "execution_count": 12,
     "metadata": {},
     "output_type": "execute_result"
    }
   ],
   "source": [
    "index <- dat$Group == 'Control'\n",
    "dat[index,]$BloodPressure"
   ]
  },
  {
   "cell_type": "markdown",
   "metadata": {},
   "source": [
    "Often this operation is written as one line of code:"
   ]
  },
  {
   "cell_type": "code",
   "execution_count": null,
   "metadata": {
    "collapsed": true
   },
   "outputs": [],
   "source": [
    "plot(dat[dat$Group == 'Control',]$BloodPressure)"
   ]
  },
  {
   "cell_type": "markdown",
   "metadata": {},
   "source": [
    "> ## Using Logical Indexes\n",
    ">\n",
    "> 1. Create a scatterplot showing BloodPressure for subjects not in the control group.\n",
    "> 2. How many ways are there to index this set of subjects?\n",
    "\n",
    "### Combining Indexing and Assignment\n",
    "\n",
    "The assignment operator `<-` can be combined with indexing."
   ]
  },
  {
   "cell_type": "code",
   "execution_count": null,
   "metadata": {
    "collapsed": true
   },
   "outputs": [],
   "source": [
    "x <- c(1, 2, 3, 11, 12, 13)\n",
    "x[x < 10] <- 0\n",
    "x"
   ]
  },
  {
   "cell_type": "markdown",
   "metadata": {
    "collapsed": true
   },
   "source": [
    "> ## Updating a Subset of Values\n",
    ">\n",
    "> In this dataset, values for Gender have been recorded as both uppercase `M, F` and lowercase `m,f`.\n",
    "> Combine the indexing and assignment operations to convert all values to lowercase."
   ]
  }
 ],
 "metadata": {
  "kernelspec": {
   "display_name": "R 3.3.1",
   "language": "R",
   "name": "r"
  },
  "language_info": {
   "codemirror_mode": "r",
   "file_extension": ".r",
   "mimetype": "text/x-r-source",
   "name": "R",
   "pygments_lexer": "r",
   "version": "3.3.1"
  }
 },
 "nbformat": 4,
 "nbformat_minor": 0
}
