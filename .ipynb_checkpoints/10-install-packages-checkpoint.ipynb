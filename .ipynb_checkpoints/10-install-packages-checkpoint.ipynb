{
 "cells": [
  {
   "cell_type": "markdown",
   "metadata": {
    "collapsed": true
   },
   "source": [
    "---\n",
    "layout: lesson\n",
    "title: Introduction to Data Science using R\n",
    "subtitle: Installing Packages\n",
    "minutes: 15\n",
    "---\n",
    "\n",
    "> ## Learning objectives {.objectives}\n",
    "> * Be able to find supporting packages\n",
    "> * Be able to install most of the packages for the Jupyter interface as a Palmetto user\n",
    "> * Know where to find help\n",
    "\n",
    "A significant advantage of R is the collection of community contributed packages that have been vetted through [CRAN (the Comprehensive R Archive Network)](https://cran.r-project.org/web/packages/). \n",
    "\n",
    "R automate the downloading and installing of CRAN packages through the `install.packages` function:"
   ]
  },
  {
   "cell_type": "code",
   "execution_count": null,
   "metadata": {
    "collapsed": false
   },
   "outputs": [],
   "source": [
    "?install.packages"
   ]
  },
  {
   "cell_type": "markdown",
   "metadata": {},
   "source": [
    "By default, `install.packages` will be writing into locations that typically require administrative priviledge. This is not the case of Palmetto. It is important that you know how to set up your own customized library as a user on Palmetto. We will practice this by installing the *ggplo2* package in preparation for the next lesson. \n",
    "\n",
    "The process is as followed:\n",
    "\n",
    "1. In your home directory, create a directory that is specific to storing the installed R packages. \n",
    "\n",
    "2. Run the `install.packages` command in a cell (you only need to do this once) with the following format:\n",
    "```\n",
    "install.packages(<string vector containing list of libraries to be installed>, \n",
    "                 lib=<location of the previously created directory for R packages>, \n",
    "                 repos='http://cran.us.r-project.org',\n",
    "                 verbose=TRUE)"
   ]
  },
  {
   "cell_type": "code",
   "execution_count": null,
   "metadata": {
    "collapsed": false
   },
   "outputs": [],
   "source": [
    "install.packages(\"ggplot2\", \n",
    "                 lib=\"/home/lngo/R_libs\", \n",
    "                 repos='http://cran.us.r-project.org',\n",
    "                 verbose=TRUE)"
   ]
  },
  {
   "cell_type": "markdown",
   "metadata": {},
   "source": [
    "To load a customized package, you need to also specify the location of the package directory:"
   ]
  },
  {
   "cell_type": "code",
   "execution_count": null,
   "metadata": {
    "collapsed": false
   },
   "outputs": [],
   "source": [
    "library(ggplot2,lib=\"/home/lngo/R_libs\")"
   ]
  },
  {
   "cell_type": "markdown",
   "metadata": {},
   "source": [
    "There are packages that require additional supporting software. For example, the parallel `rjacgs` library requires  JAGS (Just Another Gigg Sampler) to be installed and made available via system path. If you need help installing such packages, please do not hesitate to come talk to us at ithelp@clemson.edu"
   ]
  }
 ],
 "metadata": {
  "kernelspec": {
   "display_name": "R 3.3.1",
   "language": "R",
   "name": "r"
  },
  "language_info": {
   "codemirror_mode": "r",
   "file_extension": ".r",
   "mimetype": "text/x-r-source",
   "name": "R",
   "pygments_lexer": "r",
   "version": "3.3.1"
  }
 },
 "nbformat": 4,
 "nbformat_minor": 0
}
