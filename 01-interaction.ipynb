{
 "cells": [
  {
   "cell_type": "markdown",
   "metadata": {},
   "source": [
    "---\n",
    "layout: lesson\n",
    "title: Introduction to Data Science using R\n",
    "subtitle: Interacting with Data\n",
    "minutes: 30\n",
    "---\n",
    "\n",
    "> ## Learning objectives {.objectives}\n",
    "> * Read tabular data from a file into a program\n",
    "> * Assign values to variables\n",
    "> * Select individual values and subsections from data\n",
    "> * Perform operations on a dat frame of data\n",
    "> * Display simple graphs\n",
    "\n",
    "## Data Preparation\n",
    "\n",
    "As we are using the Palmetto Supercomputer, we need to get the data, and upload the data onto the Supercomputer\n",
    "before R can read the data. This is done via the following steps:\n",
    "\n",
    "- Open a web browse, and download the data from https://github.com/clemsonciti/data-science-r-01/raw/gh-pages/r-novice-inflammation-data.zip to your computer and unzip this file\n",
    "- Create a directory named **intro-data-science** in your Palmetto home directory\n",
    "- Create a directory named **data** inside **intro-data-science**\n",
    "- Upload the files from the unzipped **r-novice-inflammation-data** directory on your computer onto the **data** directory"
   ]
  },
  {
   "cell_type": "markdown",
   "metadata": {},
   "source": [
    "## Loading Data\n",
    "\n",
    "To load our inflammation data, first we need to tell our computer where is the file that contains the values. We have been told its name is inflammation-01.csv. This is very important in R, if we forget this step we’ll get an error message when trying to read the file. We can change the current working directory using the function setwd. For this example, we change the path to the directory we just created:"
   ]
  },
  {
   "cell_type": "code",
   "execution_count": null,
   "metadata": {
    "collapsed": false
   },
   "outputs": [],
   "source": [
    "setwd(\"/home/lngo/intro-data-science/\")"
   ]
  },
  {
   "cell_type": "markdown",
   "metadata": {
    "collapsed": false
   },
   "source": [
    "The data files are located in the directory **data** inside the working directory. Now we can load the data into R using read.csv:"
   ]
  },
  {
   "cell_type": "code",
   "execution_count": null,
   "metadata": {
    "collapsed": false
   },
   "outputs": [],
   "source": [
    "read.csv(file=\"data/inflammation-01.csv\", header=FALSE)"
   ]
  },
  {
   "cell_type": "markdown",
   "metadata": {},
   "source": [
    "The expression `read.csv(...)` is a function call that asks R to run the function `read.csv`.\n",
    "\n",
    "`read.csv` has two arguments: \n",
    "- the name of the file we want to read, and \n",
    "- whether the first line of the file contains names for the columns of data.\n",
    "\n",
    "The filename needs to be a character string, so we put it in quotes. Assigning the second argument, `header`, to be `FALSE` indicates that the data file does not have column headers. We'll talk more about the value `FALSE`, and its converse `TRUE`, in later lessons."
   ]
  },
  {
   "cell_type": "markdown",
   "metadata": {},
   "source": [
    "> ## Other Options for Reading CSV Files\n",
    "> `read.csv` actually has many more arguments that you may find useful when\n",
    "> importing your own data in the future. We will cover these arguments in later lessons. "
   ]
  },
  {
   "cell_type": "markdown",
   "metadata": {},
   "source": [
    "> ## Loading Data with Headers\n",
    ">\n",
    "> What happens if you forget to put `header = FALSE`? The default value is `header = TRUE`, which you can check with `?read.csv` or `help(read.csv)`. What do you expect will happen if you leave the default value? Before you run any code, think about what will happen to the first few rows of your data frame, and its overall size. Then run the following code and see if your expectations agree:\n",
    ">\n",
    "> ~~~\n",
    "> read.csv(file = \"data/inflammation-01.csv\")\n",
    "> ~~~"
   ]
  },
  {
   "cell_type": "markdown",
   "metadata": {},
   "source": [
    "> {: .r}\n",
    "{: .challenge}\n",
    "\n",
    "> ## Reading Different Decimal Point Formats\n",
    ">\n",
    "> Depending on the country you live in, your standard can use the dot or the comma as decimal mark.\n",
    "> Also, different devices or software can generate data with different decimal points.\n",
    "> Take a look at `?read.csv` and write the code to load a file called `commadec.txt` that has numeric values with commas as decimal mark, separated by semicolons.\n",
    "{: .challenge}"
   ]
  },
  {
   "cell_type": "markdown",
   "metadata": {},
   "source": [
    "The utility of a function is that it will perform its given action on whatever value is passed to the named argument(s).\n",
    "For example, in this case if we provided the name of a different file to the argument `file`, `read.csv` would read it instead.\n",
    "We'll learn more of the details about functions and their arguments in the next lesson.\n",
    "\n",
    "Since we didn't tell it to do anything else with the function's output, the console will display the full contents of the file `inflammation-01.csv`.\n",
    "Try it out.\n",
    "\n",
    "`read.csv` read the file, but we can't use data unless we assign it to a variable.\n",
    "A variable is just a name for a value, such as `x`, `current_temperature`, or `subject_id`.\n",
    "We can create a new variable simply by assigning a value to it using `<-`"
   ]
  },
  {
   "cell_type": "code",
   "execution_count": null,
   "metadata": {
    "collapsed": true
   },
   "outputs": [],
   "source": [
    "weight_kg <- 55"
   ]
  },
  {
   "cell_type": "markdown",
   "metadata": {},
   "source": [
    "Once a variable has a value, we can print it by typing the name of the variable and hitting `Enter` (or `return`).\n",
    "In general, R will print to the console any object returned by a function or operation *unless* we assign it to a variable."
   ]
  },
  {
   "cell_type": "code",
   "execution_count": null,
   "metadata": {
    "collapsed": false
   },
   "outputs": [],
   "source": [
    "weight_kg"
   ]
  },
  {
   "cell_type": "markdown",
   "metadata": {},
   "source": [
    "We can do arithmetic with the variable:"
   ]
  },
  {
   "cell_type": "code",
   "execution_count": null,
   "metadata": {
    "collapsed": false
   },
   "outputs": [],
   "source": [
    "# weight in pounds:\n",
    "2.2 * weight_kg"
   ]
  },
  {
   "cell_type": "markdown",
   "metadata": {},
   "source": [
    "> ## Commenting\n",
    ">\n",
    "> We can add comments to our code using the `#` character. It is useful to\n",
    "> document our code in this way so that others (and us the next time we\n",
    "> read it) have an easier time following what the code is doing.\n",
    "{: .callout}\n",
    "\n",
    "We can also change an object's value by assigning it a new value:"
   ]
  },
  {
   "cell_type": "code",
   "execution_count": null,
   "metadata": {
    "collapsed": false
   },
   "outputs": [],
   "source": [
    "weight_kg <- 57.5\n",
    "# weight in kilograms is now\n",
    "weight_kg"
   ]
  },
  {
   "cell_type": "markdown",
   "metadata": {},
   "source": [
    "If we imagine the variable as a sticky note with a name written on it,\n",
    "assignment is like putting the sticky note on a particular value. \n",
    "\n",
    "This means that assigning a value to one object does not change the values of other variables.\n",
    "For example, let's store the subject's weight in pounds in a variable:"
   ]
  },
  {
   "cell_type": "code",
   "execution_count": null,
   "metadata": {
    "collapsed": false
   },
   "outputs": [],
   "source": [
    "weight_lb <- 2.2 * weight_kg\n",
    "# weight in kg...\n",
    "weight_kg\n",
    "\n",
    "# ...and in pounds\n",
    "weight_lb"
   ]
  },
  {
   "cell_type": "markdown",
   "metadata": {},
   "source": [
    "and then change `weight_kg`:"
   ]
  },
  {
   "cell_type": "code",
   "execution_count": null,
   "metadata": {
    "collapsed": false
   },
   "outputs": [],
   "source": [
    "weight_kg <- 100.0\n",
    "# weight in kg now...\n",
    "weight_kg\n",
    "\n",
    "# ...and weight in pounds still\n",
    "weight_lb"
   ]
  },
  {
   "cell_type": "markdown",
   "metadata": {},
   "source": [
    "Since `weight_lb` doesn't \"remember\" where its value came from, it isn't automatically updated when `weight_kg` changes.\n",
    "This is different from the way spreadsheets work.\n",
    "\n",
    "> ## Printing with Parentheses\n",
    ">\n",
    "> An alternative way to print the value of a variable is to use () around the assignment statement.\n",
    "> As an example: `(total_weight <- weight_kg + weight_lb)` adds the values of `weight_kg` and `weight_lb`,\n",
    "> assigns the result to the `total_weight`,\n",
    "> and finally prints the assigned value of the variable `total_weight`.\n",
    "\n",
    "\n",
    "Now that we know how to assign things to variables, let's re-run `read.csv` and save its result:"
   ]
  },
  {
   "cell_type": "code",
   "execution_count": null,
   "metadata": {
    "collapsed": true
   },
   "outputs": [],
   "source": [
    "dat <- read.csv(file = \"data/inflammation-01.csv\", header = FALSE)"
   ]
  },
  {
   "cell_type": "markdown",
   "metadata": {},
   "source": [
    "This statement doesn't produce any output because assignment doesn't display anything.\n",
    "If we want to check that our data has been loaded, we can print the variable's value.\n",
    "However, for large data sets it is convenient to use the function `head` to display only the first few rows of data."
   ]
  },
  {
   "cell_type": "code",
   "execution_count": null,
   "metadata": {
    "collapsed": false
   },
   "outputs": [],
   "source": [
    "head(dat)"
   ]
  },
  {
   "cell_type": "markdown",
   "metadata": {},
   "source": [
    "> ## Assigning Values to Variables\n",
    ">\n",
    "> Draw diagrams showing what variables refer to what values after each statement in the following program:\n",
    ">\n",
    "> ~~~\n",
    "> mass <- 47.5\n",
    "> age <- 122\n",
    "> mass <- mass * 2.0\n",
    "> age <- age - 20\n",
    "> ~~~\n",
    "> {: .r}\n",
    "{: .challenge}\n",
    "\n",
    "### Manipulating Data\n",
    "\n",
    "Now that our data is loaded in memory, we can start doing things with it.\n",
    "First, let's ask what type of thing `dat` is:"
   ]
  },
  {
   "cell_type": "code",
   "execution_count": null,
   "metadata": {
    "collapsed": false
   },
   "outputs": [],
   "source": [
    "class(dat)"
   ]
  },
  {
   "cell_type": "markdown",
   "metadata": {},
   "source": [
    "The output tells us that is a data frame. Think of this structure as a spreadsheet in MS Excel that many of us are familiar with.\n",
    "Data frames are very useful for storing data and you will find them elsewhere when programming in R. A typical data frame of experimental data contains individual observations in rows and variables in columns.\n",
    "\n",
    "We can see the shape, or dimensions, of the data frame with the function `dim`:"
   ]
  },
  {
   "cell_type": "code",
   "execution_count": null,
   "metadata": {
    "collapsed": false
   },
   "outputs": [],
   "source": [
    "dim(dat)"
   ]
  },
  {
   "cell_type": "markdown",
   "metadata": {},
   "source": [
    "This tells us that our data frame, `dat`, has 60 rows and 40 columns.\n",
    "\n",
    "If we want to get a single value from the data frame, we can provide an index in square brackets, just as we do in math:"
   ]
  },
  {
   "cell_type": "code",
   "execution_count": null,
   "metadata": {
    "collapsed": false
   },
   "outputs": [],
   "source": [
    "# first value in dat\n",
    "dat[1, 1]"
   ]
  },
  {
   "cell_type": "code",
   "execution_count": null,
   "metadata": {
    "collapsed": false
   },
   "outputs": [],
   "source": [
    "# middle value in dat\n",
    "dat[30, 20]"
   ]
  },
  {
   "cell_type": "markdown",
   "metadata": {},
   "source": [
    "An index like `[30, 20]` selects a single element of a data frame, but we can select whole sections as well.\n",
    "For example, we can select the first ten days (columns) of values for the first four patients (rows) like this:"
   ]
  },
  {
   "cell_type": "code",
   "execution_count": null,
   "metadata": {
    "collapsed": false
   },
   "outputs": [],
   "source": [
    "dat[1:4, 1:10]"
   ]
  },
  {
   "cell_type": "markdown",
   "metadata": {},
   "source": [
    "The slice`1:4` means, \"Start at index 1 and go to index 4.\"\n",
    "\n",
    "The slice does not need to start at 1, e.g. the line below selects rows 5 through 10:"
   ]
  },
  {
   "cell_type": "code",
   "execution_count": null,
   "metadata": {
    "collapsed": false
   },
   "outputs": [],
   "source": [
    "dat[5:10, 1:10]"
   ]
  },
  {
   "cell_type": "markdown",
   "metadata": {},
   "source": [
    "We can use the function `c`, which stands for **c**ombine, to select non-contiguous values:"
   ]
  },
  {
   "cell_type": "code",
   "execution_count": null,
   "metadata": {
    "collapsed": false
   },
   "outputs": [],
   "source": [
    "dat[c(3, 8, 37, 56), c(10, 14, 29)]"
   ]
  },
  {
   "cell_type": "markdown",
   "metadata": {},
   "source": [
    "We also don't have to provide a slice for either the rows or the columns.\n",
    "If we don't include a slice for the rows, R returns all the rows; if we don't include a slice for the columns, R returns all the columns.\n",
    "If we don't provide a slice for either rows or columns, e.g. `dat[, ]`, R returns the full data frame."
   ]
  },
  {
   "cell_type": "code",
   "execution_count": null,
   "metadata": {
    "collapsed": false
   },
   "outputs": [],
   "source": [
    "# All columns from row 5\n",
    "dat[5, ]"
   ]
  },
  {
   "cell_type": "code",
   "execution_count": null,
   "metadata": {
    "collapsed": false
   },
   "outputs": [],
   "source": [
    "# All rows from column 16\n",
    "dat[, 16]"
   ]
  },
  {
   "cell_type": "markdown",
   "metadata": {},
   "source": [
    "Now let's perform some common mathematical operations to learn about our inflammation data.\n",
    "When analyzing data we often want to look at partial statistics, such as the maximum value per patient or the average value per day.\n",
    "One way to do this is to select the data we want to create a new temporary data frame, and then perform the calculation on this subset:"
   ]
  },
  {
   "cell_type": "code",
   "execution_count": null,
   "metadata": {
    "collapsed": false
   },
   "outputs": [],
   "source": [
    "# first row, all of the columns\n",
    "patient_1 <- dat[1, ]\n",
    "# max inflammation for patient 1\n",
    "max(patient_1)"
   ]
  },
  {
   "cell_type": "markdown",
   "metadata": {},
   "source": [
    "> ## Forcing Conversion\n",
    ">\n",
    "> The code above may give you an error in some R installations,\n",
    "> since R does not automatically convert a sliced row of a `data.frame` to a vector.\n",
    "> (Confusingly, sliced columns are automatically converted.)\n",
    "> If this happens, you can use the `as.numeric` command to convert the row of data to a numeric vector:\n",
    ">\n",
    "> `patient_1 <- as.numeric(dat[1, ])`\n",
    ">\n",
    "> `max(patient_1)`\n",
    ">\n",
    "> You can also check the `class` of each object:\n",
    ">\n",
    "> `class(dat[1, ])`\n",
    ">\n",
    "> `class(as.numeric(dat[1, ]))`\n",
    "{: .callout}\n",
    "\n",
    "We don't actually need to store the row in a variable of its own.\n",
    "Instead, we can combine the selection and the function call:"
   ]
  },
  {
   "cell_type": "code",
   "execution_count": null,
   "metadata": {
    "collapsed": false
   },
   "outputs": [],
   "source": [
    "# max inflammation for patient 2\n",
    "max(dat[2, ])"
   ]
  },
  {
   "cell_type": "markdown",
   "metadata": {},
   "source": [
    "R also has functions for other common calculations, e.g. finding the minimum, mean, median, and standard deviation of the data:"
   ]
  },
  {
   "cell_type": "code",
   "execution_count": null,
   "metadata": {
    "collapsed": true
   },
   "outputs": [],
   "source": [
    "# minimum inflammation on day 7\n",
    "min(dat[, 7])"
   ]
  },
  {
   "cell_type": "code",
   "execution_count": null,
   "metadata": {
    "collapsed": false
   },
   "outputs": [],
   "source": [
    "# mean inflammation on day 7\n",
    "mean(dat[, 7])"
   ]
  },
  {
   "cell_type": "code",
   "execution_count": null,
   "metadata": {
    "collapsed": false
   },
   "outputs": [],
   "source": [
    "# median inflammation on day 7\n",
    "median(dat[, 7])"
   ]
  },
  {
   "cell_type": "code",
   "execution_count": null,
   "metadata": {
    "collapsed": false
   },
   "outputs": [],
   "source": [
    "# standard deviation of inflammation on day 7\n",
    "sd(dat[, 7])"
   ]
  },
  {
   "cell_type": "markdown",
   "metadata": {},
   "source": [
    "What if we need the maximum inflammation for all patients, or the average for each day?\n",
    "As the diagram below shows, we want to perform the operation across a margin of the data frame:\n",
    "\n",
    "<img src=\"../fig/r-operations-across-axes.png\" alt=\"Operations Across Axes\" />\n",
    "\n",
    "To support this, we can use the `apply` function.\n",
    "\n",
    "> ## Getting Help\n",
    ">\n",
    "> To learn about a function in R, e.g. `apply`, we can read its help\n",
    "> documention by running `help(apply)` or `?apply`.\n",
    "{: .callout}\n",
    "\n",
    "`apply` allows us to repeat a function on all of the rows (`MARGIN = 1`) or columns (`MARGIN = 2`) of a data frame.\n",
    "\n",
    "Thus, to obtain the average inflammation of each patient we will need to calculate the mean of all of the rows (`MARGIN = 1`) of the data frame."
   ]
  },
  {
   "cell_type": "code",
   "execution_count": null,
   "metadata": {
    "collapsed": true
   },
   "outputs": [],
   "source": [
    "avg_patient_inflammation <- apply(dat, 1, mean)"
   ]
  },
  {
   "cell_type": "code",
   "execution_count": null,
   "metadata": {
    "collapsed": true
   },
   "outputs": [],
   "source": [
    "avg_day_inflammation <- apply(dat, 2, mean)"
   ]
  },
  {
   "cell_type": "markdown",
   "metadata": {},
   "source": [
    "Since the second argument to `apply` is `MARGIN`, the above command is equivalent to `apply(dat, MARGIN = 2, mean)`.\n",
    "We'll learn why this is so in the next lesson."
   ]
  },
  {
   "cell_type": "markdown",
   "metadata": {},
   "source": [
    "> ## Slicing (Subsetting) Data\n",
    ">\n",
    "> A subsection of a data frame is called a [slice]({{ site.github.url }}/reference/#slice).\n",
    "> We can take slices of character vectors as well:"
   ]
  },
  {
   "cell_type": "code",
   "execution_count": null,
   "metadata": {
    "collapsed": true
   },
   "outputs": [],
   "source": [
    "animal <- c(\"m\", \"o\", \"n\", \"k\", \"e\", \"y\")"
   ]
  },
  {
   "cell_type": "code",
   "execution_count": null,
   "metadata": {
    "collapsed": false
   },
   "outputs": [],
   "source": [
    "# first three characters\n",
    "animal[1:3]"
   ]
  },
  {
   "cell_type": "code",
   "execution_count": null,
   "metadata": {
    "collapsed": false
   },
   "outputs": [],
   "source": [
    " # last three characters\n",
    " animal[4:6]"
   ]
  },
  {
   "cell_type": "markdown",
   "metadata": {},
   "source": [
    "> 1.  If the first four characters are selected using the slice `animal[1:4]`, how can we obtain the first four characters in reverse order?\n",
    ">\n",
    "> 2.  What is `animal[-1]`?\n",
    ">    What is `animal[-4]`?\n",
    ">    Given those answers,\n",
    ">    explain what `animal[-1:-4]` does.\n",
    ">\n",
    "> 3.  Use a slice of `animal` to create a new character vector that spells the word \"eon\", i.e. `c(\"e\", \"o\", \"n\")`.\n",
    "{: .challenge}"
   ]
  },
  {
   "cell_type": "markdown",
   "metadata": {},
   "source": [
    "> ## Subsetting More Data\n",
    ">\n",
    "> Suppose you want to determine the maximum inflammation for patient 5 across days three to seven.\n",
    "> To do this you would extract the relevant slice from the data frame and calculate the maximum value.\n",
    "> Which of the following lines of R code gives the correct answer?\n",
    ">\n",
    "> 1. `max(dat[5, ])`\n",
    "> 2. `max(dat[3:7, 5])`\n",
    "> 3. `max(dat[5, 3:7])`\n",
    "> 4. `max(dat[5, 3, 7])`\n",
    "{: .challenge}"
   ]
  },
  {
   "cell_type": "markdown",
   "metadata": {},
   "source": [
    "> ## Slicing and Re-Assignment\n",
    ">\n",
    "> Using the inflammation data frame `dat` from above:\n",
    "> Let's pretend there was something wrong with the instrument on the first five days for every second patient (#2, 4, 6, etc.), which resulted in the measurements being twice as large as they should be.\n",
    ">\n",
    "> 1. Write a vector containing each affected patient (hint: `? seq`)\n",
    "> 2. Create a new data frame with in which you halve the first five days' values in only those patients\n",
    "> 3. Print out the corrected data frame to check that your code has fixed the problem\n",
    ">\n",
    "> > ## Solution\n",
    "> > ~~~\n",
    "> > whichPatients <- seq(2,40,2)\n",
    "> > whichDays <- c(1:5)\n",
    "> > dat2 <- dat\n",
    "> > dat2[whichPatients,whichDays] <- dat2[whichPatients,whichDays]/2\n",
    "> > (dat2)\n",
    "> > ~~~\n",
    "> > {: .r}\n",
    "> {: .solution}\n",
    "{: .challenge}\n",
    "\n",
    "\n",
    "> ## Using the Apply Function on Patient Data\n",
    ">\n",
    "> Challenge: the apply function can be used to summarize datasets and subsets\n",
    "> of data across rows and columns using the MARGIN argument.\n",
    "> Suppose you want to calculate the mean inflammation for specific days and patients\n",
    "> in the patient dataset (i.e. 60 patients across 40 days).\n",
    ">\n",
    "> Please use a combination of the apply function and indexing to:\n",
    ">\n",
    "> 1. calculate the mean inflammation for patients 1 to 5 over the whole 40 days\n",
    "> 1. calculate the mean inflammation for days 1 to 10 (across all patients).\n",
    "> 1. calculate the mean inflammation for every second day (across all patients).\n",
    ">\n",
    "> Think about the number of rows and columns you would expect as the result before each\n",
    "> apply call and check your intuition by applying the mean function."
   ]
  },
  {
   "cell_type": "markdown",
   "metadata": {},
   "source": [
    "> > ## Solution\n",
    "> > ~~~\n",
    "> > # 1.\n",
    "> > apply(dat[1:5, ], 1, mean)\n",
    "> > # 2.\n",
    "> > apply(dat[, 1:10], 2, mean)\n",
    "> > # 3.\n",
    "> > apply(dat[, seq(1,40, by=2)], 2, mean)\n",
    "> > ~~~\n",
    "> > {: .r}\n",
    "> {: .solution}\n",
    "{: .challenge}"
   ]
  },
  {
   "cell_type": "markdown",
   "metadata": {},
   "source": [
    "### Plotting\n",
    "\n",
    "The mathematician Richard Hamming once said, \"The purpose of computing is insight, not numbers,\" and the best way to develop insight is often to visualize data.\n",
    "Visualization deserves an entire lecture (or course) of its own, but we can explore a few of R's plotting features.\n",
    "\n",
    "Let's take a look at the average inflammation over time.\n",
    "Recall that we already calculated these values above using `apply(dat, 2, mean)` and saved them in the variable `avg_day_inflammation`.\n",
    "Plotting the values is done with the function `plot`."
   ]
  },
  {
   "cell_type": "code",
   "execution_count": null,
   "metadata": {
    "collapsed": false
   },
   "outputs": [],
   "source": [
    "plot(avg_day_inflammation)"
   ]
  },
  {
   "cell_type": "markdown",
   "metadata": {},
   "source": [
    "Above, we gave the function `plot` a vector of numbers corresponding to the average inflammation per day across all patients.\n",
    "`plot` created a scatter plot where the y-axis is the average inflammation level and the x-axis is the order, or index, of the values in the vector, which in this case correspond to the 40 days of treatment.\n",
    "The result is roughly a linear rise and fall, which is suspicious: based on other studies, we expect a sharper rise and slower fall.\n",
    "Let's have a look at two other statistics: the maximum and minimum inflammation per day."
   ]
  },
  {
   "cell_type": "code",
   "execution_count": null,
   "metadata": {
    "collapsed": false
   },
   "outputs": [],
   "source": [
    "max_day_inflammation <- apply(dat, 2, max)\n",
    "plot(max_day_inflammation)"
   ]
  },
  {
   "cell_type": "code",
   "execution_count": null,
   "metadata": {
    "collapsed": false
   },
   "outputs": [],
   "source": [
    "min_day_inflammation <- apply(dat, 2, min)\n",
    "plot(min_day_inflammation)"
   ]
  },
  {
   "cell_type": "markdown",
   "metadata": {
    "collapsed": false
   },
   "source": [
    "The maximum value rises and falls perfectly smoothly, while the minimum seems to be a step function. Neither result seems particularly likely, so either there's a mistake in our calculations or something is wrong with our data.\n",
    "\n",
    "> ## Plotting Data\n",
    ">\n",
    "> Create a plot showing the standard deviation of the inflammation data for each day across all patients.\n",
    "{: .challenge}"
   ]
  }
 ],
 "metadata": {
  "kernelspec": {
   "display_name": "R 3.3.1",
   "language": "R",
   "name": "r"
  },
  "language_info": {
   "codemirror_mode": "r",
   "file_extension": ".r",
   "mimetype": "text/x-r-source",
   "name": "R",
   "pygments_lexer": "r",
   "version": "3.3.1"
  }
 },
 "nbformat": 4,
 "nbformat_minor": 0
}
